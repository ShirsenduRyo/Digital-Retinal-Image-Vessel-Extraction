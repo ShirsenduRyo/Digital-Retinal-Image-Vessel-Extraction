{
 "cells": [
  {
   "cell_type": "markdown",
   "id": "341bedfe",
   "metadata": {},
   "source": [
    "# Importing Packages"
   ]
  },
  {
   "cell_type": "code",
   "execution_count": 1,
   "id": "2cb28d4f",
   "metadata": {},
   "outputs": [],
   "source": [
    "import os\n",
    "import numpy as np\n",
    "import pandas as pd\n",
    "import cv2\n",
    "from glob import glob\n",
    "from tqdm import tqdm\n",
    "import tensorflow as tf\n",
    "from tensorflow.keras.utils import CustomObjectScope\n",
    "import imageio"
   ]
  },
  {
   "cell_type": "code",
   "execution_count": 2,
   "id": "1b212558",
   "metadata": {},
   "outputs": [],
   "source": [
    "from sklearn.metrics import accuracy_score, f1_score, jaccard_score, precision_score, recall_score\n",
    "from customMetrics import dice_loss, dice_coef, iou"
   ]
  },
  {
   "cell_type": "code",
   "execution_count": 22,
   "id": "54226ae6",
   "metadata": {},
   "outputs": [],
   "source": [
    "from gammaTransformation import transform_adaimg"
   ]
  },
  {
   "cell_type": "code",
   "execution_count": 3,
   "id": "d2caac35",
   "metadata": {},
   "outputs": [],
   "source": [
    "from sklearn.metrics import confusion_matrix"
   ]
  },
  {
   "cell_type": "code",
   "execution_count": 4,
   "id": "df0e7285",
   "metadata": {},
   "outputs": [],
   "source": [
    "from patchify import patchify, unpatchify"
   ]
  },
  {
   "cell_type": "code",
   "execution_count": 5,
   "id": "aa8d8f09",
   "metadata": {},
   "outputs": [],
   "source": [
    "physical_devices = tf.config.experimental.list_physical_devices('GPU')\n",
    "tf.config.experimental.set_memory_growth(physical_devices[0], True)"
   ]
  },
  {
   "cell_type": "markdown",
   "id": "f7d1cba1",
   "metadata": {},
   "source": [
    "# Loading Utils Functions"
   ]
  },
  {
   "cell_type": "code",
   "execution_count": 6,
   "id": "4e69b441",
   "metadata": {},
   "outputs": [],
   "source": [
    "def create_dir(path):\n",
    "    if not os.path.exists(path):\n",
    "        os.makedirs(path)"
   ]
  },
  {
   "cell_type": "code",
   "execution_count": 7,
   "id": "657e8a90",
   "metadata": {},
   "outputs": [],
   "source": [
    "def read_image(path):\n",
    "    src = cv2.imread(path, cv2.IMREAD_COLOR)\n",
    "    rgb = cv2.cvtColor(src, cv2.COLOR_BGR2RGB)\n",
    "    x = cv2.cvtColor(transform_adaimg(rgb), cv2.COLOR_RGB2BGR)\n",
    "    \n",
    "    top, bottom = [28] * 2\n",
    "    left, right = [37,38]\n",
    "    \n",
    "    x = cv2.copyMakeBorder(x, top, bottom, left, right, cv2.BORDER_CONSTANT, value= 0)\n",
    "    # x = cv2.resize(x, (W, H))\n",
    "    ori_x = x\n",
    "    x = x/255.0\n",
    "    x = x.astype(np.float32)\n",
    "    return ori_x, x"
   ]
  },
  {
   "cell_type": "code",
   "execution_count": 8,
   "id": "b4b228a5",
   "metadata": {},
   "outputs": [],
   "source": [
    "def read_gt(path):\n",
    "    x = imageio.mimread(path)[0]  ## (128, 128)\n",
    "    # x = cv2.resize(x, (W, H))\n",
    "    ori_x = x\n",
    "    x = x/255.0\n",
    "    x = x.astype(np.int32)\n",
    "    return ori_x, x"
   ]
  },
  {
   "cell_type": "code",
   "execution_count": 9,
   "id": "8394b02f",
   "metadata": {},
   "outputs": [],
   "source": [
    "def load_data(path):\n",
    "    x = sorted(glob(os.path.join(path, \"images\", \"*.tif\")))\n",
    "    y = sorted(glob(os.path.join(path, \"1st_manual\", \"*.gif\")))\n",
    "    return x, y"
   ]
  },
  {
   "cell_type": "code",
   "execution_count": 10,
   "id": "ed1f8d59",
   "metadata": {},
   "outputs": [],
   "source": [
    "def save_results(ori_x, ori_y, y_pred, save_image_path):\n",
    "    line = np.ones((H, 10, 3)) * 255\n",
    "\n",
    "    ori_y = np.expand_dims(ori_y, axis=-1)\n",
    "    ori_y = np.concatenate([ori_y, ori_y, ori_y], axis=-1)\n",
    "\n",
    "    y_pred = np.expand_dims(y_pred, axis=-1)\n",
    "    y_pred = np.concatenate([y_pred, y_pred, y_pred], axis=-1) * 255\n",
    "\n",
    "    cat_images = np.concatenate([ori_y, line, y_pred], axis=1)\n",
    "    \n",
    "    cv2.imwrite(save_image_path, cat_images)"
   ]
  },
  {
   "cell_type": "code",
   "execution_count": 11,
   "id": "ad886862",
   "metadata": {},
   "outputs": [],
   "source": [
    "def save_tests(y_pred, save_image_path):\n",
    "\n",
    "    y_pred = np.expand_dims(y_pred, axis=-1)\n",
    "    y_pred = np.concatenate([y_pred, y_pred, y_pred], axis=-1) * 255\n",
    "\n",
    "\n",
    "    cv2.imwrite(save_image_path, y_pred)"
   ]
  },
  {
   "cell_type": "code",
   "execution_count": 12,
   "id": "4a8dff88",
   "metadata": {},
   "outputs": [],
   "source": [
    "def get_metrics(cm):\n",
    "    tn, fp, fn, tp = cm.ravel()\n",
    "    sen = tp/(tp+fn)\n",
    "    spe = tn/(tn+fp) \n",
    "    return sen, spe"
   ]
  },
  {
   "cell_type": "code",
   "execution_count": null,
   "id": "c44712ce",
   "metadata": {},
   "outputs": [],
   "source": []
  },
  {
   "cell_type": "markdown",
   "id": "6d2811f4",
   "metadata": {},
   "source": [
    "# Setting The Environment"
   ]
  },
  {
   "cell_type": "code",
   "execution_count": 13,
   "id": "6ec48a50",
   "metadata": {},
   "outputs": [],
   "source": [
    "H = 584\n",
    "W = 565"
   ]
  },
  {
   "cell_type": "code",
   "execution_count": 14,
   "id": "9ff5413c",
   "metadata": {},
   "outputs": [],
   "source": [
    "data_path = \"D:\\\\Data sets\\\\DRIVE\""
   ]
  },
  {
   "cell_type": "code",
   "execution_count": 15,
   "id": "c9695839",
   "metadata": {},
   "outputs": [],
   "source": [
    "\"\"\" Save the results in this folder \"\"\"\n",
    "create_dir(\"results\")"
   ]
  },
  {
   "cell_type": "code",
   "execution_count": 34,
   "id": "0e718acc",
   "metadata": {},
   "outputs": [],
   "source": [
    "\"\"\" Load the model \"\"\"\n",
    "with CustomObjectScope({'iou': iou, 'dice_coef': dice_coef, 'dice_loss': dice_loss}):\n",
    "    model = tf.keras.models.load_model(\"modelDir/model128_2.h5\")\n"
   ]
  },
  {
   "cell_type": "code",
   "execution_count": 35,
   "id": "642d7775",
   "metadata": {},
   "outputs": [],
   "source": [
    "\"\"\" Load the dataset \"\"\"\n",
    "traindataset_path = os.path.join(data_path,\"training\")\n",
    "train_x, train_y = load_data(traindataset_path)\n",
    "\n",
    "testdataset_path = os.path.join(data_path,\"test\")\n",
    "test_x, test_y = load_data(testdataset_path)"
   ]
  },
  {
   "cell_type": "code",
   "execution_count": 36,
   "id": "e8c3fc3f",
   "metadata": {},
   "outputs": [
    {
     "data": {
      "text/plain": [
       "('D:\\\\Data sets\\\\DRIVE\\\\test', 20)"
      ]
     },
     "execution_count": 36,
     "metadata": {},
     "output_type": "execute_result"
    }
   ],
   "source": [
    "testdataset_path,len(test_x)"
   ]
  },
  {
   "cell_type": "code",
   "execution_count": 37,
   "id": "f0d9ef1d",
   "metadata": {},
   "outputs": [
    {
     "data": {
      "text/plain": [
       "('D:\\\\Data sets\\\\DRIVE\\\\training', 20)"
      ]
     },
     "execution_count": 37,
     "metadata": {},
     "output_type": "execute_result"
    }
   ],
   "source": [
    "traindataset_path,len(train_x)"
   ]
  },
  {
   "cell_type": "code",
   "execution_count": 38,
   "id": "07b1a710",
   "metadata": {},
   "outputs": [],
   "source": [
    "from matplotlib import pyplot as plt"
   ]
  },
  {
   "cell_type": "code",
   "execution_count": 46,
   "id": "b9b749ee",
   "metadata": {},
   "outputs": [
    {
     "name": "stderr",
     "output_type": "stream",
     "text": [
      "\r",
      "  0%|                                                                                                                                                         | 0/20 [00:00<?, ?it/s]"
     ]
    },
    {
     "name": "stdout",
     "output_type": "stream",
     "text": [
      "01_test\n",
      "(640, 640, 3) (584, 565)\n",
      "(584, 565)\n",
      "results\\01_testTest.png\n"
     ]
    },
    {
     "name": "stderr",
     "output_type": "stream",
     "text": [
      "\r",
      "  5%|███████▎                                                                                                                                         | 1/20 [00:02<00:49,  2.59s/it]"
     ]
    },
    {
     "name": "stdout",
     "output_type": "stream",
     "text": [
      "02_test\n",
      "(640, 640, 3) (584, 565)\n",
      "(584, 565)\n",
      "results\\02_testTest.png\n"
     ]
    },
    {
     "name": "stderr",
     "output_type": "stream",
     "text": [
      "\r",
      " 10%|██████████████▌                                                                                                                                  | 2/20 [00:04<00:43,  2.40s/it]"
     ]
    },
    {
     "name": "stdout",
     "output_type": "stream",
     "text": [
      "03_test\n",
      "(640, 640, 3) (584, 565)\n",
      "(584, 565)\n",
      "results\\03_testTest.png\n"
     ]
    },
    {
     "name": "stderr",
     "output_type": "stream",
     "text": [
      "\r",
      " 15%|█████████████████████▊                                                                                                                           | 3/20 [00:07<00:41,  2.44s/it]"
     ]
    },
    {
     "name": "stdout",
     "output_type": "stream",
     "text": [
      "04_test\n",
      "(640, 640, 3) (584, 565)\n",
      "(584, 565)\n",
      "results\\04_testTest.png\n"
     ]
    },
    {
     "name": "stderr",
     "output_type": "stream",
     "text": [
      "\r",
      " 20%|█████████████████████████████                                                                                                                    | 4/20 [00:10<00:40,  2.53s/it]"
     ]
    },
    {
     "name": "stdout",
     "output_type": "stream",
     "text": [
      "05_test\n",
      "(640, 640, 3) (584, 565)\n",
      "(584, 565)\n",
      "results\\05_testTest.png\n"
     ]
    },
    {
     "name": "stderr",
     "output_type": "stream",
     "text": [
      "\r",
      " 25%|████████████████████████████████████▎                                                                                                            | 5/20 [00:13<00:41,  2.80s/it]"
     ]
    },
    {
     "name": "stdout",
     "output_type": "stream",
     "text": [
      "06_test\n",
      "(640, 640, 3) (584, 565)\n",
      "(584, 565)\n",
      "results\\06_testTest.png\n"
     ]
    },
    {
     "name": "stderr",
     "output_type": "stream",
     "text": [
      "\r",
      " 30%|███████████████████████████████████████████▌                                                                                                     | 6/20 [00:16<00:38,  2.77s/it]"
     ]
    },
    {
     "name": "stdout",
     "output_type": "stream",
     "text": [
      "07_test\n",
      "(640, 640, 3) (584, 565)\n",
      "(584, 565)\n",
      "results\\07_testTest.png\n"
     ]
    },
    {
     "name": "stderr",
     "output_type": "stream",
     "text": [
      "\r",
      " 35%|██████████████████████████████████████████████████▊                                                                                              | 7/20 [00:18<00:34,  2.63s/it]"
     ]
    },
    {
     "name": "stdout",
     "output_type": "stream",
     "text": [
      "08_test\n",
      "(640, 640, 3) (584, 565)\n",
      "(584, 565)\n",
      "results\\08_testTest.png\n"
     ]
    },
    {
     "name": "stderr",
     "output_type": "stream",
     "text": [
      "\r",
      " 40%|██████████████████████████████████████████████████████████                                                                                       | 8/20 [00:20<00:30,  2.56s/it]"
     ]
    },
    {
     "name": "stdout",
     "output_type": "stream",
     "text": [
      "09_test\n",
      "(640, 640, 3) (584, 565)\n",
      "(584, 565)\n",
      "results\\09_testTest.png\n"
     ]
    },
    {
     "name": "stderr",
     "output_type": "stream",
     "text": [
      "\r",
      " 45%|█████████████████████████████████████████████████████████████████▎                                                                               | 9/20 [00:23<00:27,  2.52s/it]"
     ]
    },
    {
     "name": "stdout",
     "output_type": "stream",
     "text": [
      "10_test\n",
      "(640, 640, 3) (584, 565)\n",
      "(584, 565)\n",
      "results\\10_testTest.png\n"
     ]
    },
    {
     "name": "stderr",
     "output_type": "stream",
     "text": [
      "\r",
      " 50%|████████████████████████████████████████████████████████████████████████                                                                        | 10/20 [00:25<00:25,  2.50s/it]"
     ]
    },
    {
     "name": "stdout",
     "output_type": "stream",
     "text": [
      "11_test\n",
      "(640, 640, 3) (584, 565)\n",
      "(584, 565)\n",
      "results\\11_testTest.png\n"
     ]
    },
    {
     "name": "stderr",
     "output_type": "stream",
     "text": [
      "\r",
      " 55%|███████████████████████████████████████████████████████████████████████████████▏                                                                | 11/20 [00:28<00:22,  2.47s/it]"
     ]
    },
    {
     "name": "stdout",
     "output_type": "stream",
     "text": [
      "12_test\n",
      "(640, 640, 3) (584, 565)\n",
      "(584, 565)\n",
      "results\\12_testTest.png\n"
     ]
    },
    {
     "name": "stderr",
     "output_type": "stream",
     "text": [
      "\r",
      " 60%|██████████████████████████████████████████████████████████████████████████████████████▍                                                         | 12/20 [00:30<00:19,  2.47s/it]"
     ]
    },
    {
     "name": "stdout",
     "output_type": "stream",
     "text": [
      "13_test\n",
      "(640, 640, 3) (584, 565)\n",
      "(584, 565)\n",
      "results\\13_testTest.png\n"
     ]
    },
    {
     "name": "stderr",
     "output_type": "stream",
     "text": [
      "\r",
      " 65%|█████████████████████████████████████████████████████████████████████████████████████████████▌                                                  | 13/20 [00:32<00:17,  2.46s/it]"
     ]
    },
    {
     "name": "stdout",
     "output_type": "stream",
     "text": [
      "14_test\n",
      "(640, 640, 3) (584, 565)\n",
      "(584, 565)\n",
      "results\\14_testTest.png\n"
     ]
    },
    {
     "name": "stderr",
     "output_type": "stream",
     "text": [
      "\r",
      " 70%|████████████████████████████████████████████████████████████████████████████████████████████████████▊                                           | 14/20 [00:35<00:14,  2.46s/it]"
     ]
    },
    {
     "name": "stdout",
     "output_type": "stream",
     "text": [
      "15_test\n",
      "(640, 640, 3) (584, 565)\n",
      "(584, 565)\n",
      "results\\15_testTest.png\n"
     ]
    },
    {
     "name": "stderr",
     "output_type": "stream",
     "text": [
      "\r",
      " 75%|████████████████████████████████████████████████████████████████████████████████████████████████████████████                                    | 15/20 [00:38<00:12,  2.53s/it]"
     ]
    },
    {
     "name": "stdout",
     "output_type": "stream",
     "text": [
      "16_test\n",
      "(640, 640, 3) (584, 565)\n",
      "(584, 565)\n",
      "results\\16_testTest.png\n"
     ]
    },
    {
     "name": "stderr",
     "output_type": "stream",
     "text": [
      "\r",
      " 80%|███████████████████████████████████████████████████████████████████████████████████████████████████████████████████▏                            | 16/20 [00:40<00:10,  2.59s/it]"
     ]
    },
    {
     "name": "stdout",
     "output_type": "stream",
     "text": [
      "17_test\n",
      "(640, 640, 3) (584, 565)\n",
      "(584, 565)\n",
      "results\\17_testTest.png\n"
     ]
    },
    {
     "name": "stderr",
     "output_type": "stream",
     "text": [
      "\r",
      " 85%|██████████████████████████████████████████████████████████████████████████████████████████████████████████████████████████▍                     | 17/20 [00:43<00:07,  2.65s/it]"
     ]
    },
    {
     "name": "stdout",
     "output_type": "stream",
     "text": [
      "18_test\n",
      "(640, 640, 3) (584, 565)\n",
      "(584, 565)\n",
      "results\\18_testTest.png\n"
     ]
    },
    {
     "name": "stderr",
     "output_type": "stream",
     "text": [
      "\r",
      " 90%|█████████████████████████████████████████████████████████████████████████████████████████████████████████████████████████████████▌              | 18/20 [00:46<00:05,  2.63s/it]"
     ]
    },
    {
     "name": "stdout",
     "output_type": "stream",
     "text": [
      "19_test\n",
      "(640, 640, 3) (584, 565)\n",
      "(584, 565)\n",
      "results\\19_testTest.png\n"
     ]
    },
    {
     "name": "stderr",
     "output_type": "stream",
     "text": [
      "\r",
      " 95%|████████████████████████████████████████████████████████████████████████████████████████████████████████████████████████████████████████▊       | 19/20 [00:49<00:02,  2.67s/it]"
     ]
    },
    {
     "name": "stdout",
     "output_type": "stream",
     "text": [
      "20_test\n",
      "(640, 640, 3) (584, 565)\n",
      "(584, 565)\n",
      "results\\20_testTest.png\n"
     ]
    },
    {
     "name": "stderr",
     "output_type": "stream",
     "text": [
      "100%|████████████████████████████████████████████████████████████████████████████████████████████████████████████████████████████████████████████████| 20/20 [00:51<00:00,  2.58s/it]\n"
     ]
    }
   ],
   "source": [
    "\"\"\" Make the prediction and calculate the metrics values \"\"\"\n",
    "SCORE = []\n",
    "\n",
    "for x, y in tqdm(zip(test_x, test_y), total=len(test_x)):\n",
    "    \n",
    "    \"\"\" Extracting name \"\"\"\n",
    "    name = x.split(\"\\\\\")[-1].split(\".\")[0]\n",
    "    print(name)\n",
    "    \"\"\" Read the image and mask \"\"\"\n",
    "    ori_x, x = read_image(x)\n",
    "    ori_y, y = read_gt(y)\n",
    "    \n",
    "    print(ori_x.shape, ori_y.shape)\n",
    "    \n",
    "    patches_img = patchify(x, (128, 128,3), step=128)\n",
    "    \n",
    "    pred_patches = []\n",
    "    for i in range(patches_img.shape[0]):\n",
    "        for j in range(patches_img.shape[1]):        \n",
    "            single_patch_img = patches_img[i,j,:,:][0]\n",
    "#             print(single_patch_img.shape)\n",
    "            \n",
    "            \"\"\" Prediction \"\"\"\n",
    "            y_pred = model.predict(np.expand_dims(single_patch_img, axis=0))[0]\n",
    "            y_pred = y_pred > 0.5\n",
    "            y_pred = y_pred.astype(np.int32)\n",
    "            y_pred = np.squeeze(y_pred, axis=-1)\n",
    "            \n",
    "            pred_patches.append(y_pred)\n",
    "    pred_patches_reshaped = np.reshape(pred_patches, (5, 5, 128,128) )\n",
    "    reconstructed_image = unpatchify(pred_patches_reshaped, (640,640))\n",
    "    \n",
    "    final_y_pred = reconstructed_image[28:-28,37:-38]\n",
    "    print(final_y_pred.shape)\n",
    "#     plt.imshow(final_y_pred, cmap='gray')\n",
    "    \n",
    "    \n",
    "    \"\"\" Saving the images \"\"\"\n",
    "    save_image_path = f\"results\\\\{name}Test.png\"\n",
    "    print(save_image_path)\n",
    "\n",
    "    save_results(ori_x, ori_y, final_y_pred, save_image_path)\n",
    "\n",
    "    \"\"\" Flatten the array \"\"\"\n",
    "    y = y.flatten()\n",
    "    final_y_pred = final_y_pred.flatten()\n",
    "\n",
    "    \"\"\" Calculate the metrics \"\"\"\n",
    "    acc_value = accuracy_score(y, final_y_pred)\n",
    "    f1_value = f1_score(y, final_y_pred, labels=[0, 1], average=\"binary\")\n",
    "    jac_value = jaccard_score(y, final_y_pred, labels=[0, 1], average=\"binary\")\n",
    "    recall_value = recall_score(y, final_y_pred, labels=[0, 1], average=\"binary\")\n",
    "    precision_value = precision_score(y, final_y_pred, labels=[0, 1], average=\"binary\")\n",
    "    \n",
    "    cm = confusion_matrix(y, final_y_pred)\n",
    "    sensitivity, specificity = get_metrics(cm)\n",
    "    \n",
    "    SCORE.append([name, acc_value, f1_value, jac_value, recall_value, precision_value, sensitivity, specificity])"
   ]
  },
  {
   "cell_type": "code",
   "execution_count": 47,
   "id": "31e81a06",
   "metadata": {
    "scrolled": true
   },
   "outputs": [
    {
     "data": {
      "text/plain": [
       "[['01_test',\n",
       "  0.9613134925445509,\n",
       "  0.7782814861132823,\n",
       "  0.6370383007762518,\n",
       "  0.7610054347826087,\n",
       "  0.7963601464472327,\n",
       "  0.7610054347826087,\n",
       "  0.9809363769466258],\n",
       " ['02_test',\n",
       "  0.9618408291914171,\n",
       "  0.7917844917398422,\n",
       "  0.6553338260655334,\n",
       "  0.7084936371707605,\n",
       "  0.8972677186012519,\n",
       "  0.7084936371707605,\n",
       "  0.9907451801330317],\n",
       " ['03_test',\n",
       "  0.9485331555340041,\n",
       "  0.6766565118050267,\n",
       "  0.5113234151535208,\n",
       "  0.5402061228832883,\n",
       "  0.9053344882050237,\n",
       "  0.5402061228832883,\n",
       "  0.9937455186877034],\n",
       " ['04_test',\n",
       "  0.9639380530973451,\n",
       "  0.7830193840150258,\n",
       "  0.6434115496418832,\n",
       "  0.7073202872768004,\n",
       "  0.8768633857463753,\n",
       "  0.7073202872768004,\n",
       "  0.9899367836425171],\n",
       " ['05_test',\n",
       "  0.9541065583707116,\n",
       "  0.6913685926831754,\n",
       "  0.5283142287565412,\n",
       "  0.5486865942028986,\n",
       "  0.9343359224370628,\n",
       "  0.5486865942028986,\n",
       "  0.9960140178165379],\n",
       " ['06_test',\n",
       "  0.9550703115529156,\n",
       "  0.7256814018466776,\n",
       "  0.5694662252424929,\n",
       "  0.6105679412131025,\n",
       "  0.894285583983217,\n",
       "  0.6105679412131025,\n",
       "  0.992217402398571],\n",
       " ['07_test',\n",
       "  0.9605921929930901,\n",
       "  0.7638694681024933,\n",
       "  0.61795210812399,\n",
       "  0.6975325019899178,\n",
       "  0.844150110375276,\n",
       "  0.6975325019899178,\n",
       "  0.9870483776283488],\n",
       " ['08_test',\n",
       "  0.9555824948478604,\n",
       "  0.6888851150547678,\n",
       "  0.525419338125769,\n",
       "  0.5715594068124978,\n",
       "  0.8668198087504675,\n",
       "  0.5715594068124978,\n",
       "  0.9917332900046755],\n",
       " ['09_test',\n",
       "  0.9574190811007395,\n",
       "  0.6739685339026316,\n",
       "  0.508259834803304,\n",
       "  0.5430612168580083,\n",
       "  0.8880327768605148,\n",
       "  0.5430612168580083,\n",
       "  0.9939614601987342],\n",
       " ['10_test',\n",
       "  0.9630076372893684,\n",
       "  0.7538219515146626,\n",
       "  0.604907101702596,\n",
       "  0.6881720430107527,\n",
       "  0.8333184696334611,\n",
       "  0.6881720430107527,\n",
       "  0.9876553810385595],\n",
       " ['11_test',\n",
       "  0.9597708813189477,\n",
       "  0.7636564347268713,\n",
       "  0.6176733200841038,\n",
       "  0.725989369985443,\n",
       "  0.8054460093896714,\n",
       "  0.725989369985443,\n",
       "  0.9827575302658602],\n",
       " ['12_test',\n",
       "  0.9619469026548673,\n",
       "  0.7546506174769424,\n",
       "  0.6059750203979163,\n",
       "  0.6777816777816777,\n",
       "  0.8511857533280437,\n",
       "  0.6777816777816777,\n",
       "  0.9888015391249544],\n",
       " ['13_test',\n",
       "  0.9583979876348648,\n",
       "  0.7637796630586292,\n",
       "  0.6178345722319664,\n",
       "  0.6879320499705509,\n",
       "  0.8584248800866471,\n",
       "  0.6879320499705509,\n",
       "  0.9877057853349501],\n",
       " ['14_test',\n",
       "  0.9643593162807613,\n",
       "  0.7619336815255677,\n",
       "  0.6154223486706564,\n",
       "  0.7054391423323462,\n",
       "  0.8282646010298842,\n",
       "  0.7054391423323462,\n",
       "  0.987134128849952],\n",
       " ['15_test',\n",
       "  0.9617105103648927,\n",
       "  0.697924636572303,\n",
       "  0.536009401740791,\n",
       "  0.6180655543321758,\n",
       "  0.8014827018121911,\n",
       "  0.6180655543321758,\n",
       "  0.9881996174260477],\n",
       " ['16_test',\n",
       "  0.9640653412534853,\n",
       "  0.78166718839192,\n",
       "  0.6415875702799105,\n",
       "  0.7124634956866167,\n",
       "  0.8657611355849242,\n",
       "  0.7124634956866167,\n",
       "  0.9890361762873581],\n",
       " ['17_test',\n",
       "  0.958388895623712,\n",
       "  0.7039033858097908,\n",
       "  0.5430948419301165,\n",
       "  0.5859543300301594,\n",
       "  0.8813046765309429,\n",
       "  0.5859543300301594,\n",
       "  0.9927244561547526],\n",
       " ['18_test',\n",
       "  0.9660019396290459,\n",
       "  0.7721308145439773,\n",
       "  0.6288380095288513,\n",
       "  0.7269736842105263,\n",
       "  0.8232695139911634,\n",
       "  0.7269736842105263,\n",
       "  0.98657081918003],\n",
       " ['19_test',\n",
       "  0.9649139289610862,\n",
       "  0.7912361374087097,\n",
       "  0.6545828857858933,\n",
       "  0.8015417777940156,\n",
       "  0.781192137872098,\n",
       "  0.8015417777940156,\n",
       "  0.9796919253508884],\n",
       " ['20_test',\n",
       "  0.9661110437628804,\n",
       "  0.7625095573867979,\n",
       "  0.6161740981018089,\n",
       "  0.7397898207294457,\n",
       "  0.7866690039002585,\n",
       "  0.7397898207294457,\n",
       "  0.9840756309393349]]"
      ]
     },
     "execution_count": 47,
     "metadata": {},
     "output_type": "execute_result"
    }
   ],
   "source": [
    "SCORE"
   ]
  },
  {
   "cell_type": "code",
   "execution_count": 48,
   "id": "206011ed",
   "metadata": {},
   "outputs": [
    {
     "name": "stdout",
     "output_type": "stream",
     "text": [
      "Accuracy: 0.96035\n",
      "F1: 0.74404\n",
      "Jaccard: 0.59393\n",
      "Recall: 0.66793\n",
      "Precision: 0.85099\n",
      "Sensitivity: 0.66793\n",
      "Specificity: 0.98853\n"
     ]
    }
   ],
   "source": [
    "score = [s[1:] for s in SCORE]\n",
    "score = np.mean(score, axis=0)\n",
    "print(f\"Accuracy: {score[0]:0.5f}\")\n",
    "print(f\"F1: {score[1]:0.5f}\")\n",
    "print(f\"Jaccard: {score[2]:0.5f}\")\n",
    "print(f\"Recall: {score[3]:0.5f}\")\n",
    "print(f\"Precision: {score[4]:0.5f}\")\n",
    "print(f\"Sensitivity: {score[5]:0.5f}\")\n",
    "print(f\"Specificity: {score[6]:0.5f}\")\n",
    "\n"
   ]
  },
  {
   "cell_type": "code",
   "execution_count": 49,
   "id": "21f0492e",
   "metadata": {},
   "outputs": [
    {
     "data": {
      "text/html": [
       "<div>\n",
       "<style scoped>\n",
       "    .dataframe tbody tr th:only-of-type {\n",
       "        vertical-align: middle;\n",
       "    }\n",
       "\n",
       "    .dataframe tbody tr th {\n",
       "        vertical-align: top;\n",
       "    }\n",
       "\n",
       "    .dataframe thead th {\n",
       "        text-align: right;\n",
       "    }\n",
       "</style>\n",
       "<table border=\"1\" class=\"dataframe\">\n",
       "  <thead>\n",
       "    <tr style=\"text-align: right;\">\n",
       "      <th></th>\n",
       "      <th>Image</th>\n",
       "      <th>Acc</th>\n",
       "      <th>F1</th>\n",
       "      <th>Jaccard</th>\n",
       "      <th>Recall</th>\n",
       "      <th>Precision</th>\n",
       "      <th>Sensitivity</th>\n",
       "      <th>Specificity</th>\n",
       "    </tr>\n",
       "  </thead>\n",
       "  <tbody>\n",
       "    <tr>\n",
       "      <th>0</th>\n",
       "      <td>01_test</td>\n",
       "      <td>0.961313</td>\n",
       "      <td>0.778281</td>\n",
       "      <td>0.637038</td>\n",
       "      <td>0.761005</td>\n",
       "      <td>0.796360</td>\n",
       "      <td>0.761005</td>\n",
       "      <td>0.980936</td>\n",
       "    </tr>\n",
       "    <tr>\n",
       "      <th>1</th>\n",
       "      <td>02_test</td>\n",
       "      <td>0.961841</td>\n",
       "      <td>0.791784</td>\n",
       "      <td>0.655334</td>\n",
       "      <td>0.708494</td>\n",
       "      <td>0.897268</td>\n",
       "      <td>0.708494</td>\n",
       "      <td>0.990745</td>\n",
       "    </tr>\n",
       "    <tr>\n",
       "      <th>2</th>\n",
       "      <td>03_test</td>\n",
       "      <td>0.948533</td>\n",
       "      <td>0.676657</td>\n",
       "      <td>0.511323</td>\n",
       "      <td>0.540206</td>\n",
       "      <td>0.905334</td>\n",
       "      <td>0.540206</td>\n",
       "      <td>0.993746</td>\n",
       "    </tr>\n",
       "    <tr>\n",
       "      <th>3</th>\n",
       "      <td>04_test</td>\n",
       "      <td>0.963938</td>\n",
       "      <td>0.783019</td>\n",
       "      <td>0.643412</td>\n",
       "      <td>0.707320</td>\n",
       "      <td>0.876863</td>\n",
       "      <td>0.707320</td>\n",
       "      <td>0.989937</td>\n",
       "    </tr>\n",
       "    <tr>\n",
       "      <th>4</th>\n",
       "      <td>05_test</td>\n",
       "      <td>0.954107</td>\n",
       "      <td>0.691369</td>\n",
       "      <td>0.528314</td>\n",
       "      <td>0.548687</td>\n",
       "      <td>0.934336</td>\n",
       "      <td>0.548687</td>\n",
       "      <td>0.996014</td>\n",
       "    </tr>\n",
       "    <tr>\n",
       "      <th>5</th>\n",
       "      <td>06_test</td>\n",
       "      <td>0.955070</td>\n",
       "      <td>0.725681</td>\n",
       "      <td>0.569466</td>\n",
       "      <td>0.610568</td>\n",
       "      <td>0.894286</td>\n",
       "      <td>0.610568</td>\n",
       "      <td>0.992217</td>\n",
       "    </tr>\n",
       "    <tr>\n",
       "      <th>6</th>\n",
       "      <td>07_test</td>\n",
       "      <td>0.960592</td>\n",
       "      <td>0.763869</td>\n",
       "      <td>0.617952</td>\n",
       "      <td>0.697533</td>\n",
       "      <td>0.844150</td>\n",
       "      <td>0.697533</td>\n",
       "      <td>0.987048</td>\n",
       "    </tr>\n",
       "    <tr>\n",
       "      <th>7</th>\n",
       "      <td>08_test</td>\n",
       "      <td>0.955582</td>\n",
       "      <td>0.688885</td>\n",
       "      <td>0.525419</td>\n",
       "      <td>0.571559</td>\n",
       "      <td>0.866820</td>\n",
       "      <td>0.571559</td>\n",
       "      <td>0.991733</td>\n",
       "    </tr>\n",
       "    <tr>\n",
       "      <th>8</th>\n",
       "      <td>09_test</td>\n",
       "      <td>0.957419</td>\n",
       "      <td>0.673969</td>\n",
       "      <td>0.508260</td>\n",
       "      <td>0.543061</td>\n",
       "      <td>0.888033</td>\n",
       "      <td>0.543061</td>\n",
       "      <td>0.993961</td>\n",
       "    </tr>\n",
       "    <tr>\n",
       "      <th>9</th>\n",
       "      <td>10_test</td>\n",
       "      <td>0.963008</td>\n",
       "      <td>0.753822</td>\n",
       "      <td>0.604907</td>\n",
       "      <td>0.688172</td>\n",
       "      <td>0.833318</td>\n",
       "      <td>0.688172</td>\n",
       "      <td>0.987655</td>\n",
       "    </tr>\n",
       "    <tr>\n",
       "      <th>10</th>\n",
       "      <td>11_test</td>\n",
       "      <td>0.959771</td>\n",
       "      <td>0.763656</td>\n",
       "      <td>0.617673</td>\n",
       "      <td>0.725989</td>\n",
       "      <td>0.805446</td>\n",
       "      <td>0.725989</td>\n",
       "      <td>0.982758</td>\n",
       "    </tr>\n",
       "    <tr>\n",
       "      <th>11</th>\n",
       "      <td>12_test</td>\n",
       "      <td>0.961947</td>\n",
       "      <td>0.754651</td>\n",
       "      <td>0.605975</td>\n",
       "      <td>0.677782</td>\n",
       "      <td>0.851186</td>\n",
       "      <td>0.677782</td>\n",
       "      <td>0.988802</td>\n",
       "    </tr>\n",
       "    <tr>\n",
       "      <th>12</th>\n",
       "      <td>13_test</td>\n",
       "      <td>0.958398</td>\n",
       "      <td>0.763780</td>\n",
       "      <td>0.617835</td>\n",
       "      <td>0.687932</td>\n",
       "      <td>0.858425</td>\n",
       "      <td>0.687932</td>\n",
       "      <td>0.987706</td>\n",
       "    </tr>\n",
       "    <tr>\n",
       "      <th>13</th>\n",
       "      <td>14_test</td>\n",
       "      <td>0.964359</td>\n",
       "      <td>0.761934</td>\n",
       "      <td>0.615422</td>\n",
       "      <td>0.705439</td>\n",
       "      <td>0.828265</td>\n",
       "      <td>0.705439</td>\n",
       "      <td>0.987134</td>\n",
       "    </tr>\n",
       "    <tr>\n",
       "      <th>14</th>\n",
       "      <td>15_test</td>\n",
       "      <td>0.961711</td>\n",
       "      <td>0.697925</td>\n",
       "      <td>0.536009</td>\n",
       "      <td>0.618066</td>\n",
       "      <td>0.801483</td>\n",
       "      <td>0.618066</td>\n",
       "      <td>0.988200</td>\n",
       "    </tr>\n",
       "    <tr>\n",
       "      <th>15</th>\n",
       "      <td>16_test</td>\n",
       "      <td>0.964065</td>\n",
       "      <td>0.781667</td>\n",
       "      <td>0.641588</td>\n",
       "      <td>0.712463</td>\n",
       "      <td>0.865761</td>\n",
       "      <td>0.712463</td>\n",
       "      <td>0.989036</td>\n",
       "    </tr>\n",
       "    <tr>\n",
       "      <th>16</th>\n",
       "      <td>17_test</td>\n",
       "      <td>0.958389</td>\n",
       "      <td>0.703903</td>\n",
       "      <td>0.543095</td>\n",
       "      <td>0.585954</td>\n",
       "      <td>0.881305</td>\n",
       "      <td>0.585954</td>\n",
       "      <td>0.992724</td>\n",
       "    </tr>\n",
       "    <tr>\n",
       "      <th>17</th>\n",
       "      <td>18_test</td>\n",
       "      <td>0.966002</td>\n",
       "      <td>0.772131</td>\n",
       "      <td>0.628838</td>\n",
       "      <td>0.726974</td>\n",
       "      <td>0.823270</td>\n",
       "      <td>0.726974</td>\n",
       "      <td>0.986571</td>\n",
       "    </tr>\n",
       "    <tr>\n",
       "      <th>18</th>\n",
       "      <td>19_test</td>\n",
       "      <td>0.964914</td>\n",
       "      <td>0.791236</td>\n",
       "      <td>0.654583</td>\n",
       "      <td>0.801542</td>\n",
       "      <td>0.781192</td>\n",
       "      <td>0.801542</td>\n",
       "      <td>0.979692</td>\n",
       "    </tr>\n",
       "    <tr>\n",
       "      <th>19</th>\n",
       "      <td>20_test</td>\n",
       "      <td>0.966111</td>\n",
       "      <td>0.762510</td>\n",
       "      <td>0.616174</td>\n",
       "      <td>0.739790</td>\n",
       "      <td>0.786669</td>\n",
       "      <td>0.739790</td>\n",
       "      <td>0.984076</td>\n",
       "    </tr>\n",
       "  </tbody>\n",
       "</table>\n",
       "</div>"
      ],
      "text/plain": [
       "      Image       Acc        F1   Jaccard    Recall  Precision  Sensitivity  \\\n",
       "0   01_test  0.961313  0.778281  0.637038  0.761005   0.796360     0.761005   \n",
       "1   02_test  0.961841  0.791784  0.655334  0.708494   0.897268     0.708494   \n",
       "2   03_test  0.948533  0.676657  0.511323  0.540206   0.905334     0.540206   \n",
       "3   04_test  0.963938  0.783019  0.643412  0.707320   0.876863     0.707320   \n",
       "4   05_test  0.954107  0.691369  0.528314  0.548687   0.934336     0.548687   \n",
       "5   06_test  0.955070  0.725681  0.569466  0.610568   0.894286     0.610568   \n",
       "6   07_test  0.960592  0.763869  0.617952  0.697533   0.844150     0.697533   \n",
       "7   08_test  0.955582  0.688885  0.525419  0.571559   0.866820     0.571559   \n",
       "8   09_test  0.957419  0.673969  0.508260  0.543061   0.888033     0.543061   \n",
       "9   10_test  0.963008  0.753822  0.604907  0.688172   0.833318     0.688172   \n",
       "10  11_test  0.959771  0.763656  0.617673  0.725989   0.805446     0.725989   \n",
       "11  12_test  0.961947  0.754651  0.605975  0.677782   0.851186     0.677782   \n",
       "12  13_test  0.958398  0.763780  0.617835  0.687932   0.858425     0.687932   \n",
       "13  14_test  0.964359  0.761934  0.615422  0.705439   0.828265     0.705439   \n",
       "14  15_test  0.961711  0.697925  0.536009  0.618066   0.801483     0.618066   \n",
       "15  16_test  0.964065  0.781667  0.641588  0.712463   0.865761     0.712463   \n",
       "16  17_test  0.958389  0.703903  0.543095  0.585954   0.881305     0.585954   \n",
       "17  18_test  0.966002  0.772131  0.628838  0.726974   0.823270     0.726974   \n",
       "18  19_test  0.964914  0.791236  0.654583  0.801542   0.781192     0.801542   \n",
       "19  20_test  0.966111  0.762510  0.616174  0.739790   0.786669     0.739790   \n",
       "\n",
       "    Specificity  \n",
       "0      0.980936  \n",
       "1      0.990745  \n",
       "2      0.993746  \n",
       "3      0.989937  \n",
       "4      0.996014  \n",
       "5      0.992217  \n",
       "6      0.987048  \n",
       "7      0.991733  \n",
       "8      0.993961  \n",
       "9      0.987655  \n",
       "10     0.982758  \n",
       "11     0.988802  \n",
       "12     0.987706  \n",
       "13     0.987134  \n",
       "14     0.988200  \n",
       "15     0.989036  \n",
       "16     0.992724  \n",
       "17     0.986571  \n",
       "18     0.979692  \n",
       "19     0.984076  "
      ]
     },
     "execution_count": 49,
     "metadata": {},
     "output_type": "execute_result"
    }
   ],
   "source": [
    "\"\"\" Saving \"\"\"\n",
    "df = pd.DataFrame(SCORE, columns=[\"Image\", \"Acc\", \"F1\", \"Jaccard\", \"Recall\", \"Precision\", \"Sensitivity\", \"Specificity\"])\n",
    "df"
   ]
  },
  {
   "cell_type": "code",
   "execution_count": 50,
   "id": "bbe6b0ee",
   "metadata": {},
   "outputs": [],
   "source": [
    "# df.to_csv(\"files/score.csv\")\n"
   ]
  },
  {
   "cell_type": "code",
   "execution_count": null,
   "id": "fcfcc71f",
   "metadata": {},
   "outputs": [],
   "source": []
  },
  {
   "cell_type": "code",
   "execution_count": 51,
   "id": "dd2585bc",
   "metadata": {},
   "outputs": [],
   "source": [
    "import seaborn as sns"
   ]
  },
  {
   "cell_type": "code",
   "execution_count": 52,
   "id": "b09006fc",
   "metadata": {},
   "outputs": [
    {
     "data": {
      "text/plain": [
       "[None,\n",
       " None,\n",
       " None,\n",
       " None,\n",
       " None,\n",
       " None,\n",
       " None,\n",
       " None,\n",
       " None,\n",
       " None,\n",
       " None,\n",
       " None,\n",
       " None,\n",
       " None,\n",
       " None,\n",
       " None,\n",
       " None,\n",
       " None,\n",
       " None,\n",
       " None,\n",
       " None,\n",
       " None,\n",
       " None,\n",
       " None,\n",
       " None,\n",
       " None,\n",
       " None,\n",
       " None,\n",
       " None,\n",
       " None,\n",
       " None,\n",
       " None,\n",
       " None,\n",
       " None,\n",
       " None,\n",
       " None,\n",
       " None,\n",
       " None,\n",
       " None,\n",
       " None]"
      ]
     },
     "execution_count": 52,
     "metadata": {},
     "output_type": "execute_result"
    },
    {
     "data": {
      "image/png": "[encoded data removed]",
      "text/plain": [
       "<Figure size 1440x720 with 1 Axes>"
      ]
     },
     "metadata": {},
     "output_type": "display_data"
    }
   ],
   "source": [
    "plt.figure(figsize=(20, 10))\n",
    "sns.set_style(\"darkgrid\")\n",
    "ax = sns.lineplot(data=df, x=\"Image\", y=\"Jaccard\", marker = \"o\")\n",
    "ax.axhline(df[\"Jaccard\"].mean(), color=\"orange\", linestyle=\"--\")\n",
    "ax.set(xlabel=\"X Label\", ylabel = \"Y Label\")\n",
    "plt.setp(ax.get_xticklabels(), rotation=90)\n"
   ]
  },
  {
   "cell_type": "markdown",
   "id": "18cae74e",
   "metadata": {},
   "source": [
    "# Training Scores"
   ]
  },
  {
   "cell_type": "code",
   "execution_count": 45,
   "id": "c00d8fe5",
   "metadata": {},
   "outputs": [
    {
     "data": {
      "text/plain": [
       "[None,\n",
       " None,\n",
       " None,\n",
       " None,\n",
       " None,\n",
       " None,\n",
       " None,\n",
       " None,\n",
       " None,\n",
       " None,\n",
       " None,\n",
       " None,\n",
       " None,\n",
       " None,\n",
       " None,\n",
       " None,\n",
       " None,\n",
       " None,\n",
       " None,\n",
       " None,\n",
       " None,\n",
       " None,\n",
       " None,\n",
       " None,\n",
       " None,\n",
       " None,\n",
       " None,\n",
       " None,\n",
       " None,\n",
       " None,\n",
       " None,\n",
       " None,\n",
       " None,\n",
       " None,\n",
       " None,\n",
       " None,\n",
       " None,\n",
       " None,\n",
       " None,\n",
       " None]"
      ]
     },
     "execution_count": 45,
     "metadata": {},
     "output_type": "execute_result"
    },
    {
     "data": {
      "image/png": "[encoded data removed]",
      "text/plain": [
       "<Figure size 1440x720 with 1 Axes>"
      ]
     },
     "metadata": {},
     "output_type": "display_data"
    }
   ],
   "source": [
    "plt.figure(figsize=(20, 10))\n",
    "sns.set_style(\"darkgrid\")\n",
    "ax = sns.lineplot(data=df, x=\"Image\", y=\"Jaccard\", marker = \"o\")\n",
    "ax.axhline(df[\"Jaccard\"].mean(), color=\"orange\", linestyle=\"--\")\n",
    "ax.set(xlabel=\"X Label\", ylabel = \"Y Label\")\n",
    "plt.setp(ax.get_xticklabels(), rotation=90)\n"
   ]
  }
 ],
 "metadata": {
  "kernelspec": {
   "display_name": "Python 3 (vanilla)",
   "language": "python",
   "name": "vanilla"
  },
  "language_info": {
   "codemirror_mode": {
    "name": "ipython",
    "version": 3
   },
   "file_extension": ".py",
   "mimetype": "text/x-python",
   "name": "python",
   "nbconvert_exporter": "python",
   "pygments_lexer": "ipython3",
   "version": "3.9.5"
  },
  "toc": {
   "base_numbering": 1,
   "nav_menu": {},
   "number_sections": true,
   "sideBar": true,
   "skip_h1_title": false,
   "title_cell": "Table of Contents",
   "title_sidebar": "Contents",
   "toc_cell": false,
   "toc_position": {},
   "toc_section_display": true,
   "toc_window_display": true
  },
  "varInspector": {
   "cols": {
    "lenName": 16,
    "lenType": 16,
    "lenVar": 40
   },
   "kernels_config": {
    "python": {
     "delete_cmd_postfix": "",
     "delete_cmd_prefix": "del ",
     "library": "var_list.py",
     "varRefreshCmd": "print(var_dic_list())"
    },
    "r": {
     "delete_cmd_postfix": ") ",
     "delete_cmd_prefix": "rm(",
     "library": "var_list.r",
     "varRefreshCmd": "cat(var_dic_list()) "
    }
   },
   "types_to_exclude": [
    "module",
    "function",
    "builtin_function_or_method",
    "instance",
    "_Feature"
   ],
   "window_display": false
  }
 },
 "nbformat": 4,
 "nbformat_minor": 5
}
