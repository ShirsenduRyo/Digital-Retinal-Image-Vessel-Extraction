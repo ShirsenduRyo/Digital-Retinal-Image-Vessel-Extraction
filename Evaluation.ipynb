{
 "cells": [
  {
   "cell_type": "markdown",
   "id": "341bedfe",
   "metadata": {},
   "source": [
    "# Importing Packages"
   ]
  },
  {
   "cell_type": "code",
   "execution_count": 1,
   "id": "2cb28d4f",
   "metadata": {},
   "outputs": [],
   "source": [
    "import os\n",
    "import numpy as np\n",
    "import pandas as pd\n",
    "import cv2\n",
    "from glob import glob\n",
    "from tqdm import tqdm\n",
    "import tensorflow as tf\n",
    "from tensorflow.keras.utils import CustomObjectScope\n",
    "import imageio"
   ]
  },
  {
   "cell_type": "code",
   "execution_count": 2,
   "id": "1b212558",
   "metadata": {},
   "outputs": [],
   "source": [
    "from sklearn.metrics import accuracy_score, f1_score, jaccard_score, precision_score, recall_score\n",
    "from customMetrics import dice_loss, dice_coef, iou"
   ]
  },
  {
   "cell_type": "code",
   "execution_count": 3,
   "id": "d2caac35",
   "metadata": {},
   "outputs": [],
   "source": [
    "from sklearn.metrics import confusion_matrix"
   ]
  },
  {
   "cell_type": "code",
   "execution_count": 4,
   "id": "df0e7285",
   "metadata": {},
   "outputs": [],
   "source": [
    "from patchify import patchify, unpatchify"
   ]
  },
  {
   "cell_type": "code",
   "execution_count": 6,
   "id": "aa8d8f09",
   "metadata": {},
   "outputs": [],
   "source": [
    "physical_devices = tf.config.experimental.list_physical_devices('GPU')\n",
    "tf.config.experimental.set_memory_growth(physical_devices[0], True)"
   ]
  },
  {
   "cell_type": "markdown",
   "id": "f7d1cba1",
   "metadata": {},
   "source": [
    "# Loading Utils Functions"
   ]
  },
  {
   "cell_type": "code",
   "execution_count": 7,
   "id": "4e69b441",
   "metadata": {},
   "outputs": [],
   "source": [
    "def create_dir(path):\n",
    "    if not os.path.exists(path):\n",
    "        os.makedirs(path)"
   ]
  },
  {
   "cell_type": "code",
   "execution_count": 8,
   "id": "657e8a90",
   "metadata": {},
   "outputs": [],
   "source": [
    "def read_image(path):\n",
    "    x = cv2.imread(path, cv2.IMREAD_COLOR)\n",
    "    \n",
    "    top, bottom = [28] * 2\n",
    "    left, right = [37,38]\n",
    "    \n",
    "    x = cv2.copyMakeBorder(x, top, bottom, left, right, cv2.BORDER_CONSTANT, value= 0)\n",
    "    # x = cv2.resize(x, (W, H))\n",
    "    ori_x = x\n",
    "    x = x/255.0\n",
    "    x = x.astype(np.float32)\n",
    "    return ori_x, x"
   ]
  },
  {
   "cell_type": "code",
   "execution_count": 9,
   "id": "b4b228a5",
   "metadata": {},
   "outputs": [],
   "source": [
    "def read_gt(path):\n",
    "    x = imageio.mimread(path)[0]  ## (128, 128)\n",
    "    # x = cv2.resize(x, (W, H))\n",
    "    ori_x = x\n",
    "    x = x/255.0\n",
    "    x = x.astype(np.int32)\n",
    "    return ori_x, x"
   ]
  },
  {
   "cell_type": "code",
   "execution_count": 27,
   "id": "8394b02f",
   "metadata": {},
   "outputs": [],
   "source": [
    "def load_data(path):\n",
    "    x = sorted(glob(os.path.join(path, \"images\", \"*.tif\")))\n",
    "    y = sorted(glob(os.path.join(path, \"1st_manual\", \"*.gif\")))\n",
    "    return x, y"
   ]
  },
  {
   "cell_type": "code",
   "execution_count": 11,
   "id": "ed1f8d59",
   "metadata": {},
   "outputs": [],
   "source": [
    "def save_results(ori_x, ori_y, y_pred, save_image_path):\n",
    "    line = np.ones((H, 10, 3)) * 255\n",
    "\n",
    "    ori_y = np.expand_dims(ori_y, axis=-1)\n",
    "    ori_y = np.concatenate([ori_y, ori_y, ori_y], axis=-1)\n",
    "\n",
    "    y_pred = np.expand_dims(y_pred, axis=-1)\n",
    "    y_pred = np.concatenate([y_pred, y_pred, y_pred], axis=-1) * 255\n",
    "\n",
    "    cat_images = np.concatenate([ori_y, line, y_pred], axis=1)\n",
    "    \n",
    "    cv2.imwrite(save_image_path, cat_images)"
   ]
  },
  {
   "cell_type": "code",
   "execution_count": 12,
   "id": "ad886862",
   "metadata": {},
   "outputs": [],
   "source": [
    "def save_tests(y_pred, save_image_path):\n",
    "\n",
    "    y_pred = np.expand_dims(y_pred, axis=-1)\n",
    "    y_pred = np.concatenate([y_pred, y_pred, y_pred], axis=-1) * 255\n",
    "\n",
    "\n",
    "    cv2.imwrite(save_image_path, y_pred)"
   ]
  },
  {
   "cell_type": "code",
   "execution_count": 13,
   "id": "4a8dff88",
   "metadata": {},
   "outputs": [],
   "source": [
    "def get_metrics(cm):\n",
    "    tn, fp, fn, tp = cm.ravel()\n",
    "    sen = tp/(tp+fn)\n",
    "    spe = tn/(tn+fp) \n",
    "    return sen, spe"
   ]
  },
  {
   "cell_type": "code",
   "execution_count": null,
   "id": "c44712ce",
   "metadata": {},
   "outputs": [],
   "source": []
  },
  {
   "cell_type": "markdown",
   "id": "6d2811f4",
   "metadata": {},
   "source": [
    "# Setting The Environment"
   ]
  },
  {
   "cell_type": "code",
   "execution_count": 14,
   "id": "6ec48a50",
   "metadata": {},
   "outputs": [],
   "source": [
    "H = 584\n",
    "W = 565"
   ]
  },
  {
   "cell_type": "code",
   "execution_count": 22,
   "id": "9ff5413c",
   "metadata": {},
   "outputs": [],
   "source": [
    "data_path = \"D:\\\\Data sets\\\\DRIVE\""
   ]
  },
  {
   "cell_type": "code",
   "execution_count": 23,
   "id": "c9695839",
   "metadata": {},
   "outputs": [],
   "source": [
    "\"\"\" Save the results in this folder \"\"\"\n",
    "create_dir(\"results\")"
   ]
  },
  {
   "cell_type": "code",
   "execution_count": 24,
   "id": "0e718acc",
   "metadata": {},
   "outputs": [],
   "source": [
    "\"\"\" Load the model \"\"\"\n",
    "with CustomObjectScope({'iou': iou, 'dice_coef': dice_coef, 'dice_loss': dice_loss}):\n",
    "    model = tf.keras.models.load_model(\"modelDir/model128.h5\")\n"
   ]
  },
  {
   "cell_type": "code",
   "execution_count": 30,
   "id": "642d7775",
   "metadata": {},
   "outputs": [],
   "source": [
    "\"\"\" Load the dataset \"\"\"\n",
    "traindataset_path = os.path.join(data_path,\"training\")\n",
    "train_x, train_y = load_data(traindataset_path)\n",
    "\n",
    "testdataset_path = os.path.join(data_path,\"test\")\n",
    "test_x, test_y = load_data(testdataset_path)"
   ]
  },
  {
   "cell_type": "code",
   "execution_count": 29,
   "id": "e8c3fc3f",
   "metadata": {},
   "outputs": [
    {
     "data": {
      "text/plain": [
       "('D:\\\\Data sets\\\\DRIVE\\\\test', 20)"
      ]
     },
     "execution_count": 29,
     "metadata": {},
     "output_type": "execute_result"
    }
   ],
   "source": [
    "testdataset_path,len(test_x)"
   ]
  },
  {
   "cell_type": "code",
   "execution_count": 31,
   "id": "f0d9ef1d",
   "metadata": {},
   "outputs": [
    {
     "data": {
      "text/plain": [
       "('D:\\\\Data sets\\\\DRIVE\\\\training', 20)"
      ]
     },
     "execution_count": 31,
     "metadata": {},
     "output_type": "execute_result"
    }
   ],
   "source": [
    "traindataset_path,len(train_x)"
   ]
  },
  {
   "cell_type": "code",
   "execution_count": 32,
   "id": "07b1a710",
   "metadata": {},
   "outputs": [],
   "source": [
    "from matplotlib import pyplot as plt"
   ]
  },
  {
   "cell_type": "code",
   "execution_count": 44,
   "id": "b9b749ee",
   "metadata": {},
   "outputs": [
    {
     "name": "stderr",
     "output_type": "stream",
     "text": [
      "\r",
      "  0%|                                                                                                                                                         | 0/20 [00:00<?, ?it/s]"
     ]
    },
    {
     "name": "stdout",
     "output_type": "stream",
     "text": [
      "01_test\n",
      "(640, 640, 3) (584, 565)\n",
      "(584, 565)\n",
      "results\\01_testTest.png\n"
     ]
    },
    {
     "name": "stderr",
     "output_type": "stream",
     "text": [
      "\r",
      "  5%|███████▎                                                                                                                                         | 1/20 [00:02<00:44,  2.36s/it]"
     ]
    },
    {
     "name": "stdout",
     "output_type": "stream",
     "text": [
      "02_test\n",
      "(640, 640, 3) (584, 565)\n",
      "(584, 565)\n",
      "results\\02_testTest.png\n"
     ]
    },
    {
     "name": "stderr",
     "output_type": "stream",
     "text": [
      "\r",
      " 10%|██████████████▌                                                                                                                                  | 2/20 [00:04<00:40,  2.23s/it]"
     ]
    },
    {
     "name": "stdout",
     "output_type": "stream",
     "text": [
      "03_test\n",
      "(640, 640, 3) (584, 565)\n",
      "(584, 565)\n",
      "results\\03_testTest.png\n"
     ]
    },
    {
     "name": "stderr",
     "output_type": "stream",
     "text": [
      "\r",
      " 15%|█████████████████████▊                                                                                                                           | 3/20 [00:06<00:37,  2.20s/it]"
     ]
    },
    {
     "name": "stdout",
     "output_type": "stream",
     "text": [
      "04_test\n",
      "(640, 640, 3) (584, 565)\n",
      "(584, 565)\n",
      "results\\04_testTest.png\n"
     ]
    },
    {
     "name": "stderr",
     "output_type": "stream",
     "text": [
      "\r",
      " 20%|█████████████████████████████                                                                                                                    | 4/20 [00:08<00:35,  2.21s/it]"
     ]
    },
    {
     "name": "stdout",
     "output_type": "stream",
     "text": [
      "05_test\n",
      "(640, 640, 3) (584, 565)\n",
      "(584, 565)\n",
      "results\\05_testTest.png\n"
     ]
    },
    {
     "name": "stderr",
     "output_type": "stream",
     "text": [
      "\r",
      " 25%|████████████████████████████████████▎                                                                                                            | 5/20 [00:11<00:32,  2.19s/it]"
     ]
    },
    {
     "name": "stdout",
     "output_type": "stream",
     "text": [
      "06_test\n",
      "(640, 640, 3) (584, 565)\n",
      "(584, 565)\n",
      "results\\06_testTest.png\n"
     ]
    },
    {
     "name": "stderr",
     "output_type": "stream",
     "text": [
      "\r",
      " 30%|███████████████████████████████████████████▌                                                                                                     | 6/20 [00:13<00:31,  2.27s/it]"
     ]
    },
    {
     "name": "stdout",
     "output_type": "stream",
     "text": [
      "07_test\n",
      "(640, 640, 3) (584, 565)\n",
      "(584, 565)\n",
      "results\\07_testTest.png\n"
     ]
    },
    {
     "name": "stderr",
     "output_type": "stream",
     "text": [
      "\r",
      " 35%|██████████████████████████████████████████████████▊                                                                                              | 7/20 [00:15<00:29,  2.26s/it]"
     ]
    },
    {
     "name": "stdout",
     "output_type": "stream",
     "text": [
      "08_test\n",
      "(640, 640, 3) (584, 565)\n",
      "(584, 565)\n",
      "results\\08_testTest.png\n"
     ]
    },
    {
     "name": "stderr",
     "output_type": "stream",
     "text": [
      "\r",
      " 40%|██████████████████████████████████████████████████████████                                                                                       | 8/20 [00:17<00:26,  2.21s/it]"
     ]
    },
    {
     "name": "stdout",
     "output_type": "stream",
     "text": [
      "09_test\n",
      "(640, 640, 3) (584, 565)\n",
      "(584, 565)\n",
      "results\\09_testTest.png\n"
     ]
    },
    {
     "name": "stderr",
     "output_type": "stream",
     "text": [
      "\r",
      " 45%|█████████████████████████████████████████████████████████████████▎                                                                               | 9/20 [00:19<00:23,  2.18s/it]"
     ]
    },
    {
     "name": "stdout",
     "output_type": "stream",
     "text": [
      "10_test\n",
      "(640, 640, 3) (584, 565)\n",
      "(584, 565)\n",
      "results\\10_testTest.png\n"
     ]
    },
    {
     "name": "stderr",
     "output_type": "stream",
     "text": [
      "\r",
      " 50%|████████████████████████████████████████████████████████████████████████                                                                        | 10/20 [00:22<00:21,  2.16s/it]"
     ]
    },
    {
     "name": "stdout",
     "output_type": "stream",
     "text": [
      "11_test\n",
      "(640, 640, 3) (584, 565)\n",
      "(584, 565)\n",
      "results\\11_testTest.png\n"
     ]
    },
    {
     "name": "stderr",
     "output_type": "stream",
     "text": [
      "\r",
      " 55%|███████████████████████████████████████████████████████████████████████████████▏                                                                | 11/20 [00:24<00:19,  2.14s/it]"
     ]
    },
    {
     "name": "stdout",
     "output_type": "stream",
     "text": [
      "12_test\n",
      "(640, 640, 3) (584, 565)\n",
      "(584, 565)\n",
      "results\\12_testTest.png\n"
     ]
    },
    {
     "name": "stderr",
     "output_type": "stream",
     "text": [
      "\r",
      " 60%|██████████████████████████████████████████████████████████████████████████████████████▍                                                         | 12/20 [00:26<00:16,  2.12s/it]"
     ]
    },
    {
     "name": "stdout",
     "output_type": "stream",
     "text": [
      "13_test\n",
      "(640, 640, 3) (584, 565)\n",
      "(584, 565)\n",
      "results\\13_testTest.png\n"
     ]
    },
    {
     "name": "stderr",
     "output_type": "stream",
     "text": [
      "\r",
      " 65%|█████████████████████████████████████████████████████████████████████████████████████████████▌                                                  | 13/20 [00:28<00:15,  2.16s/it]"
     ]
    },
    {
     "name": "stdout",
     "output_type": "stream",
     "text": [
      "14_test\n",
      "(640, 640, 3) (584, 565)\n",
      "(584, 565)\n",
      "results\\14_testTest.png\n"
     ]
    },
    {
     "name": "stderr",
     "output_type": "stream",
     "text": [
      "\r",
      " 70%|████████████████████████████████████████████████████████████████████████████████████████████████████▊                                           | 14/20 [00:30<00:12,  2.13s/it]"
     ]
    },
    {
     "name": "stdout",
     "output_type": "stream",
     "text": [
      "15_test\n",
      "(640, 640, 3) (584, 565)\n",
      "(584, 565)\n",
      "results\\15_testTest.png\n"
     ]
    },
    {
     "name": "stderr",
     "output_type": "stream",
     "text": [
      "\r",
      " 75%|████████████████████████████████████████████████████████████████████████████████████████████████████████████                                    | 15/20 [00:32<00:10,  2.12s/it]"
     ]
    },
    {
     "name": "stdout",
     "output_type": "stream",
     "text": [
      "16_test\n",
      "(640, 640, 3) (584, 565)\n",
      "(584, 565)\n",
      "results\\16_testTest.png\n"
     ]
    },
    {
     "name": "stderr",
     "output_type": "stream",
     "text": [
      "\r",
      " 80%|███████████████████████████████████████████████████████████████████████████████████████████████████████████████████▏                            | 16/20 [00:34<00:08,  2.11s/it]"
     ]
    },
    {
     "name": "stdout",
     "output_type": "stream",
     "text": [
      "17_test\n",
      "(640, 640, 3) (584, 565)\n",
      "(584, 565)\n",
      "results\\17_testTest.png\n"
     ]
    },
    {
     "name": "stderr",
     "output_type": "stream",
     "text": [
      "\r",
      " 85%|██████████████████████████████████████████████████████████████████████████████████████████████████████████████████████████▍                     | 17/20 [00:36<00:06,  2.10s/it]"
     ]
    },
    {
     "name": "stdout",
     "output_type": "stream",
     "text": [
      "18_test\n",
      "(640, 640, 3) (584, 565)\n",
      "(584, 565)\n",
      "results\\18_testTest.png\n"
     ]
    },
    {
     "name": "stderr",
     "output_type": "stream",
     "text": [
      "\r",
      " 90%|█████████████████████████████████████████████████████████████████████████████████████████████████████████████████████████████████▌              | 18/20 [00:38<00:04,  2.09s/it]"
     ]
    },
    {
     "name": "stdout",
     "output_type": "stream",
     "text": [
      "19_test\n",
      "(640, 640, 3) (584, 565)\n",
      "(584, 565)\n",
      "results\\19_testTest.png\n"
     ]
    },
    {
     "name": "stderr",
     "output_type": "stream",
     "text": [
      "\r",
      " 95%|████████████████████████████████████████████████████████████████████████████████████████████████████████████████████████████████████████▊       | 19/20 [00:40<00:02,  2.09s/it]"
     ]
    },
    {
     "name": "stdout",
     "output_type": "stream",
     "text": [
      "20_test\n",
      "(640, 640, 3) (584, 565)\n",
      "(584, 565)\n",
      "results\\20_testTest.png\n"
     ]
    },
    {
     "name": "stderr",
     "output_type": "stream",
     "text": [
      "100%|████████████████████████████████████████████████████████████████████████████████████████████████████████████████████████████████████████████████| 20/20 [00:43<00:00,  2.16s/it]\n"
     ]
    }
   ],
   "source": [
    "\"\"\" Make the prediction and calculate the metrics values \"\"\"\n",
    "SCORE = []\n",
    "\n",
    "for x, y in tqdm(zip(test_x, test_y), total=len(test_x)):\n",
    "    \n",
    "    \"\"\" Extracting name \"\"\"\n",
    "    name = x.split(\"\\\\\")[-1].split(\".\")[0]\n",
    "    print(name)\n",
    "    \"\"\" Read the image and mask \"\"\"\n",
    "    ori_x, x = read_image(x)\n",
    "    ori_y, y = read_gt(y)\n",
    "    \n",
    "    print(ori_x.shape, ori_y.shape)\n",
    "    \n",
    "    patches_img = patchify(x, (128, 128,3), step=128)\n",
    "    \n",
    "    pred_patches = []\n",
    "    for i in range(patches_img.shape[0]):\n",
    "        for j in range(patches_img.shape[1]):        \n",
    "            single_patch_img = patches_img[i,j,:,:][0]\n",
    "#             print(single_patch_img.shape)\n",
    "            \n",
    "            \"\"\" Prediction \"\"\"\n",
    "            y_pred = model.predict(np.expand_dims(single_patch_img, axis=0))[0]\n",
    "            y_pred = y_pred > 0.5\n",
    "            y_pred = y_pred.astype(np.int32)\n",
    "            y_pred = np.squeeze(y_pred, axis=-1)\n",
    "            \n",
    "            pred_patches.append(y_pred)\n",
    "    pred_patches_reshaped = np.reshape(pred_patches, (5, 5, 128,128) )\n",
    "    reconstructed_image = unpatchify(pred_patches_reshaped, (640,640))\n",
    "    \n",
    "    final_y_pred = reconstructed_image[28:-28,37:-38]\n",
    "    print(final_y_pred.shape)\n",
    "#     plt.imshow(final_y_pred, cmap='gray')\n",
    "    \n",
    "    \n",
    "    \"\"\" Saving the images \"\"\"\n",
    "    save_image_path = f\"results\\\\{name}Test.png\"\n",
    "    print(save_image_path)\n",
    "\n",
    "    save_results(ori_x, ori_y, final_y_pred, save_image_path)\n",
    "\n",
    "    \"\"\" Flatten the array \"\"\"\n",
    "    y = y.flatten()\n",
    "    final_y_pred = final_y_pred.flatten()\n",
    "\n",
    "    \"\"\" Calculate the metrics \"\"\"\n",
    "    acc_value = accuracy_score(y, final_y_pred)\n",
    "    f1_value = f1_score(y, final_y_pred, labels=[0, 1], average=\"binary\")\n",
    "    jac_value = jaccard_score(y, final_y_pred, labels=[0, 1], average=\"binary\")\n",
    "    recall_value = recall_score(y, final_y_pred, labels=[0, 1], average=\"binary\")\n",
    "    precision_value = precision_score(y, final_y_pred, labels=[0, 1], average=\"binary\")\n",
    "    \n",
    "    cm = confusion_matrix(y, final_y_pred)\n",
    "    sensitivity, specificity = get_metrics(cm)\n",
    "    \n",
    "    SCORE.append([name, acc_value, f1_value, jac_value, recall_value, precision_value, sensitivity, specificity])"
   ]
  },
  {
   "cell_type": "code",
   "execution_count": 34,
   "id": "31e81a06",
   "metadata": {
    "scrolled": true
   },
   "outputs": [
    {
     "data": {
      "text/plain": [
       "[['01_test',\n",
       "  0.9257182688810764,\n",
       "  0.3017094017094017,\n",
       "  0.17765475591343735,\n",
       "  0.17985733695652173,\n",
       "  0.9355123674911661,\n",
       "  0.17985733695652173,\n",
       "  0.9987854385731398],\n",
       " ['02_test',\n",
       "  0.9097860346708692,\n",
       "  0.22544300174338425,\n",
       "  0.127041848734567,\n",
       "  0.12820361053566143,\n",
       "  0.9334195216548158,\n",
       "  0.12820361053566143,\n",
       "  0.9989566802849714],\n",
       " ['03_test',\n",
       "  0.9240544308401019,\n",
       "  0.39641592600621434,\n",
       "  0.2472062004325883,\n",
       "  0.25017480922992735,\n",
       "  0.9541975881261595,\n",
       "  0.25017480922992735,\n",
       "  0.9986703336284407],\n",
       " ['04_test',\n",
       "  0.928103406473512,\n",
       "  0.36932074970091716,\n",
       "  0.2264827676155075,\n",
       "  0.2288331027212229,\n",
       "  0.9566175457925905,\n",
       "  0.2288331027212229,\n",
       "  0.9989486191865317],\n",
       " ['05_test',\n",
       "  0.9214571463207661,\n",
       "  0.28731712682873173,\n",
       "  0.16775850995504174,\n",
       "  0.16899585921325053,\n",
       "  0.9581804842259721,\n",
       "  0.16899585921325053,\n",
       "  0.9992375805890693],\n",
       " ['06_test',\n",
       "  0.9149351436537763,\n",
       "  0.23240168462506153,\n",
       "  0.1314787882538602,\n",
       "  0.1323016564952049,\n",
       "  0.9548314606741573,\n",
       "  0.1323016564952049,\n",
       "  0.9993251500785646],\n",
       " ['07_test',\n",
       "  0.9178142805188507,\n",
       "  0.19674170616113743,\n",
       "  0.10910345280725385,\n",
       "  0.1101419474661714,\n",
       "  0.9204545454545454,\n",
       "  0.1101419474661714,\n",
       "  0.999042720674565],\n",
       " ['08_test',\n",
       "  0.9206176506243181,\n",
       "  0.15797087472273122,\n",
       "  0.08575916230366493,\n",
       "  0.08654760646729368,\n",
       "  0.9039735099337748,\n",
       "  0.08654760646729368,\n",
       "  0.9991345321665545],\n",
       " ['09_test',\n",
       "  0.9209146563219784,\n",
       "  0.06439353196371589,\n",
       "  0.03326788426629126,\n",
       "  0.033581391870161924,\n",
       "  0.7808695652173913,\n",
       "  0.033581391870161924,\n",
       "  0.9991689175150633],\n",
       " ['10_test',\n",
       "  0.9321766274699964,\n",
       "  0.30519420037877615,\n",
       "  0.18007620722503115,\n",
       "  0.18099130947120343,\n",
       "  0.9726894913912527,\n",
       "  0.18099130947120343,\n",
       "  0.9995442596531089],\n",
       " ['11_test',\n",
       "  0.9167868832585768,\n",
       "  0.1503326628500696,\n",
       "  0.08127551361841664,\n",
       "  0.08223027184400285,\n",
       "  0.875,\n",
       "  0.08223027184400285,\n",
       "  0.9988449542475393],\n",
       " ['12_test',\n",
       "  0.9173990786762032,\n",
       "  0.09382584699271869,\n",
       "  0.04922207493197516,\n",
       "  0.049526149526149525,\n",
       "  0.8890989287964713,\n",
       "  0.049526149526149525,\n",
       "  0.9994161939828176],\n",
       " ['13_test',\n",
       "  0.9089919990301855,\n",
       "  0.14268992491506552,\n",
       "  0.07682611903590753,\n",
       "  0.07746675346414954,\n",
       "  0.9028179190751445,\n",
       "  0.07746675346414954,\n",
       "  0.9990964088128693],\n",
       " ['14_test',\n",
       "  0.9271123772578495,\n",
       "  0.20888157894736842,\n",
       "  0.11662075298438934,\n",
       "  0.11901638115230348,\n",
       "  0.8528068761751276,\n",
       "  0.11901638115230348,\n",
       "  0.9981931067682659],\n",
       " ['15_test',\n",
       "  0.953597405746151,\n",
       "  0.5402240172967779,\n",
       "  0.37007323294659755,\n",
       "  0.38091809943254,\n",
       "  0.9285640549189635,\n",
       "  0.38091809943254,\n",
       "  0.9977411162541702],\n",
       " ['16_test',\n",
       "  0.923133107043278,\n",
       "  0.27299567174018974,\n",
       "  0.1580746887966805,\n",
       "  0.1598469336376758,\n",
       "  0.9344583987441131,\n",
       "  0.1598469336376758,\n",
       "  0.9988872934913332],\n",
       " ['17_test',\n",
       "  0.9194053824706026,\n",
       "  0.1105127604776399,\n",
       "  0.05848822800495663,\n",
       "  0.059313514289817605,\n",
       "  0.8078239608801956,\n",
       "  0.059313514289817605,\n",
       "  0.9986991407046487],\n",
       " ['18_test',\n",
       "  0.9252576069826646,\n",
       "  0.12028251409003353,\n",
       "  0.06398967663579778,\n",
       "  0.0644889840881273,\n",
       "  0.8920634920634921,\n",
       "  0.0644889840881273,\n",
       "  0.9993285409590015],\n",
       " ['19_test',\n",
       "  0.9398411928718633,\n",
       "  0.44294774653420893,\n",
       "  0.2844784081897484,\n",
       "  0.2883343684921998,\n",
       "  0.9551010528863609,\n",
       "  0.2883343684921998,\n",
       "  0.9987739144516159],\n",
       " ['20_test',\n",
       "  0.9312219662989454,\n",
       "  0.1361906211936663,\n",
       "  0.07307111056651554,\n",
       "  0.07372759118071297,\n",
       "  0.8913801694070752,\n",
       "  0.07372759118071297,\n",
       "  0.9992868709007344]]"
      ]
     },
     "execution_count": 34,
     "metadata": {},
     "output_type": "execute_result"
    }
   ],
   "source": [
    "SCORE"
   ]
  },
  {
   "cell_type": "code",
   "execution_count": 35,
   "id": "206011ed",
   "metadata": {},
   "outputs": [
    {
     "name": "stdout",
     "output_type": "stream",
     "text": [
      "Accuracy: 0.92392\n",
      "F1: 0.23779\n",
      "Jaccard: 0.14090\n",
      "Recall: 0.14272\n",
      "Precision: 0.90999\n",
      "Sensitivity: 0.14272\n",
      "Specificity: 0.99895\n"
     ]
    }
   ],
   "source": [
    "score = [s[1:] for s in SCORE]\n",
    "score = np.mean(score, axis=0)\n",
    "print(f\"Accuracy: {score[0]:0.5f}\")\n",
    "print(f\"F1: {score[1]:0.5f}\")\n",
    "print(f\"Jaccard: {score[2]:0.5f}\")\n",
    "print(f\"Recall: {score[3]:0.5f}\")\n",
    "print(f\"Precision: {score[4]:0.5f}\")\n",
    "print(f\"Sensitivity: {score[5]:0.5f}\")\n",
    "print(f\"Specificity: {score[6]:0.5f}\")\n",
    "\n"
   ]
  },
  {
   "cell_type": "code",
   "execution_count": 36,
   "id": "21f0492e",
   "metadata": {},
   "outputs": [
    {
     "data": {
      "text/html": [
       "<div>\n",
       "<style scoped>\n",
       "    .dataframe tbody tr th:only-of-type {\n",
       "        vertical-align: middle;\n",
       "    }\n",
       "\n",
       "    .dataframe tbody tr th {\n",
       "        vertical-align: top;\n",
       "    }\n",
       "\n",
       "    .dataframe thead th {\n",
       "        text-align: right;\n",
       "    }\n",
       "</style>\n",
       "<table border=\"1\" class=\"dataframe\">\n",
       "  <thead>\n",
       "    <tr style=\"text-align: right;\">\n",
       "      <th></th>\n",
       "      <th>Image</th>\n",
       "      <th>Acc</th>\n",
       "      <th>F1</th>\n",
       "      <th>Jaccard</th>\n",
       "      <th>Recall</th>\n",
       "      <th>Precision</th>\n",
       "      <th>Sensitivity</th>\n",
       "      <th>Specificity</th>\n",
       "    </tr>\n",
       "  </thead>\n",
       "  <tbody>\n",
       "    <tr>\n",
       "      <th>0</th>\n",
       "      <td>01_test</td>\n",
       "      <td>0.925718</td>\n",
       "      <td>0.301709</td>\n",
       "      <td>0.177655</td>\n",
       "      <td>0.179857</td>\n",
       "      <td>0.935512</td>\n",
       "      <td>0.179857</td>\n",
       "      <td>0.998785</td>\n",
       "    </tr>\n",
       "    <tr>\n",
       "      <th>1</th>\n",
       "      <td>02_test</td>\n",
       "      <td>0.909786</td>\n",
       "      <td>0.225443</td>\n",
       "      <td>0.127042</td>\n",
       "      <td>0.128204</td>\n",
       "      <td>0.933420</td>\n",
       "      <td>0.128204</td>\n",
       "      <td>0.998957</td>\n",
       "    </tr>\n",
       "    <tr>\n",
       "      <th>2</th>\n",
       "      <td>03_test</td>\n",
       "      <td>0.924054</td>\n",
       "      <td>0.396416</td>\n",
       "      <td>0.247206</td>\n",
       "      <td>0.250175</td>\n",
       "      <td>0.954198</td>\n",
       "      <td>0.250175</td>\n",
       "      <td>0.998670</td>\n",
       "    </tr>\n",
       "    <tr>\n",
       "      <th>3</th>\n",
       "      <td>04_test</td>\n",
       "      <td>0.928103</td>\n",
       "      <td>0.369321</td>\n",
       "      <td>0.226483</td>\n",
       "      <td>0.228833</td>\n",
       "      <td>0.956618</td>\n",
       "      <td>0.228833</td>\n",
       "      <td>0.998949</td>\n",
       "    </tr>\n",
       "    <tr>\n",
       "      <th>4</th>\n",
       "      <td>05_test</td>\n",
       "      <td>0.921457</td>\n",
       "      <td>0.287317</td>\n",
       "      <td>0.167759</td>\n",
       "      <td>0.168996</td>\n",
       "      <td>0.958180</td>\n",
       "      <td>0.168996</td>\n",
       "      <td>0.999238</td>\n",
       "    </tr>\n",
       "    <tr>\n",
       "      <th>5</th>\n",
       "      <td>06_test</td>\n",
       "      <td>0.914935</td>\n",
       "      <td>0.232402</td>\n",
       "      <td>0.131479</td>\n",
       "      <td>0.132302</td>\n",
       "      <td>0.954831</td>\n",
       "      <td>0.132302</td>\n",
       "      <td>0.999325</td>\n",
       "    </tr>\n",
       "    <tr>\n",
       "      <th>6</th>\n",
       "      <td>07_test</td>\n",
       "      <td>0.917814</td>\n",
       "      <td>0.196742</td>\n",
       "      <td>0.109103</td>\n",
       "      <td>0.110142</td>\n",
       "      <td>0.920455</td>\n",
       "      <td>0.110142</td>\n",
       "      <td>0.999043</td>\n",
       "    </tr>\n",
       "    <tr>\n",
       "      <th>7</th>\n",
       "      <td>08_test</td>\n",
       "      <td>0.920618</td>\n",
       "      <td>0.157971</td>\n",
       "      <td>0.085759</td>\n",
       "      <td>0.086548</td>\n",
       "      <td>0.903974</td>\n",
       "      <td>0.086548</td>\n",
       "      <td>0.999135</td>\n",
       "    </tr>\n",
       "    <tr>\n",
       "      <th>8</th>\n",
       "      <td>09_test</td>\n",
       "      <td>0.920915</td>\n",
       "      <td>0.064394</td>\n",
       "      <td>0.033268</td>\n",
       "      <td>0.033581</td>\n",
       "      <td>0.780870</td>\n",
       "      <td>0.033581</td>\n",
       "      <td>0.999169</td>\n",
       "    </tr>\n",
       "    <tr>\n",
       "      <th>9</th>\n",
       "      <td>10_test</td>\n",
       "      <td>0.932177</td>\n",
       "      <td>0.305194</td>\n",
       "      <td>0.180076</td>\n",
       "      <td>0.180991</td>\n",
       "      <td>0.972689</td>\n",
       "      <td>0.180991</td>\n",
       "      <td>0.999544</td>\n",
       "    </tr>\n",
       "    <tr>\n",
       "      <th>10</th>\n",
       "      <td>11_test</td>\n",
       "      <td>0.916787</td>\n",
       "      <td>0.150333</td>\n",
       "      <td>0.081276</td>\n",
       "      <td>0.082230</td>\n",
       "      <td>0.875000</td>\n",
       "      <td>0.082230</td>\n",
       "      <td>0.998845</td>\n",
       "    </tr>\n",
       "    <tr>\n",
       "      <th>11</th>\n",
       "      <td>12_test</td>\n",
       "      <td>0.917399</td>\n",
       "      <td>0.093826</td>\n",
       "      <td>0.049222</td>\n",
       "      <td>0.049526</td>\n",
       "      <td>0.889099</td>\n",
       "      <td>0.049526</td>\n",
       "      <td>0.999416</td>\n",
       "    </tr>\n",
       "    <tr>\n",
       "      <th>12</th>\n",
       "      <td>13_test</td>\n",
       "      <td>0.908992</td>\n",
       "      <td>0.142690</td>\n",
       "      <td>0.076826</td>\n",
       "      <td>0.077467</td>\n",
       "      <td>0.902818</td>\n",
       "      <td>0.077467</td>\n",
       "      <td>0.999096</td>\n",
       "    </tr>\n",
       "    <tr>\n",
       "      <th>13</th>\n",
       "      <td>14_test</td>\n",
       "      <td>0.927112</td>\n",
       "      <td>0.208882</td>\n",
       "      <td>0.116621</td>\n",
       "      <td>0.119016</td>\n",
       "      <td>0.852807</td>\n",
       "      <td>0.119016</td>\n",
       "      <td>0.998193</td>\n",
       "    </tr>\n",
       "    <tr>\n",
       "      <th>14</th>\n",
       "      <td>15_test</td>\n",
       "      <td>0.953597</td>\n",
       "      <td>0.540224</td>\n",
       "      <td>0.370073</td>\n",
       "      <td>0.380918</td>\n",
       "      <td>0.928564</td>\n",
       "      <td>0.380918</td>\n",
       "      <td>0.997741</td>\n",
       "    </tr>\n",
       "    <tr>\n",
       "      <th>15</th>\n",
       "      <td>16_test</td>\n",
       "      <td>0.923133</td>\n",
       "      <td>0.272996</td>\n",
       "      <td>0.158075</td>\n",
       "      <td>0.159847</td>\n",
       "      <td>0.934458</td>\n",
       "      <td>0.159847</td>\n",
       "      <td>0.998887</td>\n",
       "    </tr>\n",
       "    <tr>\n",
       "      <th>16</th>\n",
       "      <td>17_test</td>\n",
       "      <td>0.919405</td>\n",
       "      <td>0.110513</td>\n",
       "      <td>0.058488</td>\n",
       "      <td>0.059314</td>\n",
       "      <td>0.807824</td>\n",
       "      <td>0.059314</td>\n",
       "      <td>0.998699</td>\n",
       "    </tr>\n",
       "    <tr>\n",
       "      <th>17</th>\n",
       "      <td>18_test</td>\n",
       "      <td>0.925258</td>\n",
       "      <td>0.120283</td>\n",
       "      <td>0.063990</td>\n",
       "      <td>0.064489</td>\n",
       "      <td>0.892063</td>\n",
       "      <td>0.064489</td>\n",
       "      <td>0.999329</td>\n",
       "    </tr>\n",
       "    <tr>\n",
       "      <th>18</th>\n",
       "      <td>19_test</td>\n",
       "      <td>0.939841</td>\n",
       "      <td>0.442948</td>\n",
       "      <td>0.284478</td>\n",
       "      <td>0.288334</td>\n",
       "      <td>0.955101</td>\n",
       "      <td>0.288334</td>\n",
       "      <td>0.998774</td>\n",
       "    </tr>\n",
       "    <tr>\n",
       "      <th>19</th>\n",
       "      <td>20_test</td>\n",
       "      <td>0.931222</td>\n",
       "      <td>0.136191</td>\n",
       "      <td>0.073071</td>\n",
       "      <td>0.073728</td>\n",
       "      <td>0.891380</td>\n",
       "      <td>0.073728</td>\n",
       "      <td>0.999287</td>\n",
       "    </tr>\n",
       "  </tbody>\n",
       "</table>\n",
       "</div>"
      ],
      "text/plain": [
       "      Image       Acc        F1   Jaccard    Recall  Precision  Sensitivity  \\\n",
       "0   01_test  0.925718  0.301709  0.177655  0.179857   0.935512     0.179857   \n",
       "1   02_test  0.909786  0.225443  0.127042  0.128204   0.933420     0.128204   \n",
       "2   03_test  0.924054  0.396416  0.247206  0.250175   0.954198     0.250175   \n",
       "3   04_test  0.928103  0.369321  0.226483  0.228833   0.956618     0.228833   \n",
       "4   05_test  0.921457  0.287317  0.167759  0.168996   0.958180     0.168996   \n",
       "5   06_test  0.914935  0.232402  0.131479  0.132302   0.954831     0.132302   \n",
       "6   07_test  0.917814  0.196742  0.109103  0.110142   0.920455     0.110142   \n",
       "7   08_test  0.920618  0.157971  0.085759  0.086548   0.903974     0.086548   \n",
       "8   09_test  0.920915  0.064394  0.033268  0.033581   0.780870     0.033581   \n",
       "9   10_test  0.932177  0.305194  0.180076  0.180991   0.972689     0.180991   \n",
       "10  11_test  0.916787  0.150333  0.081276  0.082230   0.875000     0.082230   \n",
       "11  12_test  0.917399  0.093826  0.049222  0.049526   0.889099     0.049526   \n",
       "12  13_test  0.908992  0.142690  0.076826  0.077467   0.902818     0.077467   \n",
       "13  14_test  0.927112  0.208882  0.116621  0.119016   0.852807     0.119016   \n",
       "14  15_test  0.953597  0.540224  0.370073  0.380918   0.928564     0.380918   \n",
       "15  16_test  0.923133  0.272996  0.158075  0.159847   0.934458     0.159847   \n",
       "16  17_test  0.919405  0.110513  0.058488  0.059314   0.807824     0.059314   \n",
       "17  18_test  0.925258  0.120283  0.063990  0.064489   0.892063     0.064489   \n",
       "18  19_test  0.939841  0.442948  0.284478  0.288334   0.955101     0.288334   \n",
       "19  20_test  0.931222  0.136191  0.073071  0.073728   0.891380     0.073728   \n",
       "\n",
       "    Specificity  \n",
       "0      0.998785  \n",
       "1      0.998957  \n",
       "2      0.998670  \n",
       "3      0.998949  \n",
       "4      0.999238  \n",
       "5      0.999325  \n",
       "6      0.999043  \n",
       "7      0.999135  \n",
       "8      0.999169  \n",
       "9      0.999544  \n",
       "10     0.998845  \n",
       "11     0.999416  \n",
       "12     0.999096  \n",
       "13     0.998193  \n",
       "14     0.997741  \n",
       "15     0.998887  \n",
       "16     0.998699  \n",
       "17     0.999329  \n",
       "18     0.998774  \n",
       "19     0.999287  "
      ]
     },
     "execution_count": 36,
     "metadata": {},
     "output_type": "execute_result"
    }
   ],
   "source": [
    "\"\"\" Saving \"\"\"\n",
    "df = pd.DataFrame(SCORE, columns=[\"Image\", \"Acc\", \"F1\", \"Jaccard\", \"Recall\", \"Precision\", \"Sensitivity\", \"Specificity\"])\n",
    "df"
   ]
  },
  {
   "cell_type": "code",
   "execution_count": 37,
   "id": "bbe6b0ee",
   "metadata": {},
   "outputs": [],
   "source": [
    "# df.to_csv(\"files/score.csv\")\n"
   ]
  },
  {
   "cell_type": "code",
   "execution_count": 38,
   "id": "dd2585bc",
   "metadata": {},
   "outputs": [],
   "source": [
    "import seaborn as sns"
   ]
  },
  {
   "cell_type": "code",
   "execution_count": 43,
   "id": "c00d8fe5",
   "metadata": {},
   "outputs": [
    {
     "data": {
      "text/plain": [
       "[None,\n",
       " None,\n",
       " None,\n",
       " None,\n",
       " None,\n",
       " None,\n",
       " None,\n",
       " None,\n",
       " None,\n",
       " None,\n",
       " None,\n",
       " None,\n",
       " None,\n",
       " None,\n",
       " None,\n",
       " None,\n",
       " None,\n",
       " None,\n",
       " None,\n",
       " None,\n",
       " None,\n",
       " None,\n",
       " None,\n",
       " None,\n",
       " None,\n",
       " None,\n",
       " None,\n",
       " None,\n",
       " None,\n",
       " None,\n",
       " None,\n",
       " None,\n",
       " None,\n",
       " None,\n",
       " None,\n",
       " None,\n",
       " None,\n",
       " None,\n",
       " None,\n",
       " None]"
      ]
     },
     "execution_count": 43,
     "metadata": {},
     "output_type": "execute_result"
    },
    {
     "data": {
      "image/png": "[encoded data removed]",
      "text/plain": [
       "<Figure size 1440x720 with 1 Axes>"
      ]
     },
     "metadata": {},
     "output_type": "display_data"
    }
   ],
   "source": [
    "plt.figure(figsize=(20, 10))\n",
    "sns.set_style(\"darkgrid\")\n",
    "ax = sns.lineplot(data=df, x=\"Image\", y=\"Sensitivity\", marker = \"o\")\n",
    "ax.axhline(df[\"Sensitivity\"].mean(), color=\"orange\", linestyle=\"--\")\n",
    "ax.set(xlabel=\"X Label\", ylabel = \"Y Label\")\n",
    "plt.setp(ax.get_xticklabels(), rotation=90)\n"
   ]
  },
  {
   "cell_type": "code",
   "execution_count": null,
   "id": "1b30602f",
   "metadata": {},
   "outputs": [],
   "source": []
  }
 ],
 "metadata": {
  "kernelspec": {
   "display_name": "Python 3 (vanilla)",
   "language": "python",
   "name": "vanilla"
  },
  "language_info": {
   "codemirror_mode": {
    "name": "ipython",
    "version": 3
   },
   "file_extension": ".py",
   "mimetype": "text/x-python",
   "name": "python",
   "nbconvert_exporter": "python",
   "pygments_lexer": "ipython3",
   "version": "3.9.5"
  },
  "toc": {
   "base_numbering": 1,
   "nav_menu": {},
   "number_sections": true,
   "sideBar": true,
   "skip_h1_title": false,
   "title_cell": "Table of Contents",
   "title_sidebar": "Contents",
   "toc_cell": false,
   "toc_position": {},
   "toc_section_display": true,
   "toc_window_display": true
  },
  "varInspector": {
   "cols": {
    "lenName": 16,
    "lenType": 16,
    "lenVar": 40
   },
   "kernels_config": {
    "python": {
     "delete_cmd_postfix": "",
     "delete_cmd_prefix": "del ",
     "library": "var_list.py",
     "varRefreshCmd": "print(var_dic_list())"
    },
    "r": {
     "delete_cmd_postfix": ") ",
     "delete_cmd_prefix": "rm(",
     "library": "var_list.r",
     "varRefreshCmd": "cat(var_dic_list()) "
    }
   },
   "types_to_exclude": [
    "module",
    "function",
    "builtin_function_or_method",
    "instance",
    "_Feature"
   ],
   "window_display": false
  }
 },
 "nbformat": 4,
 "nbformat_minor": 5
}
