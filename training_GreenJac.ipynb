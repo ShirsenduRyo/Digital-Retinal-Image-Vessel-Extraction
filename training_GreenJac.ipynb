{
  "nbformat": 4,
  "nbformat_minor": 0,
  "metadata": {
    "colab": {
      "name": "training_GreenJac.ipynb",
      "provenance": [],
      "collapsed_sections": [],
      "machine_shape": "hm"
    },
    "kernelspec": {
      "name": "python3",
      "display_name": "Python 3"
    },
    "language_info": {
      "name": "python"
    },
    "accelerator": "GPU"
  },
  "cells": [
    {
      "cell_type": "markdown",
      "metadata": {
        "id": "ziqto0xjM-IA"
      },
      "source": [
        "# 1. Importing Packages"
      ]
    },
    {
      "cell_type": "code",
      "metadata": {
        "id": "Z3M77jELFX4M"
      },
      "source": [
        "import os\n",
        "import numpy as np\n",
        "import cv2\n",
        "from glob import glob\n",
        "from sklearn.utils import shuffle\n",
        "import tensorflow as tf\n",
        "from tensorflow.keras.callbacks import ModelCheckpoint, CSVLogger, ReduceLROnPlateau, EarlyStopping, TensorBoard\n",
        "from tensorflow.keras.optimizers import Adam\n",
        "from tensorflow.keras.metrics import Recall, Precision"
      ],
      "execution_count": 1,
      "outputs": []
    },
    {
      "cell_type": "code",
      "metadata": {
        "id": "ZH124OlzNMLR"
      },
      "source": [
        "\n",
        "#Upload The Following Files\n",
        "from unet import build_unet\n",
        "from customMetrics import dice_loss, dice_coef, iou, jaccard_coef, jaccard_loss"
      ],
      "execution_count": 2,
      "outputs": []
    },
    {
      "cell_type": "markdown",
      "metadata": {
        "id": "U84izwAcaLcv"
      },
      "source": [
        "# 2. Setting The Environment"
      ]
    },
    {
      "cell_type": "code",
      "metadata": {
        "id": "XQFp4aUnaIH8"
      },
      "source": [
        "H = 128\n",
        "W = 128"
      ],
      "execution_count": 3,
      "outputs": []
    },
    {
      "cell_type": "code",
      "metadata": {
        "id": "dq1jzO6daXQP"
      },
      "source": [
        "\"\"\" Seeding \"\"\"\n",
        "np.random.seed(42)\n",
        "tf.random.set_seed(42)\n",
        "\n",
        "\"\"\" Hyperparameters \"\"\"\n",
        "batch_size = 32\n",
        "\n",
        "lr = 1e-4\n",
        "num_epochs = 100\n",
        "model_path = os.path.join(\"/content/files128\", \"model128_greenJac.h5\")\n",
        "csv_path = os.path.join(\"/content/files128\", \"data_greenJac.csv\")"
      ],
      "execution_count": 4,
      "outputs": []
    },
    {
      "cell_type": "code",
      "metadata": {
        "id": "t7gbo-Qzai0N"
      },
      "source": [
        "\"\"\" Dataset \"\"\"\n",
        "# Make The Folder and upload the data\n",
        "dataset_path = \"/content/drive/MyDrive/gamma_data_128\"\n",
        "train_path = os.path.join(dataset_path, \"train\")\n",
        "valid_path = os.path.join(dataset_path, \"valid\")"
      ],
      "execution_count": 5,
      "outputs": []
    },
    {
      "cell_type": "code",
      "metadata": {
        "id": "j7AUB3YFGa_w"
      },
      "source": [
        "!rm -rf files128"
      ],
      "execution_count": 6,
      "outputs": []
    },
    {
      "cell_type": "code",
      "metadata": {
        "id": "TNiiTylzlIcb"
      },
      "source": [
        "!rm -rf logs"
      ],
      "execution_count": 7,
      "outputs": []
    },
    {
      "cell_type": "code",
      "metadata": {
        "colab": {
          "base_uri": "https://localhost:8080/",
          "height": 35
        },
        "id": "ETQi-ANjiheD",
        "outputId": "644e9f23-80ec-4042-e27e-44aa28ace091"
      },
      "source": [
        "pwd"
      ],
      "execution_count": 8,
      "outputs": [
        {
          "output_type": "execute_result",
          "data": {
            "application/vnd.google.colaboratory.intrinsic+json": {
              "type": "string"
            },
            "text/plain": [
              "'/content'"
            ]
          },
          "metadata": {},
          "execution_count": 8
        }
      ]
    },
    {
      "cell_type": "markdown",
      "metadata": {
        "id": "Z32w8ep9cqol"
      },
      "source": [
        "# 3. Utils Function"
      ]
    },
    {
      "cell_type": "code",
      "metadata": {
        "id": "7a-VMYDecnK1"
      },
      "source": [
        "def create_dir(path):\n",
        "    if not os.path.exists(path):\n",
        "        os.makedirs(path)"
      ],
      "execution_count": 9,
      "outputs": []
    },
    {
      "cell_type": "code",
      "metadata": {
        "id": "qDVLyv8scuPF"
      },
      "source": [
        "def load_data(path):\n",
        "    print(path)\n",
        "    x = sorted(glob(os.path.join(path, \"image\", \"*.jpg\")))\n",
        "    y = sorted(glob(os.path.join(path, \"gt\", \"*.jpg\")))\n",
        "    return x, y"
      ],
      "execution_count": 10,
      "outputs": []
    },
    {
      "cell_type": "code",
      "metadata": {
        "id": "z31CdxfYcyus"
      },
      "source": [
        "def read_image(path):\n",
        "    path = path.decode()\n",
        "    x = cv2.imread(path, cv2.IMREAD_COLOR)\n",
        "    # x = cv2.resize(x, (W, H))\n",
        "    x = x/255.0\n",
        "    x = x.astype(np.float32)\n",
        "    return x"
      ],
      "execution_count": 11,
      "outputs": []
    },
    {
      "cell_type": "code",
      "metadata": {
        "id": "ZoU5hmQYc2L4"
      },
      "source": [
        "def read_mask(path):\n",
        "    path = path.decode()\n",
        "    x = cv2.imread(path, cv2.IMREAD_GRAYSCALE)  ## (512, 512)\n",
        "    # x = cv2.resize(x, (W, H))\n",
        "    x = x/255.0\n",
        "    x = x.astype(np.float32)\n",
        "    x = np.expand_dims(x, axis=-1)              ## (512, 512, 1)\n",
        "    return x"
      ],
      "execution_count": 12,
      "outputs": []
    },
    {
      "cell_type": "code",
      "metadata": {
        "id": "BnL6LcR9c4cZ"
      },
      "source": [
        "def tf_parse(x, y):\n",
        "    def _parse(x, y):\n",
        "        x = read_image(x)\n",
        "        y = read_mask(y)\n",
        "        return x, y\n",
        "\n",
        "    x, y = tf.numpy_function(_parse, [x, y], [tf.float32, tf.float32])\n",
        "    x.set_shape([H, W, 3])\n",
        "    y.set_shape([H, W, 1])\n",
        "    return x, y"
      ],
      "execution_count": 13,
      "outputs": []
    },
    {
      "cell_type": "code",
      "metadata": {
        "id": "mjHjLumvc6Vj"
      },
      "source": [
        "def tf_dataset(X, Y, batch_size=2):\n",
        "    dataset = tf.data.Dataset.from_tensor_slices((X, Y))\n",
        "    dataset = dataset.map(tf_parse)\n",
        "    dataset = dataset.batch(batch_size)\n",
        "    dataset = dataset.prefetch(4)\n",
        "    return dataset"
      ],
      "execution_count": 14,
      "outputs": []
    },
    {
      "cell_type": "code",
      "metadata": {
        "colab": {
          "base_uri": "https://localhost:8080/"
        },
        "id": "z_B5xezic9Bv",
        "outputId": "937dbc4b-115e-4c0b-b71b-d88f7385f327"
      },
      "source": [
        "train_x, train_y = load_data(train_path)\n",
        "valid_x, valid_y = load_data(valid_path)\n",
        "\n",
        "print(f\"Train: {len(train_x)} - {len(train_y)}\")\n",
        "print(f\"Valid: {len(valid_x)} - {len(valid_y)}\")"
      ],
      "execution_count": 15,
      "outputs": [
        {
          "output_type": "stream",
          "name": "stdout",
          "text": [
            "/content/drive/MyDrive/gamma_data_128/train\n",
            "/content/drive/MyDrive/gamma_data_128/valid\n",
            "Train: 1890 - 1890\n",
            "Valid: 630 - 630\n"
          ]
        }
      ]
    },
    {
      "cell_type": "code",
      "metadata": {
        "colab": {
          "base_uri": "https://localhost:8080/",
          "height": 35
        },
        "id": "FkyRmqFodVvJ",
        "outputId": "9684edf2-7b60-4d64-c2f8-bf4d26253894"
      },
      "source": [
        "pwd"
      ],
      "execution_count": 16,
      "outputs": [
        {
          "output_type": "execute_result",
          "data": {
            "application/vnd.google.colaboratory.intrinsic+json": {
              "type": "string"
            },
            "text/plain": [
              "'/content'"
            ]
          },
          "metadata": {},
          "execution_count": 16
        }
      ]
    },
    {
      "cell_type": "code",
      "metadata": {
        "id": "hYJ8qjTidB0R"
      },
      "source": [
        "create_dir(\"/content/files128\")"
      ],
      "execution_count": 17,
      "outputs": []
    },
    {
      "cell_type": "code",
      "metadata": {
        "id": "JaH4RU1adfMI"
      },
      "source": [
        "train_dataset = tf_dataset(train_x, train_y, batch_size=batch_size)\n",
        "valid_dataset = tf_dataset(valid_x, valid_y, batch_size=batch_size)\n",
        "\n",
        "train_steps = len(train_x)//batch_size\n",
        "valid_steps = len(valid_x)//batch_size\n",
        "\n",
        "if len(train_x) % batch_size != 0:\n",
        "    train_steps += 1\n",
        "if len(valid_x) % batch_size != 0:\n",
        "    valid_steps += 1"
      ],
      "execution_count": 18,
      "outputs": []
    },
    {
      "cell_type": "code",
      "metadata": {
        "id": "vUssNFeTduP4",
        "colab": {
          "base_uri": "https://localhost:8080/"
        },
        "outputId": "de611459-8af0-4d04-dcb1-f38c93a32b0b"
      },
      "source": [
        "train_steps, valid_steps"
      ],
      "execution_count": 19,
      "outputs": [
        {
          "output_type": "execute_result",
          "data": {
            "text/plain": [
              "(60, 20)"
            ]
          },
          "metadata": {},
          "execution_count": 19
        }
      ]
    },
    {
      "cell_type": "markdown",
      "metadata": {
        "id": "eFLAwjlqdzNj"
      },
      "source": [
        "# 4. The Model"
      ]
    },
    {
      "cell_type": "code",
      "metadata": {
        "colab": {
          "base_uri": "https://localhost:8080/"
        },
        "id": "Rqb2GcaTd1xq",
        "outputId": "79b70900-77c7-46bb-91c9-578593db5ef2"
      },
      "source": [
        "\"\"\" Model \"\"\"\n",
        "model = build_unet((H, W, 3))\n",
        "model.compile(loss= jaccard_loss, optimizer=Adam(lr), metrics=[jaccard_coef, dice_coef, iou, Recall(), Precision()])\n",
        "model.summary()"
      ],
      "execution_count": 20,
      "outputs": [
        {
          "output_type": "stream",
          "name": "stdout",
          "text": [
            "Model: \"UNET\"\n",
            "__________________________________________________________________________________________________\n",
            "Layer (type)                    Output Shape         Param #     Connected to                     \n",
            "==================================================================================================\n",
            "input_1 (InputLayer)            [(None, 128, 128, 3) 0                                            \n",
            "__________________________________________________________________________________________________\n",
            "conv2d (Conv2D)                 (None, 128, 128, 64) 1792        input_1[0][0]                    \n",
            "__________________________________________________________________________________________________\n",
            "batch_normalization (BatchNorma (None, 128, 128, 64) 256         conv2d[0][0]                     \n",
            "__________________________________________________________________________________________________\n",
            "activation (Activation)         (None, 128, 128, 64) 0           batch_normalization[0][0]        \n",
            "__________________________________________________________________________________________________\n",
            "conv2d_1 (Conv2D)               (None, 128, 128, 64) 36928       activation[0][0]                 \n",
            "__________________________________________________________________________________________________\n",
            "batch_normalization_1 (BatchNor (None, 128, 128, 64) 256         conv2d_1[0][0]                   \n",
            "__________________________________________________________________________________________________\n",
            "activation_1 (Activation)       (None, 128, 128, 64) 0           batch_normalization_1[0][0]      \n",
            "__________________________________________________________________________________________________\n",
            "max_pooling2d (MaxPooling2D)    (None, 64, 64, 64)   0           activation_1[0][0]               \n",
            "__________________________________________________________________________________________________\n",
            "conv2d_2 (Conv2D)               (None, 64, 64, 128)  73856       max_pooling2d[0][0]              \n",
            "__________________________________________________________________________________________________\n",
            "batch_normalization_2 (BatchNor (None, 64, 64, 128)  512         conv2d_2[0][0]                   \n",
            "__________________________________________________________________________________________________\n",
            "activation_2 (Activation)       (None, 64, 64, 128)  0           batch_normalization_2[0][0]      \n",
            "__________________________________________________________________________________________________\n",
            "conv2d_3 (Conv2D)               (None, 64, 64, 128)  147584      activation_2[0][0]               \n",
            "__________________________________________________________________________________________________\n",
            "batch_normalization_3 (BatchNor (None, 64, 64, 128)  512         conv2d_3[0][0]                   \n",
            "__________________________________________________________________________________________________\n",
            "activation_3 (Activation)       (None, 64, 64, 128)  0           batch_normalization_3[0][0]      \n",
            "__________________________________________________________________________________________________\n",
            "max_pooling2d_1 (MaxPooling2D)  (None, 32, 32, 128)  0           activation_3[0][0]               \n",
            "__________________________________________________________________________________________________\n",
            "conv2d_4 (Conv2D)               (None, 32, 32, 256)  295168      max_pooling2d_1[0][0]            \n",
            "__________________________________________________________________________________________________\n",
            "batch_normalization_4 (BatchNor (None, 32, 32, 256)  1024        conv2d_4[0][0]                   \n",
            "__________________________________________________________________________________________________\n",
            "activation_4 (Activation)       (None, 32, 32, 256)  0           batch_normalization_4[0][0]      \n",
            "__________________________________________________________________________________________________\n",
            "conv2d_5 (Conv2D)               (None, 32, 32, 256)  590080      activation_4[0][0]               \n",
            "__________________________________________________________________________________________________\n",
            "batch_normalization_5 (BatchNor (None, 32, 32, 256)  1024        conv2d_5[0][0]                   \n",
            "__________________________________________________________________________________________________\n",
            "activation_5 (Activation)       (None, 32, 32, 256)  0           batch_normalization_5[0][0]      \n",
            "__________________________________________________________________________________________________\n",
            "max_pooling2d_2 (MaxPooling2D)  (None, 16, 16, 256)  0           activation_5[0][0]               \n",
            "__________________________________________________________________________________________________\n",
            "conv2d_6 (Conv2D)               (None, 16, 16, 512)  1180160     max_pooling2d_2[0][0]            \n",
            "__________________________________________________________________________________________________\n",
            "batch_normalization_6 (BatchNor (None, 16, 16, 512)  2048        conv2d_6[0][0]                   \n",
            "__________________________________________________________________________________________________\n",
            "activation_6 (Activation)       (None, 16, 16, 512)  0           batch_normalization_6[0][0]      \n",
            "__________________________________________________________________________________________________\n",
            "conv2d_7 (Conv2D)               (None, 16, 16, 512)  2359808     activation_6[0][0]               \n",
            "__________________________________________________________________________________________________\n",
            "batch_normalization_7 (BatchNor (None, 16, 16, 512)  2048        conv2d_7[0][0]                   \n",
            "__________________________________________________________________________________________________\n",
            "activation_7 (Activation)       (None, 16, 16, 512)  0           batch_normalization_7[0][0]      \n",
            "__________________________________________________________________________________________________\n",
            "max_pooling2d_3 (MaxPooling2D)  (None, 8, 8, 512)    0           activation_7[0][0]               \n",
            "__________________________________________________________________________________________________\n",
            "conv2d_8 (Conv2D)               (None, 8, 8, 1024)   4719616     max_pooling2d_3[0][0]            \n",
            "__________________________________________________________________________________________________\n",
            "batch_normalization_8 (BatchNor (None, 8, 8, 1024)   4096        conv2d_8[0][0]                   \n",
            "__________________________________________________________________________________________________\n",
            "activation_8 (Activation)       (None, 8, 8, 1024)   0           batch_normalization_8[0][0]      \n",
            "__________________________________________________________________________________________________\n",
            "conv2d_9 (Conv2D)               (None, 8, 8, 1024)   9438208     activation_8[0][0]               \n",
            "__________________________________________________________________________________________________\n",
            "batch_normalization_9 (BatchNor (None, 8, 8, 1024)   4096        conv2d_9[0][0]                   \n",
            "__________________________________________________________________________________________________\n",
            "activation_9 (Activation)       (None, 8, 8, 1024)   0           batch_normalization_9[0][0]      \n",
            "__________________________________________________________________________________________________\n",
            "conv2d_transpose (Conv2DTranspo (None, 16, 16, 512)  2097664     activation_9[0][0]               \n",
            "__________________________________________________________________________________________________\n",
            "concatenate (Concatenate)       (None, 16, 16, 1024) 0           conv2d_transpose[0][0]           \n",
            "                                                                 activation_7[0][0]               \n",
            "__________________________________________________________________________________________________\n",
            "conv2d_10 (Conv2D)              (None, 16, 16, 512)  4719104     concatenate[0][0]                \n",
            "__________________________________________________________________________________________________\n",
            "batch_normalization_10 (BatchNo (None, 16, 16, 512)  2048        conv2d_10[0][0]                  \n",
            "__________________________________________________________________________________________________\n",
            "activation_10 (Activation)      (None, 16, 16, 512)  0           batch_normalization_10[0][0]     \n",
            "__________________________________________________________________________________________________\n",
            "conv2d_11 (Conv2D)              (None, 16, 16, 512)  2359808     activation_10[0][0]              \n",
            "__________________________________________________________________________________________________\n",
            "batch_normalization_11 (BatchNo (None, 16, 16, 512)  2048        conv2d_11[0][0]                  \n",
            "__________________________________________________________________________________________________\n",
            "activation_11 (Activation)      (None, 16, 16, 512)  0           batch_normalization_11[0][0]     \n",
            "__________________________________________________________________________________________________\n",
            "conv2d_transpose_1 (Conv2DTrans (None, 32, 32, 256)  524544      activation_11[0][0]              \n",
            "__________________________________________________________________________________________________\n",
            "concatenate_1 (Concatenate)     (None, 32, 32, 512)  0           conv2d_transpose_1[0][0]         \n",
            "                                                                 activation_5[0][0]               \n",
            "__________________________________________________________________________________________________\n",
            "conv2d_12 (Conv2D)              (None, 32, 32, 256)  1179904     concatenate_1[0][0]              \n",
            "__________________________________________________________________________________________________\n",
            "batch_normalization_12 (BatchNo (None, 32, 32, 256)  1024        conv2d_12[0][0]                  \n",
            "__________________________________________________________________________________________________\n",
            "activation_12 (Activation)      (None, 32, 32, 256)  0           batch_normalization_12[0][0]     \n",
            "__________________________________________________________________________________________________\n",
            "conv2d_13 (Conv2D)              (None, 32, 32, 256)  590080      activation_12[0][0]              \n",
            "__________________________________________________________________________________________________\n",
            "batch_normalization_13 (BatchNo (None, 32, 32, 256)  1024        conv2d_13[0][0]                  \n",
            "__________________________________________________________________________________________________\n",
            "activation_13 (Activation)      (None, 32, 32, 256)  0           batch_normalization_13[0][0]     \n",
            "__________________________________________________________________________________________________\n",
            "conv2d_transpose_2 (Conv2DTrans (None, 64, 64, 128)  131200      activation_13[0][0]              \n",
            "__________________________________________________________________________________________________\n",
            "concatenate_2 (Concatenate)     (None, 64, 64, 256)  0           conv2d_transpose_2[0][0]         \n",
            "                                                                 activation_3[0][0]               \n",
            "__________________________________________________________________________________________________\n",
            "conv2d_14 (Conv2D)              (None, 64, 64, 128)  295040      concatenate_2[0][0]              \n",
            "__________________________________________________________________________________________________\n",
            "batch_normalization_14 (BatchNo (None, 64, 64, 128)  512         conv2d_14[0][0]                  \n",
            "__________________________________________________________________________________________________\n",
            "activation_14 (Activation)      (None, 64, 64, 128)  0           batch_normalization_14[0][0]     \n",
            "__________________________________________________________________________________________________\n",
            "conv2d_15 (Conv2D)              (None, 64, 64, 128)  147584      activation_14[0][0]              \n",
            "__________________________________________________________________________________________________\n",
            "batch_normalization_15 (BatchNo (None, 64, 64, 128)  512         conv2d_15[0][0]                  \n",
            "__________________________________________________________________________________________________\n",
            "activation_15 (Activation)      (None, 64, 64, 128)  0           batch_normalization_15[0][0]     \n",
            "__________________________________________________________________________________________________\n",
            "conv2d_transpose_3 (Conv2DTrans (None, 128, 128, 64) 32832       activation_15[0][0]              \n",
            "__________________________________________________________________________________________________\n",
            "concatenate_3 (Concatenate)     (None, 128, 128, 128 0           conv2d_transpose_3[0][0]         \n",
            "                                                                 activation_1[0][0]               \n",
            "__________________________________________________________________________________________________\n",
            "conv2d_16 (Conv2D)              (None, 128, 128, 64) 73792       concatenate_3[0][0]              \n",
            "__________________________________________________________________________________________________\n",
            "batch_normalization_16 (BatchNo (None, 128, 128, 64) 256         conv2d_16[0][0]                  \n",
            "__________________________________________________________________________________________________\n",
            "activation_16 (Activation)      (None, 128, 128, 64) 0           batch_normalization_16[0][0]     \n",
            "__________________________________________________________________________________________________\n",
            "conv2d_17 (Conv2D)              (None, 128, 128, 64) 36928       activation_16[0][0]              \n",
            "__________________________________________________________________________________________________\n",
            "batch_normalization_17 (BatchNo (None, 128, 128, 64) 256         conv2d_17[0][0]                  \n",
            "__________________________________________________________________________________________________\n",
            "activation_17 (Activation)      (None, 128, 128, 64) 0           batch_normalization_17[0][0]     \n",
            "__________________________________________________________________________________________________\n",
            "conv2d_18 (Conv2D)              (None, 128, 128, 1)  65          activation_17[0][0]              \n",
            "==================================================================================================\n",
            "Total params: 31,055,297\n",
            "Trainable params: 31,043,521\n",
            "Non-trainable params: 11,776\n",
            "__________________________________________________________________________________________________\n"
          ]
        }
      ]
    },
    {
      "cell_type": "code",
      "metadata": {
        "id": "11odaYbmd2gl"
      },
      "source": [
        "callbacks = [\n",
        "    ModelCheckpoint(model_path, verbose=1, save_best_only=True),\n",
        "    ReduceLROnPlateau(monitor= \"val_jaccard_coef\", factor=0.1, patience=5, min_lr=1e-7, verbose=1),\n",
        "    CSVLogger(csv_path),\n",
        "    TensorBoard(),\n",
        "    EarlyStopping(monitor= \"val_jaccard_coef\", patience=10, restore_best_weights=False)\n",
        "]"
      ],
      "execution_count": 21,
      "outputs": []
    },
    {
      "cell_type": "code",
      "metadata": {
        "colab": {
          "base_uri": "https://localhost:8080/"
        },
        "id": "_EjMzxPlaBD2",
        "outputId": "3c89103f-3a14-401a-e78f-de2e36b9e7ca"
      },
      "source": [
        "   model.fit(\n",
        "    train_dataset,\n",
        "    epochs=num_epochs,\n",
        "    validation_data=valid_dataset,\n",
        "    steps_per_epoch=train_steps,\n",
        "    validation_steps=valid_steps,\n",
        "    callbacks=callbacks\n",
        ")"
      ],
      "execution_count": 22,
      "outputs": [
        {
          "output_type": "stream",
          "name": "stdout",
          "text": [
            "Epoch 1/100\n",
            "60/60 [==============================] - 2370s 39s/step - loss: -0.2191 - jaccard_coef: 0.2203 - dice_coef: 0.3541 - iou: 0.2203 - recall: 0.6328 - precision: 0.3745 - val_loss: -0.0731 - val_jaccard_coef: 0.0731 - val_dice_coef: 0.1363 - val_iou: 0.0731 - val_recall: 0.0000e+00 - val_precision: 0.0000e+00\n",
            "\n",
            "Epoch 00001: val_loss improved from inf to -0.07314, saving model to /content/files128/model128_greenJac.h5\n",
            "Epoch 2/100\n",
            "60/60 [==============================] - 15s 254ms/step - loss: -0.3502 - jaccard_coef: 0.3505 - dice_coef: 0.5162 - iou: 0.3505 - recall: 0.4728 - precision: 0.6764 - val_loss: -0.0655 - val_jaccard_coef: 0.0655 - val_dice_coef: 0.1229 - val_iou: 0.0655 - val_recall: 0.0000e+00 - val_precision: 0.0000e+00\n",
            "\n",
            "Epoch 00002: val_loss did not improve from -0.07314\n",
            "Epoch 3/100\n",
            "60/60 [==============================] - 15s 254ms/step - loss: -0.3934 - jaccard_coef: 0.3942 - dice_coef: 0.5630 - iou: 0.3942 - recall: 0.4593 - precision: 0.7327 - val_loss: -0.0594 - val_jaccard_coef: 0.0594 - val_dice_coef: 0.1121 - val_iou: 0.0594 - val_recall: 0.0000e+00 - val_precision: 0.0000e+00\n",
            "\n",
            "Epoch 00003: val_loss did not improve from -0.07314\n",
            "Epoch 4/100\n",
            "60/60 [==============================] - 15s 252ms/step - loss: -0.4299 - jaccard_coef: 0.4308 - dice_coef: 0.6002 - iou: 0.4308 - recall: 0.4565 - precision: 0.7695 - val_loss: -0.0394 - val_jaccard_coef: 0.0394 - val_dice_coef: 0.0759 - val_iou: 0.0394 - val_recall: 1.5437e-04 - val_precision: 0.8235\n",
            "\n",
            "Epoch 00004: val_loss did not improve from -0.07314\n",
            "Epoch 5/100\n",
            "60/60 [==============================] - 15s 253ms/step - loss: -0.4613 - jaccard_coef: 0.4627 - dice_coef: 0.6309 - iou: 0.4627 - recall: 0.4525 - precision: 0.7969 - val_loss: -0.0329 - val_jaccard_coef: 0.0329 - val_dice_coef: 0.0637 - val_iou: 0.0329 - val_recall: 0.0011 - val_precision: 0.2997\n",
            "\n",
            "Epoch 00005: val_loss did not improve from -0.07314\n",
            "Epoch 6/100\n",
            "60/60 [==============================] - 15s 255ms/step - loss: -0.4903 - jaccard_coef: 0.4923 - dice_coef: 0.6581 - iou: 0.4922 - recall: 0.4539 - precision: 0.8126 - val_loss: -0.0298 - val_jaccard_coef: 0.0298 - val_dice_coef: 0.0577 - val_iou: 0.0297 - val_recall: 0.0036 - val_precision: 0.2514\n",
            "\n",
            "Epoch 00006: val_loss did not improve from -0.07314\n",
            "\n",
            "Epoch 00006: ReduceLROnPlateau reducing learning rate to 9.999999747378752e-06.\n",
            "Epoch 7/100\n",
            "60/60 [==============================] - 15s 253ms/step - loss: -0.5084 - jaccard_coef: 0.5105 - dice_coef: 0.6744 - iou: 0.5104 - recall: 0.4462 - precision: 0.8305 - val_loss: -0.0791 - val_jaccard_coef: 0.0798 - val_dice_coef: 0.1456 - val_iou: 0.0798 - val_recall: 0.0429 - val_precision: 0.4885\n",
            "\n",
            "Epoch 00007: val_loss improved from -0.07314 to -0.07913, saving model to /content/files128/model128_greenJac.h5\n",
            "Epoch 8/100\n",
            "60/60 [==============================] - 15s 252ms/step - loss: -0.5239 - jaccard_coef: 0.5258 - dice_coef: 0.6880 - iou: 0.5258 - recall: 0.4587 - precision: 0.8353 - val_loss: -0.1621 - val_jaccard_coef: 0.1632 - val_dice_coef: 0.2742 - val_iou: 0.1632 - val_recall: 0.1117 - val_precision: 0.6146\n",
            "\n",
            "Epoch 00008: val_loss improved from -0.07913 to -0.16211, saving model to /content/files128/model128_greenJac.h5\n",
            "Epoch 9/100\n",
            "60/60 [==============================] - 15s 252ms/step - loss: -0.5332 - jaccard_coef: 0.5351 - dice_coef: 0.6962 - iou: 0.5351 - recall: 0.4624 - precision: 0.8437 - val_loss: -0.2610 - val_jaccard_coef: 0.2620 - val_dice_coef: 0.4087 - val_iou: 0.2620 - val_recall: 0.1924 - val_precision: 0.7179\n",
            "\n",
            "Epoch 00009: val_loss improved from -0.16211 to -0.26099, saving model to /content/files128/model128_greenJac.h5\n",
            "Epoch 10/100\n",
            "60/60 [==============================] - 15s 252ms/step - loss: -0.5428 - jaccard_coef: 0.5447 - dice_coef: 0.7044 - iou: 0.5447 - recall: 0.4650 - precision: 0.8523 - val_loss: -0.3500 - val_jaccard_coef: 0.3506 - val_dice_coef: 0.5142 - val_iou: 0.3506 - val_recall: 0.2655 - val_precision: 0.7928\n",
            "\n",
            "Epoch 00010: val_loss improved from -0.26099 to -0.34998, saving model to /content/files128/model128_greenJac.h5\n",
            "Epoch 11/100\n",
            "60/60 [==============================] - 15s 253ms/step - loss: -0.5530 - jaccard_coef: 0.5549 - dice_coef: 0.7130 - iou: 0.5549 - recall: 0.4679 - precision: 0.8608 - val_loss: -0.4114 - val_jaccard_coef: 0.4121 - val_dice_coef: 0.5804 - val_iou: 0.4121 - val_recall: 0.3083 - val_precision: 0.8555\n",
            "\n",
            "Epoch 00011: val_loss improved from -0.34998 to -0.41141, saving model to /content/files128/model128_greenJac.h5\n",
            "Epoch 12/100\n",
            "60/60 [==============================] - 15s 251ms/step - loss: -0.5644 - jaccard_coef: 0.5663 - dice_coef: 0.7224 - iou: 0.5662 - recall: 0.4708 - precision: 0.8697 - val_loss: -0.4455 - val_jaccard_coef: 0.4463 - val_dice_coef: 0.6150 - val_iou: 0.4463 - val_recall: 0.3272 - val_precision: 0.9028\n",
            "\n",
            "Epoch 00012: val_loss improved from -0.41141 to -0.44546, saving model to /content/files128/model128_greenJac.h5\n",
            "Epoch 13/100\n",
            "60/60 [==============================] - 15s 252ms/step - loss: -0.5766 - jaccard_coef: 0.5785 - dice_coef: 0.7323 - iou: 0.5785 - recall: 0.4736 - precision: 0.8785 - val_loss: -0.4570 - val_jaccard_coef: 0.4579 - val_dice_coef: 0.6264 - val_iou: 0.4578 - val_recall: 0.3372 - val_precision: 0.9019\n",
            "\n",
            "Epoch 00013: val_loss improved from -0.44546 to -0.45702, saving model to /content/files128/model128_greenJac.h5\n",
            "Epoch 14/100\n",
            "60/60 [==============================] - 15s 254ms/step - loss: -0.5892 - jaccard_coef: 0.5909 - dice_coef: 0.7422 - iou: 0.5909 - recall: 0.4766 - precision: 0.8875 - val_loss: -0.4570 - val_jaccard_coef: 0.4579 - val_dice_coef: 0.6264 - val_iou: 0.4578 - val_recall: 0.3357 - val_precision: 0.9014\n",
            "\n",
            "Epoch 00014: val_loss did not improve from -0.45702\n",
            "Epoch 15/100\n",
            "60/60 [==============================] - 15s 253ms/step - loss: -0.5999 - jaccard_coef: 0.6015 - dice_coef: 0.7506 - iou: 0.6015 - recall: 0.4780 - precision: 0.8949 - val_loss: -0.4568 - val_jaccard_coef: 0.4577 - val_dice_coef: 0.6262 - val_iou: 0.4577 - val_recall: 0.3343 - val_precision: 0.9013\n",
            "\n",
            "Epoch 00015: val_loss did not improve from -0.45702\n",
            "Epoch 16/100\n",
            "60/60 [==============================] - 15s 252ms/step - loss: -0.6079 - jaccard_coef: 0.6094 - dice_coef: 0.7567 - iou: 0.6094 - recall: 0.4792 - precision: 0.8995 - val_loss: -0.4549 - val_jaccard_coef: 0.4558 - val_dice_coef: 0.6243 - val_iou: 0.4558 - val_recall: 0.3324 - val_precision: 0.8999\n",
            "\n",
            "Epoch 00016: val_loss did not improve from -0.45702\n",
            "Epoch 17/100\n",
            "60/60 [==============================] - 15s 252ms/step - loss: -0.6147 - jaccard_coef: 0.6162 - dice_coef: 0.7619 - iou: 0.6162 - recall: 0.4803 - precision: 0.9028 - val_loss: -0.4610 - val_jaccard_coef: 0.4619 - val_dice_coef: 0.6301 - val_iou: 0.4619 - val_recall: 0.3389 - val_precision: 0.8941\n",
            "\n",
            "Epoch 00017: val_loss improved from -0.45702 to -0.46101, saving model to /content/files128/model128_greenJac.h5\n",
            "Epoch 18/100\n",
            "60/60 [==============================] - 15s 252ms/step - loss: -0.6203 - jaccard_coef: 0.6218 - dice_coef: 0.7662 - iou: 0.6218 - recall: 0.4812 - precision: 0.9057 - val_loss: -0.4554 - val_jaccard_coef: 0.4563 - val_dice_coef: 0.6243 - val_iou: 0.4563 - val_recall: 0.3311 - val_precision: 0.8976\n",
            "\n",
            "Epoch 00018: val_loss did not improve from -0.46101\n",
            "Epoch 19/100\n",
            "60/60 [==============================] - 15s 252ms/step - loss: -0.6255 - jaccard_coef: 0.6271 - dice_coef: 0.7702 - iou: 0.6271 - recall: 0.4810 - precision: 0.9086 - val_loss: -0.4647 - val_jaccard_coef: 0.4656 - val_dice_coef: 0.6331 - val_iou: 0.4655 - val_recall: 0.3395 - val_precision: 0.8941\n",
            "\n",
            "Epoch 00019: val_loss improved from -0.46101 to -0.46468, saving model to /content/files128/model128_greenJac.h5\n",
            "Epoch 20/100\n",
            "60/60 [==============================] - 15s 251ms/step - loss: -0.6304 - jaccard_coef: 0.6319 - dice_coef: 0.7739 - iou: 0.6319 - recall: 0.4811 - precision: 0.9113 - val_loss: -0.4738 - val_jaccard_coef: 0.4745 - val_dice_coef: 0.6419 - val_iou: 0.4745 - val_recall: 0.3488 - val_precision: 0.8900\n",
            "\n",
            "Epoch 00020: val_loss improved from -0.46468 to -0.47375, saving model to /content/files128/model128_greenJac.h5\n",
            "Epoch 21/100\n",
            "60/60 [==============================] - 15s 253ms/step - loss: -0.6348 - jaccard_coef: 0.6363 - dice_coef: 0.7771 - iou: 0.6363 - recall: 0.4809 - precision: 0.9131 - val_loss: -0.4803 - val_jaccard_coef: 0.4812 - val_dice_coef: 0.6481 - val_iou: 0.4812 - val_recall: 0.3520 - val_precision: 0.8939\n",
            "\n",
            "Epoch 00021: val_loss improved from -0.47375 to -0.48031, saving model to /content/files128/model128_greenJac.h5\n",
            "Epoch 22/100\n",
            "60/60 [==============================] - 15s 251ms/step - loss: -0.6397 - jaccard_coef: 0.6413 - dice_coef: 0.7808 - iou: 0.6413 - recall: 0.4822 - precision: 0.9144 - val_loss: -0.4719 - val_jaccard_coef: 0.4728 - val_dice_coef: 0.6402 - val_iou: 0.4728 - val_recall: 0.3377 - val_precision: 0.9034\n",
            "\n",
            "Epoch 00022: val_loss did not improve from -0.48031\n",
            "Epoch 23/100\n",
            "60/60 [==============================] - 15s 252ms/step - loss: -0.6453 - jaccard_coef: 0.6469 - dice_coef: 0.7850 - iou: 0.6469 - recall: 0.4818 - precision: 0.9181 - val_loss: -0.4675 - val_jaccard_coef: 0.4685 - val_dice_coef: 0.6358 - val_iou: 0.4685 - val_recall: 0.3333 - val_precision: 0.9044\n",
            "\n",
            "Epoch 00023: val_loss did not improve from -0.48031\n",
            "Epoch 24/100\n",
            "60/60 [==============================] - 15s 251ms/step - loss: -0.6508 - jaccard_coef: 0.6524 - dice_coef: 0.7891 - iou: 0.6524 - recall: 0.4819 - precision: 0.9217 - val_loss: -0.4636 - val_jaccard_coef: 0.4646 - val_dice_coef: 0.6320 - val_iou: 0.4646 - val_recall: 0.3295 - val_precision: 0.9043\n",
            "\n",
            "Epoch 00024: val_loss did not improve from -0.48031\n",
            "Epoch 25/100\n",
            "60/60 [==============================] - 15s 251ms/step - loss: -0.6558 - jaccard_coef: 0.6573 - dice_coef: 0.7927 - iou: 0.6573 - recall: 0.4834 - precision: 0.9229 - val_loss: -0.4675 - val_jaccard_coef: 0.4684 - val_dice_coef: 0.6356 - val_iou: 0.4684 - val_recall: 0.3355 - val_precision: 0.8980\n",
            "\n",
            "Epoch 00025: val_loss did not improve from -0.48031\n",
            "Epoch 26/100\n",
            "60/60 [==============================] - 15s 253ms/step - loss: -0.6597 - jaccard_coef: 0.6613 - dice_coef: 0.7956 - iou: 0.6613 - recall: 0.4831 - precision: 0.9251 - val_loss: -0.4655 - val_jaccard_coef: 0.4664 - val_dice_coef: 0.6339 - val_iou: 0.4664 - val_recall: 0.3358 - val_precision: 0.8926\n",
            "\n",
            "Epoch 00026: val_loss did not improve from -0.48031\n",
            "\n",
            "Epoch 00026: ReduceLROnPlateau reducing learning rate to 9.999999747378752e-07.\n",
            "Epoch 27/100\n",
            "60/60 [==============================] - 15s 251ms/step - loss: -0.6487 - jaccard_coef: 0.6500 - dice_coef: 0.7873 - iou: 0.6499 - recall: 0.4708 - precision: 0.9268 - val_loss: -0.4948 - val_jaccard_coef: 0.4956 - val_dice_coef: 0.6611 - val_iou: 0.4956 - val_recall: 0.3585 - val_precision: 0.8940\n",
            "\n",
            "Epoch 00027: val_loss improved from -0.48031 to -0.49478, saving model to /content/files128/model128_greenJac.h5\n",
            "Epoch 28/100\n",
            "60/60 [==============================] - 15s 250ms/step - loss: -0.6618 - jaccard_coef: 0.6630 - dice_coef: 0.7969 - iou: 0.6630 - recall: 0.4825 - precision: 0.9256 - val_loss: -0.4966 - val_jaccard_coef: 0.4974 - val_dice_coef: 0.6627 - val_iou: 0.4974 - val_recall: 0.3601 - val_precision: 0.8937\n",
            "\n",
            "Epoch 00028: val_loss improved from -0.49478 to -0.49660, saving model to /content/files128/model128_greenJac.h5\n",
            "Epoch 29/100\n",
            "60/60 [==============================] - 15s 250ms/step - loss: -0.6662 - jaccard_coef: 0.6674 - dice_coef: 0.8001 - iou: 0.6674 - recall: 0.4835 - precision: 0.9288 - val_loss: -0.4964 - val_jaccard_coef: 0.4973 - val_dice_coef: 0.6626 - val_iou: 0.4973 - val_recall: 0.3592 - val_precision: 0.8944\n",
            "\n",
            "Epoch 00029: val_loss did not improve from -0.49660\n",
            "Epoch 30/100\n",
            "60/60 [==============================] - 15s 251ms/step - loss: -0.6693 - jaccard_coef: 0.6706 - dice_coef: 0.8024 - iou: 0.6706 - recall: 0.4841 - precision: 0.9311 - val_loss: -0.4960 - val_jaccard_coef: 0.4969 - val_dice_coef: 0.6622 - val_iou: 0.4969 - val_recall: 0.3584 - val_precision: 0.8950\n",
            "\n",
            "Epoch 00030: val_loss did not improve from -0.49660\n",
            "Epoch 31/100\n",
            "60/60 [==============================] - 15s 250ms/step - loss: -0.6719 - jaccard_coef: 0.6732 - dice_coef: 0.8042 - iou: 0.6732 - recall: 0.4845 - precision: 0.9331 - val_loss: -0.4956 - val_jaccard_coef: 0.4965 - val_dice_coef: 0.6618 - val_iou: 0.4965 - val_recall: 0.3578 - val_precision: 0.8954\n",
            "\n",
            "Epoch 00031: val_loss did not improve from -0.49660\n",
            "Epoch 32/100\n",
            "60/60 [==============================] - 15s 250ms/step - loss: -0.6741 - jaccard_coef: 0.6754 - dice_coef: 0.8058 - iou: 0.6754 - recall: 0.4848 - precision: 0.9348 - val_loss: -0.4953 - val_jaccard_coef: 0.4962 - val_dice_coef: 0.6615 - val_iou: 0.4962 - val_recall: 0.3572 - val_precision: 0.8957\n",
            "\n",
            "Epoch 00032: val_loss did not improve from -0.49660\n",
            "Epoch 33/100\n",
            "60/60 [==============================] - 15s 251ms/step - loss: -0.6760 - jaccard_coef: 0.6774 - dice_coef: 0.8072 - iou: 0.6774 - recall: 0.4850 - precision: 0.9363 - val_loss: -0.4950 - val_jaccard_coef: 0.4958 - val_dice_coef: 0.6612 - val_iou: 0.4958 - val_recall: 0.3566 - val_precision: 0.8961\n",
            "\n",
            "Epoch 00033: val_loss did not improve from -0.49660\n",
            "\n",
            "Epoch 00033: ReduceLROnPlateau reducing learning rate to 1e-07.\n",
            "Epoch 34/100\n",
            "60/60 [==============================] - 15s 251ms/step - loss: -0.6785 - jaccard_coef: 0.6798 - dice_coef: 0.8089 - iou: 0.6798 - recall: 0.4858 - precision: 0.9377 - val_loss: -0.4947 - val_jaccard_coef: 0.4956 - val_dice_coef: 0.6610 - val_iou: 0.4955 - val_recall: 0.3561 - val_precision: 0.8963\n",
            "\n",
            "Epoch 00034: val_loss did not improve from -0.49660\n",
            "Epoch 35/100\n",
            "60/60 [==============================] - 15s 252ms/step - loss: -0.6789 - jaccard_coef: 0.6802 - dice_coef: 0.8092 - iou: 0.6802 - recall: 0.4858 - precision: 0.9380 - val_loss: -0.4945 - val_jaccard_coef: 0.4953 - val_dice_coef: 0.6607 - val_iou: 0.4953 - val_recall: 0.3559 - val_precision: 0.8964\n",
            "\n",
            "Epoch 00035: val_loss did not improve from -0.49660\n",
            "Epoch 36/100\n",
            "60/60 [==============================] - 15s 251ms/step - loss: -0.6791 - jaccard_coef: 0.6805 - dice_coef: 0.8094 - iou: 0.6805 - recall: 0.4858 - precision: 0.9382 - val_loss: -0.4943 - val_jaccard_coef: 0.4952 - val_dice_coef: 0.6606 - val_iou: 0.4952 - val_recall: 0.3556 - val_precision: 0.8965\n",
            "\n",
            "Epoch 00036: val_loss did not improve from -0.49660\n",
            "Epoch 37/100\n",
            "60/60 [==============================] - 15s 251ms/step - loss: -0.6793 - jaccard_coef: 0.6807 - dice_coef: 0.8095 - iou: 0.6807 - recall: 0.4858 - precision: 0.9384 - val_loss: -0.4942 - val_jaccard_coef: 0.4950 - val_dice_coef: 0.6605 - val_iou: 0.4950 - val_recall: 0.3556 - val_precision: 0.8967\n",
            "\n",
            "Epoch 00037: val_loss did not improve from -0.49660\n",
            "Epoch 38/100\n",
            "60/60 [==============================] - 15s 250ms/step - loss: -0.6795 - jaccard_coef: 0.6809 - dice_coef: 0.8097 - iou: 0.6809 - recall: 0.4858 - precision: 0.9386 - val_loss: -0.4941 - val_jaccard_coef: 0.4949 - val_dice_coef: 0.6604 - val_iou: 0.4949 - val_recall: 0.3554 - val_precision: 0.8967\n",
            "\n",
            "Epoch 00038: val_loss did not improve from -0.49660\n"
          ]
        },
        {
          "output_type": "execute_result",
          "data": {
            "text/plain": [
              "<keras.callbacks.History at 0x7fcec011af10>"
            ]
          },
          "metadata": {},
          "execution_count": 22
        }
      ]
    },
    {
      "cell_type": "code",
      "metadata": {
        "id": "g8-uGc5vFE1C"
      },
      "source": [
        ""
      ],
      "execution_count": null,
      "outputs": []
    }
  ]
}