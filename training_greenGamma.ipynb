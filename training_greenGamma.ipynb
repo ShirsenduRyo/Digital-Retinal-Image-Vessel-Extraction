{
  "nbformat": 4,
  "nbformat_minor": 0,
  "metadata": {
    "colab": {
      "name": "training_greenGamma.ipynb",
      "provenance": [],
      "machine_shape": "hm"
    },
    "kernelspec": {
      "name": "python3",
      "display_name": "Python 3"
    },
    "language_info": {
      "name": "python"
    },
    "accelerator": "GPU"
  },
  "cells": [
    {
      "cell_type": "markdown",
      "metadata": {
        "id": "ziqto0xjM-IA"
      },
      "source": [
        "# 1. Importing Packages"
      ]
    },
    {
      "cell_type": "code",
      "metadata": {
        "id": "Z3M77jELFX4M"
      },
      "source": [
        "import os\n",
        "import numpy as np\n",
        "import cv2\n",
        "from glob import glob\n",
        "from sklearn.utils import shuffle\n",
        "import tensorflow as tf\n",
        "from tensorflow.keras.callbacks import ModelCheckpoint, CSVLogger, ReduceLROnPlateau, EarlyStopping, TensorBoard\n",
        "from tensorflow.keras.optimizers import Adam\n",
        "from tensorflow.keras.metrics import Recall, Precision"
      ],
      "execution_count": null,
      "outputs": []
    },
    {
      "cell_type": "code",
      "metadata": {
        "id": "ZH124OlzNMLR"
      },
      "source": [
        "\n",
        "#Upload The Following Files\n",
        "from unet import build_unet\n",
        "from customMetrics import dice_loss, dice_coef, iou"
      ],
      "execution_count": null,
      "outputs": []
    },
    {
      "cell_type": "markdown",
      "metadata": {
        "id": "U84izwAcaLcv"
      },
      "source": [
        "# 2. Setting The Environment"
      ]
    },
    {
      "cell_type": "code",
      "metadata": {
        "id": "XQFp4aUnaIH8"
      },
      "source": [
        "H = 128\n",
        "W = 128"
      ],
      "execution_count": null,
      "outputs": []
    },
    {
      "cell_type": "code",
      "metadata": {
        "id": "dq1jzO6daXQP"
      },
      "source": [
        "\"\"\" Seeding \"\"\"\n",
        "np.random.seed(42)\n",
        "tf.random.set_seed(42)\n",
        "\n",
        "\"\"\" Hyperparameters \"\"\"\n",
        "batch_size = 32\n",
        "\n",
        "lr = 1e-4\n",
        "num_epochs = 100\n",
        "model_path = os.path.join(\"/content/files128\", \"model128_green.h5\")\n",
        "csv_path = os.path.join(\"/content/files128\", \"data_green.csv\")"
      ],
      "execution_count": null,
      "outputs": []
    },
    {
      "cell_type": "code",
      "metadata": {
        "id": "t7gbo-Qzai0N"
      },
      "source": [
        "\"\"\" Dataset \"\"\"\n",
        "# Make The Folder and upload the data\n",
        "dataset_path = \"/content/drive/MyDrive/gamma_data_128\"\n",
        "train_path = os.path.join(dataset_path, \"train\")\n",
        "valid_path = os.path.join(dataset_path, \"valid\")"
      ],
      "execution_count": null,
      "outputs": []
    },
    {
      "cell_type": "code",
      "metadata": {
        "id": "j7AUB3YFGa_w"
      },
      "source": [
        "!rm -rf files128"
      ],
      "execution_count": null,
      "outputs": []
    },
    {
      "cell_type": "code",
      "metadata": {
        "colab": {
          "base_uri": "https://localhost:8080/",
          "height": 35
        },
        "id": "ETQi-ANjiheD",
        "outputId": "99d0642c-11ea-4957-de6b-06a0f4ebe50d"
      },
      "source": [
        "pwd"
      ],
      "execution_count": null,
      "outputs": [
        {
          "output_type": "execute_result",
          "data": {
            "application/vnd.google.colaboratory.intrinsic+json": {
              "type": "string"
            },
            "text/plain": [
              "'/content'"
            ]
          },
          "metadata": {},
          "execution_count": 12
        }
      ]
    },
    {
      "cell_type": "markdown",
      "metadata": {
        "id": "Z32w8ep9cqol"
      },
      "source": [
        "# 3. Utils Function"
      ]
    },
    {
      "cell_type": "code",
      "metadata": {
        "id": "7a-VMYDecnK1"
      },
      "source": [
        "def create_dir(path):\n",
        "    if not os.path.exists(path):\n",
        "        os.makedirs(path)"
      ],
      "execution_count": null,
      "outputs": []
    },
    {
      "cell_type": "code",
      "metadata": {
        "id": "qDVLyv8scuPF"
      },
      "source": [
        "def load_data(path):\n",
        "    print(path)\n",
        "    x = sorted(glob(os.path.join(path, \"image\", \"*.jpg\")))\n",
        "    y = sorted(glob(os.path.join(path, \"gt\", \"*.jpg\")))\n",
        "    return x, y"
      ],
      "execution_count": null,
      "outputs": []
    },
    {
      "cell_type": "code",
      "metadata": {
        "id": "z31CdxfYcyus"
      },
      "source": [
        "def read_image(path):\n",
        "    path = path.decode()\n",
        "    x = cv2.imread(path, cv2.IMREAD_COLOR)\n",
        "    # x = cv2.resize(x, (W, H))\n",
        "    x = x/255.0\n",
        "    x = x.astype(np.float32)\n",
        "    return x"
      ],
      "execution_count": null,
      "outputs": []
    },
    {
      "cell_type": "code",
      "metadata": {
        "id": "ZoU5hmQYc2L4"
      },
      "source": [
        "def read_mask(path):\n",
        "    path = path.decode()\n",
        "    x = cv2.imread(path, cv2.IMREAD_GRAYSCALE)  ## (512, 512)\n",
        "    # x = cv2.resize(x, (W, H))\n",
        "    x = x/255.0\n",
        "    x = x.astype(np.float32)\n",
        "    x = np.expand_dims(x, axis=-1)              ## (512, 512, 1)\n",
        "    return x"
      ],
      "execution_count": null,
      "outputs": []
    },
    {
      "cell_type": "code",
      "metadata": {
        "id": "BnL6LcR9c4cZ"
      },
      "source": [
        "def tf_parse(x, y):\n",
        "    def _parse(x, y):\n",
        "        x = read_image(x)\n",
        "        y = read_mask(y)\n",
        "        return x, y\n",
        "\n",
        "    x, y = tf.numpy_function(_parse, [x, y], [tf.float32, tf.float32])\n",
        "    x.set_shape([H, W, 3])\n",
        "    y.set_shape([H, W, 1])\n",
        "    return x, y"
      ],
      "execution_count": null,
      "outputs": []
    },
    {
      "cell_type": "code",
      "metadata": {
        "id": "mjHjLumvc6Vj"
      },
      "source": [
        "def tf_dataset(X, Y, batch_size=2):\n",
        "    dataset = tf.data.Dataset.from_tensor_slices((X, Y))\n",
        "    dataset = dataset.map(tf_parse)\n",
        "    dataset = dataset.batch(batch_size)\n",
        "    dataset = dataset.prefetch(4)\n",
        "    return dataset"
      ],
      "execution_count": null,
      "outputs": []
    },
    {
      "cell_type": "code",
      "metadata": {
        "colab": {
          "base_uri": "https://localhost:8080/"
        },
        "id": "z_B5xezic9Bv",
        "outputId": "452e8fce-e4f4-4b94-8992-623c775d8f7d"
      },
      "source": [
        "train_x, train_y = load_data(train_path)\n",
        "valid_x, valid_y = load_data(valid_path)\n",
        "\n",
        "print(f\"Train: {len(train_x)} - {len(train_y)}\")\n",
        "print(f\"Valid: {len(valid_x)} - {len(valid_y)}\")"
      ],
      "execution_count": null,
      "outputs": [
        {
          "output_type": "stream",
          "name": "stdout",
          "text": [
            "/content/drive/MyDrive/gamma_data_128/train\n",
            "/content/drive/MyDrive/gamma_data_128/valid\n",
            "Train: 1890 - 1890\n",
            "Valid: 630 - 630\n"
          ]
        }
      ]
    },
    {
      "cell_type": "code",
      "metadata": {
        "colab": {
          "base_uri": "https://localhost:8080/",
          "height": 35
        },
        "id": "FkyRmqFodVvJ",
        "outputId": "54434710-f012-45e7-b982-2a51b95106b3"
      },
      "source": [
        "pwd"
      ],
      "execution_count": null,
      "outputs": [
        {
          "output_type": "execute_result",
          "data": {
            "application/vnd.google.colaboratory.intrinsic+json": {
              "type": "string"
            },
            "text/plain": [
              "'/content'"
            ]
          },
          "metadata": {},
          "execution_count": 20
        }
      ]
    },
    {
      "cell_type": "code",
      "metadata": {
        "id": "hYJ8qjTidB0R"
      },
      "source": [
        "create_dir(\"/content/files128\")"
      ],
      "execution_count": null,
      "outputs": []
    },
    {
      "cell_type": "code",
      "metadata": {
        "id": "JaH4RU1adfMI"
      },
      "source": [
        "train_dataset = tf_dataset(train_x, train_y, batch_size=batch_size)\n",
        "valid_dataset = tf_dataset(valid_x, valid_y, batch_size=batch_size)\n",
        "\n",
        "train_steps = len(train_x)//batch_size\n",
        "valid_steps = len(valid_x)//batch_size\n",
        "\n",
        "if len(train_x) % batch_size != 0:\n",
        "    train_steps += 1\n",
        "if len(valid_x) % batch_size != 0:\n",
        "    valid_steps += 1"
      ],
      "execution_count": null,
      "outputs": []
    },
    {
      "cell_type": "code",
      "metadata": {
        "id": "vUssNFeTduP4",
        "colab": {
          "base_uri": "https://localhost:8080/"
        },
        "outputId": "e856df10-1360-4f9c-83c0-ac3b75a3d198"
      },
      "source": [
        "train_steps, valid_steps"
      ],
      "execution_count": null,
      "outputs": [
        {
          "output_type": "execute_result",
          "data": {
            "text/plain": [
              "(60, 20)"
            ]
          },
          "metadata": {},
          "execution_count": 22
        }
      ]
    },
    {
      "cell_type": "markdown",
      "metadata": {
        "id": "eFLAwjlqdzNj"
      },
      "source": [
        "# 4. The Model"
      ]
    },
    {
      "cell_type": "code",
      "metadata": {
        "colab": {
          "base_uri": "https://localhost:8080/"
        },
        "id": "Rqb2GcaTd1xq",
        "outputId": "6564393e-416a-4a04-b297-9d8e02bd6b3d"
      },
      "source": [
        "\"\"\" Model \"\"\"\n",
        "model = build_unet((H, W, 3))\n",
        "model.compile(loss=dice_loss, optimizer=Adam(lr), metrics=[dice_coef, iou, Recall(), Precision()])\n",
        "model.summary()"
      ],
      "execution_count": null,
      "outputs": [
        {
          "output_type": "stream",
          "name": "stdout",
          "text": [
            "Model: \"UNET\"\n",
            "__________________________________________________________________________________________________\n",
            "Layer (type)                    Output Shape         Param #     Connected to                     \n",
            "==================================================================================================\n",
            "input_1 (InputLayer)            [(None, 128, 128, 3) 0                                            \n",
            "__________________________________________________________________________________________________\n",
            "conv2d (Conv2D)                 (None, 128, 128, 64) 1792        input_1[0][0]                    \n",
            "__________________________________________________________________________________________________\n",
            "batch_normalization (BatchNorma (None, 128, 128, 64) 256         conv2d[0][0]                     \n",
            "__________________________________________________________________________________________________\n",
            "activation (Activation)         (None, 128, 128, 64) 0           batch_normalization[0][0]        \n",
            "__________________________________________________________________________________________________\n",
            "conv2d_1 (Conv2D)               (None, 128, 128, 64) 36928       activation[0][0]                 \n",
            "__________________________________________________________________________________________________\n",
            "batch_normalization_1 (BatchNor (None, 128, 128, 64) 256         conv2d_1[0][0]                   \n",
            "__________________________________________________________________________________________________\n",
            "activation_1 (Activation)       (None, 128, 128, 64) 0           batch_normalization_1[0][0]      \n",
            "__________________________________________________________________________________________________\n",
            "max_pooling2d (MaxPooling2D)    (None, 64, 64, 64)   0           activation_1[0][0]               \n",
            "__________________________________________________________________________________________________\n",
            "conv2d_2 (Conv2D)               (None, 64, 64, 128)  73856       max_pooling2d[0][0]              \n",
            "__________________________________________________________________________________________________\n",
            "batch_normalization_2 (BatchNor (None, 64, 64, 128)  512         conv2d_2[0][0]                   \n",
            "__________________________________________________________________________________________________\n",
            "activation_2 (Activation)       (None, 64, 64, 128)  0           batch_normalization_2[0][0]      \n",
            "__________________________________________________________________________________________________\n",
            "conv2d_3 (Conv2D)               (None, 64, 64, 128)  147584      activation_2[0][0]               \n",
            "__________________________________________________________________________________________________\n",
            "batch_normalization_3 (BatchNor (None, 64, 64, 128)  512         conv2d_3[0][0]                   \n",
            "__________________________________________________________________________________________________\n",
            "activation_3 (Activation)       (None, 64, 64, 128)  0           batch_normalization_3[0][0]      \n",
            "__________________________________________________________________________________________________\n",
            "max_pooling2d_1 (MaxPooling2D)  (None, 32, 32, 128)  0           activation_3[0][0]               \n",
            "__________________________________________________________________________________________________\n",
            "conv2d_4 (Conv2D)               (None, 32, 32, 256)  295168      max_pooling2d_1[0][0]            \n",
            "__________________________________________________________________________________________________\n",
            "batch_normalization_4 (BatchNor (None, 32, 32, 256)  1024        conv2d_4[0][0]                   \n",
            "__________________________________________________________________________________________________\n",
            "activation_4 (Activation)       (None, 32, 32, 256)  0           batch_normalization_4[0][0]      \n",
            "__________________________________________________________________________________________________\n",
            "conv2d_5 (Conv2D)               (None, 32, 32, 256)  590080      activation_4[0][0]               \n",
            "__________________________________________________________________________________________________\n",
            "batch_normalization_5 (BatchNor (None, 32, 32, 256)  1024        conv2d_5[0][0]                   \n",
            "__________________________________________________________________________________________________\n",
            "activation_5 (Activation)       (None, 32, 32, 256)  0           batch_normalization_5[0][0]      \n",
            "__________________________________________________________________________________________________\n",
            "max_pooling2d_2 (MaxPooling2D)  (None, 16, 16, 256)  0           activation_5[0][0]               \n",
            "__________________________________________________________________________________________________\n",
            "conv2d_6 (Conv2D)               (None, 16, 16, 512)  1180160     max_pooling2d_2[0][0]            \n",
            "__________________________________________________________________________________________________\n",
            "batch_normalization_6 (BatchNor (None, 16, 16, 512)  2048        conv2d_6[0][0]                   \n",
            "__________________________________________________________________________________________________\n",
            "activation_6 (Activation)       (None, 16, 16, 512)  0           batch_normalization_6[0][0]      \n",
            "__________________________________________________________________________________________________\n",
            "conv2d_7 (Conv2D)               (None, 16, 16, 512)  2359808     activation_6[0][0]               \n",
            "__________________________________________________________________________________________________\n",
            "batch_normalization_7 (BatchNor (None, 16, 16, 512)  2048        conv2d_7[0][0]                   \n",
            "__________________________________________________________________________________________________\n",
            "activation_7 (Activation)       (None, 16, 16, 512)  0           batch_normalization_7[0][0]      \n",
            "__________________________________________________________________________________________________\n",
            "max_pooling2d_3 (MaxPooling2D)  (None, 8, 8, 512)    0           activation_7[0][0]               \n",
            "__________________________________________________________________________________________________\n",
            "conv2d_8 (Conv2D)               (None, 8, 8, 1024)   4719616     max_pooling2d_3[0][0]            \n",
            "__________________________________________________________________________________________________\n",
            "batch_normalization_8 (BatchNor (None, 8, 8, 1024)   4096        conv2d_8[0][0]                   \n",
            "__________________________________________________________________________________________________\n",
            "activation_8 (Activation)       (None, 8, 8, 1024)   0           batch_normalization_8[0][0]      \n",
            "__________________________________________________________________________________________________\n",
            "conv2d_9 (Conv2D)               (None, 8, 8, 1024)   9438208     activation_8[0][0]               \n",
            "__________________________________________________________________________________________________\n",
            "batch_normalization_9 (BatchNor (None, 8, 8, 1024)   4096        conv2d_9[0][0]                   \n",
            "__________________________________________________________________________________________________\n",
            "activation_9 (Activation)       (None, 8, 8, 1024)   0           batch_normalization_9[0][0]      \n",
            "__________________________________________________________________________________________________\n",
            "conv2d_transpose (Conv2DTranspo (None, 16, 16, 512)  2097664     activation_9[0][0]               \n",
            "__________________________________________________________________________________________________\n",
            "concatenate (Concatenate)       (None, 16, 16, 1024) 0           conv2d_transpose[0][0]           \n",
            "                                                                 activation_7[0][0]               \n",
            "__________________________________________________________________________________________________\n",
            "conv2d_10 (Conv2D)              (None, 16, 16, 512)  4719104     concatenate[0][0]                \n",
            "__________________________________________________________________________________________________\n",
            "batch_normalization_10 (BatchNo (None, 16, 16, 512)  2048        conv2d_10[0][0]                  \n",
            "__________________________________________________________________________________________________\n",
            "activation_10 (Activation)      (None, 16, 16, 512)  0           batch_normalization_10[0][0]     \n",
            "__________________________________________________________________________________________________\n",
            "conv2d_11 (Conv2D)              (None, 16, 16, 512)  2359808     activation_10[0][0]              \n",
            "__________________________________________________________________________________________________\n",
            "batch_normalization_11 (BatchNo (None, 16, 16, 512)  2048        conv2d_11[0][0]                  \n",
            "__________________________________________________________________________________________________\n",
            "activation_11 (Activation)      (None, 16, 16, 512)  0           batch_normalization_11[0][0]     \n",
            "__________________________________________________________________________________________________\n",
            "conv2d_transpose_1 (Conv2DTrans (None, 32, 32, 256)  524544      activation_11[0][0]              \n",
            "__________________________________________________________________________________________________\n",
            "concatenate_1 (Concatenate)     (None, 32, 32, 512)  0           conv2d_transpose_1[0][0]         \n",
            "                                                                 activation_5[0][0]               \n",
            "__________________________________________________________________________________________________\n",
            "conv2d_12 (Conv2D)              (None, 32, 32, 256)  1179904     concatenate_1[0][0]              \n",
            "__________________________________________________________________________________________________\n",
            "batch_normalization_12 (BatchNo (None, 32, 32, 256)  1024        conv2d_12[0][0]                  \n",
            "__________________________________________________________________________________________________\n",
            "activation_12 (Activation)      (None, 32, 32, 256)  0           batch_normalization_12[0][0]     \n",
            "__________________________________________________________________________________________________\n",
            "conv2d_13 (Conv2D)              (None, 32, 32, 256)  590080      activation_12[0][0]              \n",
            "__________________________________________________________________________________________________\n",
            "batch_normalization_13 (BatchNo (None, 32, 32, 256)  1024        conv2d_13[0][0]                  \n",
            "__________________________________________________________________________________________________\n",
            "activation_13 (Activation)      (None, 32, 32, 256)  0           batch_normalization_13[0][0]     \n",
            "__________________________________________________________________________________________________\n",
            "conv2d_transpose_2 (Conv2DTrans (None, 64, 64, 128)  131200      activation_13[0][0]              \n",
            "__________________________________________________________________________________________________\n",
            "concatenate_2 (Concatenate)     (None, 64, 64, 256)  0           conv2d_transpose_2[0][0]         \n",
            "                                                                 activation_3[0][0]               \n",
            "__________________________________________________________________________________________________\n",
            "conv2d_14 (Conv2D)              (None, 64, 64, 128)  295040      concatenate_2[0][0]              \n",
            "__________________________________________________________________________________________________\n",
            "batch_normalization_14 (BatchNo (None, 64, 64, 128)  512         conv2d_14[0][0]                  \n",
            "__________________________________________________________________________________________________\n",
            "activation_14 (Activation)      (None, 64, 64, 128)  0           batch_normalization_14[0][0]     \n",
            "__________________________________________________________________________________________________\n",
            "conv2d_15 (Conv2D)              (None, 64, 64, 128)  147584      activation_14[0][0]              \n",
            "__________________________________________________________________________________________________\n",
            "batch_normalization_15 (BatchNo (None, 64, 64, 128)  512         conv2d_15[0][0]                  \n",
            "__________________________________________________________________________________________________\n",
            "activation_15 (Activation)      (None, 64, 64, 128)  0           batch_normalization_15[0][0]     \n",
            "__________________________________________________________________________________________________\n",
            "conv2d_transpose_3 (Conv2DTrans (None, 128, 128, 64) 32832       activation_15[0][0]              \n",
            "__________________________________________________________________________________________________\n",
            "concatenate_3 (Concatenate)     (None, 128, 128, 128 0           conv2d_transpose_3[0][0]         \n",
            "                                                                 activation_1[0][0]               \n",
            "__________________________________________________________________________________________________\n",
            "conv2d_16 (Conv2D)              (None, 128, 128, 64) 73792       concatenate_3[0][0]              \n",
            "__________________________________________________________________________________________________\n",
            "batch_normalization_16 (BatchNo (None, 128, 128, 64) 256         conv2d_16[0][0]                  \n",
            "__________________________________________________________________________________________________\n",
            "activation_16 (Activation)      (None, 128, 128, 64) 0           batch_normalization_16[0][0]     \n",
            "__________________________________________________________________________________________________\n",
            "conv2d_17 (Conv2D)              (None, 128, 128, 64) 36928       activation_16[0][0]              \n",
            "__________________________________________________________________________________________________\n",
            "batch_normalization_17 (BatchNo (None, 128, 128, 64) 256         conv2d_17[0][0]                  \n",
            "__________________________________________________________________________________________________\n",
            "activation_17 (Activation)      (None, 128, 128, 64) 0           batch_normalization_17[0][0]     \n",
            "__________________________________________________________________________________________________\n",
            "conv2d_18 (Conv2D)              (None, 128, 128, 1)  65          activation_17[0][0]              \n",
            "==================================================================================================\n",
            "Total params: 31,055,297\n",
            "Trainable params: 31,043,521\n",
            "Non-trainable params: 11,776\n",
            "__________________________________________________________________________________________________\n"
          ]
        }
      ]
    },
    {
      "cell_type": "code",
      "metadata": {
        "id": "11odaYbmd2gl"
      },
      "source": [
        "callbacks = [\n",
        "    ModelCheckpoint(model_path, verbose=1, save_best_only=True),\n",
        "    ReduceLROnPlateau(monitor=\"val_loss\", factor=0.1, patience=5, min_lr=1e-7, verbose=1),\n",
        "    CSVLogger(csv_path),\n",
        "    TensorBoard(),\n",
        "    EarlyStopping(monitor=\"val_loss\", patience=10, restore_best_weights=False)\n",
        "]"
      ],
      "execution_count": null,
      "outputs": []
    },
    {
      "cell_type": "code",
      "metadata": {
        "colab": {
          "base_uri": "https://localhost:8080/"
        },
        "id": "_EjMzxPlaBD2",
        "outputId": "757673ac-86ee-4d54-d202-c2970174044e"
      },
      "source": [
        "model.fit(\n",
        "    train_dataset,\n",
        "    epochs=num_epochs,\n",
        "    validation_data=valid_dataset,\n",
        "    steps_per_epoch=train_steps,\n",
        "    validation_steps=valid_steps,\n",
        "    callbacks=callbacks\n",
        ")"
      ],
      "execution_count": null,
      "outputs": [
        {
          "output_type": "stream",
          "name": "stdout",
          "text": [
            "Epoch 1/100\n",
            "60/60 [==============================] - 744s 12s/step - loss: 0.6497 - dice_coef: 0.3518 - iou: 0.2184 - recall: 0.6348 - precision: 0.3741 - val_loss: 0.8639 - val_dice_coef: 0.1361 - val_iou: 0.0731 - val_recall: 0.0000e+00 - val_precision: 0.0000e+00\n",
            "\n",
            "Epoch 00001: val_loss improved from inf to 0.86388, saving model to /content/files128/model128_green.h5\n",
            "Epoch 2/100\n",
            "60/60 [==============================] - 18s 292ms/step - loss: 0.4891 - dice_coef: 0.5112 - iou: 0.3458 - recall: 0.4745 - precision: 0.6730 - val_loss: 0.8754 - val_dice_coef: 0.1246 - val_iou: 0.0665 - val_recall: 0.0000e+00 - val_precision: 0.0000e+00\n",
            "\n",
            "Epoch 00002: val_loss did not improve from 0.86388\n",
            "Epoch 3/100\n",
            "60/60 [==============================] - 18s 292ms/step - loss: 0.4444 - dice_coef: 0.5564 - iou: 0.3878 - recall: 0.4594 - precision: 0.7273 - val_loss: 0.8796 - val_dice_coef: 0.1204 - val_iou: 0.0641 - val_recall: 0.0000e+00 - val_precision: 0.0000e+00\n",
            "\n",
            "Epoch 00003: val_loss did not improve from 0.86388\n",
            "Epoch 4/100\n",
            "60/60 [==============================] - 18s 295ms/step - loss: 0.4064 - dice_coef: 0.5947 - iou: 0.4251 - recall: 0.4556 - precision: 0.7677 - val_loss: 0.9304 - val_dice_coef: 0.0696 - val_iou: 0.0361 - val_recall: 1.4334e-04 - val_precision: 0.5200\n",
            "\n",
            "Epoch 00004: val_loss did not improve from 0.86388\n",
            "Epoch 5/100\n",
            "60/60 [==============================] - 17s 287ms/step - loss: 0.3778 - dice_coef: 0.6236 - iou: 0.4550 - recall: 0.4512 - precision: 0.7916 - val_loss: 0.9344 - val_dice_coef: 0.0656 - val_iou: 0.0339 - val_recall: 9.1520e-04 - val_precision: 0.2406\n",
            "\n",
            "Epoch 00005: val_loss did not improve from 0.86388\n",
            "Epoch 6/100\n",
            "60/60 [==============================] - 17s 287ms/step - loss: 0.3484 - dice_coef: 0.6531 - iou: 0.4865 - recall: 0.4518 - precision: 0.8131 - val_loss: 0.9404 - val_dice_coef: 0.0597 - val_iou: 0.0308 - val_recall: 0.0047 - val_precision: 0.2864\n",
            "\n",
            "Epoch 00006: val_loss did not improve from 0.86388\n",
            "\n",
            "Epoch 00006: ReduceLROnPlateau reducing learning rate to 9.999999747378752e-06.\n",
            "Epoch 7/100\n",
            "60/60 [==============================] - 17s 285ms/step - loss: 0.3338 - dice_coef: 0.6678 - iou: 0.5030 - recall: 0.4464 - precision: 0.8248 - val_loss: 0.8422 - val_dice_coef: 0.1592 - val_iou: 0.0881 - val_recall: 0.0498 - val_precision: 0.5139\n",
            "\n",
            "Epoch 00007: val_loss improved from 0.86388 to 0.84221, saving model to /content/files128/model128_green.h5\n",
            "Epoch 8/100\n",
            "60/60 [==============================] - 17s 287ms/step - loss: 0.3199 - dice_coef: 0.6816 - iou: 0.5184 - recall: 0.4587 - precision: 0.8323 - val_loss: 0.7168 - val_dice_coef: 0.2849 - val_iou: 0.1703 - val_recall: 0.1198 - val_precision: 0.6211\n",
            "\n",
            "Epoch 00008: val_loss improved from 0.84221 to 0.71677, saving model to /content/files128/model128_green.h5\n",
            "Epoch 9/100\n",
            "60/60 [==============================] - 17s 287ms/step - loss: 0.3120 - dice_coef: 0.6895 - iou: 0.5272 - recall: 0.4615 - precision: 0.8413 - val_loss: 0.5873 - val_dice_coef: 0.4140 - val_iou: 0.2653 - val_recall: 0.2011 - val_precision: 0.7116\n",
            "\n",
            "Epoch 00009: val_loss improved from 0.71677 to 0.58730, saving model to /content/files128/model128_green.h5\n",
            "Epoch 10/100\n",
            "60/60 [==============================] - 17s 283ms/step - loss: 0.3040 - dice_coef: 0.6974 - iou: 0.5364 - recall: 0.4644 - precision: 0.8498 - val_loss: 0.4852 - val_dice_coef: 0.5155 - val_iou: 0.3507 - val_recall: 0.2723 - val_precision: 0.7868\n",
            "\n",
            "Epoch 00010: val_loss improved from 0.58730 to 0.48518, saving model to /content/files128/model128_green.h5\n",
            "Epoch 11/100\n",
            "60/60 [==============================] - 17s 285ms/step - loss: 0.2955 - dice_coef: 0.7059 - iou: 0.5463 - recall: 0.4673 - precision: 0.8583 - val_loss: 0.4160 - val_dice_coef: 0.5847 - val_iou: 0.4157 - val_recall: 0.3173 - val_precision: 0.8577\n",
            "\n",
            "Epoch 00011: val_loss improved from 0.48518 to 0.41598, saving model to /content/files128/model128_green.h5\n",
            "Epoch 12/100\n",
            "60/60 [==============================] - 17s 283ms/step - loss: 0.2865 - dice_coef: 0.7149 - iou: 0.5571 - recall: 0.4702 - precision: 0.8668 - val_loss: 0.3821 - val_dice_coef: 0.6187 - val_iou: 0.4499 - val_recall: 0.3380 - val_precision: 0.8961\n",
            "\n",
            "Epoch 00012: val_loss improved from 0.41598 to 0.38208, saving model to /content/files128/model128_green.h5\n",
            "Epoch 13/100\n",
            "60/60 [==============================] - 17s 280ms/step - loss: 0.2768 - dice_coef: 0.7245 - iou: 0.5688 - recall: 0.4732 - precision: 0.8757 - val_loss: 0.3718 - val_dice_coef: 0.6290 - val_iou: 0.4605 - val_recall: 0.3478 - val_precision: 0.8927\n",
            "\n",
            "Epoch 00013: val_loss improved from 0.38208 to 0.37177, saving model to /content/files128/model128_green.h5\n",
            "Epoch 14/100\n",
            "60/60 [==============================] - 17s 281ms/step - loss: 0.2673 - dice_coef: 0.7340 - iou: 0.5805 - recall: 0.4760 - precision: 0.8837 - val_loss: 0.3715 - val_dice_coef: 0.6293 - val_iou: 0.4609 - val_recall: 0.3470 - val_precision: 0.8937\n",
            "\n",
            "Epoch 00014: val_loss improved from 0.37177 to 0.37147, saving model to /content/files128/model128_green.h5\n",
            "Epoch 15/100\n",
            "60/60 [==============================] - 17s 276ms/step - loss: 0.2589 - dice_coef: 0.7423 - iou: 0.5909 - recall: 0.4778 - precision: 0.8913 - val_loss: 0.3686 - val_dice_coef: 0.6322 - val_iou: 0.4639 - val_recall: 0.3513 - val_precision: 0.8889\n",
            "\n",
            "Epoch 00015: val_loss improved from 0.37147 to 0.36859, saving model to /content/files128/model128_green.h5\n",
            "Epoch 16/100\n",
            "60/60 [==============================] - 17s 279ms/step - loss: 0.2528 - dice_coef: 0.7483 - iou: 0.5986 - recall: 0.4789 - precision: 0.8963 - val_loss: 0.3750 - val_dice_coef: 0.6259 - val_iou: 0.4575 - val_recall: 0.3398 - val_precision: 0.8966\n",
            "\n",
            "Epoch 00016: val_loss did not improve from 0.36859\n",
            "Epoch 17/100\n",
            "60/60 [==============================] - 17s 279ms/step - loss: 0.2487 - dice_coef: 0.7524 - iou: 0.6038 - recall: 0.4796 - precision: 0.8984 - val_loss: 0.3665 - val_dice_coef: 0.6343 - val_iou: 0.4665 - val_recall: 0.3525 - val_precision: 0.8864\n",
            "\n",
            "Epoch 00017: val_loss improved from 0.36859 to 0.36645, saving model to /content/files128/model128_green.h5\n",
            "Epoch 18/100\n",
            "60/60 [==============================] - 17s 290ms/step - loss: 0.2447 - dice_coef: 0.7564 - iou: 0.6090 - recall: 0.4798 - precision: 0.9012 - val_loss: 0.3691 - val_dice_coef: 0.6316 - val_iou: 0.4637 - val_recall: 0.3482 - val_precision: 0.8862\n",
            "\n",
            "Epoch 00018: val_loss did not improve from 0.36645\n",
            "Epoch 19/100\n",
            "60/60 [==============================] - 17s 279ms/step - loss: 0.2390 - dice_coef: 0.7621 - iou: 0.6164 - recall: 0.4810 - precision: 0.9057 - val_loss: 0.3741 - val_dice_coef: 0.6267 - val_iou: 0.4583 - val_recall: 0.3387 - val_precision: 0.8924\n",
            "\n",
            "Epoch 00019: val_loss did not improve from 0.36645\n",
            "Epoch 20/100\n",
            "60/60 [==============================] - 17s 278ms/step - loss: 0.2351 - dice_coef: 0.7659 - iou: 0.6214 - recall: 0.4809 - precision: 0.9087 - val_loss: 0.3634 - val_dice_coef: 0.6374 - val_iou: 0.4696 - val_recall: 0.3476 - val_precision: 0.8928\n",
            "\n",
            "Epoch 00020: val_loss improved from 0.36645 to 0.36339, saving model to /content/files128/model128_green.h5\n",
            "Epoch 21/100\n",
            "60/60 [==============================] - 17s 281ms/step - loss: 0.2320 - dice_coef: 0.7691 - iou: 0.6256 - recall: 0.4810 - precision: 0.9103 - val_loss: 0.3624 - val_dice_coef: 0.6384 - val_iou: 0.4710 - val_recall: 0.3493 - val_precision: 0.8910\n",
            "\n",
            "Epoch 00021: val_loss improved from 0.36339 to 0.36239, saving model to /content/files128/model128_green.h5\n",
            "Epoch 22/100\n",
            "60/60 [==============================] - 17s 280ms/step - loss: 0.2283 - dice_coef: 0.7728 - iou: 0.6305 - recall: 0.4821 - precision: 0.9119 - val_loss: 0.3595 - val_dice_coef: 0.6413 - val_iou: 0.4741 - val_recall: 0.3498 - val_precision: 0.8937\n",
            "\n",
            "Epoch 00022: val_loss improved from 0.36239 to 0.35947, saving model to /content/files128/model128_green.h5\n",
            "Epoch 23/100\n",
            "60/60 [==============================] - 17s 274ms/step - loss: 0.2251 - dice_coef: 0.7760 - iou: 0.6348 - recall: 0.4813 - precision: 0.9150 - val_loss: 0.3635 - val_dice_coef: 0.6373 - val_iou: 0.4697 - val_recall: 0.3455 - val_precision: 0.8923\n",
            "\n",
            "Epoch 00023: val_loss did not improve from 0.35947\n",
            "Epoch 24/100\n",
            "60/60 [==============================] - 17s 279ms/step - loss: 0.2217 - dice_coef: 0.7794 - iou: 0.6392 - recall: 0.4815 - precision: 0.9170 - val_loss: 0.3672 - val_dice_coef: 0.6336 - val_iou: 0.4659 - val_recall: 0.3387 - val_precision: 0.8964\n",
            "\n",
            "Epoch 00024: val_loss did not improve from 0.35947\n",
            "Epoch 25/100\n",
            "60/60 [==============================] - 18s 294ms/step - loss: 0.2187 - dice_coef: 0.7824 - iou: 0.6433 - recall: 0.4825 - precision: 0.9183 - val_loss: 0.3640 - val_dice_coef: 0.6367 - val_iou: 0.4694 - val_recall: 0.3465 - val_precision: 0.8862\n",
            "\n",
            "Epoch 00025: val_loss did not improve from 0.35947\n",
            "Epoch 26/100\n",
            "60/60 [==============================] - 16s 271ms/step - loss: 0.2156 - dice_coef: 0.7853 - iou: 0.6471 - recall: 0.4826 - precision: 0.9201 - val_loss: 0.3695 - val_dice_coef: 0.6312 - val_iou: 0.4634 - val_recall: 0.3437 - val_precision: 0.8810\n",
            "\n",
            "Epoch 00026: val_loss did not improve from 0.35947\n",
            "Epoch 27/100\n",
            "60/60 [==============================] - 17s 274ms/step - loss: 0.2137 - dice_coef: 0.7874 - iou: 0.6500 - recall: 0.4824 - precision: 0.9209 - val_loss: 0.3638 - val_dice_coef: 0.6370 - val_iou: 0.4690 - val_recall: 0.3507 - val_precision: 0.8761\n",
            "\n",
            "Epoch 00027: val_loss did not improve from 0.35947\n",
            "\n",
            "Epoch 00027: ReduceLROnPlateau reducing learning rate to 1e-06.\n",
            "Epoch 28/100\n",
            "60/60 [==============================] - 17s 275ms/step - loss: 0.2223 - dice_coef: 0.7785 - iou: 0.6380 - recall: 0.4737 - precision: 0.9183 - val_loss: 0.3454 - val_dice_coef: 0.6554 - val_iou: 0.4893 - val_recall: 0.3588 - val_precision: 0.8905\n",
            "\n",
            "Epoch 00028: val_loss improved from 0.35947 to 0.34536, saving model to /content/files128/model128_green.h5\n",
            "Epoch 29/100\n",
            "60/60 [==============================] - 17s 275ms/step - loss: 0.2096 - dice_coef: 0.7911 - iou: 0.6550 - recall: 0.4846 - precision: 0.9225 - val_loss: 0.3456 - val_dice_coef: 0.6552 - val_iou: 0.4891 - val_recall: 0.3570 - val_precision: 0.8929\n",
            "\n",
            "Epoch 00029: val_loss did not improve from 0.34536\n",
            "Epoch 30/100\n",
            "60/60 [==============================] - 16s 273ms/step - loss: 0.2069 - dice_coef: 0.7938 - iou: 0.6588 - recall: 0.4849 - precision: 0.9257 - val_loss: 0.3456 - val_dice_coef: 0.6552 - val_iou: 0.4891 - val_recall: 0.3562 - val_precision: 0.8940\n",
            "\n",
            "Epoch 00030: val_loss did not improve from 0.34536\n",
            "Epoch 31/100\n",
            "60/60 [==============================] - 17s 277ms/step - loss: 0.2048 - dice_coef: 0.7959 - iou: 0.6616 - recall: 0.4851 - precision: 0.9282 - val_loss: 0.3457 - val_dice_coef: 0.6551 - val_iou: 0.4890 - val_recall: 0.3557 - val_precision: 0.8945\n",
            "\n",
            "Epoch 00031: val_loss did not improve from 0.34536\n",
            "Epoch 32/100\n",
            "60/60 [==============================] - 17s 274ms/step - loss: 0.2031 - dice_coef: 0.7977 - iou: 0.6640 - recall: 0.4853 - precision: 0.9303 - val_loss: 0.3458 - val_dice_coef: 0.6549 - val_iou: 0.4888 - val_recall: 0.3552 - val_precision: 0.8948\n",
            "\n",
            "Epoch 00032: val_loss did not improve from 0.34536\n",
            "Epoch 33/100\n",
            "60/60 [==============================] - 16s 273ms/step - loss: 0.2016 - dice_coef: 0.7991 - iou: 0.6661 - recall: 0.4855 - precision: 0.9320 - val_loss: 0.3460 - val_dice_coef: 0.6548 - val_iou: 0.4886 - val_recall: 0.3547 - val_precision: 0.8952\n",
            "\n",
            "Epoch 00033: val_loss did not improve from 0.34536\n",
            "Epoch 34/100\n",
            "60/60 [==============================] - 16s 269ms/step - loss: 0.2003 - dice_coef: 0.8005 - iou: 0.6679 - recall: 0.4856 - precision: 0.9336 - val_loss: 0.3462 - val_dice_coef: 0.6546 - val_iou: 0.4884 - val_recall: 0.3543 - val_precision: 0.8956\n",
            "\n",
            "Epoch 00034: val_loss did not improve from 0.34536\n",
            "Epoch 35/100\n",
            "60/60 [==============================] - 16s 269ms/step - loss: 0.1992 - dice_coef: 0.8016 - iou: 0.6696 - recall: 0.4858 - precision: 0.9350 - val_loss: 0.3465 - val_dice_coef: 0.6543 - val_iou: 0.4882 - val_recall: 0.3539 - val_precision: 0.8958\n",
            "\n",
            "Epoch 00035: val_loss did not improve from 0.34536\n",
            "Epoch 36/100\n",
            "60/60 [==============================] - 17s 280ms/step - loss: 0.1981 - dice_coef: 0.8027 - iou: 0.6711 - recall: 0.4859 - precision: 0.9362 - val_loss: 0.3467 - val_dice_coef: 0.6540 - val_iou: 0.4879 - val_recall: 0.3534 - val_precision: 0.8961\n",
            "\n",
            "Epoch 00036: val_loss did not improve from 0.34536\n",
            "Epoch 37/100\n",
            "60/60 [==============================] - 16s 272ms/step - loss: 0.1971 - dice_coef: 0.8037 - iou: 0.6725 - recall: 0.4860 - precision: 0.9373 - val_loss: 0.3470 - val_dice_coef: 0.6538 - val_iou: 0.4876 - val_recall: 0.3530 - val_precision: 0.8962\n",
            "\n",
            "Epoch 00037: val_loss did not improve from 0.34536\n",
            "Epoch 38/100\n",
            "60/60 [==============================] - 16s 269ms/step - loss: 0.1962 - dice_coef: 0.8046 - iou: 0.6738 - recall: 0.4861 - precision: 0.9383 - val_loss: 0.3472 - val_dice_coef: 0.6536 - val_iou: 0.4874 - val_recall: 0.3526 - val_precision: 0.8965\n",
            "\n",
            "Epoch 00038: val_loss did not improve from 0.34536\n"
          ]
        },
        {
          "output_type": "execute_result",
          "data": {
            "text/plain": [
              "<keras.callbacks.History at 0x7feade203b90>"
            ]
          },
          "metadata": {},
          "execution_count": 25
        }
      ]
    },
    {
      "cell_type": "code",
      "metadata": {
        "id": "JFYSDdeJcABZ",
        "colab": {
          "base_uri": "https://localhost:8080/"
        },
        "outputId": "0669d8ed-8e84-41f0-a951-60a494940df8"
      },
      "source": [
        "print(\"Hello World\")"
      ],
      "execution_count": null,
      "outputs": [
        {
          "output_type": "stream",
          "name": "stdout",
          "text": [
            "Hello World\n"
          ]
        }
      ]
    },
    {
      "cell_type": "code",
      "metadata": {
        "id": "XtyaCtZCyS9H"
      },
      "source": [
        ""
      ],
      "execution_count": null,
      "outputs": []
    }
  ]
}