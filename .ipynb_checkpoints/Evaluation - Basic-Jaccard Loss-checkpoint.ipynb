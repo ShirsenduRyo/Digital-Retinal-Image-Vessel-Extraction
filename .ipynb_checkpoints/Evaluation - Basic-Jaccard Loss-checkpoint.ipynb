{
 "cells": [
  {
   "cell_type": "markdown",
   "id": "341bedfe",
   "metadata": {},
   "source": [
    "# Importing Packages"
   ]
  },
  {
   "cell_type": "code",
   "execution_count": 1,
   "id": "2cb28d4f",
   "metadata": {},
   "outputs": [],
   "source": [
    "import os\n",
    "import numpy as np\n",
    "import pandas as pd\n",
    "import cv2\n",
    "from glob import glob\n",
    "from tqdm import tqdm\n",
    "import tensorflow as tf\n",
    "from tensorflow.keras.utils import CustomObjectScope\n",
    "import imageio"
   ]
  },
  {
   "cell_type": "code",
   "execution_count": 2,
   "id": "1b212558",
   "metadata": {},
   "outputs": [],
   "source": [
    "from sklearn.metrics import accuracy_score, f1_score, jaccard_score, precision_score, recall_score\n",
    "from customMetrics import dice_loss, dice_coef, iou"
   ]
  },
  {
   "cell_type": "code",
   "execution_count": 3,
   "id": "d2caac35",
   "metadata": {},
   "outputs": [],
   "source": [
    "from sklearn.metrics import confusion_matrix"
   ]
  },
  {
   "cell_type": "code",
   "execution_count": 4,
   "id": "df0e7285",
   "metadata": {},
   "outputs": [],
   "source": [
    "from patchify import patchify, unpatchify"
   ]
  },
  {
   "cell_type": "code",
   "execution_count": 5,
   "id": "aa8d8f09",
   "metadata": {},
   "outputs": [],
   "source": [
    "physical_devices = tf.config.experimental.list_physical_devices('GPU')\n",
    "tf.config.experimental.set_memory_growth(physical_devices[0], True)"
   ]
  },
  {
   "cell_type": "markdown",
   "id": "f7d1cba1",
   "metadata": {},
   "source": [
    "# Loading Utils Functions"
   ]
  },
  {
   "cell_type": "code",
   "execution_count": 6,
   "id": "4e69b441",
   "metadata": {},
   "outputs": [],
   "source": [
    "def create_dir(path):\n",
    "    if not os.path.exists(path):\n",
    "        os.makedirs(path)"
   ]
  },
  {
   "cell_type": "code",
   "execution_count": 7,
   "id": "657e8a90",
   "metadata": {},
   "outputs": [],
   "source": [
    "def read_image(path):\n",
    "    src = cv2.imread(path, cv2.IMREAD_COLOR)\n",
    "    rgb = cv2.cvtColor(src, cv2.COLOR_BGR2RGB)\n",
    "    x = cv2.cvtColor(rgb, cv2.COLOR_RGB2BGR)\n",
    "    \n",
    "    top, bottom = [28] * 2\n",
    "    left, right = [37,38]\n",
    "    \n",
    "    x = cv2.copyMakeBorder(x, top, bottom, left, right, cv2.BORDER_CONSTANT, value= 0)\n",
    "    # x = cv2.resize(x, (W, H))\n",
    "    ori_x = x\n",
    "    x = x/255.0\n",
    "    x = x.astype(np.float32)\n",
    "    return ori_x, x"
   ]
  },
  {
   "cell_type": "code",
   "execution_count": 8,
   "id": "b4b228a5",
   "metadata": {},
   "outputs": [],
   "source": [
    "def read_gt(path):\n",
    "    x = imageio.mimread(path)[0]  ## (128, 128)\n",
    "    # x = cv2.resize(x, (W, H))\n",
    "    ori_x = x\n",
    "    x = x/255.0\n",
    "    x = x.astype(np.int32)\n",
    "    return ori_x, x"
   ]
  },
  {
   "cell_type": "code",
   "execution_count": 9,
   "id": "8394b02f",
   "metadata": {},
   "outputs": [],
   "source": [
    "def load_data(path):\n",
    "    x = sorted(glob(os.path.join(path, \"images\", \"*.tif\")))\n",
    "    y = sorted(glob(os.path.join(path, \"1st_manual\", \"*.gif\")))\n",
    "    return x, y"
   ]
  },
  {
   "cell_type": "code",
   "execution_count": 10,
   "id": "ed1f8d59",
   "metadata": {},
   "outputs": [],
   "source": [
    "def save_results(ori_x, ori_y, y_pred, save_image_path):\n",
    "    line = np.ones((H, 10, 3)) * 255\n",
    "\n",
    "    ori_y = np.expand_dims(ori_y, axis=-1)\n",
    "    ori_y = np.concatenate([ori_y, ori_y, ori_y], axis=-1)\n",
    "\n",
    "    y_pred = np.expand_dims(y_pred, axis=-1)\n",
    "    y_pred = np.concatenate([y_pred, y_pred, y_pred], axis=-1) * 255\n",
    "\n",
    "    cat_images = np.concatenate([ori_y, line, y_pred], axis=1)\n",
    "    \n",
    "    cv2.imwrite(save_image_path, cat_images)"
   ]
  },
  {
   "cell_type": "code",
   "execution_count": 13,
   "id": "860134ee",
   "metadata": {},
   "outputs": [],
   "source": [
    "def save_tests(y_pred, save_image_path):\n",
    "\n",
    "    y_pred = np.expand_dims(y_pred, axis=-1)\n",
    "    y_pred = np.concatenate([y_pred, y_pred, y_pred], axis=-1) * 255\n",
    "\n",
    "\n",
    "    cv2.imwrite(save_image_path, y_pred)"
   ]
  },
  {
   "cell_type": "code",
   "execution_count": 14,
   "id": "4a8dff88",
   "metadata": {},
   "outputs": [],
   "source": [
    "def get_metrics(cm):\n",
    "    tn, fp, fn, tp = cm.ravel()\n",
    "    sen = tp/(tp+fn)\n",
    "    spe = tn/(tn+fp) \n",
    "    return sen, spe"
   ]
  },
  {
   "cell_type": "code",
   "execution_count": null,
   "id": "c44712ce",
   "metadata": {},
   "outputs": [],
   "source": []
  },
  {
   "cell_type": "markdown",
   "id": "6d2811f4",
   "metadata": {},
   "source": [
    "# Setting The Environment"
   ]
  },
  {
   "cell_type": "code",
   "execution_count": 15,
   "id": "6ec48a50",
   "metadata": {},
   "outputs": [],
   "source": [
    "H = 584\n",
    "W = 565"
   ]
  },
  {
   "cell_type": "code",
   "execution_count": 16,
   "id": "9ff5413c",
   "metadata": {},
   "outputs": [],
   "source": [
    "data_path = \"D:\\\\Data sets\\\\DRIVE\""
   ]
  },
  {
   "cell_type": "code",
   "execution_count": 17,
   "id": "c9695839",
   "metadata": {},
   "outputs": [],
   "source": [
    "\"\"\" Save the results in this folder \"\"\"\n",
    "create_dir(\"results\")"
   ]
  },
  {
   "cell_type": "code",
   "execution_count": 18,
   "id": "0e718acc",
   "metadata": {},
   "outputs": [],
   "source": [
    "\"\"\" Load the model \"\"\"\n",
    "with CustomObjectScope({'iou': iou, 'dice_coef': dice_coef, 'dice_loss': dice_loss}):\n",
    "    model = tf.keras.models.load_model(\"modelDir/model128_basic.h5\")\n"
   ]
  },
  {
   "cell_type": "code",
   "execution_count": 19,
   "id": "642d7775",
   "metadata": {},
   "outputs": [],
   "source": [
    "\"\"\" Load the dataset \"\"\"\n",
    "traindataset_path = os.path.join(data_path,\"training\")\n",
    "train_x, train_y = load_data(traindataset_path)\n",
    "\n",
    "testdataset_path = os.path.join(data_path,\"test\")\n",
    "test_x, test_y = load_data(testdataset_path)"
   ]
  },
  {
   "cell_type": "code",
   "execution_count": 20,
   "id": "e8c3fc3f",
   "metadata": {},
   "outputs": [
    {
     "data": {
      "text/plain": [
       "('D:\\\\Data sets\\\\DRIVE\\\\test', 20)"
      ]
     },
     "execution_count": 20,
     "metadata": {},
     "output_type": "execute_result"
    }
   ],
   "source": [
    "testdataset_path,len(test_x)"
   ]
  },
  {
   "cell_type": "code",
   "execution_count": 21,
   "id": "f0d9ef1d",
   "metadata": {},
   "outputs": [
    {
     "data": {
      "text/plain": [
       "('D:\\\\Data sets\\\\DRIVE\\\\training', 20)"
      ]
     },
     "execution_count": 21,
     "metadata": {},
     "output_type": "execute_result"
    }
   ],
   "source": [
    "traindataset_path,len(train_x)"
   ]
  },
  {
   "cell_type": "code",
   "execution_count": 22,
   "id": "07b1a710",
   "metadata": {},
   "outputs": [],
   "source": [
    "from matplotlib import pyplot as plt"
   ]
  },
  {
   "cell_type": "markdown",
   "id": "4382ac4e",
   "metadata": {},
   "source": [
    "# Training Results"
   ]
  },
  {
   "cell_type": "code",
   "execution_count": 23,
   "id": "e21a5baf",
   "metadata": {},
   "outputs": [
    {
     "name": "stderr",
     "output_type": "stream",
     "text": [
      "\r",
      "  0%|                                                                                                                                                         | 0/20 [00:00<?, ?it/s]"
     ]
    },
    {
     "name": "stdout",
     "output_type": "stream",
     "text": [
      "21_training\n",
      "(640, 640, 3) (584, 565)\n",
      "(584, 565)\n",
      "results\\21_trainingTrain.png\n"
     ]
    },
    {
     "name": "stderr",
     "output_type": "stream",
     "text": [
      "\r",
      "  5%|███████▎                                                                                                                                         | 1/20 [00:32<10:09, 32.10s/it]"
     ]
    },
    {
     "name": "stdout",
     "output_type": "stream",
     "text": [
      "22_training\n",
      "(640, 640, 3) (584, 565)\n",
      "(584, 565)\n",
      "results\\22_trainingTrain.png\n"
     ]
    },
    {
     "name": "stderr",
     "output_type": "stream",
     "text": [
      "\r",
      " 10%|██████████████▌                                                                                                                                  | 2/20 [00:34<04:24, 14.70s/it]"
     ]
    },
    {
     "name": "stdout",
     "output_type": "stream",
     "text": [
      "23_training\n",
      "(640, 640, 3) (584, 565)\n",
      "(584, 565)\n",
      "results\\23_trainingTrain.png\n"
     ]
    },
    {
     "name": "stderr",
     "output_type": "stream",
     "text": [
      "\r",
      " 15%|█████████████████████▊                                                                                                                           | 3/20 [00:36<02:33,  9.04s/it]"
     ]
    },
    {
     "name": "stdout",
     "output_type": "stream",
     "text": [
      "24_training\n",
      "(640, 640, 3) (584, 565)\n",
      "(584, 565)\n",
      "results\\24_trainingTrain.png\n"
     ]
    },
    {
     "name": "stderr",
     "output_type": "stream",
     "text": [
      "\r",
      " 20%|█████████████████████████████                                                                                                                    | 4/20 [00:39<01:42,  6.42s/it]"
     ]
    },
    {
     "name": "stdout",
     "output_type": "stream",
     "text": [
      "25_training\n",
      "(640, 640, 3) (584, 565)\n",
      "(584, 565)\n",
      "results\\25_trainingTrain.png\n"
     ]
    },
    {
     "name": "stderr",
     "output_type": "stream",
     "text": [
      "\r",
      " 25%|████████████████████████████████████▎                                                                                                            | 5/20 [00:41<01:14,  4.95s/it]"
     ]
    },
    {
     "name": "stdout",
     "output_type": "stream",
     "text": [
      "26_training\n",
      "(640, 640, 3) (584, 565)\n",
      "(584, 565)\n",
      "results\\26_trainingTrain.png\n"
     ]
    },
    {
     "name": "stderr",
     "output_type": "stream",
     "text": [
      "\r",
      " 30%|███████████████████████████████████████████▌                                                                                                     | 6/20 [00:44<00:57,  4.08s/it]"
     ]
    },
    {
     "name": "stdout",
     "output_type": "stream",
     "text": [
      "27_training\n",
      "(640, 640, 3) (584, 565)\n",
      "(584, 565)\n",
      "results\\27_trainingTrain.png\n"
     ]
    },
    {
     "name": "stderr",
     "output_type": "stream",
     "text": [
      "\r",
      " 35%|██████████████████████████████████████████████████▊                                                                                              | 7/20 [00:46<00:45,  3.51s/it]"
     ]
    },
    {
     "name": "stdout",
     "output_type": "stream",
     "text": [
      "28_training\n",
      "(640, 640, 3) (584, 565)\n",
      "(584, 565)\n",
      "results\\28_trainingTrain.png\n"
     ]
    },
    {
     "name": "stderr",
     "output_type": "stream",
     "text": [
      "\r",
      " 40%|██████████████████████████████████████████████████████████                                                                                       | 8/20 [00:48<00:38,  3.17s/it]"
     ]
    },
    {
     "name": "stdout",
     "output_type": "stream",
     "text": [
      "29_training\n",
      "(640, 640, 3) (584, 565)\n",
      "(584, 565)\n",
      "results\\29_trainingTrain.png\n"
     ]
    },
    {
     "name": "stderr",
     "output_type": "stream",
     "text": [
      "\r",
      " 45%|█████████████████████████████████████████████████████████████████▎                                                                               | 9/20 [00:51<00:32,  2.95s/it]"
     ]
    },
    {
     "name": "stdout",
     "output_type": "stream",
     "text": [
      "30_training\n",
      "(640, 640, 3) (584, 565)\n",
      "(584, 565)\n",
      "results\\30_trainingTrain.png\n"
     ]
    },
    {
     "name": "stderr",
     "output_type": "stream",
     "text": [
      "\r",
      " 50%|████████████████████████████████████████████████████████████████████████                                                                        | 10/20 [00:53<00:27,  2.75s/it]"
     ]
    },
    {
     "name": "stdout",
     "output_type": "stream",
     "text": [
      "31_training\n",
      "(640, 640, 3) (584, 565)\n",
      "(584, 565)\n",
      "results\\31_trainingTrain.png\n"
     ]
    },
    {
     "name": "stderr",
     "output_type": "stream",
     "text": [
      "\r",
      " 55%|███████████████████████████████████████████████████████████████████████████████▏                                                                | 11/20 [00:56<00:24,  2.67s/it]"
     ]
    },
    {
     "name": "stdout",
     "output_type": "stream",
     "text": [
      "32_training\n",
      "(640, 640, 3) (584, 565)\n",
      "(584, 565)\n",
      "results\\32_trainingTrain.png\n"
     ]
    },
    {
     "name": "stderr",
     "output_type": "stream",
     "text": [
      "\r",
      " 60%|██████████████████████████████████████████████████████████████████████████████████████▍                                                         | 12/20 [00:58<00:21,  2.63s/it]"
     ]
    },
    {
     "name": "stdout",
     "output_type": "stream",
     "text": [
      "33_training\n",
      "(640, 640, 3) (584, 565)\n",
      "(584, 565)\n",
      "results\\33_trainingTrain.png\n"
     ]
    },
    {
     "name": "stderr",
     "output_type": "stream",
     "text": [
      "\r",
      " 65%|█████████████████████████████████████████████████████████████████████████████████████████████▌                                                  | 13/20 [01:01<00:18,  2.65s/it]"
     ]
    },
    {
     "name": "stdout",
     "output_type": "stream",
     "text": [
      "34_training\n",
      "(640, 640, 3) (584, 565)\n",
      "(584, 565)\n",
      "results\\34_trainingTrain.png\n"
     ]
    },
    {
     "name": "stderr",
     "output_type": "stream",
     "text": [
      "\r",
      " 70%|████████████████████████████████████████████████████████████████████████████████████████████████████▊                                           | 14/20 [01:03<00:15,  2.52s/it]"
     ]
    },
    {
     "name": "stdout",
     "output_type": "stream",
     "text": [
      "35_training\n",
      "(640, 640, 3) (584, 565)\n",
      "(584, 565)\n",
      "results\\35_trainingTrain.png\n"
     ]
    },
    {
     "name": "stderr",
     "output_type": "stream",
     "text": [
      "\r",
      " 75%|████████████████████████████████████████████████████████████████████████████████████████████████████████████                                    | 15/20 [01:05<00:12,  2.45s/it]"
     ]
    },
    {
     "name": "stdout",
     "output_type": "stream",
     "text": [
      "36_training\n",
      "(640, 640, 3) (584, 565)\n",
      "(584, 565)\n",
      "results\\36_trainingTrain.png\n"
     ]
    },
    {
     "name": "stderr",
     "output_type": "stream",
     "text": [
      "\r",
      " 80%|███████████████████████████████████████████████████████████████████████████████████████████████████████████████████▏                            | 16/20 [01:08<00:09,  2.42s/it]"
     ]
    },
    {
     "name": "stdout",
     "output_type": "stream",
     "text": [
      "37_training\n",
      "(640, 640, 3) (584, 565)\n",
      "(584, 565)\n",
      "results\\37_trainingTrain.png\n"
     ]
    },
    {
     "name": "stderr",
     "output_type": "stream",
     "text": [
      "\r",
      " 85%|██████████████████████████████████████████████████████████████████████████████████████████████████████████████████████████▍                     | 17/20 [01:11<00:07,  2.66s/it]"
     ]
    },
    {
     "name": "stdout",
     "output_type": "stream",
     "text": [
      "38_training\n",
      "(640, 640, 3) (584, 565)\n",
      "(584, 565)\n",
      "results\\38_trainingTrain.png\n"
     ]
    },
    {
     "name": "stderr",
     "output_type": "stream",
     "text": [
      "\r",
      " 90%|█████████████████████████████████████████████████████████████████████████████████████████████████████████████████████████████████▌              | 18/20 [01:13<00:05,  2.61s/it]"
     ]
    },
    {
     "name": "stdout",
     "output_type": "stream",
     "text": [
      "39_training\n",
      "(640, 640, 3) (584, 565)\n",
      "(584, 565)\n",
      "results\\39_trainingTrain.png\n"
     ]
    },
    {
     "name": "stderr",
     "output_type": "stream",
     "text": [
      "\r",
      " 95%|████████████████████████████████████████████████████████████████████████████████████████████████████████████████████████████████████████▊       | 19/20 [01:16<00:02,  2.62s/it]"
     ]
    },
    {
     "name": "stdout",
     "output_type": "stream",
     "text": [
      "40_training\n",
      "(640, 640, 3) (584, 565)\n",
      "(584, 565)\n",
      "results\\40_trainingTrain.png\n"
     ]
    },
    {
     "name": "stderr",
     "output_type": "stream",
     "text": [
      "100%|████████████████████████████████████████████████████████████████████████████████████████████████████████████████████████████████████████████████| 20/20 [01:19<00:00,  3.95s/it]\n"
     ]
    }
   ],
   "source": [
    "\"\"\" Make the prediction and calculate the metrics values \"\"\"\n",
    "SCORE = []\n",
    "\n",
    "for x, y in tqdm(zip(train_x, train_y), total=len(train_x)):\n",
    "    \n",
    "    \"\"\" Extracting name \"\"\"\n",
    "    name = x.split(\"\\\\\")[-1].split(\".\")[0]\n",
    "    print(name)\n",
    "    \"\"\" Read the image and mask \"\"\"\n",
    "    ori_x, x = read_image(x)\n",
    "    ori_y, y = read_gt(y)\n",
    "    \n",
    "    print(ori_x.shape, ori_y.shape)\n",
    "    \n",
    "    patches_img = patchify(x, (128, 128,3), step=128)\n",
    "    \n",
    "    pred_patches = []\n",
    "    for i in range(patches_img.shape[0]):\n",
    "        for j in range(patches_img.shape[1]):        \n",
    "            single_patch_img = patches_img[i,j,:,:][0]\n",
    "#             print(single_patch_img.shape)\n",
    "            \n",
    "            \"\"\" Prediction \"\"\"\n",
    "            y_pred = model.predict(np.expand_dims(single_patch_img, axis=0))[0]\n",
    "            y_pred = y_pred > 0.5\n",
    "            y_pred = y_pred.astype(np.int32)\n",
    "            y_pred = np.squeeze(y_pred, axis=-1)\n",
    "            \n",
    "            pred_patches.append(y_pred)\n",
    "    pred_patches_reshaped = np.reshape(pred_patches, (5, 5, 128,128) )\n",
    "    reconstructed_image = unpatchify(pred_patches_reshaped, (640,640))\n",
    "    \n",
    "    final_y_pred = reconstructed_image[28:-28,37:-38]\n",
    "    print(final_y_pred.shape)\n",
    "#     plt.imshow(final_y_pred, cmap='gray')\n",
    "    \n",
    "    \n",
    "    \"\"\" Saving the images \"\"\"\n",
    "    save_image_path = f\"results\\\\{name}Train.png\"\n",
    "    print(save_image_path)\n",
    "\n",
    "#     save_results(ori_x, ori_y, final_y_pred, save_image_path)\n",
    "\n",
    "    \"\"\" Flatten the array \"\"\"\n",
    "    y = y.flatten()\n",
    "    final_y_pred = final_y_pred.flatten()\n",
    "\n",
    "    \"\"\" Calculate the metrics \"\"\"\n",
    "    acc_value = accuracy_score(y, final_y_pred)\n",
    "    f1_value = f1_score(y, final_y_pred, labels=[0, 1], average=\"binary\")\n",
    "    jac_value = jaccard_score(y, final_y_pred, labels=[0, 1], average=\"binary\")\n",
    "    recall_value = recall_score(y, final_y_pred, labels=[0, 1], average=\"binary\")\n",
    "    precision_value = precision_score(y, final_y_pred, labels=[0, 1], average=\"binary\")\n",
    "    \n",
    "    cm = confusion_matrix(y, final_y_pred)\n",
    "    sensitivity, specificity = get_metrics(cm)\n",
    "    \n",
    "    SCORE.append([name, acc_value, f1_value, jac_value, recall_value, precision_value, sensitivity, specificity])"
   ]
  },
  {
   "cell_type": "code",
   "execution_count": 24,
   "id": "31e81a06",
   "metadata": {
    "scrolled": true
   },
   "outputs": [
    {
     "data": {
      "text/plain": [
       "[['21_training',\n",
       "  0.9711328645896472,\n",
       "  0.8009612370703166,\n",
       "  0.6680027884280237,\n",
       "  0.7772325411631114,\n",
       "  0.8261844203991896,\n",
       "  0.7772325411631114,\n",
       "  0.9867934045633504],\n",
       " ['22_training',\n",
       "  0.9705449145350952,\n",
       "  0.8199618398384677,\n",
       "  0.6948604439421054,\n",
       "  0.7424603307725854,\n",
       "  0.9155290808306445,\n",
       "  0.7424603307725854,\n",
       "  0.9931967576319919],\n",
       " ['23_training',\n",
       "  0.9788368287065099,\n",
       "  0.8265222467890592,\n",
       "  0.7043356761791854,\n",
       "  0.765778207429913,\n",
       "  0.897733405288721,\n",
       "  0.765778207429913,\n",
       "  0.9938521332610946],\n",
       " ['24_training',\n",
       "  0.9644290216996,\n",
       "  0.8267115501026118,\n",
       "  0.7046106608949514,\n",
       "  0.7323497868110597,\n",
       "  0.9489865093891939,\n",
       "  0.7323497868110597,\n",
       "  0.9948411378975838],\n",
       " ['25_training',\n",
       "  0.9500939507819129,\n",
       "  0.6663559923006788,\n",
       "  0.499650572756829,\n",
       "  0.519245950298399,\n",
       "  0.9297749632477667,\n",
       "  0.519245950298399,\n",
       "  0.9958362806789344],\n",
       " ['26_training',\n",
       "  0.9618014304764214,\n",
       "  0.7294001459916698,\n",
       "  0.5740596803082019,\n",
       "  0.616073695281616,\n",
       "  0.8938174164693502,\n",
       "  0.616073695281616,\n",
       "  0.9933264326839447],\n",
       " ['27_training',\n",
       "  0.9725087889441144,\n",
       "  0.8346789626200587,\n",
       "  0.7162652486706287,\n",
       "  0.7876380146527706,\n",
       "  0.8876957667855482,\n",
       "  0.7876380146527706,\n",
       "  0.9903718007092364],\n",
       " ['28_training',\n",
       "  0.971760213359195,\n",
       "  0.8474559622814485,\n",
       "  0.7352916110337775,\n",
       "  0.8031215092466178,\n",
       "  0.8969711671749376,\n",
       "  0.8031215092466178,\n",
       "  0.9900145096932812],\n",
       " ['29_training',\n",
       "  0.9597678506485635,\n",
       "  0.7603574329813161,\n",
       "  0.6133682830930537,\n",
       "  0.7588915714749018,\n",
       "  0.7618289683113877,\n",
       "  0.7588915714749018,\n",
       "  0.9782137527340351],\n",
       " ['30_training',\n",
       "  0.9633319190204873,\n",
       "  0.7199370384944793,\n",
       "  0.5624231464737793,\n",
       "  0.6007958584453716,\n",
       "  0.8980192874054398,\n",
       "  0.6007958584453716,\n",
       "  0.9941922414133308],\n",
       " ['31_training',\n",
       "  0.9816220147896715,\n",
       "  0.8410568253302579,\n",
       "  0.7257101501718835,\n",
       "  0.8063121921801186,\n",
       "  0.8789306453380081,\n",
       "  0.8063121921801186,\n",
       "  0.9928723932632828],\n",
       " ['32_training',\n",
       "  0.9736392289974543,\n",
       "  0.8205487930678771,\n",
       "  0.6957038902882732,\n",
       "  0.736955232730507,\n",
       "  0.9255329051475379,\n",
       "  0.736955232730507,\n",
       "  0.9947190536544148],\n",
       " ['33_training',\n",
       "  0.9690720087283307,\n",
       "  0.7929726330310592,\n",
       "  0.6569632592692192,\n",
       "  0.7323690324514727,\n",
       "  0.8645109921705666,\n",
       "  0.7323690324514727,\n",
       "  0.9899002222412736],\n",
       " ['34_training',\n",
       "  0.9618529518729543,\n",
       "  0.7716561145075559,\n",
       "  0.6282085364052578,\n",
       "  0.6587171307337318,\n",
       "  0.931336486249781,\n",
       "  0.6587171307337318,\n",
       "  0.9947324748969507],\n",
       " ['35_training',\n",
       "  0.9770396411686265,\n",
       "  0.8694738292960271,\n",
       "  0.7690877503124143,\n",
       "  0.8819026981686006,\n",
       "  0.8573904179408767,\n",
       "  0.8819026981686006,\n",
       "  0.9860725805381154],\n",
       " ['36_training',\n",
       "  0.9741271669293248,\n",
       "  0.8791597661613374,\n",
       "  0.7843756314406951,\n",
       "  0.865427488574295,\n",
       "  0.8933348675315709,\n",
       "  0.865427488574295,\n",
       "  0.9873910145676628],\n",
       " ['37_training',\n",
       "  0.9595405503697418,\n",
       "  0.782728988998112,\n",
       "  0.6430194935422627,\n",
       "  0.8337783017232412,\n",
       "  0.7375701622550072,\n",
       "  0.8337783017232412,\n",
       "  0.9715859842786406],\n",
       " ['38_training',\n",
       "  0.9729300521275306,\n",
       "  0.837759290878047,\n",
       "  0.7208139280467603,\n",
       "  0.8098114267654598,\n",
       "  0.8677051585957783,\n",
       "  0.8098114267654598,\n",
       "  0.988337650879154],\n",
       " ['39_training',\n",
       "  0.9767153594375075,\n",
       "  0.8605145149870191,\n",
       "  0.7551781275890638,\n",
       "  0.8360025398617187,\n",
       "  0.8865073130587663,\n",
       "  0.8360025398617187,\n",
       "  0.9899407185390502],\n",
       " ['40_training',\n",
       "  0.9713359195053946,\n",
       "  0.799703515459551,\n",
       "  0.6662549842972582,\n",
       "  0.7552097916083357,\n",
       "  0.8497682163913768,\n",
       "  0.7552097916083357,\n",
       "  0.9890542663112091]]"
      ]
     },
     "execution_count": 24,
     "metadata": {},
     "output_type": "execute_result"
    }
   ],
   "source": [
    "SCORE"
   ]
  },
  {
   "cell_type": "code",
   "execution_count": 25,
   "id": "21f0492e",
   "metadata": {},
   "outputs": [
    {
     "data": {
      "text/html": [
       "<div>\n",
       "<style scoped>\n",
       "    .dataframe tbody tr th:only-of-type {\n",
       "        vertical-align: middle;\n",
       "    }\n",
       "\n",
       "    .dataframe tbody tr th {\n",
       "        vertical-align: top;\n",
       "    }\n",
       "\n",
       "    .dataframe thead th {\n",
       "        text-align: right;\n",
       "    }\n",
       "</style>\n",
       "<table border=\"1\" class=\"dataframe\">\n",
       "  <thead>\n",
       "    <tr style=\"text-align: right;\">\n",
       "      <th></th>\n",
       "      <th>Image</th>\n",
       "      <th>Acc</th>\n",
       "      <th>F1</th>\n",
       "      <th>Jaccard</th>\n",
       "      <th>Recall</th>\n",
       "      <th>Precision</th>\n",
       "      <th>Sensitivity</th>\n",
       "      <th>Specificity</th>\n",
       "    </tr>\n",
       "  </thead>\n",
       "  <tbody>\n",
       "    <tr>\n",
       "      <th>0</th>\n",
       "      <td>21_training</td>\n",
       "      <td>0.971133</td>\n",
       "      <td>0.800961</td>\n",
       "      <td>0.668003</td>\n",
       "      <td>0.777233</td>\n",
       "      <td>0.826184</td>\n",
       "      <td>0.777233</td>\n",
       "      <td>0.986793</td>\n",
       "    </tr>\n",
       "    <tr>\n",
       "      <th>1</th>\n",
       "      <td>22_training</td>\n",
       "      <td>0.970545</td>\n",
       "      <td>0.819962</td>\n",
       "      <td>0.694860</td>\n",
       "      <td>0.742460</td>\n",
       "      <td>0.915529</td>\n",
       "      <td>0.742460</td>\n",
       "      <td>0.993197</td>\n",
       "    </tr>\n",
       "    <tr>\n",
       "      <th>2</th>\n",
       "      <td>23_training</td>\n",
       "      <td>0.978837</td>\n",
       "      <td>0.826522</td>\n",
       "      <td>0.704336</td>\n",
       "      <td>0.765778</td>\n",
       "      <td>0.897733</td>\n",
       "      <td>0.765778</td>\n",
       "      <td>0.993852</td>\n",
       "    </tr>\n",
       "    <tr>\n",
       "      <th>3</th>\n",
       "      <td>24_training</td>\n",
       "      <td>0.964429</td>\n",
       "      <td>0.826712</td>\n",
       "      <td>0.704611</td>\n",
       "      <td>0.732350</td>\n",
       "      <td>0.948987</td>\n",
       "      <td>0.732350</td>\n",
       "      <td>0.994841</td>\n",
       "    </tr>\n",
       "    <tr>\n",
       "      <th>4</th>\n",
       "      <td>25_training</td>\n",
       "      <td>0.950094</td>\n",
       "      <td>0.666356</td>\n",
       "      <td>0.499651</td>\n",
       "      <td>0.519246</td>\n",
       "      <td>0.929775</td>\n",
       "      <td>0.519246</td>\n",
       "      <td>0.995836</td>\n",
       "    </tr>\n",
       "    <tr>\n",
       "      <th>5</th>\n",
       "      <td>26_training</td>\n",
       "      <td>0.961801</td>\n",
       "      <td>0.729400</td>\n",
       "      <td>0.574060</td>\n",
       "      <td>0.616074</td>\n",
       "      <td>0.893817</td>\n",
       "      <td>0.616074</td>\n",
       "      <td>0.993326</td>\n",
       "    </tr>\n",
       "    <tr>\n",
       "      <th>6</th>\n",
       "      <td>27_training</td>\n",
       "      <td>0.972509</td>\n",
       "      <td>0.834679</td>\n",
       "      <td>0.716265</td>\n",
       "      <td>0.787638</td>\n",
       "      <td>0.887696</td>\n",
       "      <td>0.787638</td>\n",
       "      <td>0.990372</td>\n",
       "    </tr>\n",
       "    <tr>\n",
       "      <th>7</th>\n",
       "      <td>28_training</td>\n",
       "      <td>0.971760</td>\n",
       "      <td>0.847456</td>\n",
       "      <td>0.735292</td>\n",
       "      <td>0.803122</td>\n",
       "      <td>0.896971</td>\n",
       "      <td>0.803122</td>\n",
       "      <td>0.990015</td>\n",
       "    </tr>\n",
       "    <tr>\n",
       "      <th>8</th>\n",
       "      <td>29_training</td>\n",
       "      <td>0.959768</td>\n",
       "      <td>0.760357</td>\n",
       "      <td>0.613368</td>\n",
       "      <td>0.758892</td>\n",
       "      <td>0.761829</td>\n",
       "      <td>0.758892</td>\n",
       "      <td>0.978214</td>\n",
       "    </tr>\n",
       "    <tr>\n",
       "      <th>9</th>\n",
       "      <td>30_training</td>\n",
       "      <td>0.963332</td>\n",
       "      <td>0.719937</td>\n",
       "      <td>0.562423</td>\n",
       "      <td>0.600796</td>\n",
       "      <td>0.898019</td>\n",
       "      <td>0.600796</td>\n",
       "      <td>0.994192</td>\n",
       "    </tr>\n",
       "    <tr>\n",
       "      <th>10</th>\n",
       "      <td>31_training</td>\n",
       "      <td>0.981622</td>\n",
       "      <td>0.841057</td>\n",
       "      <td>0.725710</td>\n",
       "      <td>0.806312</td>\n",
       "      <td>0.878931</td>\n",
       "      <td>0.806312</td>\n",
       "      <td>0.992872</td>\n",
       "    </tr>\n",
       "    <tr>\n",
       "      <th>11</th>\n",
       "      <td>32_training</td>\n",
       "      <td>0.973639</td>\n",
       "      <td>0.820549</td>\n",
       "      <td>0.695704</td>\n",
       "      <td>0.736955</td>\n",
       "      <td>0.925533</td>\n",
       "      <td>0.736955</td>\n",
       "      <td>0.994719</td>\n",
       "    </tr>\n",
       "    <tr>\n",
       "      <th>12</th>\n",
       "      <td>33_training</td>\n",
       "      <td>0.969072</td>\n",
       "      <td>0.792973</td>\n",
       "      <td>0.656963</td>\n",
       "      <td>0.732369</td>\n",
       "      <td>0.864511</td>\n",
       "      <td>0.732369</td>\n",
       "      <td>0.989900</td>\n",
       "    </tr>\n",
       "    <tr>\n",
       "      <th>13</th>\n",
       "      <td>34_training</td>\n",
       "      <td>0.961853</td>\n",
       "      <td>0.771656</td>\n",
       "      <td>0.628209</td>\n",
       "      <td>0.658717</td>\n",
       "      <td>0.931336</td>\n",
       "      <td>0.658717</td>\n",
       "      <td>0.994732</td>\n",
       "    </tr>\n",
       "    <tr>\n",
       "      <th>14</th>\n",
       "      <td>35_training</td>\n",
       "      <td>0.977040</td>\n",
       "      <td>0.869474</td>\n",
       "      <td>0.769088</td>\n",
       "      <td>0.881903</td>\n",
       "      <td>0.857390</td>\n",
       "      <td>0.881903</td>\n",
       "      <td>0.986073</td>\n",
       "    </tr>\n",
       "    <tr>\n",
       "      <th>15</th>\n",
       "      <td>36_training</td>\n",
       "      <td>0.974127</td>\n",
       "      <td>0.879160</td>\n",
       "      <td>0.784376</td>\n",
       "      <td>0.865427</td>\n",
       "      <td>0.893335</td>\n",
       "      <td>0.865427</td>\n",
       "      <td>0.987391</td>\n",
       "    </tr>\n",
       "    <tr>\n",
       "      <th>16</th>\n",
       "      <td>37_training</td>\n",
       "      <td>0.959541</td>\n",
       "      <td>0.782729</td>\n",
       "      <td>0.643019</td>\n",
       "      <td>0.833778</td>\n",
       "      <td>0.737570</td>\n",
       "      <td>0.833778</td>\n",
       "      <td>0.971586</td>\n",
       "    </tr>\n",
       "    <tr>\n",
       "      <th>17</th>\n",
       "      <td>38_training</td>\n",
       "      <td>0.972930</td>\n",
       "      <td>0.837759</td>\n",
       "      <td>0.720814</td>\n",
       "      <td>0.809811</td>\n",
       "      <td>0.867705</td>\n",
       "      <td>0.809811</td>\n",
       "      <td>0.988338</td>\n",
       "    </tr>\n",
       "    <tr>\n",
       "      <th>18</th>\n",
       "      <td>39_training</td>\n",
       "      <td>0.976715</td>\n",
       "      <td>0.860515</td>\n",
       "      <td>0.755178</td>\n",
       "      <td>0.836003</td>\n",
       "      <td>0.886507</td>\n",
       "      <td>0.836003</td>\n",
       "      <td>0.989941</td>\n",
       "    </tr>\n",
       "    <tr>\n",
       "      <th>19</th>\n",
       "      <td>40_training</td>\n",
       "      <td>0.971336</td>\n",
       "      <td>0.799704</td>\n",
       "      <td>0.666255</td>\n",
       "      <td>0.755210</td>\n",
       "      <td>0.849768</td>\n",
       "      <td>0.755210</td>\n",
       "      <td>0.989054</td>\n",
       "    </tr>\n",
       "  </tbody>\n",
       "</table>\n",
       "</div>"
      ],
      "text/plain": [
       "          Image       Acc        F1   Jaccard    Recall  Precision  \\\n",
       "0   21_training  0.971133  0.800961  0.668003  0.777233   0.826184   \n",
       "1   22_training  0.970545  0.819962  0.694860  0.742460   0.915529   \n",
       "2   23_training  0.978837  0.826522  0.704336  0.765778   0.897733   \n",
       "3   24_training  0.964429  0.826712  0.704611  0.732350   0.948987   \n",
       "4   25_training  0.950094  0.666356  0.499651  0.519246   0.929775   \n",
       "5   26_training  0.961801  0.729400  0.574060  0.616074   0.893817   \n",
       "6   27_training  0.972509  0.834679  0.716265  0.787638   0.887696   \n",
       "7   28_training  0.971760  0.847456  0.735292  0.803122   0.896971   \n",
       "8   29_training  0.959768  0.760357  0.613368  0.758892   0.761829   \n",
       "9   30_training  0.963332  0.719937  0.562423  0.600796   0.898019   \n",
       "10  31_training  0.981622  0.841057  0.725710  0.806312   0.878931   \n",
       "11  32_training  0.973639  0.820549  0.695704  0.736955   0.925533   \n",
       "12  33_training  0.969072  0.792973  0.656963  0.732369   0.864511   \n",
       "13  34_training  0.961853  0.771656  0.628209  0.658717   0.931336   \n",
       "14  35_training  0.977040  0.869474  0.769088  0.881903   0.857390   \n",
       "15  36_training  0.974127  0.879160  0.784376  0.865427   0.893335   \n",
       "16  37_training  0.959541  0.782729  0.643019  0.833778   0.737570   \n",
       "17  38_training  0.972930  0.837759  0.720814  0.809811   0.867705   \n",
       "18  39_training  0.976715  0.860515  0.755178  0.836003   0.886507   \n",
       "19  40_training  0.971336  0.799704  0.666255  0.755210   0.849768   \n",
       "\n",
       "    Sensitivity  Specificity  \n",
       "0      0.777233     0.986793  \n",
       "1      0.742460     0.993197  \n",
       "2      0.765778     0.993852  \n",
       "3      0.732350     0.994841  \n",
       "4      0.519246     0.995836  \n",
       "5      0.616074     0.993326  \n",
       "6      0.787638     0.990372  \n",
       "7      0.803122     0.990015  \n",
       "8      0.758892     0.978214  \n",
       "9      0.600796     0.994192  \n",
       "10     0.806312     0.992872  \n",
       "11     0.736955     0.994719  \n",
       "12     0.732369     0.989900  \n",
       "13     0.658717     0.994732  \n",
       "14     0.881903     0.986073  \n",
       "15     0.865427     0.987391  \n",
       "16     0.833778     0.971586  \n",
       "17     0.809811     0.988338  \n",
       "18     0.836003     0.989941  \n",
       "19     0.755210     0.989054  "
      ]
     },
     "execution_count": 25,
     "metadata": {},
     "output_type": "execute_result"
    }
   ],
   "source": [
    "\n",
    "stat_df = pd.DataFrame(SCORE, columns=[\"Image\", \"Acc\", \"F1\", \"Jaccard\", \"Recall\", \"Precision\", \"Sensitivity\", \"Specificity\"])\n",
    "stat_df"
   ]
  },
  {
   "cell_type": "code",
   "execution_count": 26,
   "id": "206011ed",
   "metadata": {},
   "outputs": [
    {
     "name": "stdout",
     "output_type": "stream",
     "text": [
      "Accuracy: 0.96910\n",
      "F1: 0.80440\n",
      "Jaccard: 0.67591\n",
      "Recall: 0.75100\n",
      "Precision: 0.87746\n",
      "Sensitivity: 0.75100\n",
      "Specificity: 0.98976\n"
     ]
    }
   ],
   "source": [
    "score = [s[1:] for s in SCORE]\n",
    "score = np.mean(score, axis=0)\n",
    "print(f\"Accuracy: {score[0]:0.5f}\")\n",
    "print(f\"F1: {score[1]:0.5f}\")\n",
    "print(f\"Jaccard: {score[2]:0.5f}\")\n",
    "print(f\"Recall: {score[3]:0.5f}\")\n",
    "print(f\"Precision: {score[4]:0.5f}\")\n",
    "print(f\"Sensitivity: {score[5]:0.5f}\")\n",
    "print(f\"Specificity: {score[6]:0.5f}\")\n"
   ]
  },
  {
   "cell_type": "code",
   "execution_count": 27,
   "id": "596a0880",
   "metadata": {},
   "outputs": [],
   "source": [
    "rows = [\"Accuracy\", \"F1\", \"Jaccard\", \"Recall\", \"Precision\", \"Sensitivity\", \"Specificity\"]"
   ]
  },
  {
   "cell_type": "code",
   "execution_count": 28,
   "id": "2d191049",
   "metadata": {},
   "outputs": [
    {
     "data": {
      "text/html": [
       "<div>\n",
       "<style scoped>\n",
       "    .dataframe tbody tr th:only-of-type {\n",
       "        vertical-align: middle;\n",
       "    }\n",
       "\n",
       "    .dataframe tbody tr th {\n",
       "        vertical-align: top;\n",
       "    }\n",
       "\n",
       "    .dataframe thead th {\n",
       "        text-align: right;\n",
       "    }\n",
       "</style>\n",
       "<table border=\"1\" class=\"dataframe\">\n",
       "  <thead>\n",
       "    <tr style=\"text-align: right;\">\n",
       "      <th></th>\n",
       "      <th>Metrics</th>\n",
       "      <th>Model_128_basic</th>\n",
       "    </tr>\n",
       "  </thead>\n",
       "  <tbody>\n",
       "    <tr>\n",
       "      <th>0</th>\n",
       "      <td>Accuracy</td>\n",
       "      <td>0.969104</td>\n",
       "    </tr>\n",
       "    <tr>\n",
       "      <th>1</th>\n",
       "      <td>F1</td>\n",
       "      <td>0.804396</td>\n",
       "    </tr>\n",
       "    <tr>\n",
       "      <th>2</th>\n",
       "      <td>Jaccard</td>\n",
       "      <td>0.675909</td>\n",
       "    </tr>\n",
       "    <tr>\n",
       "      <th>3</th>\n",
       "      <td>Recall</td>\n",
       "      <td>0.751004</td>\n",
       "    </tr>\n",
       "    <tr>\n",
       "      <th>4</th>\n",
       "      <td>Precision</td>\n",
       "      <td>0.877456</td>\n",
       "    </tr>\n",
       "    <tr>\n",
       "      <th>5</th>\n",
       "      <td>Sensitivity</td>\n",
       "      <td>0.751004</td>\n",
       "    </tr>\n",
       "    <tr>\n",
       "      <th>6</th>\n",
       "      <td>Specificity</td>\n",
       "      <td>0.989762</td>\n",
       "    </tr>\n",
       "  </tbody>\n",
       "</table>\n",
       "</div>"
      ],
      "text/plain": [
       "       Metrics  Model_128_basic\n",
       "0     Accuracy         0.969104\n",
       "1           F1         0.804396\n",
       "2      Jaccard         0.675909\n",
       "3       Recall         0.751004\n",
       "4    Precision         0.877456\n",
       "5  Sensitivity         0.751004\n",
       "6  Specificity         0.989762"
      ]
     },
     "execution_count": 28,
     "metadata": {},
     "output_type": "execute_result"
    }
   ],
   "source": [
    "df = pd.DataFrame(\n",
    "    {'Metrics': rows,\n",
    "     'Model_128_basic': score,\n",
    "    })\n",
    "df"
   ]
  },
  {
   "cell_type": "code",
   "execution_count": 29,
   "id": "ddbb44f4",
   "metadata": {},
   "outputs": [],
   "source": [
    "\"\"\" Saving \"\"\"\n",
    "df.to_csv(\"score/train.csv\", index=False)"
   ]
  },
  {
   "cell_type": "code",
   "execution_count": 30,
   "id": "dd2585bc",
   "metadata": {},
   "outputs": [],
   "source": [
    "import seaborn as sns"
   ]
  },
  {
   "cell_type": "code",
   "execution_count": 32,
   "id": "b09006fc",
   "metadata": {},
   "outputs": [
    {
     "data": {
      "text/plain": [
       "[None,\n",
       " None,\n",
       " None,\n",
       " None,\n",
       " None,\n",
       " None,\n",
       " None,\n",
       " None,\n",
       " None,\n",
       " None,\n",
       " None,\n",
       " None,\n",
       " None,\n",
       " None,\n",
       " None,\n",
       " None,\n",
       " None,\n",
       " None,\n",
       " None,\n",
       " None,\n",
       " None,\n",
       " None,\n",
       " None,\n",
       " None,\n",
       " None,\n",
       " None,\n",
       " None,\n",
       " None,\n",
       " None,\n",
       " None,\n",
       " None,\n",
       " None,\n",
       " None,\n",
       " None,\n",
       " None,\n",
       " None,\n",
       " None,\n",
       " None,\n",
       " None,\n",
       " None]"
      ]
     },
     "execution_count": 32,
     "metadata": {},
     "output_type": "execute_result"
    },
    {
     "data": {
      "image/png": "[encoded data removed]",
      "text/plain": [
       "<Figure size 1440x720 with 1 Axes>"
      ]
     },
     "metadata": {},
     "output_type": "display_data"
    }
   ],
   "source": [
    "plt.figure(figsize=(20, 10))\n",
    "sns.set_style(\"darkgrid\")\n",
    "ax = sns.lineplot(data=stat_df, x=\"Image\", y=\"F1\", marker = \"o\")\n",
    "ax.axhline(stat_df[\"F1\"].mean(), color=\"orange\", linestyle=\"--\")\n",
    "ax.set(xlabel=\"X Label\", ylabel = \"F1\")\n",
    "plt.setp(ax.get_xticklabels(), rotation=90)\n"
   ]
  },
  {
   "cell_type": "markdown",
   "id": "dd8b04cd",
   "metadata": {},
   "source": [
    "# Test Results"
   ]
  },
  {
   "cell_type": "code",
   "execution_count": 33,
   "id": "1521d85b",
   "metadata": {},
   "outputs": [
    {
     "name": "stderr",
     "output_type": "stream",
     "text": [
      "\r",
      "  0%|                                                                                                                                                         | 0/20 [00:00<?, ?it/s]"
     ]
    },
    {
     "name": "stdout",
     "output_type": "stream",
     "text": [
      "01_test\n",
      "(640, 640, 3) (584, 565)\n",
      "(584, 565)\n",
      "results\\01_testTest.png\n"
     ]
    },
    {
     "name": "stderr",
     "output_type": "stream",
     "text": [
      "\r",
      "  5%|███████▎                                                                                                                                         | 1/20 [00:02<00:47,  2.51s/it]"
     ]
    },
    {
     "name": "stdout",
     "output_type": "stream",
     "text": [
      "02_test\n",
      "(640, 640, 3) (584, 565)\n",
      "(584, 565)\n",
      "results\\02_testTest.png\n"
     ]
    },
    {
     "name": "stderr",
     "output_type": "stream",
     "text": [
      "\r",
      " 10%|██████████████▌                                                                                                                                  | 2/20 [00:05<00:47,  2.63s/it]"
     ]
    },
    {
     "name": "stdout",
     "output_type": "stream",
     "text": [
      "03_test\n",
      "(640, 640, 3) (584, 565)\n",
      "(584, 565)\n",
      "results\\03_testTest.png\n"
     ]
    },
    {
     "name": "stderr",
     "output_type": "stream",
     "text": [
      "\r",
      " 15%|█████████████████████▊                                                                                                                           | 3/20 [00:07<00:41,  2.42s/it]"
     ]
    },
    {
     "name": "stdout",
     "output_type": "stream",
     "text": [
      "04_test\n",
      "(640, 640, 3) (584, 565)\n",
      "(584, 565)\n",
      "results\\04_testTest.png\n"
     ]
    },
    {
     "name": "stderr",
     "output_type": "stream",
     "text": [
      "\r",
      " 20%|█████████████████████████████                                                                                                                    | 4/20 [00:09<00:37,  2.33s/it]"
     ]
    },
    {
     "name": "stdout",
     "output_type": "stream",
     "text": [
      "05_test\n",
      "(640, 640, 3) (584, 565)\n",
      "(584, 565)\n",
      "results\\05_testTest.png\n"
     ]
    },
    {
     "name": "stderr",
     "output_type": "stream",
     "text": [
      "\r",
      " 25%|████████████████████████████████████▎                                                                                                            | 5/20 [00:11<00:34,  2.31s/it]"
     ]
    },
    {
     "name": "stdout",
     "output_type": "stream",
     "text": [
      "06_test\n",
      "(640, 640, 3) (584, 565)\n",
      "(584, 565)\n",
      "results\\06_testTest.png\n"
     ]
    },
    {
     "name": "stderr",
     "output_type": "stream",
     "text": [
      "\r",
      " 30%|███████████████████████████████████████████▌                                                                                                     | 6/20 [00:14<00:32,  2.31s/it]"
     ]
    },
    {
     "name": "stdout",
     "output_type": "stream",
     "text": [
      "07_test\n",
      "(640, 640, 3) (584, 565)\n",
      "(584, 565)\n",
      "results\\07_testTest.png\n"
     ]
    },
    {
     "name": "stderr",
     "output_type": "stream",
     "text": [
      "\r",
      " 35%|██████████████████████████████████████████████████▊                                                                                              | 7/20 [00:16<00:29,  2.31s/it]"
     ]
    },
    {
     "name": "stdout",
     "output_type": "stream",
     "text": [
      "08_test\n",
      "(640, 640, 3) (584, 565)\n",
      "(584, 565)\n",
      "results\\08_testTest.png\n"
     ]
    },
    {
     "name": "stderr",
     "output_type": "stream",
     "text": [
      "\r",
      " 40%|██████████████████████████████████████████████████████████                                                                                       | 8/20 [00:18<00:27,  2.30s/it]"
     ]
    },
    {
     "name": "stdout",
     "output_type": "stream",
     "text": [
      "09_test\n",
      "(640, 640, 3) (584, 565)\n",
      "(584, 565)\n",
      "results\\09_testTest.png\n"
     ]
    },
    {
     "name": "stderr",
     "output_type": "stream",
     "text": [
      "\r",
      " 45%|█████████████████████████████████████████████████████████████████▎                                                                               | 9/20 [00:21<00:27,  2.52s/it]"
     ]
    },
    {
     "name": "stdout",
     "output_type": "stream",
     "text": [
      "10_test\n",
      "(640, 640, 3) (584, 565)\n",
      "(584, 565)\n",
      "results\\10_testTest.png\n"
     ]
    },
    {
     "name": "stderr",
     "output_type": "stream",
     "text": [
      "\r",
      " 50%|████████████████████████████████████████████████████████████████████████                                                                        | 10/20 [00:24<00:24,  2.44s/it]"
     ]
    },
    {
     "name": "stdout",
     "output_type": "stream",
     "text": [
      "11_test\n",
      "(640, 640, 3) (584, 565)\n",
      "(584, 565)\n",
      "results\\11_testTest.png\n"
     ]
    },
    {
     "name": "stderr",
     "output_type": "stream",
     "text": [
      "\r",
      " 55%|███████████████████████████████████████████████████████████████████████████████▏                                                                | 11/20 [00:26<00:21,  2.35s/it]"
     ]
    },
    {
     "name": "stdout",
     "output_type": "stream",
     "text": [
      "12_test\n",
      "(640, 640, 3) (584, 565)\n",
      "(584, 565)\n",
      "results\\12_testTest.png\n"
     ]
    },
    {
     "name": "stderr",
     "output_type": "stream",
     "text": [
      "\r",
      " 60%|██████████████████████████████████████████████████████████████████████████████████████▍                                                         | 12/20 [00:28<00:18,  2.31s/it]"
     ]
    },
    {
     "name": "stdout",
     "output_type": "stream",
     "text": [
      "13_test\n",
      "(640, 640, 3) (584, 565)\n",
      "(584, 565)\n",
      "results\\13_testTest.png\n"
     ]
    },
    {
     "name": "stderr",
     "output_type": "stream",
     "text": [
      "\r",
      " 65%|█████████████████████████████████████████████████████████████████████████████████████████████▌                                                  | 13/20 [00:30<00:15,  2.26s/it]"
     ]
    },
    {
     "name": "stdout",
     "output_type": "stream",
     "text": [
      "14_test\n",
      "(640, 640, 3) (584, 565)\n",
      "(584, 565)\n",
      "results\\14_testTest.png\n"
     ]
    },
    {
     "name": "stderr",
     "output_type": "stream",
     "text": [
      "\r",
      " 70%|████████████████████████████████████████████████████████████████████████████████████████████████████▊                                           | 14/20 [00:32<00:13,  2.28s/it]"
     ]
    },
    {
     "name": "stdout",
     "output_type": "stream",
     "text": [
      "15_test\n",
      "(640, 640, 3) (584, 565)\n",
      "(584, 565)\n",
      "results\\15_testTest.png\n"
     ]
    },
    {
     "name": "stderr",
     "output_type": "stream",
     "text": [
      "\r",
      " 75%|████████████████████████████████████████████████████████████████████████████████████████████████████████████                                    | 15/20 [00:35<00:11,  2.30s/it]"
     ]
    },
    {
     "name": "stdout",
     "output_type": "stream",
     "text": [
      "16_test\n",
      "(640, 640, 3) (584, 565)\n",
      "(584, 565)\n",
      "results\\16_testTest.png\n"
     ]
    },
    {
     "name": "stderr",
     "output_type": "stream",
     "text": [
      "\r",
      " 80%|███████████████████████████████████████████████████████████████████████████████████████████████████████████████████▏                            | 16/20 [00:37<00:09,  2.35s/it]"
     ]
    },
    {
     "name": "stdout",
     "output_type": "stream",
     "text": [
      "17_test\n",
      "(640, 640, 3) (584, 565)\n",
      "(584, 565)\n",
      "results\\17_testTest.png\n"
     ]
    },
    {
     "name": "stderr",
     "output_type": "stream",
     "text": [
      "\r",
      " 85%|██████████████████████████████████████████████████████████████████████████████████████████████████████████████████████████▍                     | 17/20 [00:39<00:06,  2.31s/it]"
     ]
    },
    {
     "name": "stdout",
     "output_type": "stream",
     "text": [
      "18_test\n",
      "(640, 640, 3) (584, 565)\n",
      "(584, 565)\n",
      "results\\18_testTest.png\n"
     ]
    },
    {
     "name": "stderr",
     "output_type": "stream",
     "text": [
      "\r",
      " 90%|█████████████████████████████████████████████████████████████████████████████████████████████████████████████████████████████████▌              | 18/20 [00:42<00:04,  2.33s/it]"
     ]
    },
    {
     "name": "stdout",
     "output_type": "stream",
     "text": [
      "19_test\n",
      "(640, 640, 3) (584, 565)\n",
      "(584, 565)\n",
      "results\\19_testTest.png\n"
     ]
    },
    {
     "name": "stderr",
     "output_type": "stream",
     "text": [
      "\r",
      " 95%|████████████████████████████████████████████████████████████████████████████████████████████████████████████████████████████████████████▊       | 19/20 [00:44<00:02,  2.28s/it]"
     ]
    },
    {
     "name": "stdout",
     "output_type": "stream",
     "text": [
      "20_test\n",
      "(640, 640, 3) (584, 565)\n",
      "(584, 565)\n",
      "results\\20_testTest.png\n"
     ]
    },
    {
     "name": "stderr",
     "output_type": "stream",
     "text": [
      "100%|████████████████████████████████████████████████████████████████████████████████████████████████████████████████████████████████████████████████| 20/20 [00:46<00:00,  2.33s/it]\n"
     ]
    }
   ],
   "source": [
    "\"\"\" Make the prediction and calculate the metrics values \"\"\"\n",
    "SCORE = []\n",
    "\n",
    "for x, y in tqdm(zip(test_x, test_y), total=len(test_x)):\n",
    "    \n",
    "    \"\"\" Extracting name \"\"\"\n",
    "    name = x.split(\"\\\\\")[-1].split(\".\")[0]\n",
    "    print(name)\n",
    "    \"\"\" Read the image and mask \"\"\"\n",
    "    ori_x, x = read_image(x)\n",
    "    ori_y, y = read_gt(y)\n",
    "    \n",
    "    print(ori_x.shape, ori_y.shape)\n",
    "    \n",
    "    patches_img = patchify(x, (128, 128,3), step=128)\n",
    "    \n",
    "    pred_patches = []\n",
    "    for i in range(patches_img.shape[0]):\n",
    "        for j in range(patches_img.shape[1]):        \n",
    "            single_patch_img = patches_img[i,j,:,:][0]\n",
    "#             print(single_patch_img.shape)\n",
    "            \n",
    "            \"\"\" Prediction \"\"\"\n",
    "            y_pred = model.predict(np.expand_dims(single_patch_img, axis=0))[0]\n",
    "            y_pred = y_pred > 0.5\n",
    "            y_pred = y_pred.astype(np.int32)\n",
    "            y_pred = np.squeeze(y_pred, axis=-1)\n",
    "            \n",
    "            pred_patches.append(y_pred)\n",
    "    pred_patches_reshaped = np.reshape(pred_patches, (5, 5, 128,128) )\n",
    "    reconstructed_image = unpatchify(pred_patches_reshaped, (640,640))\n",
    "    \n",
    "    final_y_pred = reconstructed_image[28:-28,37:-38]\n",
    "    print(final_y_pred.shape)\n",
    "#     plt.imshow(final_y_pred, cmap='gray')\n",
    "    \n",
    "    \n",
    "    \"\"\" Saving the images \"\"\"\n",
    "    save_image_path = f\"results\\\\{name}Test.png\"\n",
    "    print(save_image_path)\n",
    "\n",
    "    save_results(ori_x, ori_y, final_y_pred, save_image_path)\n",
    "    save_tests(final_y_pred, save_image_path)\n",
    "\n",
    "    \"\"\" Flatten the array \"\"\"\n",
    "    y = y.flatten()\n",
    "    final_y_pred = final_y_pred.flatten()\n",
    "\n",
    "    \"\"\" Calculate the metrics \"\"\"\n",
    "    acc_value = accuracy_score(y, final_y_pred)\n",
    "    f1_value = f1_score(y, final_y_pred, labels=[0, 1], average=\"binary\")\n",
    "    jac_value = jaccard_score(y, final_y_pred, labels=[0, 1], average=\"binary\")\n",
    "    recall_value = recall_score(y, final_y_pred, labels=[0, 1], average=\"binary\")\n",
    "    precision_value = precision_score(y, final_y_pred, labels=[0, 1], average=\"binary\")\n",
    "    \n",
    "    cm = confusion_matrix(y, final_y_pred)\n",
    "    sensitivity, specificity = get_metrics(cm)\n",
    "    \n",
    "    SCORE.append([name, acc_value, f1_value, jac_value, recall_value, precision_value, sensitivity, specificity])"
   ]
  },
  {
   "cell_type": "code",
   "execution_count": 34,
   "id": "cc569d48",
   "metadata": {},
   "outputs": [
    {
     "name": "stdout",
     "output_type": "stream",
     "text": [
      "Accuracy: 0.96247\n",
      "F1: 0.75993\n",
      "Jaccard: 0.61613\n",
      "Recall: 0.69430\n",
      "Precision: 0.85810\n",
      "Sensitivity: 0.69430\n",
      "Specificity: 0.98855\n"
     ]
    }
   ],
   "source": [
    "score = [s[1:] for s in SCORE]\n",
    "score = np.mean(score, axis=0)\n",
    "print(f\"Accuracy: {score[0]:0.5f}\")\n",
    "print(f\"F1: {score[1]:0.5f}\")\n",
    "print(f\"Jaccard: {score[2]:0.5f}\")\n",
    "print(f\"Recall: {score[3]:0.5f}\")\n",
    "print(f\"Precision: {score[4]:0.5f}\")\n",
    "print(f\"Sensitivity: {score[5]:0.5f}\")\n",
    "print(f\"Specificity: {score[6]:0.5f}\")"
   ]
  },
  {
   "cell_type": "code",
   "execution_count": 35,
   "id": "0da47f55",
   "metadata": {},
   "outputs": [
    {
     "data": {
      "text/html": [
       "<div>\n",
       "<style scoped>\n",
       "    .dataframe tbody tr th:only-of-type {\n",
       "        vertical-align: middle;\n",
       "    }\n",
       "\n",
       "    .dataframe tbody tr th {\n",
       "        vertical-align: top;\n",
       "    }\n",
       "\n",
       "    .dataframe thead th {\n",
       "        text-align: right;\n",
       "    }\n",
       "</style>\n",
       "<table border=\"1\" class=\"dataframe\">\n",
       "  <thead>\n",
       "    <tr style=\"text-align: right;\">\n",
       "      <th></th>\n",
       "      <th>Image</th>\n",
       "      <th>Acc</th>\n",
       "      <th>F1</th>\n",
       "      <th>Jaccard</th>\n",
       "      <th>Recall</th>\n",
       "      <th>Precision</th>\n",
       "      <th>Sensitivity</th>\n",
       "      <th>Specificity</th>\n",
       "    </tr>\n",
       "  </thead>\n",
       "  <tbody>\n",
       "    <tr>\n",
       "      <th>0</th>\n",
       "      <td>01_test</td>\n",
       "      <td>0.965420</td>\n",
       "      <td>0.802534</td>\n",
       "      <td>0.670193</td>\n",
       "      <td>0.787568</td>\n",
       "      <td>0.818079</td>\n",
       "      <td>0.787568</td>\n",
       "      <td>0.982843</td>\n",
       "    </tr>\n",
       "    <tr>\n",
       "      <th>1</th>\n",
       "      <td>02_test</td>\n",
       "      <td>0.964935</td>\n",
       "      <td>0.813471</td>\n",
       "      <td>0.685589</td>\n",
       "      <td>0.746641</td>\n",
       "      <td>0.893441</td>\n",
       "      <td>0.746641</td>\n",
       "      <td>0.989840</td>\n",
       "    </tr>\n",
       "    <tr>\n",
       "      <th>2</th>\n",
       "      <td>03_test</td>\n",
       "      <td>0.936371</td>\n",
       "      <td>0.540299</td>\n",
       "      <td>0.370144</td>\n",
       "      <td>0.375095</td>\n",
       "      <td>0.965566</td>\n",
       "      <td>0.375095</td>\n",
       "      <td>0.998519</td>\n",
       "    </tr>\n",
       "    <tr>\n",
       "      <th>3</th>\n",
       "      <td>04_test</td>\n",
       "      <td>0.965505</td>\n",
       "      <td>0.796262</td>\n",
       "      <td>0.661492</td>\n",
       "      <td>0.732754</td>\n",
       "      <td>0.871825</td>\n",
       "      <td>0.732754</td>\n",
       "      <td>0.989086</td>\n",
       "    </tr>\n",
       "    <tr>\n",
       "      <th>4</th>\n",
       "      <td>05_test</td>\n",
       "      <td>0.959525</td>\n",
       "      <td>0.739542</td>\n",
       "      <td>0.586724</td>\n",
       "      <td>0.613354</td>\n",
       "      <td>0.931101</td>\n",
       "      <td>0.613354</td>\n",
       "      <td>0.995308</td>\n",
       "    </tr>\n",
       "    <tr>\n",
       "      <th>5</th>\n",
       "      <td>06_test</td>\n",
       "      <td>0.956431</td>\n",
       "      <td>0.730099</td>\n",
       "      <td>0.574926</td>\n",
       "      <td>0.605430</td>\n",
       "      <td>0.919425</td>\n",
       "      <td>0.605430</td>\n",
       "      <td>0.994279</td>\n",
       "    </tr>\n",
       "    <tr>\n",
       "      <th>6</th>\n",
       "      <td>07_test</td>\n",
       "      <td>0.961265</td>\n",
       "      <td>0.772907</td>\n",
       "      <td>0.629869</td>\n",
       "      <td>0.721345</td>\n",
       "      <td>0.832408</td>\n",
       "      <td>0.721345</td>\n",
       "      <td>0.985394</td>\n",
       "    </tr>\n",
       "    <tr>\n",
       "      <th>7</th>\n",
       "      <td>08_test</td>\n",
       "      <td>0.959635</td>\n",
       "      <td>0.732050</td>\n",
       "      <td>0.577349</td>\n",
       "      <td>0.640882</td>\n",
       "      <td>0.853457</td>\n",
       "      <td>0.640882</td>\n",
       "      <td>0.989641</td>\n",
       "    </tr>\n",
       "    <tr>\n",
       "      <th>8</th>\n",
       "      <td>09_test</td>\n",
       "      <td>0.960395</td>\n",
       "      <td>0.700385</td>\n",
       "      <td>0.538918</td>\n",
       "      <td>0.571183</td>\n",
       "      <td>0.905126</td>\n",
       "      <td>0.571183</td>\n",
       "      <td>0.994720</td>\n",
       "    </tr>\n",
       "    <tr>\n",
       "      <th>9</th>\n",
       "      <td>10_test</td>\n",
       "      <td>0.965653</td>\n",
       "      <td>0.777212</td>\n",
       "      <td>0.635607</td>\n",
       "      <td>0.727942</td>\n",
       "      <td>0.833636</td>\n",
       "      <td>0.727942</td>\n",
       "      <td>0.986972</td>\n",
       "    </tr>\n",
       "    <tr>\n",
       "      <th>10</th>\n",
       "      <td>11_test</td>\n",
       "      <td>0.961971</td>\n",
       "      <td>0.779597</td>\n",
       "      <td>0.638803</td>\n",
       "      <td>0.751278</td>\n",
       "      <td>0.810134</td>\n",
       "      <td>0.751278</td>\n",
       "      <td>0.982688</td>\n",
       "    </tr>\n",
       "    <tr>\n",
       "      <th>11</th>\n",
       "      <td>12_test</td>\n",
       "      <td>0.965084</td>\n",
       "      <td>0.781447</td>\n",
       "      <td>0.641291</td>\n",
       "      <td>0.722955</td>\n",
       "      <td>0.850237</td>\n",
       "      <td>0.722955</td>\n",
       "      <td>0.987966</td>\n",
       "    </tr>\n",
       "    <tr>\n",
       "      <th>12</th>\n",
       "      <td>13_test</td>\n",
       "      <td>0.960077</td>\n",
       "      <td>0.775760</td>\n",
       "      <td>0.633666</td>\n",
       "      <td>0.706346</td>\n",
       "      <td>0.860304</td>\n",
       "      <td>0.706346</td>\n",
       "      <td>0.987571</td>\n",
       "    </tr>\n",
       "    <tr>\n",
       "      <th>13</th>\n",
       "      <td>14_test</td>\n",
       "      <td>0.965960</td>\n",
       "      <td>0.780393</td>\n",
       "      <td>0.639873</td>\n",
       "      <td>0.748098</td>\n",
       "      <td>0.815603</td>\n",
       "      <td>0.748098</td>\n",
       "      <td>0.985123</td>\n",
       "    </tr>\n",
       "    <tr>\n",
       "      <th>14</th>\n",
       "      <td>15_test</td>\n",
       "      <td>0.966232</td>\n",
       "      <td>0.752741</td>\n",
       "      <td>0.603516</td>\n",
       "      <td>0.718218</td>\n",
       "      <td>0.790750</td>\n",
       "      <td>0.718218</td>\n",
       "      <td>0.985350</td>\n",
       "    </tr>\n",
       "    <tr>\n",
       "      <th>15</th>\n",
       "      <td>16_test</td>\n",
       "      <td>0.966484</td>\n",
       "      <td>0.796181</td>\n",
       "      <td>0.661380</td>\n",
       "      <td>0.725051</td>\n",
       "      <td>0.882786</td>\n",
       "      <td>0.725051</td>\n",
       "      <td>0.990445</td>\n",
       "    </tr>\n",
       "    <tr>\n",
       "      <th>16</th>\n",
       "      <td>17_test</td>\n",
       "      <td>0.960862</td>\n",
       "      <td>0.723256</td>\n",
       "      <td>0.566484</td>\n",
       "      <td>0.605881</td>\n",
       "      <td>0.897034</td>\n",
       "      <td>0.605881</td>\n",
       "      <td>0.993588</td>\n",
       "    </tr>\n",
       "    <tr>\n",
       "      <th>17</th>\n",
       "      <td>18_test</td>\n",
       "      <td>0.968590</td>\n",
       "      <td>0.792238</td>\n",
       "      <td>0.655955</td>\n",
       "      <td>0.755814</td>\n",
       "      <td>0.832350</td>\n",
       "      <td>0.755814</td>\n",
       "      <td>0.986900</td>\n",
       "    </tr>\n",
       "    <tr>\n",
       "      <th>18</th>\n",
       "      <td>19_test</td>\n",
       "      <td>0.968933</td>\n",
       "      <td>0.821340</td>\n",
       "      <td>0.696842</td>\n",
       "      <td>0.860875</td>\n",
       "      <td>0.785276</td>\n",
       "      <td>0.860875</td>\n",
       "      <td>0.978707</td>\n",
       "    </tr>\n",
       "    <tr>\n",
       "      <th>19</th>\n",
       "      <td>20_test</td>\n",
       "      <td>0.970072</td>\n",
       "      <td>0.790842</td>\n",
       "      <td>0.654043</td>\n",
       "      <td>0.769380</td>\n",
       "      <td>0.813535</td>\n",
       "      <td>0.769380</td>\n",
       "      <td>0.986002</td>\n",
       "    </tr>\n",
       "  </tbody>\n",
       "</table>\n",
       "</div>"
      ],
      "text/plain": [
       "      Image       Acc        F1   Jaccard    Recall  Precision  Sensitivity  \\\n",
       "0   01_test  0.965420  0.802534  0.670193  0.787568   0.818079     0.787568   \n",
       "1   02_test  0.964935  0.813471  0.685589  0.746641   0.893441     0.746641   \n",
       "2   03_test  0.936371  0.540299  0.370144  0.375095   0.965566     0.375095   \n",
       "3   04_test  0.965505  0.796262  0.661492  0.732754   0.871825     0.732754   \n",
       "4   05_test  0.959525  0.739542  0.586724  0.613354   0.931101     0.613354   \n",
       "5   06_test  0.956431  0.730099  0.574926  0.605430   0.919425     0.605430   \n",
       "6   07_test  0.961265  0.772907  0.629869  0.721345   0.832408     0.721345   \n",
       "7   08_test  0.959635  0.732050  0.577349  0.640882   0.853457     0.640882   \n",
       "8   09_test  0.960395  0.700385  0.538918  0.571183   0.905126     0.571183   \n",
       "9   10_test  0.965653  0.777212  0.635607  0.727942   0.833636     0.727942   \n",
       "10  11_test  0.961971  0.779597  0.638803  0.751278   0.810134     0.751278   \n",
       "11  12_test  0.965084  0.781447  0.641291  0.722955   0.850237     0.722955   \n",
       "12  13_test  0.960077  0.775760  0.633666  0.706346   0.860304     0.706346   \n",
       "13  14_test  0.965960  0.780393  0.639873  0.748098   0.815603     0.748098   \n",
       "14  15_test  0.966232  0.752741  0.603516  0.718218   0.790750     0.718218   \n",
       "15  16_test  0.966484  0.796181  0.661380  0.725051   0.882786     0.725051   \n",
       "16  17_test  0.960862  0.723256  0.566484  0.605881   0.897034     0.605881   \n",
       "17  18_test  0.968590  0.792238  0.655955  0.755814   0.832350     0.755814   \n",
       "18  19_test  0.968933  0.821340  0.696842  0.860875   0.785276     0.860875   \n",
       "19  20_test  0.970072  0.790842  0.654043  0.769380   0.813535     0.769380   \n",
       "\n",
       "    Specificity  \n",
       "0      0.982843  \n",
       "1      0.989840  \n",
       "2      0.998519  \n",
       "3      0.989086  \n",
       "4      0.995308  \n",
       "5      0.994279  \n",
       "6      0.985394  \n",
       "7      0.989641  \n",
       "8      0.994720  \n",
       "9      0.986972  \n",
       "10     0.982688  \n",
       "11     0.987966  \n",
       "12     0.987571  \n",
       "13     0.985123  \n",
       "14     0.985350  \n",
       "15     0.990445  \n",
       "16     0.993588  \n",
       "17     0.986900  \n",
       "18     0.978707  \n",
       "19     0.986002  "
      ]
     },
     "execution_count": 35,
     "metadata": {},
     "output_type": "execute_result"
    }
   ],
   "source": [
    "test_df = pd.DataFrame(SCORE, columns=[\"Image\", \"Acc\", \"F1\", \"Jaccard\", \"Recall\", \"Precision\", \"Sensitivity\", \"Specificity\"])\n",
    "test_df"
   ]
  },
  {
   "cell_type": "code",
   "execution_count": 36,
   "id": "44fc3705",
   "metadata": {},
   "outputs": [
    {
     "data": {
      "text/plain": [
       "[None,\n",
       " None,\n",
       " None,\n",
       " None,\n",
       " None,\n",
       " None,\n",
       " None,\n",
       " None,\n",
       " None,\n",
       " None,\n",
       " None,\n",
       " None,\n",
       " None,\n",
       " None,\n",
       " None,\n",
       " None,\n",
       " None,\n",
       " None,\n",
       " None,\n",
       " None,\n",
       " None,\n",
       " None,\n",
       " None,\n",
       " None,\n",
       " None,\n",
       " None,\n",
       " None,\n",
       " None,\n",
       " None,\n",
       " None,\n",
       " None,\n",
       " None,\n",
       " None,\n",
       " None,\n",
       " None,\n",
       " None,\n",
       " None,\n",
       " None,\n",
       " None,\n",
       " None]"
      ]
     },
     "execution_count": 36,
     "metadata": {},
     "output_type": "execute_result"
    },
    {
     "data": {
      "image/png": "[encoded data removed]",
      "text/plain": [
       "<Figure size 1440x720 with 1 Axes>"
      ]
     },
     "metadata": {},
     "output_type": "display_data"
    }
   ],
   "source": [
    "plt.figure(figsize=(20, 10))\n",
    "sns.set_style(\"darkgrid\")\n",
    "ax = sns.lineplot(data=test_df, x=\"Image\", y=\"F1\", marker = \"o\")\n",
    "ax.axhline(test_df[\"F1\"].mean(), color=\"orange\", linestyle=\"--\")\n",
    "ax.set(xlabel=\"X Label\", ylabel = \"F1\")\n",
    "plt.setp(ax.get_xticklabels(), rotation=90)\n"
   ]
  },
  {
   "cell_type": "code",
   "execution_count": 37,
   "id": "3143ac53",
   "metadata": {},
   "outputs": [
    {
     "data": {
      "text/html": [
       "<div>\n",
       "<style scoped>\n",
       "    .dataframe tbody tr th:only-of-type {\n",
       "        vertical-align: middle;\n",
       "    }\n",
       "\n",
       "    .dataframe tbody tr th {\n",
       "        vertical-align: top;\n",
       "    }\n",
       "\n",
       "    .dataframe thead th {\n",
       "        text-align: right;\n",
       "    }\n",
       "</style>\n",
       "<table border=\"1\" class=\"dataframe\">\n",
       "  <thead>\n",
       "    <tr style=\"text-align: right;\">\n",
       "      <th></th>\n",
       "      <th>Metrics</th>\n",
       "      <th>Model_128_basic</th>\n",
       "    </tr>\n",
       "  </thead>\n",
       "  <tbody>\n",
       "    <tr>\n",
       "      <th>0</th>\n",
       "      <td>Accuracy</td>\n",
       "      <td>0.962470</td>\n",
       "    </tr>\n",
       "    <tr>\n",
       "      <th>1</th>\n",
       "      <td>F1</td>\n",
       "      <td>0.759928</td>\n",
       "    </tr>\n",
       "    <tr>\n",
       "      <th>2</th>\n",
       "      <td>Jaccard</td>\n",
       "      <td>0.616133</td>\n",
       "    </tr>\n",
       "    <tr>\n",
       "      <th>3</th>\n",
       "      <td>Recall</td>\n",
       "      <td>0.694304</td>\n",
       "    </tr>\n",
       "    <tr>\n",
       "      <th>4</th>\n",
       "      <td>Precision</td>\n",
       "      <td>0.858104</td>\n",
       "    </tr>\n",
       "    <tr>\n",
       "      <th>5</th>\n",
       "      <td>Sensitivity</td>\n",
       "      <td>0.694304</td>\n",
       "    </tr>\n",
       "    <tr>\n",
       "      <th>6</th>\n",
       "      <td>Specificity</td>\n",
       "      <td>0.988547</td>\n",
       "    </tr>\n",
       "  </tbody>\n",
       "</table>\n",
       "</div>"
      ],
      "text/plain": [
       "       Metrics  Model_128_basic\n",
       "0     Accuracy         0.962470\n",
       "1           F1         0.759928\n",
       "2      Jaccard         0.616133\n",
       "3       Recall         0.694304\n",
       "4    Precision         0.858104\n",
       "5  Sensitivity         0.694304\n",
       "6  Specificity         0.988547"
      ]
     },
     "execution_count": 37,
     "metadata": {},
     "output_type": "execute_result"
    }
   ],
   "source": [
    "df = pd.DataFrame(\n",
    "    {'Metrics': rows,\n",
    "     'Model_128_basic': score,\n",
    "    })\n",
    "df"
   ]
  },
  {
   "cell_type": "code",
   "execution_count": 38,
   "id": "eca468bd",
   "metadata": {},
   "outputs": [],
   "source": [
    "\"\"\" Saving \"\"\"\n",
    "df.to_csv(\"score/test.csv\", index=False)"
   ]
  },
  {
   "cell_type": "code",
   "execution_count": null,
   "id": "d9fce5ae",
   "metadata": {},
   "outputs": [],
   "source": []
  },
  {
   "cell_type": "code",
   "execution_count": null,
   "id": "5d885ad2",
   "metadata": {},
   "outputs": [],
   "source": []
  }
 ],
 "metadata": {
  "kernelspec": {
   "display_name": "Python 3 (vanilla)",
   "language": "python",
   "name": "vanilla"
  },
  "language_info": {
   "codemirror_mode": {
    "name": "ipython",
    "version": 3
   },
   "file_extension": ".py",
   "mimetype": "text/x-python",
   "name": "python",
   "nbconvert_exporter": "python",
   "pygments_lexer": "ipython3",
   "version": "3.9.5"
  },
  "toc": {
   "base_numbering": 1,
   "nav_menu": {},
   "number_sections": true,
   "sideBar": true,
   "skip_h1_title": false,
   "title_cell": "Table of Contents",
   "title_sidebar": "Contents",
   "toc_cell": false,
   "toc_position": {},
   "toc_section_display": true,
   "toc_window_display": true
  },
  "varInspector": {
   "cols": {
    "lenName": 16,
    "lenType": 16,
    "lenVar": 40
   },
   "kernels_config": {
    "python": {
     "delete_cmd_postfix": "",
     "delete_cmd_prefix": "del ",
     "library": "var_list.py",
     "varRefreshCmd": "print(var_dic_list())"
    },
    "r": {
     "delete_cmd_postfix": ") ",
     "delete_cmd_prefix": "rm(",
     "library": "var_list.r",
     "varRefreshCmd": "cat(var_dic_list()) "
    }
   },
   "types_to_exclude": [
    "module",
    "function",
    "builtin_function_or_method",
    "instance",
    "_Feature"
   ],
   "window_display": false
  }
 },
 "nbformat": 4,
 "nbformat_minor": 5
}
