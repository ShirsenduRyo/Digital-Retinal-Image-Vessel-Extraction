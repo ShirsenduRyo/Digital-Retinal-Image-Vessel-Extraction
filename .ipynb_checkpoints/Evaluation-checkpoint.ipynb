{
 "cells": [
  {
   "cell_type": "markdown",
   "id": "341bedfe",
   "metadata": {},
   "source": [
    "# Importing Packages"
   ]
  },
  {
   "cell_type": "code",
   "execution_count": 1,
   "id": "2cb28d4f",
   "metadata": {},
   "outputs": [],
   "source": [
    "import os\n",
    "import numpy as np\n",
    "import pandas as pd\n",
    "import cv2\n",
    "from glob import glob\n",
    "from tqdm import tqdm\n",
    "import tensorflow as tf\n",
    "from tensorflow.keras.utils import CustomObjectScope\n",
    "import imageio"
   ]
  },
  {
   "cell_type": "code",
   "execution_count": 2,
   "id": "1b212558",
   "metadata": {},
   "outputs": [],
   "source": [
    "from sklearn.metrics import accuracy_score, f1_score, jaccard_score, precision_score, recall_score\n",
    "from customMetrics import dice_loss, dice_coef, iou"
   ]
  },
  {
   "cell_type": "code",
   "execution_count": 3,
   "id": "54226ae6",
   "metadata": {},
   "outputs": [],
   "source": [
    "from gammaTransformation import transform_adaimg"
   ]
  },
  {
   "cell_type": "code",
   "execution_count": 4,
   "id": "d2caac35",
   "metadata": {},
   "outputs": [],
   "source": [
    "from sklearn.metrics import confusion_matrix"
   ]
  },
  {
   "cell_type": "code",
   "execution_count": 5,
   "id": "df0e7285",
   "metadata": {},
   "outputs": [],
   "source": [
    "from patchify import patchify, unpatchify"
   ]
  },
  {
   "cell_type": "code",
   "execution_count": 6,
   "id": "aa8d8f09",
   "metadata": {},
   "outputs": [],
   "source": [
    "physical_devices = tf.config.experimental.list_physical_devices('GPU')\n",
    "tf.config.experimental.set_memory_growth(physical_devices[0], True)"
   ]
  },
  {
   "cell_type": "markdown",
   "id": "f7d1cba1",
   "metadata": {},
   "source": [
    "# Loading Utils Functions"
   ]
  },
  {
   "cell_type": "code",
   "execution_count": 7,
   "id": "4e69b441",
   "metadata": {},
   "outputs": [],
   "source": [
    "def create_dir(path):\n",
    "    if not os.path.exists(path):\n",
    "        os.makedirs(path)"
   ]
  },
  {
   "cell_type": "code",
   "execution_count": 8,
   "id": "657e8a90",
   "metadata": {},
   "outputs": [],
   "source": [
    "def read_image(path):\n",
    "    src = cv2.imread(path, cv2.IMREAD_COLOR)\n",
    "    rgb = cv2.cvtColor(src, cv2.COLOR_BGR2RGB)\n",
    "    x = cv2.cvtColor(transform_adaimg(rgb), cv2.COLOR_RGB2BGR)\n",
    "    \n",
    "    top, bottom = [28] * 2\n",
    "    left, right = [37,38]\n",
    "    \n",
    "    x = cv2.copyMakeBorder(x, top, bottom, left, right, cv2.BORDER_CONSTANT, value= 0)\n",
    "    # x = cv2.resize(x, (W, H))\n",
    "    ori_x = x\n",
    "    x = x/255.0\n",
    "    x = x.astype(np.float32)\n",
    "    return ori_x, x"
   ]
  },
  {
   "cell_type": "code",
   "execution_count": 9,
   "id": "b4b228a5",
   "metadata": {},
   "outputs": [],
   "source": [
    "def read_gt(path):\n",
    "    x = imageio.mimread(path)[0]  ## (128, 128)\n",
    "    # x = cv2.resize(x, (W, H))\n",
    "    ori_x = x\n",
    "    x = x/255.0\n",
    "    x = x.astype(np.int32)\n",
    "    return ori_x, x"
   ]
  },
  {
   "cell_type": "code",
   "execution_count": 10,
   "id": "8394b02f",
   "metadata": {},
   "outputs": [],
   "source": [
    "def load_data(path):\n",
    "    x = sorted(glob(os.path.join(path, \"images\", \"*.tif\")))\n",
    "    y = sorted(glob(os.path.join(path, \"1st_manual\", \"*.gif\")))\n",
    "    return x, y"
   ]
  },
  {
   "cell_type": "code",
   "execution_count": 11,
   "id": "ed1f8d59",
   "metadata": {},
   "outputs": [],
   "source": [
    "def save_results(ori_x, ori_y, y_pred, save_image_path):\n",
    "    line = np.ones((H, 10, 3)) * 255\n",
    "\n",
    "    ori_y = np.expand_dims(ori_y, axis=-1)\n",
    "    ori_y = np.concatenate([ori_y, ori_y, ori_y], axis=-1)\n",
    "\n",
    "    y_pred = np.expand_dims(y_pred, axis=-1)\n",
    "    y_pred = np.concatenate([y_pred, y_pred, y_pred], axis=-1) * 255\n",
    "\n",
    "    cat_images = np.concatenate([ori_y, line, y_pred], axis=1)\n",
    "    \n",
    "    cv2.imwrite(save_image_path, cat_images)"
   ]
  },
  {
   "cell_type": "code",
   "execution_count": 12,
   "id": "ad886862",
   "metadata": {},
   "outputs": [],
   "source": [
    "def save_tests(y_pred, save_image_path):\n",
    "\n",
    "    y_pred = np.expand_dims(y_pred, axis=-1)\n",
    "    y_pred = np.concatenate([y_pred, y_pred, y_pred], axis=-1) * 255\n",
    "\n",
    "\n",
    "    cv2.imwrite(save_image_path, y_pred)"
   ]
  },
  {
   "cell_type": "code",
   "execution_count": 13,
   "id": "4a8dff88",
   "metadata": {},
   "outputs": [],
   "source": [
    "def get_metrics(cm):\n",
    "    tn, fp, fn, tp = cm.ravel()\n",
    "    sen = tp/(tp+fn)\n",
    "    spe = tn/(tn+fp) \n",
    "    return sen, spe"
   ]
  },
  {
   "cell_type": "code",
   "execution_count": null,
   "id": "c44712ce",
   "metadata": {},
   "outputs": [],
   "source": []
  },
  {
   "cell_type": "markdown",
   "id": "6d2811f4",
   "metadata": {},
   "source": [
    "# Setting The Environment"
   ]
  },
  {
   "cell_type": "code",
   "execution_count": 14,
   "id": "6ec48a50",
   "metadata": {},
   "outputs": [],
   "source": [
    "H = 584\n",
    "W = 565"
   ]
  },
  {
   "cell_type": "code",
   "execution_count": 15,
   "id": "9ff5413c",
   "metadata": {},
   "outputs": [],
   "source": [
    "data_path = \"D:\\\\Data sets\\\\DRIVE\""
   ]
  },
  {
   "cell_type": "code",
   "execution_count": 16,
   "id": "c9695839",
   "metadata": {},
   "outputs": [],
   "source": [
    "\"\"\" Save the results in this folder \"\"\"\n",
    "create_dir(\"results\")"
   ]
  },
  {
   "cell_type": "code",
   "execution_count": 17,
   "id": "0e718acc",
   "metadata": {},
   "outputs": [],
   "source": [
    "\"\"\" Load the model \"\"\"\n",
    "with CustomObjectScope({'iou': iou, 'dice_coef': dice_coef, 'dice_loss': dice_loss}):\n",
    "    model = tf.keras.models.load_model(\"modelDir/model128_2.h5\")\n"
   ]
  },
  {
   "cell_type": "code",
   "execution_count": 18,
   "id": "642d7775",
   "metadata": {},
   "outputs": [],
   "source": [
    "\"\"\" Load the dataset \"\"\"\n",
    "traindataset_path = os.path.join(data_path,\"training\")\n",
    "train_x, train_y = load_data(traindataset_path)\n",
    "\n",
    "testdataset_path = os.path.join(data_path,\"test\")\n",
    "test_x, test_y = load_data(testdataset_path)"
   ]
  },
  {
   "cell_type": "code",
   "execution_count": 19,
   "id": "e8c3fc3f",
   "metadata": {},
   "outputs": [
    {
     "data": {
      "text/plain": [
       "('D:\\\\Data sets\\\\DRIVE\\\\test', 20)"
      ]
     },
     "execution_count": 19,
     "metadata": {},
     "output_type": "execute_result"
    }
   ],
   "source": [
    "testdataset_path,len(test_x)"
   ]
  },
  {
   "cell_type": "code",
   "execution_count": 20,
   "id": "f0d9ef1d",
   "metadata": {},
   "outputs": [
    {
     "data": {
      "text/plain": [
       "('D:\\\\Data sets\\\\DRIVE\\\\training', 20)"
      ]
     },
     "execution_count": 20,
     "metadata": {},
     "output_type": "execute_result"
    }
   ],
   "source": [
    "traindataset_path,len(train_x)"
   ]
  },
  {
   "cell_type": "code",
   "execution_count": 21,
   "id": "07b1a710",
   "metadata": {},
   "outputs": [],
   "source": [
    "from matplotlib import pyplot as plt"
   ]
  },
  {
   "cell_type": "code",
   "execution_count": 26,
   "id": "b9b749ee",
   "metadata": {},
   "outputs": [
    {
     "name": "stderr",
     "output_type": "stream",
     "text": [
      "\r",
      "  0%|                                                                                                                                                         | 0/20 [00:00<?, ?it/s]"
     ]
    },
    {
     "name": "stdout",
     "output_type": "stream",
     "text": [
      "21_training\n",
      "(640, 640, 3) (584, 565)\n",
      "(584, 565)\n",
      "results\\21_trainingTrain.png\n"
     ]
    },
    {
     "name": "stderr",
     "output_type": "stream",
     "text": [
      "\r",
      "  5%|███████▎                                                                                                                                         | 1/20 [00:02<00:43,  2.28s/it]"
     ]
    },
    {
     "name": "stdout",
     "output_type": "stream",
     "text": [
      "22_training\n",
      "(640, 640, 3) (584, 565)\n",
      "(584, 565)\n",
      "results\\22_trainingTrain.png\n"
     ]
    },
    {
     "name": "stderr",
     "output_type": "stream",
     "text": [
      "\r",
      " 10%|██████████████▌                                                                                                                                  | 2/20 [00:04<00:39,  2.17s/it]"
     ]
    },
    {
     "name": "stdout",
     "output_type": "stream",
     "text": [
      "23_training\n",
      "(640, 640, 3) (584, 565)\n",
      "(584, 565)\n",
      "results\\23_trainingTrain.png\n"
     ]
    },
    {
     "name": "stderr",
     "output_type": "stream",
     "text": [
      "\r",
      " 15%|█████████████████████▊                                                                                                                           | 3/20 [00:06<00:36,  2.15s/it]"
     ]
    },
    {
     "name": "stdout",
     "output_type": "stream",
     "text": [
      "24_training\n",
      "(640, 640, 3) (584, 565)\n",
      "(584, 565)\n",
      "results\\24_trainingTrain.png\n"
     ]
    },
    {
     "name": "stderr",
     "output_type": "stream",
     "text": [
      "\r",
      " 20%|█████████████████████████████                                                                                                                    | 4/20 [00:08<00:33,  2.12s/it]"
     ]
    },
    {
     "name": "stdout",
     "output_type": "stream",
     "text": [
      "25_training\n",
      "(640, 640, 3) (584, 565)\n",
      "(584, 565)\n",
      "results\\25_trainingTrain.png\n"
     ]
    },
    {
     "name": "stderr",
     "output_type": "stream",
     "text": [
      "\r",
      " 25%|████████████████████████████████████▎                                                                                                            | 5/20 [00:10<00:32,  2.14s/it]"
     ]
    },
    {
     "name": "stdout",
     "output_type": "stream",
     "text": [
      "26_training\n",
      "(640, 640, 3) (584, 565)\n",
      "(584, 565)\n",
      "results\\26_trainingTrain.png\n"
     ]
    },
    {
     "name": "stderr",
     "output_type": "stream",
     "text": [
      "\r",
      " 30%|███████████████████████████████████████████▌                                                                                                     | 6/20 [00:12<00:29,  2.13s/it]"
     ]
    },
    {
     "name": "stdout",
     "output_type": "stream",
     "text": [
      "27_training\n",
      "(640, 640, 3) (584, 565)\n",
      "(584, 565)\n",
      "results\\27_trainingTrain.png\n"
     ]
    },
    {
     "name": "stderr",
     "output_type": "stream",
     "text": [
      "\r",
      " 35%|██████████████████████████████████████████████████▊                                                                                              | 7/20 [00:15<00:28,  2.19s/it]"
     ]
    },
    {
     "name": "stdout",
     "output_type": "stream",
     "text": [
      "28_training\n",
      "(640, 640, 3) (584, 565)\n",
      "(584, 565)\n",
      "results\\28_trainingTrain.png\n"
     ]
    },
    {
     "name": "stderr",
     "output_type": "stream",
     "text": [
      "\r",
      " 40%|██████████████████████████████████████████████████████████                                                                                       | 8/20 [00:17<00:25,  2.16s/it]"
     ]
    },
    {
     "name": "stdout",
     "output_type": "stream",
     "text": [
      "29_training\n",
      "(640, 640, 3) (584, 565)\n",
      "(584, 565)\n",
      "results\\29_trainingTrain.png\n"
     ]
    },
    {
     "name": "stderr",
     "output_type": "stream",
     "text": [
      "\r",
      " 45%|█████████████████████████████████████████████████████████████████▎                                                                               | 9/20 [00:19<00:23,  2.13s/it]"
     ]
    },
    {
     "name": "stdout",
     "output_type": "stream",
     "text": [
      "30_training\n",
      "(640, 640, 3) (584, 565)\n",
      "(584, 565)\n",
      "results\\30_trainingTrain.png\n"
     ]
    },
    {
     "name": "stderr",
     "output_type": "stream",
     "text": [
      "\r",
      " 50%|████████████████████████████████████████████████████████████████████████                                                                        | 10/20 [00:21<00:21,  2.12s/it]"
     ]
    },
    {
     "name": "stdout",
     "output_type": "stream",
     "text": [
      "31_training\n",
      "(640, 640, 3) (584, 565)\n",
      "(584, 565)\n",
      "results\\31_trainingTrain.png\n"
     ]
    },
    {
     "name": "stderr",
     "output_type": "stream",
     "text": [
      "\r",
      " 55%|███████████████████████████████████████████████████████████████████████████████▏                                                                | 11/20 [00:23<00:19,  2.12s/it]"
     ]
    },
    {
     "name": "stdout",
     "output_type": "stream",
     "text": [
      "32_training\n",
      "(640, 640, 3) (584, 565)\n",
      "(584, 565)\n",
      "results\\32_trainingTrain.png\n"
     ]
    },
    {
     "name": "stderr",
     "output_type": "stream",
     "text": [
      "\r",
      " 60%|██████████████████████████████████████████████████████████████████████████████████████▍                                                         | 12/20 [00:25<00:16,  2.12s/it]"
     ]
    },
    {
     "name": "stdout",
     "output_type": "stream",
     "text": [
      "33_training\n",
      "(640, 640, 3) (584, 565)\n",
      "(584, 565)\n",
      "results\\33_trainingTrain.png\n"
     ]
    },
    {
     "name": "stderr",
     "output_type": "stream",
     "text": [
      "\r",
      " 65%|█████████████████████████████████████████████████████████████████████████████████████████████▌                                                  | 13/20 [00:27<00:14,  2.14s/it]"
     ]
    },
    {
     "name": "stdout",
     "output_type": "stream",
     "text": [
      "34_training\n",
      "(640, 640, 3) (584, 565)\n",
      "(584, 565)\n",
      "results\\34_trainingTrain.png\n"
     ]
    },
    {
     "name": "stderr",
     "output_type": "stream",
     "text": [
      "\r",
      " 70%|████████████████████████████████████████████████████████████████████████████████████████████████████▊                                           | 14/20 [00:30<00:13,  2.19s/it]"
     ]
    },
    {
     "name": "stdout",
     "output_type": "stream",
     "text": [
      "35_training\n",
      "(640, 640, 3) (584, 565)\n",
      "(584, 565)\n",
      "results\\35_trainingTrain.png\n"
     ]
    },
    {
     "name": "stderr",
     "output_type": "stream",
     "text": [
      "\r",
      " 75%|████████████████████████████████████████████████████████████████████████████████████████████████████████████                                    | 15/20 [00:32<00:10,  2.17s/it]"
     ]
    },
    {
     "name": "stdout",
     "output_type": "stream",
     "text": [
      "36_training\n",
      "(640, 640, 3) (584, 565)\n",
      "(584, 565)\n",
      "results\\36_trainingTrain.png\n"
     ]
    },
    {
     "name": "stderr",
     "output_type": "stream",
     "text": [
      "\r",
      " 80%|███████████████████████████████████████████████████████████████████████████████████████████████████████████████████▏                            | 16/20 [00:34<00:08,  2.16s/it]"
     ]
    },
    {
     "name": "stdout",
     "output_type": "stream",
     "text": [
      "37_training\n",
      "(640, 640, 3) (584, 565)\n",
      "(584, 565)\n",
      "results\\37_trainingTrain.png\n"
     ]
    },
    {
     "name": "stderr",
     "output_type": "stream",
     "text": [
      "\r",
      " 85%|██████████████████████████████████████████████████████████████████████████████████████████████████████████████████████████▍                     | 17/20 [00:36<00:06,  2.14s/it]"
     ]
    },
    {
     "name": "stdout",
     "output_type": "stream",
     "text": [
      "38_training\n",
      "(640, 640, 3) (584, 565)\n",
      "(584, 565)\n",
      "results\\38_trainingTrain.png\n"
     ]
    },
    {
     "name": "stderr",
     "output_type": "stream",
     "text": [
      "\r",
      " 90%|█████████████████████████████████████████████████████████████████████████████████████████████████████████████████████████████████▌              | 18/20 [00:38<00:04,  2.14s/it]"
     ]
    },
    {
     "name": "stdout",
     "output_type": "stream",
     "text": [
      "39_training\n",
      "(640, 640, 3) (584, 565)\n",
      "(584, 565)\n",
      "results\\39_trainingTrain.png\n"
     ]
    },
    {
     "name": "stderr",
     "output_type": "stream",
     "text": [
      "\r",
      " 95%|████████████████████████████████████████████████████████████████████████████████████████████████████████████████████████████████████████▊       | 19/20 [00:40<00:02,  2.13s/it]"
     ]
    },
    {
     "name": "stdout",
     "output_type": "stream",
     "text": [
      "40_training\n",
      "(640, 640, 3) (584, 565)\n",
      "(584, 565)\n",
      "results\\40_trainingTrain.png\n"
     ]
    },
    {
     "name": "stderr",
     "output_type": "stream",
     "text": [
      "100%|████████████████████████████████████████████████████████████████████████████████████████████████████████████████████████████████████████████████| 20/20 [00:42<00:00,  2.14s/it]\n"
     ]
    }
   ],
   "source": [
    "\"\"\" Make the prediction and calculate the metrics values \"\"\"\n",
    "SCORE = []\n",
    "\n",
    "for x, y in tqdm(zip(train_x, train_y), total=len(train_x)):\n",
    "    \n",
    "    \"\"\" Extracting name \"\"\"\n",
    "    name = x.split(\"\\\\\")[-1].split(\".\")[0]\n",
    "    print(name)\n",
    "    \"\"\" Read the image and mask \"\"\"\n",
    "    ori_x, x = read_image(x)\n",
    "    ori_y, y = read_gt(y)\n",
    "    \n",
    "    print(ori_x.shape, ori_y.shape)\n",
    "    \n",
    "    patches_img = patchify(x, (128, 128,3), step=128)\n",
    "    \n",
    "    pred_patches = []\n",
    "    for i in range(patches_img.shape[0]):\n",
    "        for j in range(patches_img.shape[1]):        \n",
    "            single_patch_img = patches_img[i,j,:,:][0]\n",
    "#             print(single_patch_img.shape)\n",
    "            \n",
    "            \"\"\" Prediction \"\"\"\n",
    "            y_pred = model.predict(np.expand_dims(single_patch_img, axis=0))[0]\n",
    "            y_pred = y_pred > 0.5\n",
    "            y_pred = y_pred.astype(np.int32)\n",
    "            y_pred = np.squeeze(y_pred, axis=-1)\n",
    "            \n",
    "            pred_patches.append(y_pred)\n",
    "    pred_patches_reshaped = np.reshape(pred_patches, (5, 5, 128,128) )\n",
    "    reconstructed_image = unpatchify(pred_patches_reshaped, (640,640))\n",
    "    \n",
    "    final_y_pred = reconstructed_image[28:-28,37:-38]\n",
    "    print(final_y_pred.shape)\n",
    "#     plt.imshow(final_y_pred, cmap='gray')\n",
    "    \n",
    "    \n",
    "    \"\"\" Saving the images \"\"\"\n",
    "    save_image_path = f\"results\\\\{name}Train.png\"\n",
    "    print(save_image_path)\n",
    "\n",
    "#     save_results(ori_x, ori_y, final_y_pred, save_image_path)\n",
    "\n",
    "    \"\"\" Flatten the array \"\"\"\n",
    "    y = y.flatten()\n",
    "    final_y_pred = final_y_pred.flatten()\n",
    "\n",
    "    \"\"\" Calculate the metrics \"\"\"\n",
    "    acc_value = accuracy_score(y, final_y_pred)\n",
    "    f1_value = f1_score(y, final_y_pred, labels=[0, 1], average=\"binary\")\n",
    "    jac_value = jaccard_score(y, final_y_pred, labels=[0, 1], average=\"binary\")\n",
    "    recall_value = recall_score(y, final_y_pred, labels=[0, 1], average=\"binary\")\n",
    "    precision_value = precision_score(y, final_y_pred, labels=[0, 1], average=\"binary\")\n",
    "    \n",
    "    cm = confusion_matrix(y, final_y_pred)\n",
    "    sensitivity, specificity = get_metrics(cm)\n",
    "    \n",
    "    SCORE.append([name, acc_value, f1_value, jac_value, recall_value, precision_value, sensitivity, specificity])"
   ]
  },
  {
   "cell_type": "code",
   "execution_count": 27,
   "id": "31e81a06",
   "metadata": {
    "scrolled": true
   },
   "outputs": [
    {
     "data": {
      "text/plain": [
       "[['21_training',\n",
       "  0.9696084373863498,\n",
       "  0.7869012707722386,\n",
       "  0.6486704270749396,\n",
       "  0.7508719279746938,\n",
       "  0.8265625,\n",
       "  0.7508719279746938,\n",
       "  0.9872748950219782],\n",
       " ['22_training',\n",
       "  0.9699993938659232,\n",
       "  0.8159524030863624,\n",
       "  0.6891212863513598,\n",
       "  0.7361199637693314,\n",
       "  0.9152068735402069,\n",
       "  0.7361199637693314,\n",
       "  0.9932267425395884],\n",
       " ['23_training',\n",
       "  0.9740210934658746,\n",
       "  0.7814714730026002,\n",
       "  0.6413239047658897,\n",
       "  0.7055655296229802,\n",
       "  0.8756784551219791,\n",
       "  0.7055655296229802,\n",
       "  0.9929404970850352],\n",
       " ['24_training',\n",
       "  0.9619802400290944,\n",
       "  0.8119331384453939,\n",
       "  0.6834069400630914,\n",
       "  0.708362761254545,\n",
       "  0.950976260710774,\n",
       "  0.708362761254545,\n",
       "  0.9952147697707819],\n",
       " ['25_training',\n",
       "  0.9474027154806643,\n",
       "  0.6424082582984774,\n",
       "  0.4731969402622632,\n",
       "  0.4922479396255013,\n",
       "  0.9243951612903226,\n",
       "  0.4922479396255013,\n",
       "  0.9957256504554277],\n",
       " ['26_training',\n",
       "  0.9638168262819736,\n",
       "  0.7458002427236146,\n",
       "  0.594642311479306,\n",
       "  0.6351865955826352,\n",
       "  0.9030628029287409,\n",
       "  0.6351865955826352,\n",
       "  0.9937828015093242],\n",
       " ['27_training',\n",
       "  0.9736028609528428,\n",
       "  0.8412032816773017,\n",
       "  0.7259282567652612,\n",
       "  0.793519760602621,\n",
       "  0.8949839003763045,\n",
       "  0.793519760602621,\n",
       "  0.9910032670072153],\n",
       " ['28_training',\n",
       "  0.975051521396533,\n",
       "  0.8647831800262812,\n",
       "  0.7617779835629124,\n",
       "  0.8168052625046544,\n",
       "  0.9187491274605613,\n",
       "  0.8168052625046544,\n",
       "  0.9921808875095723],\n",
       " ['29_training',\n",
       "  0.9602497272396654,\n",
       "  0.7387146898282801,\n",
       "  0.5856840509208074,\n",
       "  0.6681200677453065,\n",
       "  0.825990110036976,\n",
       "  0.6681200677453065,\n",
       "  0.9870751698327979],\n",
       " ['30_training',\n",
       "  0.9611952963995636,\n",
       "  0.6922559246262557,\n",
       "  0.5293512222018011,\n",
       "  0.5563668675629733,\n",
       "  0.9159776109909681,\n",
       "  0.5563668675629733,\n",
       "  0.9956556913403228],\n",
       " ['31_training',\n",
       "  0.982319068978058,\n",
       "  0.8476762402088772,\n",
       "  0.7356233289527349,\n",
       "  0.8158106342345964,\n",
       "  0.8821323769155527,\n",
       "  0.8158106342345964,\n",
       "  0.9930046248814753],\n",
       " ['32_training',\n",
       "  0.9748151291065583,\n",
       "  0.8300474476439791,\n",
       "  0.7094710345068699,\n",
       "  0.7520382448858582,\n",
       "  0.9261135450894487,\n",
       "  0.7520382448858582,\n",
       "  0.9946563424165611],\n",
       " ['33_training',\n",
       "  0.9662746999636319,\n",
       "  0.7727495507270055,\n",
       "  0.6296592119275826,\n",
       "  0.7089859851607585,\n",
       "  0.8491158782874069,\n",
       "  0.7089859851607585,\n",
       "  0.9889143151077903],\n",
       " ['34_training',\n",
       "  0.9715056370469147,\n",
       "  0.846126149716867,\n",
       "  0.7332917281289005,\n",
       "  0.8006318332455787,\n",
       "  0.8971022037133437,\n",
       "  0.8006318332455787,\n",
       "  0.9900394056565426],\n",
       " ['35_training',\n",
       "  0.9780033943508304,\n",
       "  0.8702631202631202,\n",
       "  0.7703237239327869,\n",
       "  0.8507968684468056,\n",
       "  0.8906410068783843,\n",
       "  0.8507968684468056,\n",
       "  0.9900812349841379],\n",
       " ['36_training',\n",
       "  0.9711298339192629,\n",
       "  0.8640696347031963,\n",
       "  0.760671306182951,\n",
       "  0.8437465165533385,\n",
       "  0.8853959527430109,\n",
       "  0.8437465165533385,\n",
       "  0.9866735129694365],\n",
       " ['37_training',\n",
       "  0.959322342102073,\n",
       "  0.7705797894161083,\n",
       "  0.6267830826126852,\n",
       "  0.7815609722270379,\n",
       "  0.7599029093483465,\n",
       "  0.7815609722270379,\n",
       "  0.9763482211351658],\n",
       " ['38_training',\n",
       "  0.9729633895017578,\n",
       "  0.8318220378923556,\n",
       "  0.7120679082077268,\n",
       "  0.7747304842504478,\n",
       "  0.8979973949853468,\n",
       "  0.7747304842504478,\n",
       "  0.9916877568552788],\n",
       " ['39_training',\n",
       "  0.9783579827857922,\n",
       "  0.8678155600392425,\n",
       "  0.766496632005755,\n",
       "  0.8269013687032595,\n",
       "  0.9129892891918209,\n",
       "  0.8269013687032595,\n",
       "  0.9925931328992215],\n",
       " ['40_training',\n",
       "  0.9675233361619591,\n",
       "  0.7786956342158523,\n",
       "  0.6375934255470256,\n",
       "  0.7540898364065437,\n",
       "  0.8049613594637292,\n",
       "  0.7540898364065437,\n",
       "  0.9850209372407438]]"
      ]
     },
     "execution_count": 27,
     "metadata": {},
     "output_type": "execute_result"
    }
   ],
   "source": [
    "SCORE"
   ]
  },
  {
   "cell_type": "code",
   "execution_count": 31,
   "id": "21f0492e",
   "metadata": {},
   "outputs": [
    {
     "data": {
      "text/html": [
       "<div>\n",
       "<style scoped>\n",
       "    .dataframe tbody tr th:only-of-type {\n",
       "        vertical-align: middle;\n",
       "    }\n",
       "\n",
       "    .dataframe tbody tr th {\n",
       "        vertical-align: top;\n",
       "    }\n",
       "\n",
       "    .dataframe thead th {\n",
       "        text-align: right;\n",
       "    }\n",
       "</style>\n",
       "<table border=\"1\" class=\"dataframe\">\n",
       "  <thead>\n",
       "    <tr style=\"text-align: right;\">\n",
       "      <th></th>\n",
       "      <th>Image</th>\n",
       "      <th>Acc</th>\n",
       "      <th>F1</th>\n",
       "      <th>Jaccard</th>\n",
       "      <th>Recall</th>\n",
       "      <th>Precision</th>\n",
       "      <th>Sensitivity</th>\n",
       "      <th>Specificity</th>\n",
       "    </tr>\n",
       "  </thead>\n",
       "  <tbody>\n",
       "    <tr>\n",
       "      <th>0</th>\n",
       "      <td>21_training</td>\n",
       "      <td>0.969608</td>\n",
       "      <td>0.786901</td>\n",
       "      <td>0.648670</td>\n",
       "      <td>0.750872</td>\n",
       "      <td>0.826562</td>\n",
       "      <td>0.750872</td>\n",
       "      <td>0.987275</td>\n",
       "    </tr>\n",
       "    <tr>\n",
       "      <th>1</th>\n",
       "      <td>22_training</td>\n",
       "      <td>0.969999</td>\n",
       "      <td>0.815952</td>\n",
       "      <td>0.689121</td>\n",
       "      <td>0.736120</td>\n",
       "      <td>0.915207</td>\n",
       "      <td>0.736120</td>\n",
       "      <td>0.993227</td>\n",
       "    </tr>\n",
       "    <tr>\n",
       "      <th>2</th>\n",
       "      <td>23_training</td>\n",
       "      <td>0.974021</td>\n",
       "      <td>0.781471</td>\n",
       "      <td>0.641324</td>\n",
       "      <td>0.705566</td>\n",
       "      <td>0.875678</td>\n",
       "      <td>0.705566</td>\n",
       "      <td>0.992940</td>\n",
       "    </tr>\n",
       "    <tr>\n",
       "      <th>3</th>\n",
       "      <td>24_training</td>\n",
       "      <td>0.961980</td>\n",
       "      <td>0.811933</td>\n",
       "      <td>0.683407</td>\n",
       "      <td>0.708363</td>\n",
       "      <td>0.950976</td>\n",
       "      <td>0.708363</td>\n",
       "      <td>0.995215</td>\n",
       "    </tr>\n",
       "    <tr>\n",
       "      <th>4</th>\n",
       "      <td>25_training</td>\n",
       "      <td>0.947403</td>\n",
       "      <td>0.642408</td>\n",
       "      <td>0.473197</td>\n",
       "      <td>0.492248</td>\n",
       "      <td>0.924395</td>\n",
       "      <td>0.492248</td>\n",
       "      <td>0.995726</td>\n",
       "    </tr>\n",
       "    <tr>\n",
       "      <th>5</th>\n",
       "      <td>26_training</td>\n",
       "      <td>0.963817</td>\n",
       "      <td>0.745800</td>\n",
       "      <td>0.594642</td>\n",
       "      <td>0.635187</td>\n",
       "      <td>0.903063</td>\n",
       "      <td>0.635187</td>\n",
       "      <td>0.993783</td>\n",
       "    </tr>\n",
       "    <tr>\n",
       "      <th>6</th>\n",
       "      <td>27_training</td>\n",
       "      <td>0.973603</td>\n",
       "      <td>0.841203</td>\n",
       "      <td>0.725928</td>\n",
       "      <td>0.793520</td>\n",
       "      <td>0.894984</td>\n",
       "      <td>0.793520</td>\n",
       "      <td>0.991003</td>\n",
       "    </tr>\n",
       "    <tr>\n",
       "      <th>7</th>\n",
       "      <td>28_training</td>\n",
       "      <td>0.975052</td>\n",
       "      <td>0.864783</td>\n",
       "      <td>0.761778</td>\n",
       "      <td>0.816805</td>\n",
       "      <td>0.918749</td>\n",
       "      <td>0.816805</td>\n",
       "      <td>0.992181</td>\n",
       "    </tr>\n",
       "    <tr>\n",
       "      <th>8</th>\n",
       "      <td>29_training</td>\n",
       "      <td>0.960250</td>\n",
       "      <td>0.738715</td>\n",
       "      <td>0.585684</td>\n",
       "      <td>0.668120</td>\n",
       "      <td>0.825990</td>\n",
       "      <td>0.668120</td>\n",
       "      <td>0.987075</td>\n",
       "    </tr>\n",
       "    <tr>\n",
       "      <th>9</th>\n",
       "      <td>30_training</td>\n",
       "      <td>0.961195</td>\n",
       "      <td>0.692256</td>\n",
       "      <td>0.529351</td>\n",
       "      <td>0.556367</td>\n",
       "      <td>0.915978</td>\n",
       "      <td>0.556367</td>\n",
       "      <td>0.995656</td>\n",
       "    </tr>\n",
       "    <tr>\n",
       "      <th>10</th>\n",
       "      <td>31_training</td>\n",
       "      <td>0.982319</td>\n",
       "      <td>0.847676</td>\n",
       "      <td>0.735623</td>\n",
       "      <td>0.815811</td>\n",
       "      <td>0.882132</td>\n",
       "      <td>0.815811</td>\n",
       "      <td>0.993005</td>\n",
       "    </tr>\n",
       "    <tr>\n",
       "      <th>11</th>\n",
       "      <td>32_training</td>\n",
       "      <td>0.974815</td>\n",
       "      <td>0.830047</td>\n",
       "      <td>0.709471</td>\n",
       "      <td>0.752038</td>\n",
       "      <td>0.926114</td>\n",
       "      <td>0.752038</td>\n",
       "      <td>0.994656</td>\n",
       "    </tr>\n",
       "    <tr>\n",
       "      <th>12</th>\n",
       "      <td>33_training</td>\n",
       "      <td>0.966275</td>\n",
       "      <td>0.772750</td>\n",
       "      <td>0.629659</td>\n",
       "      <td>0.708986</td>\n",
       "      <td>0.849116</td>\n",
       "      <td>0.708986</td>\n",
       "      <td>0.988914</td>\n",
       "    </tr>\n",
       "    <tr>\n",
       "      <th>13</th>\n",
       "      <td>34_training</td>\n",
       "      <td>0.971506</td>\n",
       "      <td>0.846126</td>\n",
       "      <td>0.733292</td>\n",
       "      <td>0.800632</td>\n",
       "      <td>0.897102</td>\n",
       "      <td>0.800632</td>\n",
       "      <td>0.990039</td>\n",
       "    </tr>\n",
       "    <tr>\n",
       "      <th>14</th>\n",
       "      <td>35_training</td>\n",
       "      <td>0.978003</td>\n",
       "      <td>0.870263</td>\n",
       "      <td>0.770324</td>\n",
       "      <td>0.850797</td>\n",
       "      <td>0.890641</td>\n",
       "      <td>0.850797</td>\n",
       "      <td>0.990081</td>\n",
       "    </tr>\n",
       "    <tr>\n",
       "      <th>15</th>\n",
       "      <td>36_training</td>\n",
       "      <td>0.971130</td>\n",
       "      <td>0.864070</td>\n",
       "      <td>0.760671</td>\n",
       "      <td>0.843747</td>\n",
       "      <td>0.885396</td>\n",
       "      <td>0.843747</td>\n",
       "      <td>0.986674</td>\n",
       "    </tr>\n",
       "    <tr>\n",
       "      <th>16</th>\n",
       "      <td>37_training</td>\n",
       "      <td>0.959322</td>\n",
       "      <td>0.770580</td>\n",
       "      <td>0.626783</td>\n",
       "      <td>0.781561</td>\n",
       "      <td>0.759903</td>\n",
       "      <td>0.781561</td>\n",
       "      <td>0.976348</td>\n",
       "    </tr>\n",
       "    <tr>\n",
       "      <th>17</th>\n",
       "      <td>38_training</td>\n",
       "      <td>0.972963</td>\n",
       "      <td>0.831822</td>\n",
       "      <td>0.712068</td>\n",
       "      <td>0.774730</td>\n",
       "      <td>0.897997</td>\n",
       "      <td>0.774730</td>\n",
       "      <td>0.991688</td>\n",
       "    </tr>\n",
       "    <tr>\n",
       "      <th>18</th>\n",
       "      <td>39_training</td>\n",
       "      <td>0.978358</td>\n",
       "      <td>0.867816</td>\n",
       "      <td>0.766497</td>\n",
       "      <td>0.826901</td>\n",
       "      <td>0.912989</td>\n",
       "      <td>0.826901</td>\n",
       "      <td>0.992593</td>\n",
       "    </tr>\n",
       "    <tr>\n",
       "      <th>19</th>\n",
       "      <td>40_training</td>\n",
       "      <td>0.967523</td>\n",
       "      <td>0.778696</td>\n",
       "      <td>0.637593</td>\n",
       "      <td>0.754090</td>\n",
       "      <td>0.804961</td>\n",
       "      <td>0.754090</td>\n",
       "      <td>0.985021</td>\n",
       "    </tr>\n",
       "  </tbody>\n",
       "</table>\n",
       "</div>"
      ],
      "text/plain": [
       "          Image       Acc        F1   Jaccard    Recall  Precision  \\\n",
       "0   21_training  0.969608  0.786901  0.648670  0.750872   0.826562   \n",
       "1   22_training  0.969999  0.815952  0.689121  0.736120   0.915207   \n",
       "2   23_training  0.974021  0.781471  0.641324  0.705566   0.875678   \n",
       "3   24_training  0.961980  0.811933  0.683407  0.708363   0.950976   \n",
       "4   25_training  0.947403  0.642408  0.473197  0.492248   0.924395   \n",
       "5   26_training  0.963817  0.745800  0.594642  0.635187   0.903063   \n",
       "6   27_training  0.973603  0.841203  0.725928  0.793520   0.894984   \n",
       "7   28_training  0.975052  0.864783  0.761778  0.816805   0.918749   \n",
       "8   29_training  0.960250  0.738715  0.585684  0.668120   0.825990   \n",
       "9   30_training  0.961195  0.692256  0.529351  0.556367   0.915978   \n",
       "10  31_training  0.982319  0.847676  0.735623  0.815811   0.882132   \n",
       "11  32_training  0.974815  0.830047  0.709471  0.752038   0.926114   \n",
       "12  33_training  0.966275  0.772750  0.629659  0.708986   0.849116   \n",
       "13  34_training  0.971506  0.846126  0.733292  0.800632   0.897102   \n",
       "14  35_training  0.978003  0.870263  0.770324  0.850797   0.890641   \n",
       "15  36_training  0.971130  0.864070  0.760671  0.843747   0.885396   \n",
       "16  37_training  0.959322  0.770580  0.626783  0.781561   0.759903   \n",
       "17  38_training  0.972963  0.831822  0.712068  0.774730   0.897997   \n",
       "18  39_training  0.978358  0.867816  0.766497  0.826901   0.912989   \n",
       "19  40_training  0.967523  0.778696  0.637593  0.754090   0.804961   \n",
       "\n",
       "    Sensitivity  Specificity  \n",
       "0      0.750872     0.987275  \n",
       "1      0.736120     0.993227  \n",
       "2      0.705566     0.992940  \n",
       "3      0.708363     0.995215  \n",
       "4      0.492248     0.995726  \n",
       "5      0.635187     0.993783  \n",
       "6      0.793520     0.991003  \n",
       "7      0.816805     0.992181  \n",
       "8      0.668120     0.987075  \n",
       "9      0.556367     0.995656  \n",
       "10     0.815811     0.993005  \n",
       "11     0.752038     0.994656  \n",
       "12     0.708986     0.988914  \n",
       "13     0.800632     0.990039  \n",
       "14     0.850797     0.990081  \n",
       "15     0.843747     0.986674  \n",
       "16     0.781561     0.976348  \n",
       "17     0.774730     0.991688  \n",
       "18     0.826901     0.992593  \n",
       "19     0.754090     0.985021  "
      ]
     },
     "execution_count": 31,
     "metadata": {},
     "output_type": "execute_result"
    }
   ],
   "source": [
    "\n",
    "stat_df = pd.DataFrame(SCORE, columns=[\"Image\", \"Acc\", \"F1\", \"Jaccard\", \"Recall\", \"Precision\", \"Sensitivity\", \"Specificity\"])\n",
    "stat_df"
   ]
  },
  {
   "cell_type": "code",
   "execution_count": 28,
   "id": "206011ed",
   "metadata": {},
   "outputs": [
    {
     "name": "stdout",
     "output_type": "stream",
     "text": [
      "Accuracy: 0.96896\n",
      "F1: 0.80006\n",
      "Jaccard: 0.67075\n",
      "Recall: 0.73862\n",
      "Precision: 0.88290\n",
      "Sensitivity: 0.73862\n",
      "Specificity: 0.99065\n"
     ]
    }
   ],
   "source": [
    "score = [s[1:] for s in SCORE]\n",
    "score = np.mean(score, axis=0)\n",
    "print(f\"Accuracy: {score[0]:0.5f}\")\n",
    "print(f\"F1: {score[1]:0.5f}\")\n",
    "print(f\"Jaccard: {score[2]:0.5f}\")\n",
    "print(f\"Recall: {score[3]:0.5f}\")\n",
    "print(f\"Precision: {score[4]:0.5f}\")\n",
    "print(f\"Sensitivity: {score[5]:0.5f}\")\n",
    "print(f\"Specificity: {score[6]:0.5f}\")\n"
   ]
  },
  {
   "cell_type": "code",
   "execution_count": 37,
   "id": "d06a8869",
   "metadata": {},
   "outputs": [],
   "source": [
    "rows = [\"Accuracy\", \"F1\", \"Jaccard\", \"Recall\", \"Precision\", \"Sensitivity\", \"Specificity\"]"
   ]
  },
  {
   "cell_type": "code",
   "execution_count": 39,
   "id": "6ace2803",
   "metadata": {},
   "outputs": [
    {
     "data": {
      "text/html": [
       "<div>\n",
       "<style scoped>\n",
       "    .dataframe tbody tr th:only-of-type {\n",
       "        vertical-align: middle;\n",
       "    }\n",
       "\n",
       "    .dataframe tbody tr th {\n",
       "        vertical-align: top;\n",
       "    }\n",
       "\n",
       "    .dataframe thead th {\n",
       "        text-align: right;\n",
       "    }\n",
       "</style>\n",
       "<table border=\"1\" class=\"dataframe\">\n",
       "  <thead>\n",
       "    <tr style=\"text-align: right;\">\n",
       "      <th></th>\n",
       "      <th>Metrics</th>\n",
       "      <th>Model_128_2</th>\n",
       "    </tr>\n",
       "  </thead>\n",
       "  <tbody>\n",
       "    <tr>\n",
       "      <th>0</th>\n",
       "      <td>Accuracy</td>\n",
       "      <td>0.968957</td>\n",
       "    </tr>\n",
       "    <tr>\n",
       "      <th>1</th>\n",
       "      <td>F1</td>\n",
       "      <td>0.800063</td>\n",
       "    </tr>\n",
       "    <tr>\n",
       "      <th>2</th>\n",
       "      <td>Jaccard</td>\n",
       "      <td>0.670754</td>\n",
       "    </tr>\n",
       "    <tr>\n",
       "      <th>3</th>\n",
       "      <td>Recall</td>\n",
       "      <td>0.738623</td>\n",
       "    </tr>\n",
       "    <tr>\n",
       "      <th>4</th>\n",
       "      <td>Precision</td>\n",
       "      <td>0.882897</td>\n",
       "    </tr>\n",
       "    <tr>\n",
       "      <th>5</th>\n",
       "      <td>Sensitivity</td>\n",
       "      <td>0.738623</td>\n",
       "    </tr>\n",
       "    <tr>\n",
       "      <th>6</th>\n",
       "      <td>Specificity</td>\n",
       "      <td>0.990655</td>\n",
       "    </tr>\n",
       "  </tbody>\n",
       "</table>\n",
       "</div>"
      ],
      "text/plain": [
       "       Metrics  Model_128_2\n",
       "0     Accuracy     0.968957\n",
       "1           F1     0.800063\n",
       "2      Jaccard     0.670754\n",
       "3       Recall     0.738623\n",
       "4    Precision     0.882897\n",
       "5  Sensitivity     0.738623\n",
       "6  Specificity     0.990655"
      ]
     },
     "execution_count": 39,
     "metadata": {},
     "output_type": "execute_result"
    }
   ],
   "source": [
    "df = pd.DataFrame(\n",
    "    {'Metrics': rows,\n",
    "     'Model_128_2': score,\n",
    "    })\n",
    "df"
   ]
  },
  {
   "cell_type": "code",
   "execution_count": 40,
   "id": "d98b1794",
   "metadata": {},
   "outputs": [],
   "source": [
    "\"\"\" Saving \"\"\"\n",
    "df.to_csv(\"results/score.csv\", index=False)"
   ]
  },
  {
   "cell_type": "code",
   "execution_count": 42,
   "id": "dd2585bc",
   "metadata": {},
   "outputs": [],
   "source": [
    "import seaborn as sns"
   ]
  },
  {
   "cell_type": "code",
   "execution_count": 45,
   "id": "b09006fc",
   "metadata": {},
   "outputs": [
    {
     "data": {
      "text/plain": [
       "[None,\n",
       " None,\n",
       " None,\n",
       " None,\n",
       " None,\n",
       " None,\n",
       " None,\n",
       " None,\n",
       " None,\n",
       " None,\n",
       " None,\n",
       " None,\n",
       " None,\n",
       " None,\n",
       " None,\n",
       " None,\n",
       " None,\n",
       " None,\n",
       " None,\n",
       " None,\n",
       " None,\n",
       " None,\n",
       " None,\n",
       " None,\n",
       " None,\n",
       " None,\n",
       " None,\n",
       " None,\n",
       " None,\n",
       " None,\n",
       " None,\n",
       " None,\n",
       " None,\n",
       " None,\n",
       " None,\n",
       " None,\n",
       " None,\n",
       " None,\n",
       " None,\n",
       " None]"
      ]
     },
     "execution_count": 45,
     "metadata": {},
     "output_type": "execute_result"
    },
    {
     "data": {
      "image/png": "[encoded data removed]",
      "text/plain": [
       "<Figure size 1440x720 with 1 Axes>"
      ]
     },
     "metadata": {},
     "output_type": "display_data"
    }
   ],
   "source": [
    "plt.figure(figsize=(20, 10))\n",
    "sns.set_style(\"darkgrid\")\n",
    "ax = sns.lineplot(data=stat_df, x=\"Image\", y=\"Jaccard\", marker = \"o\")\n",
    "ax.axhline(stat_df[\"Jaccard\"].mean(), color=\"orange\", linestyle=\"--\")\n",
    "ax.set(xlabel=\"X Label\", ylabel = \"Jaccard\")\n",
    "plt.setp(ax.get_xticklabels(), rotation=90)\n"
   ]
  }
 ],
 "metadata": {
  "kernelspec": {
   "display_name": "Python 3 (vanilla)",
   "language": "python",
   "name": "vanilla"
  },
  "language_info": {
   "codemirror_mode": {
    "name": "ipython",
    "version": 3
   },
   "file_extension": ".py",
   "mimetype": "text/x-python",
   "name": "python",
   "nbconvert_exporter": "python",
   "pygments_lexer": "ipython3",
   "version": "3.9.5"
  },
  "toc": {
   "base_numbering": 1,
   "nav_menu": {},
   "number_sections": true,
   "sideBar": true,
   "skip_h1_title": false,
   "title_cell": "Table of Contents",
   "title_sidebar": "Contents",
   "toc_cell": false,
   "toc_position": {},
   "toc_section_display": true,
   "toc_window_display": true
  },
  "varInspector": {
   "cols": {
    "lenName": 16,
    "lenType": 16,
    "lenVar": 40
   },
   "kernels_config": {
    "python": {
     "delete_cmd_postfix": "",
     "delete_cmd_prefix": "del ",
     "library": "var_list.py",
     "varRefreshCmd": "print(var_dic_list())"
    },
    "r": {
     "delete_cmd_postfix": ") ",
     "delete_cmd_prefix": "rm(",
     "library": "var_list.r",
     "varRefreshCmd": "cat(var_dic_list()) "
    }
   },
   "types_to_exclude": [
    "module",
    "function",
    "builtin_function_or_method",
    "instance",
    "_Feature"
   ],
   "window_display": false
  }
 },
 "nbformat": 4,
 "nbformat_minor": 5
}
