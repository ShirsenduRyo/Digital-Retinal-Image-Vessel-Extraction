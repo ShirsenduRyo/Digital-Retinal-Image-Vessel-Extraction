{
 "cells": [
  {
   "cell_type": "markdown",
   "id": "341bedfe",
   "metadata": {},
   "source": [
    "# Importing Packages"
   ]
  },
  {
   "cell_type": "code",
   "execution_count": 1,
   "id": "2cb28d4f",
   "metadata": {},
   "outputs": [],
   "source": [
    "import os\n",
    "import numpy as np\n",
    "import pandas as pd\n",
    "import cv2\n",
    "from glob import glob\n",
    "from tqdm import tqdm\n",
    "import tensorflow as tf\n",
    "from tensorflow.keras.utils import CustomObjectScope\n",
    "import imageio"
   ]
  },
  {
   "cell_type": "code",
   "execution_count": 2,
   "id": "1b212558",
   "metadata": {},
   "outputs": [],
   "source": [
    "from sklearn.metrics import accuracy_score, f1_score, jaccard_score, precision_score, recall_score\n",
    "from customMetrics import dice_loss, dice_coef, iou"
   ]
  },
  {
   "cell_type": "code",
   "execution_count": 3,
   "id": "d2caac35",
   "metadata": {},
   "outputs": [],
   "source": [
    "from sklearn.metrics import confusion_matrix"
   ]
  },
  {
   "cell_type": "code",
   "execution_count": 4,
   "id": "df0e7285",
   "metadata": {},
   "outputs": [],
   "source": [
    "from patchify import patchify, unpatchify"
   ]
  },
  {
   "cell_type": "code",
   "execution_count": 5,
   "id": "aa8d8f09",
   "metadata": {},
   "outputs": [],
   "source": [
    "physical_devices = tf.config.experimental.list_physical_devices('GPU')\n",
    "tf.config.experimental.set_memory_growth(physical_devices[0], True)"
   ]
  },
  {
   "cell_type": "markdown",
   "id": "f7d1cba1",
   "metadata": {},
   "source": [
    "# Loading Utils Functions"
   ]
  },
  {
   "cell_type": "code",
   "execution_count": 7,
   "id": "4e69b441",
   "metadata": {},
   "outputs": [],
   "source": [
    "def create_dir(path):\n",
    "    if not os.path.exists(path):\n",
    "        os.makedirs(path)"
   ]
  },
  {
   "cell_type": "code",
   "execution_count": 61,
   "id": "657e8a90",
   "metadata": {},
   "outputs": [],
   "source": [
    "def read_image(path):\n",
    "    x = cv2.imread(path, cv2.IMREAD_COLOR)\n",
    "    \n",
    "    top, bottom = [28] * 2\n",
    "    left, right = [37,38]\n",
    "    \n",
    "    x = cv2.copyMakeBorder(x, top, bottom, left, right, cv2.BORDER_CONSTANT, value= 0)\n",
    "    # x = cv2.resize(x, (W, H))\n",
    "    ori_x = x\n",
    "    x = x/255.0\n",
    "    x = x.astype(np.float32)\n",
    "    return ori_x, x"
   ]
  },
  {
   "cell_type": "code",
   "execution_count": 51,
   "id": "b4b228a5",
   "metadata": {},
   "outputs": [],
   "source": [
    "def read_gt(path):\n",
    "    x = imageio.mimread(path)[0]  ## (128, 128)\n",
    "    # x = cv2.resize(x, (W, H))\n",
    "    ori_x = x\n",
    "    x = x/255.0\n",
    "    x = x.astype(np.int32)\n",
    "    return ori_x, x"
   ]
  },
  {
   "cell_type": "code",
   "execution_count": 119,
   "id": "8394b02f",
   "metadata": {},
   "outputs": [],
   "source": [
    "def load_data(path):\n",
    "    x = sorted(glob(os.path.join(path, \"image\", \"*.tif\")))\n",
    "    y = sorted(glob(os.path.join(path, \"gt\", \"*.gif\")))\n",
    "    return x, y"
   ]
  },
  {
   "cell_type": "code",
   "execution_count": 96,
   "id": "ed1f8d59",
   "metadata": {},
   "outputs": [],
   "source": [
    "def save_results(ori_x, ori_y, y_pred, save_image_path):\n",
    "    line = np.ones((H, 10, 3)) * 255\n",
    "\n",
    "    ori_y = np.expand_dims(ori_y, axis=-1)\n",
    "    ori_y = np.concatenate([ori_y, ori_y, ori_y], axis=-1)\n",
    "\n",
    "    y_pred = np.expand_dims(y_pred, axis=-1)\n",
    "    y_pred = np.concatenate([y_pred, y_pred, y_pred], axis=-1) * 255\n",
    "\n",
    "    cat_images = np.concatenate([ori_y, line, y_pred], axis=1)\n",
    "    \n",
    "    cv2.imwrite(save_image_path, cat_images)"
   ]
  },
  {
   "cell_type": "code",
   "execution_count": 122,
   "id": "ad886862",
   "metadata": {},
   "outputs": [],
   "source": [
    "def save_tests(y_pred, save_image_path):\n",
    "\n",
    "    y_pred = np.expand_dims(y_pred, axis=-1)\n",
    "    y_pred = np.concatenate([y_pred, y_pred, y_pred], axis=-1) * 255\n",
    "\n",
    "\n",
    "    cv2.imwrite(save_image_path, y_pred)"
   ]
  },
  {
   "cell_type": "code",
   "execution_count": 13,
   "id": "4a8dff88",
   "metadata": {},
   "outputs": [],
   "source": [
    "def get_metrics(cm):\n",
    "    tn, fp, fn, tp = cm.ravel()\n",
    "    sen = tp/(tp+fn)\n",
    "    spe = tn/(tn+fp) \n",
    "    return sen, spe"
   ]
  },
  {
   "cell_type": "code",
   "execution_count": null,
   "id": "c44712ce",
   "metadata": {},
   "outputs": [],
   "source": []
  },
  {
   "cell_type": "markdown",
   "id": "6d2811f4",
   "metadata": {},
   "source": [
    "# Setting The Environment"
   ]
  },
  {
   "cell_type": "code",
   "execution_count": 88,
   "id": "6ec48a50",
   "metadata": {},
   "outputs": [],
   "source": [
    "H = 584\n",
    "W = 565"
   ]
  },
  {
   "cell_type": "code",
   "execution_count": 14,
   "id": "c9695839",
   "metadata": {},
   "outputs": [],
   "source": [
    "\"\"\" Save the results in this folder \"\"\"\n",
    "create_dir(\"results128_32\")"
   ]
  },
  {
   "cell_type": "code",
   "execution_count": 15,
   "id": "0e718acc",
   "metadata": {},
   "outputs": [],
   "source": [
    "\"\"\" Load the model \"\"\"\n",
    "with CustomObjectScope({'iou': iou, 'dice_coef': dice_coef, 'dice_loss': dice_loss}):\n",
    "    model = tf.keras.models.load_model(\"files128/model128_32.h5\")\n"
   ]
  },
  {
   "cell_type": "code",
   "execution_count": 105,
   "id": "642d7775",
   "metadata": {},
   "outputs": [],
   "source": [
    "\"\"\" Load the dataset \"\"\"\n",
    "dataset_path = os.path.join(\"new_data_128\", \"train_test\")\n",
    "test_x, test_y = load_data(dataset_path)"
   ]
  },
  {
   "cell_type": "code",
   "execution_count": 18,
   "id": "07b1a710",
   "metadata": {},
   "outputs": [],
   "source": [
    "from matplotlib import pyplot as plt"
   ]
  },
  {
   "cell_type": "code",
   "execution_count": 107,
   "id": "b9b749ee",
   "metadata": {},
   "outputs": [
    {
     "name": "stderr",
     "output_type": "stream",
     "text": [
      "\r",
      "  0%|          | 0/20 [00:00<?, ?it/s]"
     ]
    },
    {
     "name": "stdout",
     "output_type": "stream",
     "text": [
      "21_training\n",
      "(640, 640, 3) (584, 565)\n",
      "(584, 565)\n",
      "results128_32\\21_trainingTrain.png\n"
     ]
    },
    {
     "name": "stderr",
     "output_type": "stream",
     "text": [
      "\r",
      "  5%|▌         | 1/20 [00:02<00:41,  2.21s/it]"
     ]
    },
    {
     "name": "stdout",
     "output_type": "stream",
     "text": [
      "22_training\n",
      "(640, 640, 3) (584, 565)\n",
      "(584, 565)\n",
      "results128_32\\22_trainingTrain.png\n"
     ]
    },
    {
     "name": "stderr",
     "output_type": "stream",
     "text": [
      "\r",
      " 10%|█         | 2/20 [00:04<00:41,  2.33s/it]"
     ]
    },
    {
     "name": "stdout",
     "output_type": "stream",
     "text": [
      "23_training\n",
      "(640, 640, 3) (584, 565)\n",
      "(584, 565)\n",
      "results128_32\\23_trainingTrain.png\n"
     ]
    },
    {
     "name": "stderr",
     "output_type": "stream",
     "text": [
      "\r",
      " 15%|█▌        | 3/20 [00:06<00:38,  2.27s/it]"
     ]
    },
    {
     "name": "stdout",
     "output_type": "stream",
     "text": [
      "24_training\n",
      "(640, 640, 3) (584, 565)\n",
      "(584, 565)\n",
      "results128_32\\24_trainingTrain.png\n"
     ]
    },
    {
     "name": "stderr",
     "output_type": "stream",
     "text": [
      "\r",
      " 20%|██        | 4/20 [00:08<00:35,  2.23s/it]"
     ]
    },
    {
     "name": "stdout",
     "output_type": "stream",
     "text": [
      "25_training\n",
      "(640, 640, 3) (584, 565)\n",
      "(584, 565)\n",
      "results128_32\\25_trainingTrain.png\n"
     ]
    },
    {
     "name": "stderr",
     "output_type": "stream",
     "text": [
      "\r",
      " 25%|██▌       | 5/20 [00:11<00:33,  2.25s/it]"
     ]
    },
    {
     "name": "stdout",
     "output_type": "stream",
     "text": [
      "26_training\n",
      "(640, 640, 3) (584, 565)\n",
      "(584, 565)\n",
      "results128_32\\26_trainingTrain.png\n"
     ]
    },
    {
     "name": "stderr",
     "output_type": "stream",
     "text": [
      "\r",
      " 30%|███       | 6/20 [00:13<00:31,  2.24s/it]"
     ]
    },
    {
     "name": "stdout",
     "output_type": "stream",
     "text": [
      "27_training\n",
      "(640, 640, 3) (584, 565)\n",
      "(584, 565)\n",
      "results128_32\\27_trainingTrain.png\n"
     ]
    },
    {
     "name": "stderr",
     "output_type": "stream",
     "text": [
      "\r",
      " 35%|███▌      | 7/20 [00:15<00:28,  2.23s/it]"
     ]
    },
    {
     "name": "stdout",
     "output_type": "stream",
     "text": [
      "28_training\n",
      "(640, 640, 3) (584, 565)\n",
      "(584, 565)\n",
      "results128_32\\28_trainingTrain.png\n"
     ]
    },
    {
     "name": "stderr",
     "output_type": "stream",
     "text": [
      "\r",
      " 40%|████      | 8/20 [00:17<00:26,  2.21s/it]"
     ]
    },
    {
     "name": "stdout",
     "output_type": "stream",
     "text": [
      "29_training\n",
      "(640, 640, 3) (584, 565)\n",
      "(584, 565)\n",
      "results128_32\\29_trainingTrain.png\n"
     ]
    },
    {
     "name": "stderr",
     "output_type": "stream",
     "text": [
      "\r",
      " 45%|████▌     | 9/20 [00:20<00:24,  2.20s/it]"
     ]
    },
    {
     "name": "stdout",
     "output_type": "stream",
     "text": [
      "30_training\n",
      "(640, 640, 3) (584, 565)\n",
      "(584, 565)\n",
      "results128_32\\30_trainingTrain.png\n"
     ]
    },
    {
     "name": "stderr",
     "output_type": "stream",
     "text": [
      "\r",
      " 50%|█████     | 10/20 [00:22<00:22,  2.25s/it]"
     ]
    },
    {
     "name": "stdout",
     "output_type": "stream",
     "text": [
      "31_training\n",
      "(640, 640, 3) (584, 565)\n",
      "(584, 565)\n",
      "results128_32\\31_trainingTrain.png\n"
     ]
    },
    {
     "name": "stderr",
     "output_type": "stream",
     "text": [
      "\r",
      " 55%|█████▌    | 11/20 [00:24<00:20,  2.23s/it]"
     ]
    },
    {
     "name": "stdout",
     "output_type": "stream",
     "text": [
      "32_training\n",
      "(640, 640, 3) (584, 565)\n",
      "(584, 565)\n",
      "results128_32\\32_trainingTrain.png\n"
     ]
    },
    {
     "name": "stderr",
     "output_type": "stream",
     "text": [
      "\r",
      " 60%|██████    | 12/20 [00:26<00:17,  2.21s/it]"
     ]
    },
    {
     "name": "stdout",
     "output_type": "stream",
     "text": [
      "33_training\n",
      "(640, 640, 3) (584, 565)\n",
      "(584, 565)\n",
      "results128_32\\33_trainingTrain.png\n"
     ]
    },
    {
     "name": "stderr",
     "output_type": "stream",
     "text": [
      "\r",
      " 65%|██████▌   | 13/20 [00:28<00:15,  2.20s/it]"
     ]
    },
    {
     "name": "stdout",
     "output_type": "stream",
     "text": [
      "34_training\n",
      "(640, 640, 3) (584, 565)\n",
      "(584, 565)\n",
      "results128_32\\34_trainingTrain.png\n"
     ]
    },
    {
     "name": "stderr",
     "output_type": "stream",
     "text": [
      "\r",
      " 70%|███████   | 14/20 [00:31<00:13,  2.19s/it]"
     ]
    },
    {
     "name": "stdout",
     "output_type": "stream",
     "text": [
      "35_training\n",
      "(640, 640, 3) (584, 565)\n",
      "(584, 565)\n",
      "results128_32\\35_trainingTrain.png\n"
     ]
    },
    {
     "name": "stderr",
     "output_type": "stream",
     "text": [
      "\r",
      " 75%|███████▌  | 15/20 [00:33<00:10,  2.18s/it]"
     ]
    },
    {
     "name": "stdout",
     "output_type": "stream",
     "text": [
      "36_training\n",
      "(640, 640, 3) (584, 565)\n",
      "(584, 565)\n",
      "results128_32\\36_trainingTrain.png\n"
     ]
    },
    {
     "name": "stderr",
     "output_type": "stream",
     "text": [
      "\r",
      " 80%|████████  | 16/20 [00:35<00:08,  2.18s/it]"
     ]
    },
    {
     "name": "stdout",
     "output_type": "stream",
     "text": [
      "37_training\n",
      "(640, 640, 3) (584, 565)\n",
      "(584, 565)\n",
      "results128_32\\37_trainingTrain.png\n"
     ]
    },
    {
     "name": "stderr",
     "output_type": "stream",
     "text": [
      "\r",
      " 85%|████████▌ | 17/20 [00:37<00:06,  2.23s/it]"
     ]
    },
    {
     "name": "stdout",
     "output_type": "stream",
     "text": [
      "38_training\n",
      "(640, 640, 3) (584, 565)\n",
      "(584, 565)\n",
      "results128_32\\38_trainingTrain.png\n"
     ]
    },
    {
     "name": "stderr",
     "output_type": "stream",
     "text": [
      "\r",
      " 90%|█████████ | 18/20 [00:39<00:04,  2.21s/it]"
     ]
    },
    {
     "name": "stdout",
     "output_type": "stream",
     "text": [
      "39_training\n",
      "(640, 640, 3) (584, 565)\n",
      "(584, 565)\n",
      "results128_32\\39_trainingTrain.png\n"
     ]
    },
    {
     "name": "stderr",
     "output_type": "stream",
     "text": [
      "\r",
      " 95%|█████████▌| 19/20 [00:42<00:02,  2.20s/it]"
     ]
    },
    {
     "name": "stdout",
     "output_type": "stream",
     "text": [
      "40_training\n",
      "(640, 640, 3) (584, 565)\n",
      "(584, 565)\n",
      "results128_32\\40_trainingTrain.png\n"
     ]
    },
    {
     "name": "stderr",
     "output_type": "stream",
     "text": [
      "100%|██████████| 20/20 [00:44<00:00,  2.22s/it]\n"
     ]
    },
    {
     "data": {
      "image/png": "[encoded data removed]",
      "text/plain": [
       "<Figure size 432x288 with 1 Axes>"
      ]
     },
     "metadata": {},
     "output_type": "display_data"
    }
   ],
   "source": [
    "\"\"\" Make the prediction and calculate the metrics values \"\"\"\n",
    "SCORE = []\n",
    "\n",
    "for x, y in tqdm(zip(test_x, test_y), total=len(test_x)):\n",
    "    \n",
    "    \"\"\" Extracting name \"\"\"\n",
    "    name = x.split(\"\\\\\")[-1].split(\".\")[0]\n",
    "    print(name)\n",
    "    \"\"\" Read the image and mask \"\"\"\n",
    "    ori_x, x = read_image(x)\n",
    "    ori_y, y = read_gt(y)\n",
    "    \n",
    "    print(ori_x.shape, ori_y.shape)\n",
    "    \n",
    "    patches_img = patchify(x, (128, 128,3), step=128)\n",
    "    \n",
    "    pred_patches = []\n",
    "    for i in range(patches_img.shape[0]):\n",
    "        for j in range(patches_img.shape[1]):        \n",
    "            single_patch_img = patches_img[i,j,:,:][0]\n",
    "#             print(single_patch_img.shape)\n",
    "            \n",
    "            \"\"\" Prediction \"\"\"\n",
    "            y_pred = model.predict(np.expand_dims(single_patch_img, axis=0))[0]\n",
    "            y_pred = y_pred > 0.5\n",
    "            y_pred = y_pred.astype(np.int32)\n",
    "            y_pred = np.squeeze(y_pred, axis=-1)\n",
    "            \n",
    "            pred_patches.append(y_pred)\n",
    "    pred_patches_reshaped = np.reshape(pred_patches, (5, 5, 128,128) )\n",
    "    reconstructed_image = unpatchify(pred_patches_reshaped, (640,640))\n",
    "    \n",
    "    final_y_pred = reconstructed_image[28:-28,37:-38]\n",
    "    print(final_y_pred.shape)\n",
    "    plt.imshow(final_y_pred, cmap='gray')\n",
    "    \n",
    "    \n",
    "    \"\"\" Saving the images \"\"\"\n",
    "    save_image_path = f\"results128_32\\\\{name}Train.png\"\n",
    "    print(save_image_path)\n",
    "\n",
    "    save_results(ori_x, ori_y, final_y_pred, save_image_path)\n",
    "\n",
    "    \"\"\" Flatten the array \"\"\"\n",
    "    y = y.flatten()\n",
    "    final_y_pred = final_y_pred.flatten()\n",
    "\n",
    "    \"\"\" Calculate the metrics \"\"\"\n",
    "    acc_value = accuracy_score(y, final_y_pred)\n",
    "    f1_value = f1_score(y, final_y_pred, labels=[0, 1], average=\"binary\")\n",
    "    jac_value = jaccard_score(y, final_y_pred, labels=[0, 1], average=\"binary\")\n",
    "    recall_value = recall_score(y, final_y_pred, labels=[0, 1], average=\"binary\")\n",
    "    precision_value = precision_score(y, final_y_pred, labels=[0, 1], average=\"binary\")\n",
    "    \n",
    "    cm = confusion_matrix(y, final_y_pred)\n",
    "    sensitivity, specificity = get_metrics(cm)\n",
    "    \n",
    "    SCORE.append([name, acc_value, f1_value, jac_value, recall_value, precision_value, sensitivity, specificity])"
   ]
  },
  {
   "cell_type": "code",
   "execution_count": 108,
   "id": "31e81a06",
   "metadata": {
    "scrolled": true
   },
   "outputs": [
    {
     "data": {
      "text/plain": [
       "[['21_training',\n",
       "  0.9988938053097345,\n",
       "  0.9925835619221782,\n",
       "  0.9852763210972166,\n",
       "  0.9905507340416904,\n",
       "  0.9946247505802827,\n",
       "  0.9905507340416904,\n",
       "  0.999567641220824],\n",
       " ['22_training',\n",
       "  0.9976209237483331,\n",
       "  0.9867369523712978,\n",
       "  0.9738211165210432,\n",
       "  0.9796034754604314,\n",
       "  0.9939750833957383,\n",
       "  0.9796034754604314,\n",
       "  0.9994102968172687],\n",
       " ['23_training',\n",
       "  0.9990150321251061,\n",
       "  0.9924839851067274,\n",
       "  0.9850801083413672,\n",
       "  0.9878009483036413,\n",
       "  0.9972116367692164,\n",
       "  0.9878009483036413,\n",
       "  0.9998053445887418],\n",
       " ['24_training',\n",
       "  0.9957661534731482,\n",
       "  0.9814944827860276,\n",
       "  0.963661429611903,\n",
       "  0.969081064113631,\n",
       "  0.9942300466963663,\n",
       "  0.969081064113631,\n",
       "  0.9992630196996548],\n",
       " ['25_training',\n",
       "  0.9955206691720209,\n",
       "  0.9762295345620636,\n",
       "  0.9535629005906748,\n",
       "  0.9583504373361963,\n",
       "  0.994788423088269,\n",
       "  0.9583504373361963,\n",
       "  0.9994669634685592],\n",
       " ['26_training',\n",
       "  0.9974693902291187,\n",
       "  0.9847195534815628,\n",
       "  0.9698990627253065,\n",
       "  0.9757734015159758,\n",
       "  0.9938312647754137,\n",
       "  0.9757734015159758,\n",
       "  0.9994477275808814],\n",
       " ['27_training',\n",
       "  0.9974693902291187,\n",
       "  0.9855653707193113,\n",
       "  0.9715415289185781,\n",
       "  0.9804973686926014,\n",
       "  0.9906860360047265,\n",
       "  0.9804973686926014,\n",
       "  0.9991093001691665],\n",
       " ['28_training',\n",
       "  0.9978330706752334,\n",
       "  0.9888589370023528,\n",
       "  0.9779633853171423,\n",
       "  0.9845786272806255,\n",
       "  0.9931766252464865,\n",
       "  0.9845786272806255,\n",
       "  0.9992677978853466],\n",
       " ['29_training',\n",
       "  0.9967632440295794,\n",
       "  0.9805130825092142,\n",
       "  0.9617711278949064,\n",
       "  0.9682173615365212,\n",
       "  0.9931251155054519,\n",
       "  0.9682173615365212,\n",
       "  0.9993845318967999],\n",
       " ['30_training',\n",
       "  0.9970754030791611,\n",
       "  0.9811246943765283,\n",
       "  0.9629487425609522,\n",
       "  0.9689383402874363,\n",
       "  0.99362148884751,\n",
       "  0.9689383402874363,\n",
       "  0.9994705271050658],\n",
       " ['31_training',\n",
       "  0.9985119408413141,\n",
       "  0.9875818811806065,\n",
       "  0.9754683987009742,\n",
       "  0.9812041411197105,\n",
       "  0.9940430731632809,\n",
       "  0.9812041411197105,\n",
       "  0.9996226561139385],\n",
       " ['32_training',\n",
       "  0.9981391683840466,\n",
       "  0.9885558786252143,\n",
       "  0.9773707293701397,\n",
       "  0.9827675659650164,\n",
       "  0.9944127793610319,\n",
       "  0.9827675659650164,\n",
       "  0.9995082118715674],\n",
       " ['33_training',\n",
       "  0.9978118559825433,\n",
       "  0.9863603732950467,\n",
       "  0.9730878186968839,\n",
       "  0.9782657573259387,\n",
       "  0.9945900640048766,\n",
       "  0.9782657573259387,\n",
       "  0.9995317765453022],\n",
       " ['34_training',\n",
       "  0.999245363074312,\n",
       "  0.9961438991528967,\n",
       "  0.9923174230970967,\n",
       "  0.9961284727599343,\n",
       "  0.9961593260236635,\n",
       "  0.9961284727599343,\n",
       "  0.9995834355148099],\n",
       " ['35_training',\n",
       "  0.9991938416777791,\n",
       "  0.9953529000698811,\n",
       "  0.9907487914304595,\n",
       "  0.9956312036907591,\n",
       "  0.9950747519910577,\n",
       "  0.9956312036907591,\n",
       "  0.9995321024197937],\n",
       " ['36_training',\n",
       "  0.9991635349739363,\n",
       "  0.9961526666480804,\n",
       "  0.9923348237842642,\n",
       "  0.9957362612863672,\n",
       "  0.9965694204272885,\n",
       "  0.9957362612863672,\n",
       "  0.9995817407744937],\n",
       " ['37_training',\n",
       "  0.9993150684931507,\n",
       "  0.9960777507809788,\n",
       "  0.9921861494312485,\n",
       "  0.9950071079366181,\n",
       "  0.9971507001633135,\n",
       "  0.9950071079366181,\n",
       "  0.9997276824112726],\n",
       " ['38_training',\n",
       "  0.9993211298339193,\n",
       "  0.9960686580785566,\n",
       "  0.9921681060102794,\n",
       "  0.9964883941426415,\n",
       "  0.9956492754640188,\n",
       "  0.9964883941426415,\n",
       "  0.9995886998603569],\n",
       " ['39_training',\n",
       "  0.9990847375439447,\n",
       "  0.9946705255355945,\n",
       "  0.9893975565229602,\n",
       "  0.9941442077042472,\n",
       "  0.9951974009463945,\n",
       "  0.9941442077042472,\n",
       "  0.9995490895587709],\n",
       " ['40_training',\n",
       "  0.9989241120135774,\n",
       "  0.9928873394642465,\n",
       "  0.9858751442326821,\n",
       "  0.9910803567857286,\n",
       "  0.9947009233239663,\n",
       "  0.9910803567857286,\n",
       "  0.9995671549290233]]"
      ]
     },
     "execution_count": 108,
     "metadata": {},
     "output_type": "execute_result"
    }
   ],
   "source": [
    "SCORE"
   ]
  },
  {
   "cell_type": "code",
   "execution_count": 109,
   "id": "206011ed",
   "metadata": {},
   "outputs": [
    {
     "name": "stdout",
     "output_type": "stream",
     "text": [
      "Accuracy: 0.99811\n",
      "F1: 0.98901\n",
      "Jaccard: 0.97832\n",
      "Recall: 0.98349\n",
      "Precision: 0.99464\n",
      "Sensitivity: 0.98349\n",
      "Specificity: 0.99950\n"
     ]
    }
   ],
   "source": [
    "score = [s[1:] for s in SCORE]\n",
    "score = np.mean(score, axis=0)\n",
    "print(f\"Accuracy: {score[0]:0.5f}\")\n",
    "print(f\"F1: {score[1]:0.5f}\")\n",
    "print(f\"Jaccard: {score[2]:0.5f}\")\n",
    "print(f\"Recall: {score[3]:0.5f}\")\n",
    "print(f\"Precision: {score[4]:0.5f}\")\n",
    "print(f\"Sensitivity: {score[5]:0.5f}\")\n",
    "print(f\"Specificity: {score[6]:0.5f}\")\n",
    "\n"
   ]
  },
  {
   "cell_type": "code",
   "execution_count": 110,
   "id": "21f0492e",
   "metadata": {},
   "outputs": [
    {
     "data": {
      "text/html": [
       "<div>\n",
       "<style scoped>\n",
       "    .dataframe tbody tr th:only-of-type {\n",
       "        vertical-align: middle;\n",
       "    }\n",
       "\n",
       "    .dataframe tbody tr th {\n",
       "        vertical-align: top;\n",
       "    }\n",
       "\n",
       "    .dataframe thead th {\n",
       "        text-align: right;\n",
       "    }\n",
       "</style>\n",
       "<table border=\"1\" class=\"dataframe\">\n",
       "  <thead>\n",
       "    <tr style=\"text-align: right;\">\n",
       "      <th></th>\n",
       "      <th>Image</th>\n",
       "      <th>Acc</th>\n",
       "      <th>F1</th>\n",
       "      <th>Jaccard</th>\n",
       "      <th>Recall</th>\n",
       "      <th>Precision</th>\n",
       "      <th>Sensitivity</th>\n",
       "      <th>Specificity</th>\n",
       "    </tr>\n",
       "  </thead>\n",
       "  <tbody>\n",
       "    <tr>\n",
       "      <th>0</th>\n",
       "      <td>21_training</td>\n",
       "      <td>0.998894</td>\n",
       "      <td>0.992584</td>\n",
       "      <td>0.985276</td>\n",
       "      <td>0.990551</td>\n",
       "      <td>0.994625</td>\n",
       "      <td>0.990551</td>\n",
       "      <td>0.999568</td>\n",
       "    </tr>\n",
       "    <tr>\n",
       "      <th>1</th>\n",
       "      <td>22_training</td>\n",
       "      <td>0.997621</td>\n",
       "      <td>0.986737</td>\n",
       "      <td>0.973821</td>\n",
       "      <td>0.979603</td>\n",
       "      <td>0.993975</td>\n",
       "      <td>0.979603</td>\n",
       "      <td>0.999410</td>\n",
       "    </tr>\n",
       "    <tr>\n",
       "      <th>2</th>\n",
       "      <td>23_training</td>\n",
       "      <td>0.999015</td>\n",
       "      <td>0.992484</td>\n",
       "      <td>0.985080</td>\n",
       "      <td>0.987801</td>\n",
       "      <td>0.997212</td>\n",
       "      <td>0.987801</td>\n",
       "      <td>0.999805</td>\n",
       "    </tr>\n",
       "    <tr>\n",
       "      <th>3</th>\n",
       "      <td>24_training</td>\n",
       "      <td>0.995766</td>\n",
       "      <td>0.981494</td>\n",
       "      <td>0.963661</td>\n",
       "      <td>0.969081</td>\n",
       "      <td>0.994230</td>\n",
       "      <td>0.969081</td>\n",
       "      <td>0.999263</td>\n",
       "    </tr>\n",
       "    <tr>\n",
       "      <th>4</th>\n",
       "      <td>25_training</td>\n",
       "      <td>0.995521</td>\n",
       "      <td>0.976230</td>\n",
       "      <td>0.953563</td>\n",
       "      <td>0.958350</td>\n",
       "      <td>0.994788</td>\n",
       "      <td>0.958350</td>\n",
       "      <td>0.999467</td>\n",
       "    </tr>\n",
       "    <tr>\n",
       "      <th>5</th>\n",
       "      <td>26_training</td>\n",
       "      <td>0.997469</td>\n",
       "      <td>0.984720</td>\n",
       "      <td>0.969899</td>\n",
       "      <td>0.975773</td>\n",
       "      <td>0.993831</td>\n",
       "      <td>0.975773</td>\n",
       "      <td>0.999448</td>\n",
       "    </tr>\n",
       "    <tr>\n",
       "      <th>6</th>\n",
       "      <td>27_training</td>\n",
       "      <td>0.997469</td>\n",
       "      <td>0.985565</td>\n",
       "      <td>0.971542</td>\n",
       "      <td>0.980497</td>\n",
       "      <td>0.990686</td>\n",
       "      <td>0.980497</td>\n",
       "      <td>0.999109</td>\n",
       "    </tr>\n",
       "    <tr>\n",
       "      <th>7</th>\n",
       "      <td>28_training</td>\n",
       "      <td>0.997833</td>\n",
       "      <td>0.988859</td>\n",
       "      <td>0.977963</td>\n",
       "      <td>0.984579</td>\n",
       "      <td>0.993177</td>\n",
       "      <td>0.984579</td>\n",
       "      <td>0.999268</td>\n",
       "    </tr>\n",
       "    <tr>\n",
       "      <th>8</th>\n",
       "      <td>29_training</td>\n",
       "      <td>0.996763</td>\n",
       "      <td>0.980513</td>\n",
       "      <td>0.961771</td>\n",
       "      <td>0.968217</td>\n",
       "      <td>0.993125</td>\n",
       "      <td>0.968217</td>\n",
       "      <td>0.999385</td>\n",
       "    </tr>\n",
       "    <tr>\n",
       "      <th>9</th>\n",
       "      <td>30_training</td>\n",
       "      <td>0.997075</td>\n",
       "      <td>0.981125</td>\n",
       "      <td>0.962949</td>\n",
       "      <td>0.968938</td>\n",
       "      <td>0.993621</td>\n",
       "      <td>0.968938</td>\n",
       "      <td>0.999471</td>\n",
       "    </tr>\n",
       "    <tr>\n",
       "      <th>10</th>\n",
       "      <td>31_training</td>\n",
       "      <td>0.998512</td>\n",
       "      <td>0.987582</td>\n",
       "      <td>0.975468</td>\n",
       "      <td>0.981204</td>\n",
       "      <td>0.994043</td>\n",
       "      <td>0.981204</td>\n",
       "      <td>0.999623</td>\n",
       "    </tr>\n",
       "    <tr>\n",
       "      <th>11</th>\n",
       "      <td>32_training</td>\n",
       "      <td>0.998139</td>\n",
       "      <td>0.988556</td>\n",
       "      <td>0.977371</td>\n",
       "      <td>0.982768</td>\n",
       "      <td>0.994413</td>\n",
       "      <td>0.982768</td>\n",
       "      <td>0.999508</td>\n",
       "    </tr>\n",
       "    <tr>\n",
       "      <th>12</th>\n",
       "      <td>33_training</td>\n",
       "      <td>0.997812</td>\n",
       "      <td>0.986360</td>\n",
       "      <td>0.973088</td>\n",
       "      <td>0.978266</td>\n",
       "      <td>0.994590</td>\n",
       "      <td>0.978266</td>\n",
       "      <td>0.999532</td>\n",
       "    </tr>\n",
       "    <tr>\n",
       "      <th>13</th>\n",
       "      <td>34_training</td>\n",
       "      <td>0.999245</td>\n",
       "      <td>0.996144</td>\n",
       "      <td>0.992317</td>\n",
       "      <td>0.996128</td>\n",
       "      <td>0.996159</td>\n",
       "      <td>0.996128</td>\n",
       "      <td>0.999583</td>\n",
       "    </tr>\n",
       "    <tr>\n",
       "      <th>14</th>\n",
       "      <td>35_training</td>\n",
       "      <td>0.999194</td>\n",
       "      <td>0.995353</td>\n",
       "      <td>0.990749</td>\n",
       "      <td>0.995631</td>\n",
       "      <td>0.995075</td>\n",
       "      <td>0.995631</td>\n",
       "      <td>0.999532</td>\n",
       "    </tr>\n",
       "    <tr>\n",
       "      <th>15</th>\n",
       "      <td>36_training</td>\n",
       "      <td>0.999164</td>\n",
       "      <td>0.996153</td>\n",
       "      <td>0.992335</td>\n",
       "      <td>0.995736</td>\n",
       "      <td>0.996569</td>\n",
       "      <td>0.995736</td>\n",
       "      <td>0.999582</td>\n",
       "    </tr>\n",
       "    <tr>\n",
       "      <th>16</th>\n",
       "      <td>37_training</td>\n",
       "      <td>0.999315</td>\n",
       "      <td>0.996078</td>\n",
       "      <td>0.992186</td>\n",
       "      <td>0.995007</td>\n",
       "      <td>0.997151</td>\n",
       "      <td>0.995007</td>\n",
       "      <td>0.999728</td>\n",
       "    </tr>\n",
       "    <tr>\n",
       "      <th>17</th>\n",
       "      <td>38_training</td>\n",
       "      <td>0.999321</td>\n",
       "      <td>0.996069</td>\n",
       "      <td>0.992168</td>\n",
       "      <td>0.996488</td>\n",
       "      <td>0.995649</td>\n",
       "      <td>0.996488</td>\n",
       "      <td>0.999589</td>\n",
       "    </tr>\n",
       "    <tr>\n",
       "      <th>18</th>\n",
       "      <td>39_training</td>\n",
       "      <td>0.999085</td>\n",
       "      <td>0.994671</td>\n",
       "      <td>0.989398</td>\n",
       "      <td>0.994144</td>\n",
       "      <td>0.995197</td>\n",
       "      <td>0.994144</td>\n",
       "      <td>0.999549</td>\n",
       "    </tr>\n",
       "    <tr>\n",
       "      <th>19</th>\n",
       "      <td>40_training</td>\n",
       "      <td>0.998924</td>\n",
       "      <td>0.992887</td>\n",
       "      <td>0.985875</td>\n",
       "      <td>0.991080</td>\n",
       "      <td>0.994701</td>\n",
       "      <td>0.991080</td>\n",
       "      <td>0.999567</td>\n",
       "    </tr>\n",
       "  </tbody>\n",
       "</table>\n",
       "</div>"
      ],
      "text/plain": [
       "          Image       Acc        F1   Jaccard    Recall  Precision  \\\n",
       "0   21_training  0.998894  0.992584  0.985276  0.990551   0.994625   \n",
       "1   22_training  0.997621  0.986737  0.973821  0.979603   0.993975   \n",
       "2   23_training  0.999015  0.992484  0.985080  0.987801   0.997212   \n",
       "3   24_training  0.995766  0.981494  0.963661  0.969081   0.994230   \n",
       "4   25_training  0.995521  0.976230  0.953563  0.958350   0.994788   \n",
       "5   26_training  0.997469  0.984720  0.969899  0.975773   0.993831   \n",
       "6   27_training  0.997469  0.985565  0.971542  0.980497   0.990686   \n",
       "7   28_training  0.997833  0.988859  0.977963  0.984579   0.993177   \n",
       "8   29_training  0.996763  0.980513  0.961771  0.968217   0.993125   \n",
       "9   30_training  0.997075  0.981125  0.962949  0.968938   0.993621   \n",
       "10  31_training  0.998512  0.987582  0.975468  0.981204   0.994043   \n",
       "11  32_training  0.998139  0.988556  0.977371  0.982768   0.994413   \n",
       "12  33_training  0.997812  0.986360  0.973088  0.978266   0.994590   \n",
       "13  34_training  0.999245  0.996144  0.992317  0.996128   0.996159   \n",
       "14  35_training  0.999194  0.995353  0.990749  0.995631   0.995075   \n",
       "15  36_training  0.999164  0.996153  0.992335  0.995736   0.996569   \n",
       "16  37_training  0.999315  0.996078  0.992186  0.995007   0.997151   \n",
       "17  38_training  0.999321  0.996069  0.992168  0.996488   0.995649   \n",
       "18  39_training  0.999085  0.994671  0.989398  0.994144   0.995197   \n",
       "19  40_training  0.998924  0.992887  0.985875  0.991080   0.994701   \n",
       "\n",
       "    Sensitivity  Specificity  \n",
       "0      0.990551     0.999568  \n",
       "1      0.979603     0.999410  \n",
       "2      0.987801     0.999805  \n",
       "3      0.969081     0.999263  \n",
       "4      0.958350     0.999467  \n",
       "5      0.975773     0.999448  \n",
       "6      0.980497     0.999109  \n",
       "7      0.984579     0.999268  \n",
       "8      0.968217     0.999385  \n",
       "9      0.968938     0.999471  \n",
       "10     0.981204     0.999623  \n",
       "11     0.982768     0.999508  \n",
       "12     0.978266     0.999532  \n",
       "13     0.996128     0.999583  \n",
       "14     0.995631     0.999532  \n",
       "15     0.995736     0.999582  \n",
       "16     0.995007     0.999728  \n",
       "17     0.996488     0.999589  \n",
       "18     0.994144     0.999549  \n",
       "19     0.991080     0.999567  "
      ]
     },
     "execution_count": 110,
     "metadata": {},
     "output_type": "execute_result"
    }
   ],
   "source": [
    "\"\"\" Saving \"\"\"\n",
    "df = pd.DataFrame(SCORE, columns=[\"Image\", \"Acc\", \"F1\", \"Jaccard\", \"Recall\", \"Precision\", \"Sensitivity\", \"Specificity\"])\n",
    "df"
   ]
  },
  {
   "cell_type": "code",
   "execution_count": 111,
   "id": "bbe6b0ee",
   "metadata": {},
   "outputs": [],
   "source": [
    "# df.to_csv(\"files/score.csv\")\n"
   ]
  },
  {
   "cell_type": "code",
   "execution_count": 112,
   "id": "dd2585bc",
   "metadata": {},
   "outputs": [],
   "source": [
    "import seaborn as sns"
   ]
  },
  {
   "cell_type": "code",
   "execution_count": 113,
   "id": "c00d8fe5",
   "metadata": {},
   "outputs": [
    {
     "data": {
      "text/plain": [
       "[None,\n",
       " None,\n",
       " None,\n",
       " None,\n",
       " None,\n",
       " None,\n",
       " None,\n",
       " None,\n",
       " None,\n",
       " None,\n",
       " None,\n",
       " None,\n",
       " None,\n",
       " None,\n",
       " None,\n",
       " None,\n",
       " None,\n",
       " None,\n",
       " None,\n",
       " None,\n",
       " None,\n",
       " None,\n",
       " None,\n",
       " None,\n",
       " None,\n",
       " None,\n",
       " None,\n",
       " None,\n",
       " None,\n",
       " None,\n",
       " None,\n",
       " None,\n",
       " None,\n",
       " None,\n",
       " None,\n",
       " None,\n",
       " None,\n",
       " None,\n",
       " None,\n",
       " None]"
      ]
     },
     "execution_count": 113,
     "metadata": {},
     "output_type": "execute_result"
    },
    {
     "data": {
      "image/png": "[encoded data removed]",
      "text/plain": [
       "<Figure size 1440x720 with 1 Axes>"
      ]
     },
     "metadata": {},
     "output_type": "display_data"
    }
   ],
   "source": [
    "plt.figure(figsize=(20, 10))\n",
    "sns.set_style(\"darkgrid\")\n",
    "ax = sns.lineplot(data=df, x=\"Image\", y=\"Acc\", marker = \"o\")\n",
    "ax.axhline(df[\"Acc\"].mean(), color=\"orange\", linestyle=\"--\")\n",
    "ax.set(xlabel=\"X Label\", ylabel = \"Y Label\")\n",
    "plt.setp(ax.get_xticklabels(), rotation=90)\n"
   ]
  },
  {
   "cell_type": "markdown",
   "id": "d9a8b17a",
   "metadata": {},
   "source": [
    "# TEST"
   ]
  },
  {
   "cell_type": "code",
   "execution_count": 120,
   "id": "3948d58e",
   "metadata": {},
   "outputs": [],
   "source": [
    "\"\"\" Load the dataset \"\"\"\n",
    "dataset_path = os.path.join(\"new_data_128\", \"test\")\n",
    "test_x, test_y = load_data(dataset_path)"
   ]
  },
  {
   "cell_type": "code",
   "execution_count": 121,
   "id": "25f7d227",
   "metadata": {},
   "outputs": [
    {
     "data": {
      "text/plain": [
       "['new_data_128\\\\test\\\\image\\\\01_test.tif',\n",
       " 'new_data_128\\\\test\\\\image\\\\02_test.tif',\n",
       " 'new_data_128\\\\test\\\\image\\\\03_test.tif',\n",
       " 'new_data_128\\\\test\\\\image\\\\04_test.tif',\n",
       " 'new_data_128\\\\test\\\\image\\\\05_test.tif',\n",
       " 'new_data_128\\\\test\\\\image\\\\06_test.tif',\n",
       " 'new_data_128\\\\test\\\\image\\\\07_test.tif',\n",
       " 'new_data_128\\\\test\\\\image\\\\08_test.tif',\n",
       " 'new_data_128\\\\test\\\\image\\\\09_test.tif',\n",
       " 'new_data_128\\\\test\\\\image\\\\10_test.tif',\n",
       " 'new_data_128\\\\test\\\\image\\\\11_test.tif',\n",
       " 'new_data_128\\\\test\\\\image\\\\12_test.tif',\n",
       " 'new_data_128\\\\test\\\\image\\\\13_test.tif',\n",
       " 'new_data_128\\\\test\\\\image\\\\14_test.tif',\n",
       " 'new_data_128\\\\test\\\\image\\\\15_test.tif',\n",
       " 'new_data_128\\\\test\\\\image\\\\16_test.tif',\n",
       " 'new_data_128\\\\test\\\\image\\\\17_test.tif',\n",
       " 'new_data_128\\\\test\\\\image\\\\18_test.tif',\n",
       " 'new_data_128\\\\test\\\\image\\\\19_test.tif',\n",
       " 'new_data_128\\\\test\\\\image\\\\20_test.tif']"
      ]
     },
     "execution_count": 121,
     "metadata": {},
     "output_type": "execute_result"
    }
   ],
   "source": [
    "test_x"
   ]
  },
  {
   "cell_type": "code",
   "execution_count": 124,
   "id": "ae3e4226",
   "metadata": {},
   "outputs": [
    {
     "name": "stderr",
     "output_type": "stream",
     "text": [
      "\r",
      "  0%|          | 0/20 [00:00<?, ?it/s]"
     ]
    },
    {
     "name": "stdout",
     "output_type": "stream",
     "text": [
      "01_test\n"
     ]
    },
    {
     "name": "stderr",
     "output_type": "stream",
     "text": [
      "\r",
      "  5%|▌         | 1/20 [00:01<00:32,  1.70s/it]"
     ]
    },
    {
     "name": "stdout",
     "output_type": "stream",
     "text": [
      "(584, 565)\n",
      "results128_32\\01_testTest.png\n",
      "02_test\n"
     ]
    },
    {
     "name": "stderr",
     "output_type": "stream",
     "text": [
      "\r",
      " 10%|█         | 2/20 [00:03<00:30,  1.69s/it]"
     ]
    },
    {
     "name": "stdout",
     "output_type": "stream",
     "text": [
      "(584, 565)\n",
      "results128_32\\02_testTest.png\n",
      "03_test\n"
     ]
    },
    {
     "name": "stderr",
     "output_type": "stream",
     "text": [
      "\r",
      " 15%|█▌        | 3/20 [00:05<00:29,  1.76s/it]"
     ]
    },
    {
     "name": "stdout",
     "output_type": "stream",
     "text": [
      "(584, 565)\n",
      "results128_32\\03_testTest.png\n",
      "04_test\n"
     ]
    },
    {
     "name": "stderr",
     "output_type": "stream",
     "text": [
      "\r",
      " 20%|██        | 4/20 [00:06<00:27,  1.71s/it]"
     ]
    },
    {
     "name": "stdout",
     "output_type": "stream",
     "text": [
      "(584, 565)\n",
      "results128_32\\04_testTest.png\n",
      "05_test\n"
     ]
    },
    {
     "name": "stderr",
     "output_type": "stream",
     "text": [
      "\r",
      " 25%|██▌       | 5/20 [00:08<00:25,  1.69s/it]"
     ]
    },
    {
     "name": "stdout",
     "output_type": "stream",
     "text": [
      "(584, 565)\n",
      "results128_32\\05_testTest.png\n",
      "06_test\n"
     ]
    },
    {
     "name": "stderr",
     "output_type": "stream",
     "text": [
      "\r",
      " 30%|███       | 6/20 [00:10<00:23,  1.66s/it]"
     ]
    },
    {
     "name": "stdout",
     "output_type": "stream",
     "text": [
      "(584, 565)\n",
      "results128_32\\06_testTest.png\n",
      "07_test\n"
     ]
    },
    {
     "name": "stderr",
     "output_type": "stream",
     "text": [
      "\r",
      " 35%|███▌      | 7/20 [00:11<00:21,  1.64s/it]"
     ]
    },
    {
     "name": "stdout",
     "output_type": "stream",
     "text": [
      "(584, 565)\n",
      "results128_32\\07_testTest.png\n",
      "08_test\n"
     ]
    },
    {
     "name": "stderr",
     "output_type": "stream",
     "text": [
      "\r",
      " 40%|████      | 8/20 [00:13<00:19,  1.63s/it]"
     ]
    },
    {
     "name": "stdout",
     "output_type": "stream",
     "text": [
      "(584, 565)\n",
      "results128_32\\08_testTest.png\n",
      "09_test\n"
     ]
    },
    {
     "name": "stderr",
     "output_type": "stream",
     "text": [
      "\r",
      " 45%|████▌     | 9/20 [00:14<00:17,  1.62s/it]"
     ]
    },
    {
     "name": "stdout",
     "output_type": "stream",
     "text": [
      "(584, 565)\n",
      "results128_32\\09_testTest.png\n",
      "10_test\n"
     ]
    },
    {
     "name": "stderr",
     "output_type": "stream",
     "text": [
      "\r",
      " 50%|█████     | 10/20 [00:16<00:16,  1.61s/it]"
     ]
    },
    {
     "name": "stdout",
     "output_type": "stream",
     "text": [
      "(584, 565)\n",
      "results128_32\\10_testTest.png\n",
      "11_test\n"
     ]
    },
    {
     "name": "stderr",
     "output_type": "stream",
     "text": [
      "\r",
      " 55%|█████▌    | 11/20 [00:18<00:15,  1.67s/it]"
     ]
    },
    {
     "name": "stdout",
     "output_type": "stream",
     "text": [
      "(584, 565)\n",
      "results128_32\\11_testTest.png\n",
      "12_test\n"
     ]
    },
    {
     "name": "stderr",
     "output_type": "stream",
     "text": [
      "\r",
      " 60%|██████    | 12/20 [00:19<00:13,  1.65s/it]"
     ]
    },
    {
     "name": "stdout",
     "output_type": "stream",
     "text": [
      "(584, 565)\n",
      "results128_32\\12_testTest.png\n",
      "13_test\n"
     ]
    },
    {
     "name": "stderr",
     "output_type": "stream",
     "text": [
      "\r",
      " 65%|██████▌   | 13/20 [00:21<00:11,  1.63s/it]"
     ]
    },
    {
     "name": "stdout",
     "output_type": "stream",
     "text": [
      "(584, 565)\n",
      "results128_32\\13_testTest.png\n",
      "14_test\n"
     ]
    },
    {
     "name": "stderr",
     "output_type": "stream",
     "text": [
      "\r",
      " 70%|███████   | 14/20 [00:23<00:09,  1.62s/it]"
     ]
    },
    {
     "name": "stdout",
     "output_type": "stream",
     "text": [
      "(584, 565)\n",
      "results128_32\\14_testTest.png\n",
      "15_test\n"
     ]
    },
    {
     "name": "stderr",
     "output_type": "stream",
     "text": [
      "\r",
      " 75%|███████▌  | 15/20 [00:24<00:08,  1.62s/it]"
     ]
    },
    {
     "name": "stdout",
     "output_type": "stream",
     "text": [
      "(584, 565)\n",
      "results128_32\\15_testTest.png\n",
      "16_test\n"
     ]
    },
    {
     "name": "stderr",
     "output_type": "stream",
     "text": [
      "\r",
      " 80%|████████  | 16/20 [00:26<00:06,  1.61s/it]"
     ]
    },
    {
     "name": "stdout",
     "output_type": "stream",
     "text": [
      "(584, 565)\n",
      "results128_32\\16_testTest.png\n",
      "17_test\n"
     ]
    },
    {
     "name": "stderr",
     "output_type": "stream",
     "text": [
      "\r",
      " 85%|████████▌ | 17/20 [00:27<00:04,  1.61s/it]"
     ]
    },
    {
     "name": "stdout",
     "output_type": "stream",
     "text": [
      "(584, 565)\n",
      "results128_32\\17_testTest.png\n",
      "18_test\n"
     ]
    },
    {
     "name": "stderr",
     "output_type": "stream",
     "text": [
      "\r",
      " 90%|█████████ | 18/20 [00:29<00:03,  1.60s/it]"
     ]
    },
    {
     "name": "stdout",
     "output_type": "stream",
     "text": [
      "(584, 565)\n",
      "results128_32\\18_testTest.png\n",
      "19_test\n"
     ]
    },
    {
     "name": "stderr",
     "output_type": "stream",
     "text": [
      "\r",
      " 95%|█████████▌| 19/20 [00:31<00:01,  1.67s/it]"
     ]
    },
    {
     "name": "stdout",
     "output_type": "stream",
     "text": [
      "(584, 565)\n",
      "results128_32\\19_testTest.png\n",
      "20_test\n"
     ]
    },
    {
     "name": "stderr",
     "output_type": "stream",
     "text": [
      "100%|██████████| 20/20 [00:32<00:00,  1.65s/it]"
     ]
    },
    {
     "name": "stdout",
     "output_type": "stream",
     "text": [
      "(584, 565)\n",
      "results128_32\\20_testTest.png\n"
     ]
    },
    {
     "name": "stderr",
     "output_type": "stream",
     "text": [
      "\n"
     ]
    },
    {
     "data": {
      "image/png": "[encoded data removed]",
      "text/plain": [
       "<Figure size 432x288 with 1 Axes>"
      ]
     },
     "metadata": {},
     "output_type": "display_data"
    }
   ],
   "source": [
    "for x in tqdm((test_x), total=len(test_x)):\n",
    "    \n",
    "    \"\"\" Extracting name \"\"\"\n",
    "    name = x.split(\"\\\\\")[-1].split(\".\")[0]\n",
    "    print(name)\n",
    "    \"\"\" Read the image and mask \"\"\"\n",
    "    ori_x, x = read_image(x)\n",
    "    \n",
    "    \n",
    "    patches_img = patchify(x, (128, 128,3), step=128)\n",
    "    \n",
    "    pred_patches = []\n",
    "    for i in range(patches_img.shape[0]):\n",
    "        for j in range(patches_img.shape[1]):        \n",
    "            single_patch_img = patches_img[i,j,:,:][0]\n",
    "#             print(single_patch_img.shape)\n",
    "            \n",
    "            \"\"\" Prediction \"\"\"\n",
    "            y_pred = model.predict(np.expand_dims(single_patch_img, axis=0))[0]\n",
    "            y_pred = y_pred > 0.5\n",
    "            y_pred = y_pred.astype(np.int32)\n",
    "            y_pred = np.squeeze(y_pred, axis=-1)\n",
    "            \n",
    "            pred_patches.append(y_pred)\n",
    "    pred_patches_reshaped = np.reshape(pred_patches, (5, 5, 128,128) )\n",
    "    reconstructed_image = unpatchify(pred_patches_reshaped, (640,640))\n",
    "    \n",
    "    final_y_pred = reconstructed_image[28:-28,37:-38]\n",
    "    print(final_y_pred.shape)\n",
    "    plt.imshow(final_y_pred, cmap='gray')\n",
    "    \n",
    "    \n",
    "    \"\"\" Saving the images \"\"\"\n",
    "    save_image_path = f\"results128_32\\\\{name}Test.png\"\n",
    "    print(save_image_path)\n",
    "\n",
    "    save_tests(final_y_pred, save_image_path)\n"
   ]
  },
  {
   "cell_type": "code",
   "execution_count": null,
   "id": "1b30602f",
   "metadata": {},
   "outputs": [],
   "source": []
  }
 ],
 "metadata": {
  "kernelspec": {
   "display_name": "Python 3 (vanilla)",
   "language": "python",
   "name": "vanilla"
  },
  "language_info": {
   "codemirror_mode": {
    "name": "ipython",
    "version": 3
   },
   "file_extension": ".py",
   "mimetype": "text/x-python",
   "name": "python",
   "nbconvert_exporter": "python",
   "pygments_lexer": "ipython3",
   "version": "3.9.5"
  },
  "toc": {
   "base_numbering": 1,
   "nav_menu": {},
   "number_sections": true,
   "sideBar": true,
   "skip_h1_title": false,
   "title_cell": "Table of Contents",
   "title_sidebar": "Contents",
   "toc_cell": false,
   "toc_position": {},
   "toc_section_display": true,
   "toc_window_display": true
  },
  "varInspector": {
   "cols": {
    "lenName": 16,
    "lenType": 16,
    "lenVar": 40
   },
   "kernels_config": {
    "python": {
     "delete_cmd_postfix": "",
     "delete_cmd_prefix": "del ",
     "library": "var_list.py",
     "varRefreshCmd": "print(var_dic_list())"
    },
    "r": {
     "delete_cmd_postfix": ") ",
     "delete_cmd_prefix": "rm(",
     "library": "var_list.r",
     "varRefreshCmd": "cat(var_dic_list()) "
    }
   },
   "types_to_exclude": [
    "module",
    "function",
    "builtin_function_or_method",
    "instance",
    "_Feature"
   ],
   "window_display": false
  }
 },
 "nbformat": 4,
 "nbformat_minor": 5
}
