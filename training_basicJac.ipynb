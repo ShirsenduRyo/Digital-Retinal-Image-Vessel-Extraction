{
  "nbformat": 4,
  "nbformat_minor": 0,
  "metadata": {
    "colab": {
      "name": "training_basicJac.ipynb",
      "provenance": [],
      "collapsed_sections": [],
      "machine_shape": "hm"
    },
    "kernelspec": {
      "name": "python3",
      "display_name": "Python 3"
    },
    "language_info": {
      "name": "python"
    },
    "accelerator": "GPU"
  },
  "cells": [
    {
      "cell_type": "markdown",
      "metadata": {
        "id": "ziqto0xjM-IA"
      },
      "source": [
        "# 1. Importing Packages"
      ]
    },
    {
      "cell_type": "code",
      "metadata": {
        "id": "Z3M77jELFX4M"
      },
      "source": [
        "import os\n",
        "import numpy as np\n",
        "import cv2\n",
        "from glob import glob\n",
        "from sklearn.utils import shuffle\n",
        "import tensorflow as tf\n",
        "from tensorflow.keras.callbacks import ModelCheckpoint, CSVLogger, ReduceLROnPlateau, EarlyStopping, TensorBoard\n",
        "from tensorflow.keras.optimizers import Adam\n",
        "from tensorflow.keras.metrics import Recall, Precision"
      ],
      "execution_count": 1,
      "outputs": []
    },
    {
      "cell_type": "code",
      "metadata": {
        "id": "ZH124OlzNMLR"
      },
      "source": [
        "\n",
        "#Upload The Following Files\n",
        "from unet import build_unet\n",
        "from customMetrics import dice_loss, dice_coef, iou, jaccard_coef, jaccard_loss"
      ],
      "execution_count": 2,
      "outputs": []
    },
    {
      "cell_type": "markdown",
      "metadata": {
        "id": "U84izwAcaLcv"
      },
      "source": [
        "# 2. Setting The Environment"
      ]
    },
    {
      "cell_type": "code",
      "metadata": {
        "id": "XQFp4aUnaIH8"
      },
      "source": [
        "H = 128\n",
        "W = 128"
      ],
      "execution_count": 3,
      "outputs": []
    },
    {
      "cell_type": "code",
      "metadata": {
        "id": "dq1jzO6daXQP"
      },
      "source": [
        "\"\"\" Seeding \"\"\"\n",
        "np.random.seed(42)\n",
        "tf.random.set_seed(42)\n",
        "\n",
        "\"\"\" Hyperparameters \"\"\"\n",
        "batch_size = 32\n",
        "\n",
        "lr = 1e-4\n",
        "num_epochs = 100\n",
        "model_path = os.path.join(\"/content/files128\", \"model128_basicJac.h5\")\n",
        "csv_path = os.path.join(\"/content/files128\", \"data_basicJac.csv\")"
      ],
      "execution_count": 4,
      "outputs": []
    },
    {
      "cell_type": "code",
      "metadata": {
        "id": "t7gbo-Qzai0N"
      },
      "source": [
        "\"\"\" Dataset \"\"\"\n",
        "# Make The Folder and upload the data\n",
        "dataset_path = \"/content/drive/MyDrive/gamma_data_128\"\n",
        "train_path = os.path.join(dataset_path, \"train\")\n",
        "valid_path = os.path.join(dataset_path, \"valid\")"
      ],
      "execution_count": 5,
      "outputs": []
    },
    {
      "cell_type": "code",
      "metadata": {
        "id": "j7AUB3YFGa_w"
      },
      "source": [
        "!rm -rf files128"
      ],
      "execution_count": 6,
      "outputs": []
    },
    {
      "cell_type": "code",
      "metadata": {
        "id": "TNiiTylzlIcb"
      },
      "source": [
        "!rm -rf logs"
      ],
      "execution_count": 7,
      "outputs": []
    },
    {
      "cell_type": "code",
      "metadata": {
        "colab": {
          "base_uri": "https://localhost:8080/",
          "height": 35
        },
        "id": "ETQi-ANjiheD",
        "outputId": "d83e7c66-b63c-4bfe-eb60-b85755422641"
      },
      "source": [
        "pwd"
      ],
      "execution_count": 8,
      "outputs": [
        {
          "output_type": "execute_result",
          "data": {
            "application/vnd.google.colaboratory.intrinsic+json": {
              "type": "string"
            },
            "text/plain": [
              "'/content'"
            ]
          },
          "metadata": {},
          "execution_count": 8
        }
      ]
    },
    {
      "cell_type": "markdown",
      "metadata": {
        "id": "Z32w8ep9cqol"
      },
      "source": [
        "# 3. Utils Function"
      ]
    },
    {
      "cell_type": "code",
      "metadata": {
        "id": "7a-VMYDecnK1"
      },
      "source": [
        "def create_dir(path):\n",
        "    if not os.path.exists(path):\n",
        "        os.makedirs(path)"
      ],
      "execution_count": 9,
      "outputs": []
    },
    {
      "cell_type": "code",
      "metadata": {
        "id": "qDVLyv8scuPF"
      },
      "source": [
        "def load_data(path):\n",
        "    print(path)\n",
        "    x = sorted(glob(os.path.join(path, \"image\", \"*.jpg\")))\n",
        "    y = sorted(glob(os.path.join(path, \"gt\", \"*.jpg\")))\n",
        "    return x, y"
      ],
      "execution_count": 10,
      "outputs": []
    },
    {
      "cell_type": "code",
      "metadata": {
        "id": "z31CdxfYcyus"
      },
      "source": [
        "def read_image(path):\n",
        "    path = path.decode()\n",
        "    x = cv2.imread(path, cv2.IMREAD_COLOR)\n",
        "    # x = cv2.resize(x, (W, H))\n",
        "    x = x/255.0\n",
        "    x = x.astype(np.float32)\n",
        "    return x"
      ],
      "execution_count": 11,
      "outputs": []
    },
    {
      "cell_type": "code",
      "metadata": {
        "id": "ZoU5hmQYc2L4"
      },
      "source": [
        "def read_mask(path):\n",
        "    path = path.decode()\n",
        "    x = cv2.imread(path, cv2.IMREAD_GRAYSCALE)  ## (512, 512)\n",
        "    # x = cv2.resize(x, (W, H))\n",
        "    x = x/255.0\n",
        "    x = x.astype(np.float32)\n",
        "    x = np.expand_dims(x, axis=-1)              ## (512, 512, 1)\n",
        "    return x"
      ],
      "execution_count": 12,
      "outputs": []
    },
    {
      "cell_type": "code",
      "metadata": {
        "id": "BnL6LcR9c4cZ"
      },
      "source": [
        "def tf_parse(x, y):\n",
        "    def _parse(x, y):\n",
        "        x = read_image(x)\n",
        "        y = read_mask(y)\n",
        "        return x, y\n",
        "\n",
        "    x, y = tf.numpy_function(_parse, [x, y], [tf.float32, tf.float32])\n",
        "    x.set_shape([H, W, 3])\n",
        "    y.set_shape([H, W, 1])\n",
        "    return x, y"
      ],
      "execution_count": 13,
      "outputs": []
    },
    {
      "cell_type": "code",
      "metadata": {
        "id": "mjHjLumvc6Vj"
      },
      "source": [
        "def tf_dataset(X, Y, batch_size=2):\n",
        "    dataset = tf.data.Dataset.from_tensor_slices((X, Y))\n",
        "    dataset = dataset.map(tf_parse)\n",
        "    dataset = dataset.batch(batch_size)\n",
        "    dataset = dataset.prefetch(4)\n",
        "    return dataset"
      ],
      "execution_count": 14,
      "outputs": []
    },
    {
      "cell_type": "code",
      "metadata": {
        "colab": {
          "base_uri": "https://localhost:8080/"
        },
        "id": "z_B5xezic9Bv",
        "outputId": "8bce2716-fcf9-4d8f-9194-fd679083a01d"
      },
      "source": [
        "train_x, train_y = load_data(train_path)\n",
        "valid_x, valid_y = load_data(valid_path)\n",
        "\n",
        "print(f\"Train: {len(train_x)} - {len(train_y)}\")\n",
        "print(f\"Valid: {len(valid_x)} - {len(valid_y)}\")"
      ],
      "execution_count": 15,
      "outputs": [
        {
          "output_type": "stream",
          "name": "stdout",
          "text": [
            "/content/drive/MyDrive/gamma_data_128/train\n",
            "/content/drive/MyDrive/gamma_data_128/valid\n",
            "Train: 1890 - 1890\n",
            "Valid: 630 - 630\n"
          ]
        }
      ]
    },
    {
      "cell_type": "code",
      "metadata": {
        "colab": {
          "base_uri": "https://localhost:8080/",
          "height": 35
        },
        "id": "FkyRmqFodVvJ",
        "outputId": "bdb47e78-a001-420a-d6cb-fad6c84b0d15"
      },
      "source": [
        "pwd"
      ],
      "execution_count": 16,
      "outputs": [
        {
          "output_type": "execute_result",
          "data": {
            "application/vnd.google.colaboratory.intrinsic+json": {
              "type": "string"
            },
            "text/plain": [
              "'/content'"
            ]
          },
          "metadata": {},
          "execution_count": 16
        }
      ]
    },
    {
      "cell_type": "code",
      "metadata": {
        "id": "hYJ8qjTidB0R"
      },
      "source": [
        "create_dir(\"/content/files128\")"
      ],
      "execution_count": 17,
      "outputs": []
    },
    {
      "cell_type": "code",
      "metadata": {
        "id": "JaH4RU1adfMI"
      },
      "source": [
        "train_dataset = tf_dataset(train_x, train_y, batch_size=batch_size)\n",
        "valid_dataset = tf_dataset(valid_x, valid_y, batch_size=batch_size)\n",
        "\n",
        "train_steps = len(train_x)//batch_size\n",
        "valid_steps = len(valid_x)//batch_size\n",
        "\n",
        "if len(train_x) % batch_size != 0:\n",
        "    train_steps += 1\n",
        "if len(valid_x) % batch_size != 0:\n",
        "    valid_steps += 1"
      ],
      "execution_count": 18,
      "outputs": []
    },
    {
      "cell_type": "code",
      "metadata": {
        "id": "vUssNFeTduP4",
        "colab": {
          "base_uri": "https://localhost:8080/"
        },
        "outputId": "5733793c-cd58-4c5a-8047-81959c7ec2d1"
      },
      "source": [
        "train_steps, valid_steps"
      ],
      "execution_count": 19,
      "outputs": [
        {
          "output_type": "execute_result",
          "data": {
            "text/plain": [
              "(60, 20)"
            ]
          },
          "metadata": {},
          "execution_count": 19
        }
      ]
    },
    {
      "cell_type": "markdown",
      "metadata": {
        "id": "eFLAwjlqdzNj"
      },
      "source": [
        "# 4. The Model"
      ]
    },
    {
      "cell_type": "code",
      "metadata": {
        "colab": {
          "base_uri": "https://localhost:8080/"
        },
        "id": "Rqb2GcaTd1xq",
        "outputId": "a8c257b6-6824-49dc-abec-6aa83f1a7f63"
      },
      "source": [
        "\"\"\" Model \"\"\"\n",
        "model = build_unet((H, W, 3))\n",
        "model.compile(loss= jaccard_loss, optimizer=Adam(lr), metrics=[jaccard_coef, dice_coef, iou, Recall(), Precision()])\n",
        "model.summary()"
      ],
      "execution_count": 20,
      "outputs": [
        {
          "output_type": "stream",
          "name": "stdout",
          "text": [
            "Model: \"UNET\"\n",
            "__________________________________________________________________________________________________\n",
            "Layer (type)                    Output Shape         Param #     Connected to                     \n",
            "==================================================================================================\n",
            "input_1 (InputLayer)            [(None, 128, 128, 3) 0                                            \n",
            "__________________________________________________________________________________________________\n",
            "conv2d (Conv2D)                 (None, 128, 128, 64) 1792        input_1[0][0]                    \n",
            "__________________________________________________________________________________________________\n",
            "batch_normalization (BatchNorma (None, 128, 128, 64) 256         conv2d[0][0]                     \n",
            "__________________________________________________________________________________________________\n",
            "activation (Activation)         (None, 128, 128, 64) 0           batch_normalization[0][0]        \n",
            "__________________________________________________________________________________________________\n",
            "conv2d_1 (Conv2D)               (None, 128, 128, 64) 36928       activation[0][0]                 \n",
            "__________________________________________________________________________________________________\n",
            "batch_normalization_1 (BatchNor (None, 128, 128, 64) 256         conv2d_1[0][0]                   \n",
            "__________________________________________________________________________________________________\n",
            "activation_1 (Activation)       (None, 128, 128, 64) 0           batch_normalization_1[0][0]      \n",
            "__________________________________________________________________________________________________\n",
            "max_pooling2d (MaxPooling2D)    (None, 64, 64, 64)   0           activation_1[0][0]               \n",
            "__________________________________________________________________________________________________\n",
            "conv2d_2 (Conv2D)               (None, 64, 64, 128)  73856       max_pooling2d[0][0]              \n",
            "__________________________________________________________________________________________________\n",
            "batch_normalization_2 (BatchNor (None, 64, 64, 128)  512         conv2d_2[0][0]                   \n",
            "__________________________________________________________________________________________________\n",
            "activation_2 (Activation)       (None, 64, 64, 128)  0           batch_normalization_2[0][0]      \n",
            "__________________________________________________________________________________________________\n",
            "conv2d_3 (Conv2D)               (None, 64, 64, 128)  147584      activation_2[0][0]               \n",
            "__________________________________________________________________________________________________\n",
            "batch_normalization_3 (BatchNor (None, 64, 64, 128)  512         conv2d_3[0][0]                   \n",
            "__________________________________________________________________________________________________\n",
            "activation_3 (Activation)       (None, 64, 64, 128)  0           batch_normalization_3[0][0]      \n",
            "__________________________________________________________________________________________________\n",
            "max_pooling2d_1 (MaxPooling2D)  (None, 32, 32, 128)  0           activation_3[0][0]               \n",
            "__________________________________________________________________________________________________\n",
            "conv2d_4 (Conv2D)               (None, 32, 32, 256)  295168      max_pooling2d_1[0][0]            \n",
            "__________________________________________________________________________________________________\n",
            "batch_normalization_4 (BatchNor (None, 32, 32, 256)  1024        conv2d_4[0][0]                   \n",
            "__________________________________________________________________________________________________\n",
            "activation_4 (Activation)       (None, 32, 32, 256)  0           batch_normalization_4[0][0]      \n",
            "__________________________________________________________________________________________________\n",
            "conv2d_5 (Conv2D)               (None, 32, 32, 256)  590080      activation_4[0][0]               \n",
            "__________________________________________________________________________________________________\n",
            "batch_normalization_5 (BatchNor (None, 32, 32, 256)  1024        conv2d_5[0][0]                   \n",
            "__________________________________________________________________________________________________\n",
            "activation_5 (Activation)       (None, 32, 32, 256)  0           batch_normalization_5[0][0]      \n",
            "__________________________________________________________________________________________________\n",
            "max_pooling2d_2 (MaxPooling2D)  (None, 16, 16, 256)  0           activation_5[0][0]               \n",
            "__________________________________________________________________________________________________\n",
            "conv2d_6 (Conv2D)               (None, 16, 16, 512)  1180160     max_pooling2d_2[0][0]            \n",
            "__________________________________________________________________________________________________\n",
            "batch_normalization_6 (BatchNor (None, 16, 16, 512)  2048        conv2d_6[0][0]                   \n",
            "__________________________________________________________________________________________________\n",
            "activation_6 (Activation)       (None, 16, 16, 512)  0           batch_normalization_6[0][0]      \n",
            "__________________________________________________________________________________________________\n",
            "conv2d_7 (Conv2D)               (None, 16, 16, 512)  2359808     activation_6[0][0]               \n",
            "__________________________________________________________________________________________________\n",
            "batch_normalization_7 (BatchNor (None, 16, 16, 512)  2048        conv2d_7[0][0]                   \n",
            "__________________________________________________________________________________________________\n",
            "activation_7 (Activation)       (None, 16, 16, 512)  0           batch_normalization_7[0][0]      \n",
            "__________________________________________________________________________________________________\n",
            "max_pooling2d_3 (MaxPooling2D)  (None, 8, 8, 512)    0           activation_7[0][0]               \n",
            "__________________________________________________________________________________________________\n",
            "conv2d_8 (Conv2D)               (None, 8, 8, 1024)   4719616     max_pooling2d_3[0][0]            \n",
            "__________________________________________________________________________________________________\n",
            "batch_normalization_8 (BatchNor (None, 8, 8, 1024)   4096        conv2d_8[0][0]                   \n",
            "__________________________________________________________________________________________________\n",
            "activation_8 (Activation)       (None, 8, 8, 1024)   0           batch_normalization_8[0][0]      \n",
            "__________________________________________________________________________________________________\n",
            "conv2d_9 (Conv2D)               (None, 8, 8, 1024)   9438208     activation_8[0][0]               \n",
            "__________________________________________________________________________________________________\n",
            "batch_normalization_9 (BatchNor (None, 8, 8, 1024)   4096        conv2d_9[0][0]                   \n",
            "__________________________________________________________________________________________________\n",
            "activation_9 (Activation)       (None, 8, 8, 1024)   0           batch_normalization_9[0][0]      \n",
            "__________________________________________________________________________________________________\n",
            "conv2d_transpose (Conv2DTranspo (None, 16, 16, 512)  2097664     activation_9[0][0]               \n",
            "__________________________________________________________________________________________________\n",
            "concatenate (Concatenate)       (None, 16, 16, 1024) 0           conv2d_transpose[0][0]           \n",
            "                                                                 activation_7[0][0]               \n",
            "__________________________________________________________________________________________________\n",
            "conv2d_10 (Conv2D)              (None, 16, 16, 512)  4719104     concatenate[0][0]                \n",
            "__________________________________________________________________________________________________\n",
            "batch_normalization_10 (BatchNo (None, 16, 16, 512)  2048        conv2d_10[0][0]                  \n",
            "__________________________________________________________________________________________________\n",
            "activation_10 (Activation)      (None, 16, 16, 512)  0           batch_normalization_10[0][0]     \n",
            "__________________________________________________________________________________________________\n",
            "conv2d_11 (Conv2D)              (None, 16, 16, 512)  2359808     activation_10[0][0]              \n",
            "__________________________________________________________________________________________________\n",
            "batch_normalization_11 (BatchNo (None, 16, 16, 512)  2048        conv2d_11[0][0]                  \n",
            "__________________________________________________________________________________________________\n",
            "activation_11 (Activation)      (None, 16, 16, 512)  0           batch_normalization_11[0][0]     \n",
            "__________________________________________________________________________________________________\n",
            "conv2d_transpose_1 (Conv2DTrans (None, 32, 32, 256)  524544      activation_11[0][0]              \n",
            "__________________________________________________________________________________________________\n",
            "concatenate_1 (Concatenate)     (None, 32, 32, 512)  0           conv2d_transpose_1[0][0]         \n",
            "                                                                 activation_5[0][0]               \n",
            "__________________________________________________________________________________________________\n",
            "conv2d_12 (Conv2D)              (None, 32, 32, 256)  1179904     concatenate_1[0][0]              \n",
            "__________________________________________________________________________________________________\n",
            "batch_normalization_12 (BatchNo (None, 32, 32, 256)  1024        conv2d_12[0][0]                  \n",
            "__________________________________________________________________________________________________\n",
            "activation_12 (Activation)      (None, 32, 32, 256)  0           batch_normalization_12[0][0]     \n",
            "__________________________________________________________________________________________________\n",
            "conv2d_13 (Conv2D)              (None, 32, 32, 256)  590080      activation_12[0][0]              \n",
            "__________________________________________________________________________________________________\n",
            "batch_normalization_13 (BatchNo (None, 32, 32, 256)  1024        conv2d_13[0][0]                  \n",
            "__________________________________________________________________________________________________\n",
            "activation_13 (Activation)      (None, 32, 32, 256)  0           batch_normalization_13[0][0]     \n",
            "__________________________________________________________________________________________________\n",
            "conv2d_transpose_2 (Conv2DTrans (None, 64, 64, 128)  131200      activation_13[0][0]              \n",
            "__________________________________________________________________________________________________\n",
            "concatenate_2 (Concatenate)     (None, 64, 64, 256)  0           conv2d_transpose_2[0][0]         \n",
            "                                                                 activation_3[0][0]               \n",
            "__________________________________________________________________________________________________\n",
            "conv2d_14 (Conv2D)              (None, 64, 64, 128)  295040      concatenate_2[0][0]              \n",
            "__________________________________________________________________________________________________\n",
            "batch_normalization_14 (BatchNo (None, 64, 64, 128)  512         conv2d_14[0][0]                  \n",
            "__________________________________________________________________________________________________\n",
            "activation_14 (Activation)      (None, 64, 64, 128)  0           batch_normalization_14[0][0]     \n",
            "__________________________________________________________________________________________________\n",
            "conv2d_15 (Conv2D)              (None, 64, 64, 128)  147584      activation_14[0][0]              \n",
            "__________________________________________________________________________________________________\n",
            "batch_normalization_15 (BatchNo (None, 64, 64, 128)  512         conv2d_15[0][0]                  \n",
            "__________________________________________________________________________________________________\n",
            "activation_15 (Activation)      (None, 64, 64, 128)  0           batch_normalization_15[0][0]     \n",
            "__________________________________________________________________________________________________\n",
            "conv2d_transpose_3 (Conv2DTrans (None, 128, 128, 64) 32832       activation_15[0][0]              \n",
            "__________________________________________________________________________________________________\n",
            "concatenate_3 (Concatenate)     (None, 128, 128, 128 0           conv2d_transpose_3[0][0]         \n",
            "                                                                 activation_1[0][0]               \n",
            "__________________________________________________________________________________________________\n",
            "conv2d_16 (Conv2D)              (None, 128, 128, 64) 73792       concatenate_3[0][0]              \n",
            "__________________________________________________________________________________________________\n",
            "batch_normalization_16 (BatchNo (None, 128, 128, 64) 256         conv2d_16[0][0]                  \n",
            "__________________________________________________________________________________________________\n",
            "activation_16 (Activation)      (None, 128, 128, 64) 0           batch_normalization_16[0][0]     \n",
            "__________________________________________________________________________________________________\n",
            "conv2d_17 (Conv2D)              (None, 128, 128, 64) 36928       activation_16[0][0]              \n",
            "__________________________________________________________________________________________________\n",
            "batch_normalization_17 (BatchNo (None, 128, 128, 64) 256         conv2d_17[0][0]                  \n",
            "__________________________________________________________________________________________________\n",
            "activation_17 (Activation)      (None, 128, 128, 64) 0           batch_normalization_17[0][0]     \n",
            "__________________________________________________________________________________________________\n",
            "conv2d_18 (Conv2D)              (None, 128, 128, 1)  65          activation_17[0][0]              \n",
            "==================================================================================================\n",
            "Total params: 31,055,297\n",
            "Trainable params: 31,043,521\n",
            "Non-trainable params: 11,776\n",
            "__________________________________________________________________________________________________\n"
          ]
        }
      ]
    },
    {
      "cell_type": "code",
      "metadata": {
        "id": "11odaYbmd2gl"
      },
      "source": [
        "callbacks = [\n",
        "    ModelCheckpoint(model_path, verbose=1, save_best_only=True),\n",
        "    ReduceLROnPlateau(monitor= \"val_jaccard_coef\", factor=0.1, patience=5, min_lr=1e-7, verbose=1),\n",
        "    CSVLogger(csv_path),\n",
        "    TensorBoard(),\n",
        "    EarlyStopping(monitor= \"val_jaccard_coef\", patience=10, restore_best_weights=False)\n",
        "]"
      ],
      "execution_count": 21,
      "outputs": []
    },
    {
      "cell_type": "code",
      "metadata": {
        "colab": {
          "base_uri": "https://localhost:8080/"
        },
        "id": "_EjMzxPlaBD2",
        "outputId": "1912a682-fa41-4a1a-ee14-928017d701c5"
      },
      "source": [
        "   model.fit(\n",
        "    train_dataset,\n",
        "    epochs=num_epochs,\n",
        "    validation_data=valid_dataset,\n",
        "    steps_per_epoch=train_steps,\n",
        "    validation_steps=valid_steps,\n",
        "    callbacks=callbacks\n",
        ")"
      ],
      "execution_count": 22,
      "outputs": [
        {
          "output_type": "stream",
          "name": "stdout",
          "text": [
            "Epoch 1/100\n",
            "60/60 [==============================] - 1158s 19s/step - loss: -0.2201 - jaccard_coef: 0.2222 - dice_coef: 0.3576 - iou: 0.2222 - recall: 0.6604 - precision: 0.3742 - val_loss: -0.0700 - val_jaccard_coef: 0.0700 - val_dice_coef: 0.1307 - val_iou: 0.0700 - val_recall: 5.5500e-04 - val_precision: 0.0160\n",
            "\n",
            "Epoch 00001: val_loss improved from inf to -0.06998, saving model to /content/files128/model128_basicJac.h5\n",
            "Epoch 2/100\n",
            "60/60 [==============================] - 17s 283ms/step - loss: -0.3638 - jaccard_coef: 0.3652 - dice_coef: 0.5331 - iou: 0.3652 - recall: 0.4714 - precision: 0.7198 - val_loss: -0.0584 - val_jaccard_coef: 0.0584 - val_dice_coef: 0.1103 - val_iou: 0.0584 - val_recall: 0.0000e+00 - val_precision: 0.0000e+00\n",
            "\n",
            "Epoch 00002: val_loss did not improve from -0.06998\n",
            "Epoch 3/100\n",
            "60/60 [==============================] - 17s 284ms/step - loss: -0.4165 - jaccard_coef: 0.4180 - dice_coef: 0.5879 - iou: 0.4180 - recall: 0.4669 - precision: 0.7669 - val_loss: -0.0465 - val_jaccard_coef: 0.0465 - val_dice_coef: 0.0889 - val_iou: 0.0465 - val_recall: 0.0000e+00 - val_precision: 0.0000e+00\n",
            "\n",
            "Epoch 00003: val_loss did not improve from -0.06998\n",
            "Epoch 4/100\n",
            "60/60 [==============================] - 17s 282ms/step - loss: -0.4547 - jaccard_coef: 0.4564 - dice_coef: 0.6253 - iou: 0.4564 - recall: 0.4689 - precision: 0.7941 - val_loss: -0.0344 - val_jaccard_coef: 0.0345 - val_dice_coef: 0.0666 - val_iou: 0.0345 - val_recall: 6.2116e-04 - val_precision: 0.0418\n",
            "\n",
            "Epoch 00004: val_loss did not improve from -0.06998\n",
            "Epoch 5/100\n",
            "60/60 [==============================] - 17s 279ms/step - loss: -0.4880 - jaccard_coef: 0.4897 - dice_coef: 0.6562 - iou: 0.4897 - recall: 0.4677 - precision: 0.8182 - val_loss: -0.0413 - val_jaccard_coef: 0.0418 - val_dice_coef: 0.0798 - val_iou: 0.0418 - val_recall: 0.0094 - val_precision: 0.2138\n",
            "\n",
            "Epoch 00005: val_loss did not improve from -0.06998\n",
            "Epoch 6/100\n",
            "60/60 [==============================] - 17s 279ms/step - loss: -0.5189 - jaccard_coef: 0.5209 - dice_coef: 0.6838 - iou: 0.5209 - recall: 0.4664 - precision: 0.8384 - val_loss: -0.0939 - val_jaccard_coef: 0.0951 - val_dice_coef: 0.1709 - val_iou: 0.0951 - val_recall: 0.0534 - val_precision: 0.5184\n",
            "\n",
            "Epoch 00006: val_loss improved from -0.06998 to -0.09390, saving model to /content/files128/model128_basicJac.h5\n",
            "Epoch 7/100\n",
            "60/60 [==============================] - 17s 281ms/step - loss: -0.5501 - jaccard_coef: 0.5521 - dice_coef: 0.7104 - iou: 0.5521 - recall: 0.4679 - precision: 0.8557 - val_loss: -0.1778 - val_jaccard_coef: 0.1794 - val_dice_coef: 0.2994 - val_iou: 0.1794 - val_recall: 0.1186 - val_precision: 0.6627\n",
            "\n",
            "Epoch 00007: val_loss improved from -0.09390 to -0.17775, saving model to /content/files128/model128_basicJac.h5\n",
            "Epoch 8/100\n",
            "60/60 [==============================] - 17s 278ms/step - loss: -0.5827 - jaccard_coef: 0.5848 - dice_coef: 0.7371 - iou: 0.5848 - recall: 0.4708 - precision: 0.8719 - val_loss: -0.2490 - val_jaccard_coef: 0.2509 - val_dice_coef: 0.3949 - val_iou: 0.2509 - val_recall: 0.1655 - val_precision: 0.8029\n",
            "\n",
            "Epoch 00008: val_loss improved from -0.17775 to -0.24897, saving model to /content/files128/model128_basicJac.h5\n",
            "Epoch 9/100\n",
            "60/60 [==============================] - 17s 281ms/step - loss: -0.6140 - jaccard_coef: 0.6158 - dice_coef: 0.7615 - iou: 0.6158 - recall: 0.4729 - precision: 0.8865 - val_loss: -0.3085 - val_jaccard_coef: 0.3105 - val_dice_coef: 0.4676 - val_iou: 0.3105 - val_recall: 0.1925 - val_precision: 0.9083\n",
            "\n",
            "Epoch 00009: val_loss improved from -0.24897 to -0.30848, saving model to /content/files128/model128_basicJac.h5\n",
            "Epoch 10/100\n",
            "60/60 [==============================] - 18s 292ms/step - loss: -0.6414 - jaccard_coef: 0.6430 - dice_coef: 0.7821 - iou: 0.6430 - recall: 0.4739 - precision: 0.8986 - val_loss: -0.3958 - val_jaccard_coef: 0.3975 - val_dice_coef: 0.5644 - val_iou: 0.3975 - val_recall: 0.2515 - val_precision: 0.9396\n",
            "\n",
            "Epoch 00010: val_loss improved from -0.30848 to -0.39580, saving model to /content/files128/model128_basicJac.h5\n",
            "Epoch 11/100\n",
            "60/60 [==============================] - 17s 280ms/step - loss: -0.6654 - jaccard_coef: 0.6671 - dice_coef: 0.7996 - iou: 0.6671 - recall: 0.4744 - precision: 0.9080 - val_loss: -0.4476 - val_jaccard_coef: 0.4490 - val_dice_coef: 0.6163 - val_iou: 0.4490 - val_recall: 0.2921 - val_precision: 0.9275\n",
            "\n",
            "Epoch 00011: val_loss improved from -0.39580 to -0.44760, saving model to /content/files128/model128_basicJac.h5\n",
            "Epoch 12/100\n",
            "60/60 [==============================] - 17s 280ms/step - loss: -0.6894 - jaccard_coef: 0.6910 - dice_coef: 0.8167 - iou: 0.6910 - recall: 0.4758 - precision: 0.9175 - val_loss: -0.4809 - val_jaccard_coef: 0.4822 - val_dice_coef: 0.6477 - val_iou: 0.4822 - val_recall: 0.3192 - val_precision: 0.9104\n",
            "\n",
            "Epoch 00012: val_loss improved from -0.44760 to -0.48093, saving model to /content/files128/model128_basicJac.h5\n",
            "Epoch 13/100\n",
            "60/60 [==============================] - 17s 277ms/step - loss: -0.7084 - jaccard_coef: 0.7101 - dice_coef: 0.8299 - iou: 0.7101 - recall: 0.4759 - precision: 0.9244 - val_loss: -0.4820 - val_jaccard_coef: 0.4833 - val_dice_coef: 0.6475 - val_iou: 0.4833 - val_recall: 0.3083 - val_precision: 0.9173\n",
            "\n",
            "Epoch 00013: val_loss improved from -0.48093 to -0.48199, saving model to /content/files128/model128_basicJac.h5\n",
            "Epoch 14/100\n",
            "60/60 [==============================] - 17s 278ms/step - loss: -0.7285 - jaccard_coef: 0.7299 - dice_coef: 0.8433 - iou: 0.7299 - recall: 0.4779 - precision: 0.9314 - val_loss: -0.4765 - val_jaccard_coef: 0.4780 - val_dice_coef: 0.6426 - val_iou: 0.4779 - val_recall: 0.3004 - val_precision: 0.9201\n",
            "\n",
            "Epoch 00014: val_loss did not improve from -0.48199\n",
            "Epoch 15/100\n",
            "60/60 [==============================] - 17s 278ms/step - loss: -0.7424 - jaccard_coef: 0.7438 - dice_coef: 0.8526 - iou: 0.7438 - recall: 0.4784 - precision: 0.9353 - val_loss: -0.4901 - val_jaccard_coef: 0.4914 - val_dice_coef: 0.6553 - val_iou: 0.4914 - val_recall: 0.3123 - val_precision: 0.9098\n",
            "\n",
            "Epoch 00015: val_loss improved from -0.48199 to -0.49007, saving model to /content/files128/model128_basicJac.h5\n",
            "Epoch 16/100\n",
            "60/60 [==============================] - 17s 276ms/step - loss: -0.7559 - jaccard_coef: 0.7576 - dice_coef: 0.8616 - iou: 0.7576 - recall: 0.4790 - precision: 0.9397 - val_loss: -0.5023 - val_jaccard_coef: 0.5033 - val_dice_coef: 0.6671 - val_iou: 0.5033 - val_recall: 0.3244 - val_precision: 0.8906\n",
            "\n",
            "Epoch 00016: val_loss improved from -0.49007 to -0.50227, saving model to /content/files128/model128_basicJac.h5\n",
            "Epoch 17/100\n",
            "60/60 [==============================] - 17s 276ms/step - loss: -0.7662 - jaccard_coef: 0.7678 - dice_coef: 0.8681 - iou: 0.7678 - recall: 0.4796 - precision: 0.9420 - val_loss: -0.5154 - val_jaccard_coef: 0.5163 - val_dice_coef: 0.6784 - val_iou: 0.5163 - val_recall: 0.3314 - val_precision: 0.8896\n",
            "\n",
            "Epoch 00017: val_loss improved from -0.50227 to -0.51539, saving model to /content/files128/model128_basicJac.h5\n",
            "Epoch 18/100\n",
            "60/60 [==============================] - 17s 275ms/step - loss: -0.7754 - jaccard_coef: 0.7770 - dice_coef: 0.8740 - iou: 0.7770 - recall: 0.4803 - precision: 0.9440 - val_loss: -0.4953 - val_jaccard_coef: 0.4965 - val_dice_coef: 0.6601 - val_iou: 0.4965 - val_recall: 0.3076 - val_precision: 0.9073\n",
            "\n",
            "Epoch 00018: val_loss did not improve from -0.51539\n",
            "Epoch 19/100\n",
            "60/60 [==============================] - 17s 275ms/step - loss: -0.7819 - jaccard_coef: 0.7835 - dice_coef: 0.8781 - iou: 0.7835 - recall: 0.4807 - precision: 0.9449 - val_loss: -0.5154 - val_jaccard_coef: 0.5165 - val_dice_coef: 0.6784 - val_iou: 0.5165 - val_recall: 0.3282 - val_precision: 0.8871\n",
            "\n",
            "Epoch 00019: val_loss did not improve from -0.51539\n",
            "Epoch 20/100\n",
            "60/60 [==============================] - 17s 275ms/step - loss: -0.7866 - jaccard_coef: 0.7883 - dice_coef: 0.8811 - iou: 0.7883 - recall: 0.4796 - precision: 0.9463 - val_loss: -0.5422 - val_jaccard_coef: 0.5425 - val_dice_coef: 0.7021 - val_iou: 0.5425 - val_recall: 0.3820 - val_precision: 0.8311\n",
            "\n",
            "Epoch 00020: val_loss improved from -0.51539 to -0.54221, saving model to /content/files128/model128_basicJac.h5\n",
            "Epoch 21/100\n",
            "60/60 [==============================] - 17s 276ms/step - loss: -0.7905 - jaccard_coef: 0.7922 - dice_coef: 0.8836 - iou: 0.7922 - recall: 0.4798 - precision: 0.9468 - val_loss: -0.5377 - val_jaccard_coef: 0.5383 - val_dice_coef: 0.6983 - val_iou: 0.5383 - val_recall: 0.3659 - val_precision: 0.8484\n",
            "\n",
            "Epoch 00021: val_loss did not improve from -0.54221\n",
            "Epoch 22/100\n",
            "60/60 [==============================] - 17s 274ms/step - loss: -0.8014 - jaccard_coef: 0.8030 - dice_coef: 0.8903 - iou: 0.8030 - recall: 0.4813 - precision: 0.9508 - val_loss: -0.5716 - val_jaccard_coef: 0.5718 - val_dice_coef: 0.7267 - val_iou: 0.5718 - val_recall: 0.4019 - val_precision: 0.8355\n",
            "\n",
            "Epoch 00022: val_loss improved from -0.54221 to -0.57159, saving model to /content/files128/model128_basicJac.h5\n",
            "Epoch 23/100\n",
            "60/60 [==============================] - 17s 277ms/step - loss: -0.8098 - jaccard_coef: 0.8114 - dice_coef: 0.8954 - iou: 0.8114 - recall: 0.4814 - precision: 0.9540 - val_loss: -0.5734 - val_jaccard_coef: 0.5731 - val_dice_coef: 0.7279 - val_iou: 0.5731 - val_recall: 0.4096 - val_precision: 0.8251\n",
            "\n",
            "Epoch 00023: val_loss improved from -0.57159 to -0.57337, saving model to /content/files128/model128_basicJac.h5\n",
            "Epoch 24/100\n",
            "60/60 [==============================] - 17s 281ms/step - loss: -0.8146 - jaccard_coef: 0.8162 - dice_coef: 0.8984 - iou: 0.8162 - recall: 0.4817 - precision: 0.9550 - val_loss: -0.5765 - val_jaccard_coef: 0.5761 - val_dice_coef: 0.7302 - val_iou: 0.5761 - val_recall: 0.4158 - val_precision: 0.8220\n",
            "\n",
            "Epoch 00024: val_loss improved from -0.57337 to -0.57654, saving model to /content/files128/model128_basicJac.h5\n",
            "Epoch 25/100\n",
            "60/60 [==============================] - 17s 277ms/step - loss: -0.8217 - jaccard_coef: 0.8233 - dice_coef: 0.9027 - iou: 0.8233 - recall: 0.4831 - precision: 0.9568 - val_loss: -0.5709 - val_jaccard_coef: 0.5711 - val_dice_coef: 0.7257 - val_iou: 0.5711 - val_recall: 0.3838 - val_precision: 0.8535\n",
            "\n",
            "Epoch 00025: val_loss did not improve from -0.57654\n",
            "Epoch 26/100\n",
            "60/60 [==============================] - 17s 280ms/step - loss: -0.8270 - jaccard_coef: 0.8284 - dice_coef: 0.9058 - iou: 0.8284 - recall: 0.4847 - precision: 0.9570 - val_loss: -0.5791 - val_jaccard_coef: 0.5800 - val_dice_coef: 0.7321 - val_iou: 0.5800 - val_recall: 0.3609 - val_precision: 0.8969\n",
            "\n",
            "Epoch 00026: val_loss improved from -0.57654 to -0.57910, saving model to /content/files128/model128_basicJac.h5\n",
            "Epoch 27/100\n",
            "60/60 [==============================] - 17s 277ms/step - loss: -0.8316 - jaccard_coef: 0.8330 - dice_coef: 0.9086 - iou: 0.8330 - recall: 0.4854 - precision: 0.9583 - val_loss: -0.5765 - val_jaccard_coef: 0.5772 - val_dice_coef: 0.7304 - val_iou: 0.5772 - val_recall: 0.3699 - val_precision: 0.8777\n",
            "\n",
            "Epoch 00027: val_loss did not improve from -0.57910\n",
            "Epoch 28/100\n",
            "60/60 [==============================] - 17s 286ms/step - loss: -0.8360 - jaccard_coef: 0.8372 - dice_coef: 0.9111 - iou: 0.8372 - recall: 0.4865 - precision: 0.9589 - val_loss: -0.5487 - val_jaccard_coef: 0.5485 - val_dice_coef: 0.7077 - val_iou: 0.5485 - val_recall: 0.3959 - val_precision: 0.8090\n",
            "\n",
            "Epoch 00028: val_loss did not improve from -0.57910\n",
            "Epoch 29/100\n",
            "60/60 [==============================] - 17s 276ms/step - loss: -0.8401 - jaccard_coef: 0.8414 - dice_coef: 0.9135 - iou: 0.8414 - recall: 0.4858 - precision: 0.9608 - val_loss: -0.5540 - val_jaccard_coef: 0.5543 - val_dice_coef: 0.7119 - val_iou: 0.5543 - val_recall: 0.3757 - val_precision: 0.8374\n",
            "\n",
            "Epoch 00029: val_loss did not improve from -0.57910\n",
            "Epoch 30/100\n",
            "60/60 [==============================] - 17s 276ms/step - loss: -0.8456 - jaccard_coef: 0.8469 - dice_coef: 0.9168 - iou: 0.8469 - recall: 0.4869 - precision: 0.9627 - val_loss: -0.5608 - val_jaccard_coef: 0.5614 - val_dice_coef: 0.7170 - val_iou: 0.5614 - val_recall: 0.3590 - val_precision: 0.8690\n",
            "\n",
            "Epoch 00030: val_loss did not improve from -0.57910\n",
            "Epoch 31/100\n",
            "60/60 [==============================] - 17s 275ms/step - loss: -0.8516 - jaccard_coef: 0.8530 - dice_coef: 0.9203 - iou: 0.8530 - recall: 0.4878 - precision: 0.9644 - val_loss: -0.5800 - val_jaccard_coef: 0.5804 - val_dice_coef: 0.7332 - val_iou: 0.5804 - val_recall: 0.3828 - val_precision: 0.8603\n",
            "\n",
            "Epoch 00031: val_loss improved from -0.57910 to -0.57996, saving model to /content/files128/model128_basicJac.h5\n",
            "Epoch 32/100\n",
            "60/60 [==============================] - 17s 278ms/step - loss: -0.8594 - jaccard_coef: 0.8606 - dice_coef: 0.9248 - iou: 0.8606 - recall: 0.4885 - precision: 0.9676 - val_loss: -0.5839 - val_jaccard_coef: 0.5842 - val_dice_coef: 0.7362 - val_iou: 0.5842 - val_recall: 0.3825 - val_precision: 0.8632\n",
            "\n",
            "Epoch 00032: val_loss improved from -0.57996 to -0.58395, saving model to /content/files128/model128_basicJac.h5\n",
            "Epoch 33/100\n",
            "60/60 [==============================] - 17s 278ms/step - loss: -0.8681 - jaccard_coef: 0.8693 - dice_coef: 0.9298 - iou: 0.8693 - recall: 0.4898 - precision: 0.9705 - val_loss: -0.5812 - val_jaccard_coef: 0.5816 - val_dice_coef: 0.7332 - val_iou: 0.5816 - val_recall: 0.3722 - val_precision: 0.8736\n",
            "\n",
            "Epoch 00033: val_loss did not improve from -0.58395\n",
            "Epoch 34/100\n",
            "60/60 [==============================] - 17s 276ms/step - loss: -0.8741 - jaccard_coef: 0.8752 - dice_coef: 0.9332 - iou: 0.8752 - recall: 0.4908 - precision: 0.9722 - val_loss: -0.5799 - val_jaccard_coef: 0.5805 - val_dice_coef: 0.7326 - val_iou: 0.5805 - val_recall: 0.3789 - val_precision: 0.8632\n",
            "\n",
            "Epoch 00034: val_loss did not improve from -0.58395\n",
            "Epoch 35/100\n",
            "60/60 [==============================] - 17s 276ms/step - loss: -0.8755 - jaccard_coef: 0.8767 - dice_coef: 0.9340 - iou: 0.8767 - recall: 0.4908 - precision: 0.9723 - val_loss: -0.5858 - val_jaccard_coef: 0.5860 - val_dice_coef: 0.7379 - val_iou: 0.5860 - val_recall: 0.3991 - val_precision: 0.8419\n",
            "\n",
            "Epoch 00035: val_loss improved from -0.58395 to -0.58579, saving model to /content/files128/model128_basicJac.h5\n",
            "Epoch 36/100\n",
            "60/60 [==============================] - 17s 277ms/step - loss: -0.8789 - jaccard_coef: 0.8800 - dice_coef: 0.9359 - iou: 0.8800 - recall: 0.4915 - precision: 0.9733 - val_loss: -0.5942 - val_jaccard_coef: 0.5942 - val_dice_coef: 0.7441 - val_iou: 0.5942 - val_recall: 0.3947 - val_precision: 0.8551\n",
            "\n",
            "Epoch 00036: val_loss improved from -0.58579 to -0.59420, saving model to /content/files128/model128_basicJac.h5\n",
            "Epoch 37/100\n",
            "60/60 [==============================] - 17s 277ms/step - loss: -0.8823 - jaccard_coef: 0.8834 - dice_coef: 0.9379 - iou: 0.8834 - recall: 0.4924 - precision: 0.9739 - val_loss: -0.5742 - val_jaccard_coef: 0.5740 - val_dice_coef: 0.7273 - val_iou: 0.5740 - val_recall: 0.3877 - val_precision: 0.8422\n",
            "\n",
            "Epoch 00037: val_loss did not improve from -0.59420\n",
            "Epoch 38/100\n",
            "60/60 [==============================] - 17s 278ms/step - loss: -0.8878 - jaccard_coef: 0.8886 - dice_coef: 0.9409 - iou: 0.8886 - recall: 0.4936 - precision: 0.9755 - val_loss: -0.5813 - val_jaccard_coef: 0.5817 - val_dice_coef: 0.7338 - val_iou: 0.5817 - val_recall: 0.3829 - val_precision: 0.8624\n",
            "\n",
            "Epoch 00038: val_loss did not improve from -0.59420\n",
            "Epoch 39/100\n",
            "60/60 [==============================] - 17s 275ms/step - loss: -0.8930 - jaccard_coef: 0.8940 - dice_coef: 0.9439 - iou: 0.8940 - recall: 0.4942 - precision: 0.9772 - val_loss: -0.5829 - val_jaccard_coef: 0.5834 - val_dice_coef: 0.7358 - val_iou: 0.5834 - val_recall: 0.3901 - val_precision: 0.8530\n",
            "\n",
            "Epoch 00039: val_loss did not improve from -0.59420\n",
            "Epoch 40/100\n",
            "60/60 [==============================] - 17s 277ms/step - loss: -0.8950 - jaccard_coef: 0.8959 - dice_coef: 0.9449 - iou: 0.8959 - recall: 0.4943 - precision: 0.9777 - val_loss: -0.5855 - val_jaccard_coef: 0.5860 - val_dice_coef: 0.7375 - val_iou: 0.5859 - val_recall: 0.3762 - val_precision: 0.8673\n",
            "\n",
            "Epoch 00040: val_loss did not improve from -0.59420\n",
            "Epoch 41/100\n",
            "60/60 [==============================] - 17s 278ms/step - loss: -0.8975 - jaccard_coef: 0.8985 - dice_coef: 0.9463 - iou: 0.8985 - recall: 0.4948 - precision: 0.9781 - val_loss: -0.5746 - val_jaccard_coef: 0.5751 - val_dice_coef: 0.7282 - val_iou: 0.5751 - val_recall: 0.3680 - val_precision: 0.8653\n",
            "\n",
            "Epoch 00041: val_loss did not improve from -0.59420\n",
            "\n",
            "Epoch 00041: ReduceLROnPlateau reducing learning rate to 9.999999747378752e-06.\n",
            "Epoch 42/100\n",
            "60/60 [==============================] - 17s 276ms/step - loss: -0.8877 - jaccard_coef: 0.8888 - dice_coef: 0.9409 - iou: 0.8888 - recall: 0.4919 - precision: 0.9748 - val_loss: -0.6124 - val_jaccard_coef: 0.6128 - val_dice_coef: 0.7582 - val_iou: 0.6128 - val_recall: 0.3934 - val_precision: 0.8764\n",
            "\n",
            "Epoch 00042: val_loss improved from -0.59420 to -0.61241, saving model to /content/files128/model128_basicJac.h5\n",
            "Epoch 43/100\n",
            "60/60 [==============================] - 17s 277ms/step - loss: -0.9086 - jaccard_coef: 0.9096 - dice_coef: 0.9525 - iou: 0.9096 - recall: 0.4973 - precision: 0.9815 - val_loss: -0.6099 - val_jaccard_coef: 0.6105 - val_dice_coef: 0.7561 - val_iou: 0.6105 - val_recall: 0.3840 - val_precision: 0.8868\n",
            "\n",
            "Epoch 00043: val_loss did not improve from -0.61241\n",
            "Epoch 44/100\n",
            "60/60 [==============================] - 17s 278ms/step - loss: -0.9183 - jaccard_coef: 0.9191 - dice_coef: 0.9577 - iou: 0.9191 - recall: 0.4988 - precision: 0.9854 - val_loss: -0.6098 - val_jaccard_coef: 0.6104 - val_dice_coef: 0.7560 - val_iou: 0.6104 - val_recall: 0.3824 - val_precision: 0.8901\n",
            "\n",
            "Epoch 00044: val_loss did not improve from -0.61241\n",
            "Epoch 45/100\n",
            "60/60 [==============================] - 17s 279ms/step - loss: -0.9240 - jaccard_coef: 0.9247 - dice_coef: 0.9608 - iou: 0.9247 - recall: 0.4995 - precision: 0.9876 - val_loss: -0.6096 - val_jaccard_coef: 0.6101 - val_dice_coef: 0.7557 - val_iou: 0.6101 - val_recall: 0.3821 - val_precision: 0.8901\n",
            "\n",
            "Epoch 00045: val_loss did not improve from -0.61241\n",
            "Epoch 46/100\n",
            "60/60 [==============================] - 17s 285ms/step - loss: -0.9281 - jaccard_coef: 0.9288 - dice_coef: 0.9630 - iou: 0.9288 - recall: 0.5000 - precision: 0.9892 - val_loss: -0.6095 - val_jaccard_coef: 0.6100 - val_dice_coef: 0.7557 - val_iou: 0.6100 - val_recall: 0.3819 - val_precision: 0.8896\n",
            "\n",
            "Epoch 00046: val_loss did not improve from -0.61241\n",
            "Epoch 47/100\n",
            "60/60 [==============================] - 17s 277ms/step - loss: -0.9316 - jaccard_coef: 0.9322 - dice_coef: 0.9648 - iou: 0.9322 - recall: 0.5004 - precision: 0.9905 - val_loss: -0.6098 - val_jaccard_coef: 0.6103 - val_dice_coef: 0.7559 - val_iou: 0.6103 - val_recall: 0.3821 - val_precision: 0.8896\n",
            "\n",
            "Epoch 00047: val_loss did not improve from -0.61241\n",
            "\n",
            "Epoch 00047: ReduceLROnPlateau reducing learning rate to 9.999999747378752e-07.\n",
            "Epoch 48/100\n",
            "60/60 [==============================] - 17s 273ms/step - loss: -0.9338 - jaccard_coef: 0.9344 - dice_coef: 0.9660 - iou: 0.9344 - recall: 0.5011 - precision: 0.9908 - val_loss: -0.6099 - val_jaccard_coef: 0.6104 - val_dice_coef: 0.7560 - val_iou: 0.6104 - val_recall: 0.3816 - val_precision: 0.8901\n",
            "\n",
            "Epoch 00048: val_loss did not improve from -0.61241\n",
            "Epoch 49/100\n",
            "60/60 [==============================] - 17s 277ms/step - loss: -0.9350 - jaccard_coef: 0.9356 - dice_coef: 0.9666 - iou: 0.9356 - recall: 0.5010 - precision: 0.9914 - val_loss: -0.6097 - val_jaccard_coef: 0.6103 - val_dice_coef: 0.7559 - val_iou: 0.6103 - val_recall: 0.3812 - val_precision: 0.8905\n",
            "\n",
            "Epoch 00049: val_loss did not improve from -0.61241\n",
            "Epoch 50/100\n",
            "60/60 [==============================] - 17s 278ms/step - loss: -0.9356 - jaccard_coef: 0.9361 - dice_coef: 0.9669 - iou: 0.9361 - recall: 0.5009 - precision: 0.9916 - val_loss: -0.6096 - val_jaccard_coef: 0.6102 - val_dice_coef: 0.7558 - val_iou: 0.6102 - val_recall: 0.3810 - val_precision: 0.8906\n",
            "\n",
            "Epoch 00050: val_loss did not improve from -0.61241\n",
            "Epoch 51/100\n",
            "60/60 [==============================] - 17s 276ms/step - loss: -0.9359 - jaccard_coef: 0.9365 - dice_coef: 0.9671 - iou: 0.9365 - recall: 0.5010 - precision: 0.9918 - val_loss: -0.6096 - val_jaccard_coef: 0.6102 - val_dice_coef: 0.7558 - val_iou: 0.6102 - val_recall: 0.3809 - val_precision: 0.8906\n",
            "\n",
            "Epoch 00051: val_loss did not improve from -0.61241\n",
            "Epoch 52/100\n",
            "60/60 [==============================] - 17s 278ms/step - loss: -0.9362 - jaccard_coef: 0.9368 - dice_coef: 0.9673 - iou: 0.9368 - recall: 0.5010 - precision: 0.9919 - val_loss: -0.6096 - val_jaccard_coef: 0.6102 - val_dice_coef: 0.7558 - val_iou: 0.6102 - val_recall: 0.3808 - val_precision: 0.8906\n",
            "\n",
            "Epoch 00052: val_loss did not improve from -0.61241\n",
            "\n",
            "Epoch 00052: ReduceLROnPlateau reducing learning rate to 1e-07.\n"
          ]
        },
        {
          "output_type": "execute_result",
          "data": {
            "text/plain": [
              "<keras.callbacks.History at 0x7f00404643d0>"
            ]
          },
          "metadata": {},
          "execution_count": 22
        }
      ]
    },
    {
      "cell_type": "code",
      "metadata": {
        "id": "g8-uGc5vFE1C"
      },
      "source": [
        ""
      ],
      "execution_count": null,
      "outputs": []
    }
  ]
}