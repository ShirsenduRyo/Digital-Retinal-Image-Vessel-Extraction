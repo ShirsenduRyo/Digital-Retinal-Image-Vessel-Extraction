{
 "cells": [
  {
   "cell_type": "markdown",
   "id": "341bedfe",
   "metadata": {},
   "source": [
    "# Importing Packages"
   ]
  },
  {
   "cell_type": "code",
   "execution_count": 41,
   "id": "2cb28d4f",
   "metadata": {},
   "outputs": [],
   "source": [
    "import os\n",
    "import numpy as np\n",
    "import pandas as pd\n",
    "import cv2\n",
    "from glob import glob\n",
    "from tqdm import tqdm\n",
    "import tensorflow as tf\n",
    "from tensorflow.keras.utils import CustomObjectScope\n",
    "import imageio"
   ]
  },
  {
   "cell_type": "code",
   "execution_count": 42,
   "id": "1b212558",
   "metadata": {},
   "outputs": [],
   "source": [
    "from sklearn.metrics import accuracy_score, f1_score, jaccard_score, precision_score, recall_score\n",
    "from customMetrics import dice_loss, dice_coef, iou"
   ]
  },
  {
   "cell_type": "code",
   "execution_count": 43,
   "id": "d2caac35",
   "metadata": {},
   "outputs": [],
   "source": [
    "from sklearn.metrics import confusion_matrix"
   ]
  },
  {
   "cell_type": "code",
   "execution_count": 44,
   "id": "df0e7285",
   "metadata": {},
   "outputs": [],
   "source": [
    "from patchify import patchify, unpatchify"
   ]
  },
  {
   "cell_type": "code",
   "execution_count": 45,
   "id": "aa8d8f09",
   "metadata": {},
   "outputs": [],
   "source": [
    "physical_devices = tf.config.experimental.list_physical_devices('GPU')\n",
    "tf.config.experimental.set_memory_growth(physical_devices[0], True)"
   ]
  },
  {
   "cell_type": "markdown",
   "id": "f7d1cba1",
   "metadata": {},
   "source": [
    "# Loading Utils Functions"
   ]
  },
  {
   "cell_type": "code",
   "execution_count": 46,
   "id": "4e69b441",
   "metadata": {},
   "outputs": [],
   "source": [
    "def create_dir(path):\n",
    "    if not os.path.exists(path):\n",
    "        os.makedirs(path)"
   ]
  },
  {
   "cell_type": "code",
   "execution_count": 47,
   "id": "657e8a90",
   "metadata": {},
   "outputs": [],
   "source": [
    "def read_image(path):\n",
    "    src = cv2.imread(path, cv2.IMREAD_COLOR)\n",
    "    rgb = cv2.cvtColor(src, cv2.COLOR_BGR2RGB)\n",
    "    x = cv2.cvtColor(rgb, cv2.COLOR_RGB2BGR)\n",
    "    \n",
    "    top, bottom = [28] * 2\n",
    "    left, right = [37,38]\n",
    "    \n",
    "    x = cv2.copyMakeBorder(x, top, bottom, left, right, cv2.BORDER_CONSTANT, value= 0)\n",
    "    # x = cv2.resize(x, (W, H))\n",
    "    ori_x = x\n",
    "    x = x/255.0\n",
    "    x = x.astype(np.float32)\n",
    "    return ori_x, x"
   ]
  },
  {
   "cell_type": "code",
   "execution_count": 48,
   "id": "b4b228a5",
   "metadata": {},
   "outputs": [],
   "source": [
    "def read_gt(path):\n",
    "    x = imageio.mimread(path)[0]  ## (128, 128)\n",
    "    # x = cv2.resize(x, (W, H))\n",
    "    ori_x = x\n",
    "    x = x/255.0\n",
    "    x = x.astype(np.int32)\n",
    "    return ori_x, x"
   ]
  },
  {
   "cell_type": "code",
   "execution_count": 49,
   "id": "8394b02f",
   "metadata": {},
   "outputs": [],
   "source": [
    "def load_data(path):\n",
    "    x = sorted(glob(os.path.join(path, \"images\", \"*.tif\")))\n",
    "    y = sorted(glob(os.path.join(path, \"1st_manual\", \"*.gif\")))\n",
    "    return x, y"
   ]
  },
  {
   "cell_type": "code",
   "execution_count": 50,
   "id": "ed1f8d59",
   "metadata": {},
   "outputs": [],
   "source": [
    "def save_results(ori_x, ori_y, y_pred, save_image_path):\n",
    "    line = np.ones((H, 10, 3)) * 255\n",
    "\n",
    "    ori_y = np.expand_dims(ori_y, axis=-1)\n",
    "    ori_y = np.concatenate([ori_y, ori_y, ori_y], axis=-1)\n",
    "\n",
    "    y_pred = np.expand_dims(y_pred, axis=-1)\n",
    "    y_pred = np.concatenate([y_pred, y_pred, y_pred], axis=-1) * 255\n",
    "\n",
    "    cat_images = np.concatenate([ori_y, line, y_pred], axis=1)\n",
    "    \n",
    "    cv2.imwrite(save_image_path, cat_images)"
   ]
  },
  {
   "cell_type": "code",
   "execution_count": 51,
   "id": "ad886862",
   "metadata": {},
   "outputs": [],
   "source": [
    "def save_tests(y_pred, save_image_path):\n",
    "\n",
    "    y_pred = np.expand_dims(y_pred, axis=-1)\n",
    "    y_pred = np.concatenate([y_pred, y_pred, y_pred], axis=-1) * 255\n",
    "\n",
    "\n",
    "    cv2.imwrite(save_image_path, y_pred)"
   ]
  },
  {
   "cell_type": "code",
   "execution_count": 52,
   "id": "4a8dff88",
   "metadata": {},
   "outputs": [],
   "source": [
    "def get_metrics(cm):\n",
    "    tn, fp, fn, tp = cm.ravel()\n",
    "    sen = tp/(tp+fn)\n",
    "    spe = tn/(tn+fp) \n",
    "    return sen, spe"
   ]
  },
  {
   "cell_type": "code",
   "execution_count": null,
   "id": "c44712ce",
   "metadata": {},
   "outputs": [],
   "source": []
  },
  {
   "cell_type": "markdown",
   "id": "6d2811f4",
   "metadata": {},
   "source": [
    "# Setting The Environment"
   ]
  },
  {
   "cell_type": "code",
   "execution_count": 53,
   "id": "6ec48a50",
   "metadata": {},
   "outputs": [],
   "source": [
    "H = 584\n",
    "W = 565"
   ]
  },
  {
   "cell_type": "code",
   "execution_count": 54,
   "id": "9ff5413c",
   "metadata": {},
   "outputs": [],
   "source": [
    "data_path = \"D:\\\\Data sets\\\\DRIVE\""
   ]
  },
  {
   "cell_type": "code",
   "execution_count": 55,
   "id": "c9695839",
   "metadata": {},
   "outputs": [],
   "source": [
    "\"\"\" Save the results in this folder \"\"\"\n",
    "create_dir(\"results\")"
   ]
  },
  {
   "cell_type": "code",
   "execution_count": 56,
   "id": "0e718acc",
   "metadata": {},
   "outputs": [],
   "source": [
    "\"\"\" Load the model \"\"\"\n",
    "with CustomObjectScope({'iou': iou, 'dice_coef': dice_coef, 'dice_loss': dice_loss}):\n",
    "    model = tf.keras.models.load_model(\"modelDir/model128_basic.h5\")\n"
   ]
  },
  {
   "cell_type": "code",
   "execution_count": 57,
   "id": "642d7775",
   "metadata": {},
   "outputs": [],
   "source": [
    "\"\"\" Load the dataset \"\"\"\n",
    "traindataset_path = os.path.join(data_path,\"training\")\n",
    "train_x, train_y = load_data(traindataset_path)\n",
    "\n",
    "testdataset_path = os.path.join(data_path,\"test\")\n",
    "test_x, test_y = load_data(testdataset_path)"
   ]
  },
  {
   "cell_type": "code",
   "execution_count": 58,
   "id": "e8c3fc3f",
   "metadata": {},
   "outputs": [
    {
     "data": {
      "text/plain": [
       "('D:\\\\Data sets\\\\DRIVE\\\\test', 20)"
      ]
     },
     "execution_count": 58,
     "metadata": {},
     "output_type": "execute_result"
    }
   ],
   "source": [
    "testdataset_path,len(test_x)"
   ]
  },
  {
   "cell_type": "code",
   "execution_count": 59,
   "id": "f0d9ef1d",
   "metadata": {},
   "outputs": [
    {
     "data": {
      "text/plain": [
       "('D:\\\\Data sets\\\\DRIVE\\\\training', 20)"
      ]
     },
     "execution_count": 59,
     "metadata": {},
     "output_type": "execute_result"
    }
   ],
   "source": [
    "traindataset_path,len(train_x)"
   ]
  },
  {
   "cell_type": "code",
   "execution_count": 60,
   "id": "07b1a710",
   "metadata": {},
   "outputs": [],
   "source": [
    "from matplotlib import pyplot as plt"
   ]
  },
  {
   "cell_type": "markdown",
   "id": "4382ac4e",
   "metadata": {},
   "source": [
    "# Training Results"
   ]
  },
  {
   "cell_type": "code",
   "execution_count": 76,
   "id": "b9b749ee",
   "metadata": {},
   "outputs": [
    {
     "name": "stderr",
     "output_type": "stream",
     "text": [
      "\r",
      "  0%|                                                                                                                                                         | 0/20 [00:00<?, ?it/s]"
     ]
    },
    {
     "name": "stdout",
     "output_type": "stream",
     "text": [
      "21_training\n",
      "(640, 640, 3) (584, 565)\n",
      "(584, 565)\n",
      "results\\21_trainingTrain.png\n"
     ]
    },
    {
     "name": "stderr",
     "output_type": "stream",
     "text": [
      "\r",
      "  5%|███████▎                                                                                                                                         | 1/20 [00:02<00:43,  2.29s/it]"
     ]
    },
    {
     "name": "stdout",
     "output_type": "stream",
     "text": [
      "22_training\n",
      "(640, 640, 3) (584, 565)\n",
      "(584, 565)\n",
      "results\\22_trainingTrain.png\n"
     ]
    },
    {
     "name": "stderr",
     "output_type": "stream",
     "text": [
      "\r",
      " 10%|██████████████▌                                                                                                                                  | 2/20 [00:04<00:39,  2.18s/it]"
     ]
    },
    {
     "name": "stdout",
     "output_type": "stream",
     "text": [
      "23_training\n",
      "(640, 640, 3) (584, 565)\n",
      "(584, 565)\n",
      "results\\23_trainingTrain.png\n"
     ]
    },
    {
     "name": "stderr",
     "output_type": "stream",
     "text": [
      "\r",
      " 15%|█████████████████████▊                                                                                                                           | 3/20 [00:06<00:36,  2.15s/it]"
     ]
    },
    {
     "name": "stdout",
     "output_type": "stream",
     "text": [
      "24_training\n",
      "(640, 640, 3) (584, 565)\n",
      "(584, 565)\n",
      "results\\24_trainingTrain.png\n"
     ]
    },
    {
     "name": "stderr",
     "output_type": "stream",
     "text": [
      "\r",
      " 20%|█████████████████████████████                                                                                                                    | 4/20 [00:08<00:35,  2.21s/it]"
     ]
    },
    {
     "name": "stdout",
     "output_type": "stream",
     "text": [
      "25_training\n",
      "(640, 640, 3) (584, 565)\n",
      "(584, 565)\n",
      "results\\25_trainingTrain.png\n"
     ]
    },
    {
     "name": "stderr",
     "output_type": "stream",
     "text": [
      "\r",
      " 25%|████████████████████████████████████▎                                                                                                            | 5/20 [00:11<00:37,  2.50s/it]"
     ]
    },
    {
     "name": "stdout",
     "output_type": "stream",
     "text": [
      "26_training\n",
      "(640, 640, 3) (584, 565)\n",
      "(584, 565)\n",
      "results\\26_trainingTrain.png\n"
     ]
    },
    {
     "name": "stderr",
     "output_type": "stream",
     "text": [
      "\r",
      " 30%|███████████████████████████████████████████▌                                                                                                     | 6/20 [00:14<00:34,  2.46s/it]"
     ]
    },
    {
     "name": "stdout",
     "output_type": "stream",
     "text": [
      "27_training\n",
      "(640, 640, 3) (584, 565)\n",
      "(584, 565)\n",
      "results\\27_trainingTrain.png\n"
     ]
    },
    {
     "name": "stderr",
     "output_type": "stream",
     "text": [
      "\r",
      " 35%|██████████████████████████████████████████████████▊                                                                                              | 7/20 [00:17<00:33,  2.60s/it]"
     ]
    },
    {
     "name": "stdout",
     "output_type": "stream",
     "text": [
      "28_training\n",
      "(640, 640, 3) (584, 565)\n",
      "(584, 565)\n",
      "results\\28_trainingTrain.png\n"
     ]
    },
    {
     "name": "stderr",
     "output_type": "stream",
     "text": [
      "\r",
      " 40%|██████████████████████████████████████████████████████████                                                                                       | 8/20 [00:19<00:30,  2.52s/it]"
     ]
    },
    {
     "name": "stdout",
     "output_type": "stream",
     "text": [
      "29_training\n",
      "(640, 640, 3) (584, 565)\n",
      "(584, 565)\n",
      "results\\29_trainingTrain.png\n"
     ]
    },
    {
     "name": "stderr",
     "output_type": "stream",
     "text": [
      "\r",
      " 45%|█████████████████████████████████████████████████████████████████▎                                                                               | 9/20 [00:21<00:27,  2.48s/it]"
     ]
    },
    {
     "name": "stdout",
     "output_type": "stream",
     "text": [
      "30_training\n",
      "(640, 640, 3) (584, 565)\n",
      "(584, 565)\n",
      "results\\30_trainingTrain.png\n"
     ]
    },
    {
     "name": "stderr",
     "output_type": "stream",
     "text": [
      "\r",
      " 50%|████████████████████████████████████████████████████████████████████████                                                                        | 10/20 [00:24<00:24,  2.45s/it]"
     ]
    },
    {
     "name": "stdout",
     "output_type": "stream",
     "text": [
      "31_training\n",
      "(640, 640, 3) (584, 565)\n",
      "(584, 565)\n",
      "results\\31_trainingTrain.png\n"
     ]
    },
    {
     "name": "stderr",
     "output_type": "stream",
     "text": [
      "\r",
      " 55%|███████████████████████████████████████████████████████████████████████████████▏                                                                | 11/20 [00:26<00:21,  2.43s/it]"
     ]
    },
    {
     "name": "stdout",
     "output_type": "stream",
     "text": [
      "32_training\n",
      "(640, 640, 3) (584, 565)\n",
      "(584, 565)\n",
      "results\\32_trainingTrain.png\n"
     ]
    },
    {
     "name": "stderr",
     "output_type": "stream",
     "text": [
      "\r",
      " 60%|██████████████████████████████████████████████████████████████████████████████████████▍                                                         | 12/20 [00:28<00:19,  2.40s/it]"
     ]
    },
    {
     "name": "stdout",
     "output_type": "stream",
     "text": [
      "33_training\n",
      "(640, 640, 3) (584, 565)\n",
      "(584, 565)\n",
      "results\\33_trainingTrain.png\n"
     ]
    },
    {
     "name": "stderr",
     "output_type": "stream",
     "text": [
      "\r",
      " 65%|█████████████████████████████████████████████████████████████████████████████████████████████▌                                                  | 13/20 [00:31<00:17,  2.44s/it]"
     ]
    },
    {
     "name": "stdout",
     "output_type": "stream",
     "text": [
      "34_training\n",
      "(640, 640, 3) (584, 565)\n",
      "(584, 565)\n",
      "results\\34_trainingTrain.png\n"
     ]
    },
    {
     "name": "stderr",
     "output_type": "stream",
     "text": [
      "\r",
      " 70%|████████████████████████████████████████████████████████████████████████████████████████████████████▊                                           | 14/20 [00:33<00:14,  2.42s/it]"
     ]
    },
    {
     "name": "stdout",
     "output_type": "stream",
     "text": [
      "35_training\n",
      "(640, 640, 3) (584, 565)\n",
      "(584, 565)\n",
      "results\\35_trainingTrain.png\n"
     ]
    },
    {
     "name": "stderr",
     "output_type": "stream",
     "text": [
      "\r",
      " 75%|████████████████████████████████████████████████████████████████████████████████████████████████████████████                                    | 15/20 [00:36<00:11,  2.39s/it]"
     ]
    },
    {
     "name": "stdout",
     "output_type": "stream",
     "text": [
      "36_training\n",
      "(640, 640, 3) (584, 565)\n",
      "(584, 565)\n",
      "results\\36_trainingTrain.png\n"
     ]
    },
    {
     "name": "stderr",
     "output_type": "stream",
     "text": [
      "\r",
      " 80%|███████████████████████████████████████████████████████████████████████████████████████████████████████████████████▏                            | 16/20 [00:38<00:09,  2.39s/it]"
     ]
    },
    {
     "name": "stdout",
     "output_type": "stream",
     "text": [
      "37_training\n",
      "(640, 640, 3) (584, 565)\n",
      "(584, 565)\n",
      "results\\37_trainingTrain.png\n"
     ]
    },
    {
     "name": "stderr",
     "output_type": "stream",
     "text": [
      "\r",
      " 85%|██████████████████████████████████████████████████████████████████████████████████████████████████████████████████████████▍                     | 17/20 [00:40<00:07,  2.38s/it]"
     ]
    },
    {
     "name": "stdout",
     "output_type": "stream",
     "text": [
      "38_training\n",
      "(640, 640, 3) (584, 565)\n",
      "(584, 565)\n",
      "results\\38_trainingTrain.png\n"
     ]
    },
    {
     "name": "stderr",
     "output_type": "stream",
     "text": [
      "\r",
      " 90%|█████████████████████████████████████████████████████████████████████████████████████████████████████████████████████████████████▌              | 18/20 [00:43<00:04,  2.41s/it]"
     ]
    },
    {
     "name": "stdout",
     "output_type": "stream",
     "text": [
      "39_training\n",
      "(640, 640, 3) (584, 565)\n",
      "(584, 565)\n",
      "results\\39_trainingTrain.png\n"
     ]
    },
    {
     "name": "stderr",
     "output_type": "stream",
     "text": [
      "\r",
      " 95%|████████████████████████████████████████████████████████████████████████████████████████████████████████████████████████████████████████▊       | 19/20 [00:45<00:02,  2.39s/it]"
     ]
    },
    {
     "name": "stdout",
     "output_type": "stream",
     "text": [
      "40_training\n",
      "(640, 640, 3) (584, 565)\n",
      "(584, 565)\n",
      "results\\40_trainingTrain.png\n"
     ]
    },
    {
     "name": "stderr",
     "output_type": "stream",
     "text": [
      "100%|████████████████████████████████████████████████████████████████████████████████████████████████████████████████████████████████████████████████| 20/20 [00:47<00:00,  2.40s/it]\n"
     ]
    }
   ],
   "source": [
    "\"\"\" Make the prediction and calculate the metrics values \"\"\"\n",
    "SCORE = []\n",
    "\n",
    "for x, y in tqdm(zip(train_x, train_y), total=len(train_x)):\n",
    "    \n",
    "    \"\"\" Extracting name \"\"\"\n",
    "    name = x.split(\"\\\\\")[-1].split(\".\")[0]\n",
    "    print(name)\n",
    "    \"\"\" Read the image and mask \"\"\"\n",
    "    ori_x, x = read_image(x)\n",
    "    ori_y, y = read_gt(y)\n",
    "    \n",
    "    print(ori_x.shape, ori_y.shape)\n",
    "    \n",
    "    patches_img = patchify(x, (128, 128,3), step=128)\n",
    "    \n",
    "    pred_patches = []\n",
    "    for i in range(patches_img.shape[0]):\n",
    "        for j in range(patches_img.shape[1]):        \n",
    "            single_patch_img = patches_img[i,j,:,:][0]\n",
    "#             print(single_patch_img.shape)\n",
    "            \n",
    "            \"\"\" Prediction \"\"\"\n",
    "            y_pred = model.predict(np.expand_dims(single_patch_img, axis=0))[0]\n",
    "            y_pred = y_pred > 0.5\n",
    "            y_pred = y_pred.astype(np.int32)\n",
    "            y_pred = np.squeeze(y_pred, axis=-1)\n",
    "            \n",
    "            pred_patches.append(y_pred)\n",
    "    pred_patches_reshaped = np.reshape(pred_patches, (5, 5, 128,128) )\n",
    "    reconstructed_image = unpatchify(pred_patches_reshaped, (640,640))\n",
    "    \n",
    "    final_y_pred = reconstructed_image[28:-28,37:-38]\n",
    "    print(final_y_pred.shape)\n",
    "#     plt.imshow(final_y_pred, cmap='gray')\n",
    "    \n",
    "    \n",
    "    \"\"\" Saving the images \"\"\"\n",
    "    save_image_path = f\"results\\\\{name}Train.png\"\n",
    "    print(save_image_path)\n",
    "\n",
    "    save_results(ori_x, ori_y, final_y_pred, save_image_path)\n",
    "\n",
    "    \"\"\" Flatten the array \"\"\"\n",
    "    y = y.flatten()\n",
    "    final_y_pred = final_y_pred.flatten()\n",
    "\n",
    "    \"\"\" Calculate the metrics \"\"\"\n",
    "    acc_value = accuracy_score(y, final_y_pred)\n",
    "    f1_value = f1_score(y, final_y_pred, labels=[0, 1], average=\"binary\")\n",
    "    jac_value = jaccard_score(y, final_y_pred, labels=[0, 1], average=\"binary\")\n",
    "    recall_value = recall_score(y, final_y_pred, labels=[0, 1], average=\"binary\")\n",
    "    precision_value = precision_score(y, final_y_pred, labels=[0, 1], average=\"binary\")\n",
    "    \n",
    "    cm = confusion_matrix(y, final_y_pred)\n",
    "    sensitivity, specificity = get_metrics(cm)\n",
    "    \n",
    "    SCORE.append([name, acc_value, f1_value, jac_value, recall_value, precision_value, sensitivity, specificity])"
   ]
  },
  {
   "cell_type": "code",
   "execution_count": 62,
   "id": "31e81a06",
   "metadata": {
    "scrolled": true
   },
   "outputs": [
    {
     "data": {
      "text/plain": [
       "[['21_training',\n",
       "  0.9684173839253243,\n",
       "  0.7779127506766405,\n",
       "  0.6365443638392857,\n",
       "  0.7401654635412442,\n",
       "  0.8197170446889738,\n",
       "  0.7401654635412442,\n",
       "  0.9868523625786926],\n",
       " ['22_training',\n",
       "  0.9739998787731846,\n",
       "  0.8479035546494105,\n",
       "  0.7359657761910624,\n",
       "  0.8022073870307626,\n",
       "  0.8991201684463829,\n",
       "  0.8022073870307626,\n",
       "  0.9910611658798405],\n",
       " ['23_training',\n",
       "  0.9747575463692569,\n",
       "  0.8065857000208996,\n",
       "  0.6758639476961394,\n",
       "  0.7994752106062698,\n",
       "  0.8138238050609184,\n",
       "  0.7994752106062698,\n",
       "  0.9871105675178515],\n",
       " ['24_training',\n",
       "  0.964262334828464,\n",
       "  0.8281350201130997,\n",
       "  0.7066812596388239,\n",
       "  0.7431531036647572,\n",
       "  0.9350623704045025,\n",
       "  0.7431531036647572,\n",
       "  0.9932369203135766],\n",
       " ['25_training',\n",
       "  0.9482209964844224,\n",
       "  0.6548415119497364,\n",
       "  0.4868136489246666,\n",
       "  0.5117622911995958,\n",
       "  0.9089736399326978,\n",
       "  0.5117622911995958,\n",
       "  0.9945590044620857],\n",
       " ['26_training',\n",
       "  0.9662292399078676,\n",
       "  0.7687838482767207,\n",
       "  0.6244101388701632,\n",
       "  0.6718528995756718,\n",
       "  0.8983996120271581,\n",
       "  0.6718528995756718,\n",
       "  0.993071792107465],\n",
       " ['27_training',\n",
       "  0.9704236877197236,\n",
       "  0.8199213920617053,\n",
       "  0.6948023517638229,\n",
       "  0.7641798232036597,\n",
       "  0.8844347133757962,\n",
       "  0.7641798232036597,\n",
       "  0.9903518596682476],\n",
       " ['28_training',\n",
       "  0.9697933082797915,\n",
       "  0.8345973215619243,\n",
       "  0.7161450175148806,\n",
       "  0.7802531959786521,\n",
       "  0.8970782348114588,\n",
       "  0.7802531959786521,\n",
       "  0.9903100775193798],\n",
       " ['29_training',\n",
       "  0.9602497272396654,\n",
       "  0.7435777126099706,\n",
       "  0.5918214919241901,\n",
       "  0.6852726027890886,\n",
       "  0.8127270396170777,\n",
       "  0.6852726027890886,\n",
       "  0.985500100923533],\n",
       " ['30_training',\n",
       "  0.9651139532064492,\n",
       "  0.7342736443592881,\n",
       "  0.5801203720590917,\n",
       "  0.6144336269510122,\n",
       "  0.9121881273300831,\n",
       "  0.6144336269510122,\n",
       "  0.9949650745208435],\n",
       " ['31_training',\n",
       "  0.9794156867499091,\n",
       "  0.8234651972760825,\n",
       "  0.6999072151283524,\n",
       "  0.796110161825309,\n",
       "  0.8527670111972437,\n",
       "  0.796110161825309,\n",
       "  0.991179183518135],\n",
       " ['32_training',\n",
       "  0.9714480543096133,\n",
       "  0.8140457533110949,\n",
       "  0.6864056986885028,\n",
       "  0.7641935962051586,\n",
       "  0.8708560327716542,\n",
       "  0.7641935962051586,\n",
       "  0.9899067912970004],\n",
       " ['33_training',\n",
       "  0.9659625409140502,\n",
       "  0.7705571104619092,\n",
       "  0.6267530741110003,\n",
       "  0.7067001423967624,\n",
       "  0.8471005704532183,\n",
       "  0.7067001423967624,\n",
       "  0.9887758264803445],\n",
       " ['34_training',\n",
       "  0.9663686507455449,\n",
       "  0.8315087836504153,\n",
       "  0.7116089295459861,\n",
       "  0.8480812710998235,\n",
       "  0.8155715732411986,\n",
       "  0.8480812710998235,\n",
       "  0.9791986508685705],\n",
       " ['35_training',\n",
       "  0.9795702509395078,\n",
       "  0.8821853644895749,\n",
       "  0.7892054160542856,\n",
       "  0.8820774500209703,\n",
       "  0.8822933053661948,\n",
       "  0.8820774500209703,\n",
       "  0.9888268712584786],\n",
       " ['36_training',\n",
       "  0.9755909807249363,\n",
       "  0.8839581592369535,\n",
       "  0.7920475083914278,\n",
       "  0.8548656782967339,\n",
       "  0.9151005309945708,\n",
       "  0.8548656782967339,\n",
       "  0.9903222296277153],\n",
       " ['37_training',\n",
       "  0.9624257485755849,\n",
       "  0.7877563597767657,\n",
       "  0.6498333615771338,\n",
       "  0.7977531985714781,\n",
       "  0.7780069658134109,\n",
       "  0.7977531985714781,\n",
       "  0.9781979881707896],\n",
       " ['38_training',\n",
       "  0.9738331919020488,\n",
       "  0.8396836007130124,\n",
       "  0.7236677868458954,\n",
       "  0.7940092004073462,\n",
       "  0.8909334489144568,\n",
       "  0.7940092004073462,\n",
       "  0.9908187194634523],\n",
       " ['39_training',\n",
       "  0.9793368893199176,\n",
       "  0.8748117953802652,\n",
       "  0.7774804177545692,\n",
       "  0.8403414702977282,\n",
       "  0.9122309872099257,\n",
       "  0.8403414702977282,\n",
       "  0.9924008328581091],\n",
       " ['40_training',\n",
       "  0.9770396411686265,\n",
       "  0.8433221656946683,\n",
       "  0.7290899338458787,\n",
       "  0.8155273789048438,\n",
       "  0.8730784053440671,\n",
       "  0.8155273789048438,\n",
       "  0.9902806606789765]]"
      ]
     },
     "execution_count": 62,
     "metadata": {},
     "output_type": "execute_result"
    }
   ],
   "source": [
    "SCORE"
   ]
  },
  {
   "cell_type": "code",
   "execution_count": 63,
   "id": "21f0492e",
   "metadata": {},
   "outputs": [
    {
     "data": {
      "text/html": [
       "<div>\n",
       "<style scoped>\n",
       "    .dataframe tbody tr th:only-of-type {\n",
       "        vertical-align: middle;\n",
       "    }\n",
       "\n",
       "    .dataframe tbody tr th {\n",
       "        vertical-align: top;\n",
       "    }\n",
       "\n",
       "    .dataframe thead th {\n",
       "        text-align: right;\n",
       "    }\n",
       "</style>\n",
       "<table border=\"1\" class=\"dataframe\">\n",
       "  <thead>\n",
       "    <tr style=\"text-align: right;\">\n",
       "      <th></th>\n",
       "      <th>Image</th>\n",
       "      <th>Acc</th>\n",
       "      <th>F1</th>\n",
       "      <th>Jaccard</th>\n",
       "      <th>Recall</th>\n",
       "      <th>Precision</th>\n",
       "      <th>Sensitivity</th>\n",
       "      <th>Specificity</th>\n",
       "    </tr>\n",
       "  </thead>\n",
       "  <tbody>\n",
       "    <tr>\n",
       "      <th>0</th>\n",
       "      <td>21_training</td>\n",
       "      <td>0.968417</td>\n",
       "      <td>0.777913</td>\n",
       "      <td>0.636544</td>\n",
       "      <td>0.740165</td>\n",
       "      <td>0.819717</td>\n",
       "      <td>0.740165</td>\n",
       "      <td>0.986852</td>\n",
       "    </tr>\n",
       "    <tr>\n",
       "      <th>1</th>\n",
       "      <td>22_training</td>\n",
       "      <td>0.974000</td>\n",
       "      <td>0.847904</td>\n",
       "      <td>0.735966</td>\n",
       "      <td>0.802207</td>\n",
       "      <td>0.899120</td>\n",
       "      <td>0.802207</td>\n",
       "      <td>0.991061</td>\n",
       "    </tr>\n",
       "    <tr>\n",
       "      <th>2</th>\n",
       "      <td>23_training</td>\n",
       "      <td>0.974758</td>\n",
       "      <td>0.806586</td>\n",
       "      <td>0.675864</td>\n",
       "      <td>0.799475</td>\n",
       "      <td>0.813824</td>\n",
       "      <td>0.799475</td>\n",
       "      <td>0.987111</td>\n",
       "    </tr>\n",
       "    <tr>\n",
       "      <th>3</th>\n",
       "      <td>24_training</td>\n",
       "      <td>0.964262</td>\n",
       "      <td>0.828135</td>\n",
       "      <td>0.706681</td>\n",
       "      <td>0.743153</td>\n",
       "      <td>0.935062</td>\n",
       "      <td>0.743153</td>\n",
       "      <td>0.993237</td>\n",
       "    </tr>\n",
       "    <tr>\n",
       "      <th>4</th>\n",
       "      <td>25_training</td>\n",
       "      <td>0.948221</td>\n",
       "      <td>0.654842</td>\n",
       "      <td>0.486814</td>\n",
       "      <td>0.511762</td>\n",
       "      <td>0.908974</td>\n",
       "      <td>0.511762</td>\n",
       "      <td>0.994559</td>\n",
       "    </tr>\n",
       "    <tr>\n",
       "      <th>5</th>\n",
       "      <td>26_training</td>\n",
       "      <td>0.966229</td>\n",
       "      <td>0.768784</td>\n",
       "      <td>0.624410</td>\n",
       "      <td>0.671853</td>\n",
       "      <td>0.898400</td>\n",
       "      <td>0.671853</td>\n",
       "      <td>0.993072</td>\n",
       "    </tr>\n",
       "    <tr>\n",
       "      <th>6</th>\n",
       "      <td>27_training</td>\n",
       "      <td>0.970424</td>\n",
       "      <td>0.819921</td>\n",
       "      <td>0.694802</td>\n",
       "      <td>0.764180</td>\n",
       "      <td>0.884435</td>\n",
       "      <td>0.764180</td>\n",
       "      <td>0.990352</td>\n",
       "    </tr>\n",
       "    <tr>\n",
       "      <th>7</th>\n",
       "      <td>28_training</td>\n",
       "      <td>0.969793</td>\n",
       "      <td>0.834597</td>\n",
       "      <td>0.716145</td>\n",
       "      <td>0.780253</td>\n",
       "      <td>0.897078</td>\n",
       "      <td>0.780253</td>\n",
       "      <td>0.990310</td>\n",
       "    </tr>\n",
       "    <tr>\n",
       "      <th>8</th>\n",
       "      <td>29_training</td>\n",
       "      <td>0.960250</td>\n",
       "      <td>0.743578</td>\n",
       "      <td>0.591821</td>\n",
       "      <td>0.685273</td>\n",
       "      <td>0.812727</td>\n",
       "      <td>0.685273</td>\n",
       "      <td>0.985500</td>\n",
       "    </tr>\n",
       "    <tr>\n",
       "      <th>9</th>\n",
       "      <td>30_training</td>\n",
       "      <td>0.965114</td>\n",
       "      <td>0.734274</td>\n",
       "      <td>0.580120</td>\n",
       "      <td>0.614434</td>\n",
       "      <td>0.912188</td>\n",
       "      <td>0.614434</td>\n",
       "      <td>0.994965</td>\n",
       "    </tr>\n",
       "    <tr>\n",
       "      <th>10</th>\n",
       "      <td>31_training</td>\n",
       "      <td>0.979416</td>\n",
       "      <td>0.823465</td>\n",
       "      <td>0.699907</td>\n",
       "      <td>0.796110</td>\n",
       "      <td>0.852767</td>\n",
       "      <td>0.796110</td>\n",
       "      <td>0.991179</td>\n",
       "    </tr>\n",
       "    <tr>\n",
       "      <th>11</th>\n",
       "      <td>32_training</td>\n",
       "      <td>0.971448</td>\n",
       "      <td>0.814046</td>\n",
       "      <td>0.686406</td>\n",
       "      <td>0.764194</td>\n",
       "      <td>0.870856</td>\n",
       "      <td>0.764194</td>\n",
       "      <td>0.989907</td>\n",
       "    </tr>\n",
       "    <tr>\n",
       "      <th>12</th>\n",
       "      <td>33_training</td>\n",
       "      <td>0.965963</td>\n",
       "      <td>0.770557</td>\n",
       "      <td>0.626753</td>\n",
       "      <td>0.706700</td>\n",
       "      <td>0.847101</td>\n",
       "      <td>0.706700</td>\n",
       "      <td>0.988776</td>\n",
       "    </tr>\n",
       "    <tr>\n",
       "      <th>13</th>\n",
       "      <td>34_training</td>\n",
       "      <td>0.966369</td>\n",
       "      <td>0.831509</td>\n",
       "      <td>0.711609</td>\n",
       "      <td>0.848081</td>\n",
       "      <td>0.815572</td>\n",
       "      <td>0.848081</td>\n",
       "      <td>0.979199</td>\n",
       "    </tr>\n",
       "    <tr>\n",
       "      <th>14</th>\n",
       "      <td>35_training</td>\n",
       "      <td>0.979570</td>\n",
       "      <td>0.882185</td>\n",
       "      <td>0.789205</td>\n",
       "      <td>0.882077</td>\n",
       "      <td>0.882293</td>\n",
       "      <td>0.882077</td>\n",
       "      <td>0.988827</td>\n",
       "    </tr>\n",
       "    <tr>\n",
       "      <th>15</th>\n",
       "      <td>36_training</td>\n",
       "      <td>0.975591</td>\n",
       "      <td>0.883958</td>\n",
       "      <td>0.792048</td>\n",
       "      <td>0.854866</td>\n",
       "      <td>0.915101</td>\n",
       "      <td>0.854866</td>\n",
       "      <td>0.990322</td>\n",
       "    </tr>\n",
       "    <tr>\n",
       "      <th>16</th>\n",
       "      <td>37_training</td>\n",
       "      <td>0.962426</td>\n",
       "      <td>0.787756</td>\n",
       "      <td>0.649833</td>\n",
       "      <td>0.797753</td>\n",
       "      <td>0.778007</td>\n",
       "      <td>0.797753</td>\n",
       "      <td>0.978198</td>\n",
       "    </tr>\n",
       "    <tr>\n",
       "      <th>17</th>\n",
       "      <td>38_training</td>\n",
       "      <td>0.973833</td>\n",
       "      <td>0.839684</td>\n",
       "      <td>0.723668</td>\n",
       "      <td>0.794009</td>\n",
       "      <td>0.890933</td>\n",
       "      <td>0.794009</td>\n",
       "      <td>0.990819</td>\n",
       "    </tr>\n",
       "    <tr>\n",
       "      <th>18</th>\n",
       "      <td>39_training</td>\n",
       "      <td>0.979337</td>\n",
       "      <td>0.874812</td>\n",
       "      <td>0.777480</td>\n",
       "      <td>0.840341</td>\n",
       "      <td>0.912231</td>\n",
       "      <td>0.840341</td>\n",
       "      <td>0.992401</td>\n",
       "    </tr>\n",
       "    <tr>\n",
       "      <th>19</th>\n",
       "      <td>40_training</td>\n",
       "      <td>0.977040</td>\n",
       "      <td>0.843322</td>\n",
       "      <td>0.729090</td>\n",
       "      <td>0.815527</td>\n",
       "      <td>0.873078</td>\n",
       "      <td>0.815527</td>\n",
       "      <td>0.990281</td>\n",
       "    </tr>\n",
       "  </tbody>\n",
       "</table>\n",
       "</div>"
      ],
      "text/plain": [
       "          Image       Acc        F1   Jaccard    Recall  Precision  \\\n",
       "0   21_training  0.968417  0.777913  0.636544  0.740165   0.819717   \n",
       "1   22_training  0.974000  0.847904  0.735966  0.802207   0.899120   \n",
       "2   23_training  0.974758  0.806586  0.675864  0.799475   0.813824   \n",
       "3   24_training  0.964262  0.828135  0.706681  0.743153   0.935062   \n",
       "4   25_training  0.948221  0.654842  0.486814  0.511762   0.908974   \n",
       "5   26_training  0.966229  0.768784  0.624410  0.671853   0.898400   \n",
       "6   27_training  0.970424  0.819921  0.694802  0.764180   0.884435   \n",
       "7   28_training  0.969793  0.834597  0.716145  0.780253   0.897078   \n",
       "8   29_training  0.960250  0.743578  0.591821  0.685273   0.812727   \n",
       "9   30_training  0.965114  0.734274  0.580120  0.614434   0.912188   \n",
       "10  31_training  0.979416  0.823465  0.699907  0.796110   0.852767   \n",
       "11  32_training  0.971448  0.814046  0.686406  0.764194   0.870856   \n",
       "12  33_training  0.965963  0.770557  0.626753  0.706700   0.847101   \n",
       "13  34_training  0.966369  0.831509  0.711609  0.848081   0.815572   \n",
       "14  35_training  0.979570  0.882185  0.789205  0.882077   0.882293   \n",
       "15  36_training  0.975591  0.883958  0.792048  0.854866   0.915101   \n",
       "16  37_training  0.962426  0.787756  0.649833  0.797753   0.778007   \n",
       "17  38_training  0.973833  0.839684  0.723668  0.794009   0.890933   \n",
       "18  39_training  0.979337  0.874812  0.777480  0.840341   0.912231   \n",
       "19  40_training  0.977040  0.843322  0.729090  0.815527   0.873078   \n",
       "\n",
       "    Sensitivity  Specificity  \n",
       "0      0.740165     0.986852  \n",
       "1      0.802207     0.991061  \n",
       "2      0.799475     0.987111  \n",
       "3      0.743153     0.993237  \n",
       "4      0.511762     0.994559  \n",
       "5      0.671853     0.993072  \n",
       "6      0.764180     0.990352  \n",
       "7      0.780253     0.990310  \n",
       "8      0.685273     0.985500  \n",
       "9      0.614434     0.994965  \n",
       "10     0.796110     0.991179  \n",
       "11     0.764194     0.989907  \n",
       "12     0.706700     0.988776  \n",
       "13     0.848081     0.979199  \n",
       "14     0.882077     0.988827  \n",
       "15     0.854866     0.990322  \n",
       "16     0.797753     0.978198  \n",
       "17     0.794009     0.990819  \n",
       "18     0.840341     0.992401  \n",
       "19     0.815527     0.990281  "
      ]
     },
     "execution_count": 63,
     "metadata": {},
     "output_type": "execute_result"
    }
   ],
   "source": [
    "\n",
    "stat_df = pd.DataFrame(SCORE, columns=[\"Image\", \"Acc\", \"F1\", \"Jaccard\", \"Recall\", \"Precision\", \"Sensitivity\", \"Specificity\"])\n",
    "stat_df"
   ]
  },
  {
   "cell_type": "code",
   "execution_count": 64,
   "id": "206011ed",
   "metadata": {},
   "outputs": [
    {
     "name": "stdout",
     "output_type": "stream",
     "text": [
      "Accuracy: 0.96962\n",
      "F1: 0.80839\n",
      "Jaccard: 0.68176\n",
      "Recall: 0.76062\n",
      "Precision: 0.87097\n",
      "Sensitivity: 0.76062\n",
      "Specificity: 0.98935\n"
     ]
    }
   ],
   "source": [
    "score = [s[1:] for s in SCORE]\n",
    "score = np.mean(score, axis=0)\n",
    "print(f\"Accuracy: {score[0]:0.5f}\")\n",
    "print(f\"F1: {score[1]:0.5f}\")\n",
    "print(f\"Jaccard: {score[2]:0.5f}\")\n",
    "print(f\"Recall: {score[3]:0.5f}\")\n",
    "print(f\"Precision: {score[4]:0.5f}\")\n",
    "print(f\"Sensitivity: {score[5]:0.5f}\")\n",
    "print(f\"Specificity: {score[6]:0.5f}\")\n"
   ]
  },
  {
   "cell_type": "code",
   "execution_count": 65,
   "id": "596a0880",
   "metadata": {},
   "outputs": [],
   "source": [
    "rows = [\"Accuracy\", \"F1\", \"Jaccard\", \"Recall\", \"Precision\", \"Sensitivity\", \"Specificity\"]"
   ]
  },
  {
   "cell_type": "code",
   "execution_count": 66,
   "id": "2d191049",
   "metadata": {},
   "outputs": [
    {
     "data": {
      "text/html": [
       "<div>\n",
       "<style scoped>\n",
       "    .dataframe tbody tr th:only-of-type {\n",
       "        vertical-align: middle;\n",
       "    }\n",
       "\n",
       "    .dataframe tbody tr th {\n",
       "        vertical-align: top;\n",
       "    }\n",
       "\n",
       "    .dataframe thead th {\n",
       "        text-align: right;\n",
       "    }\n",
       "</style>\n",
       "<table border=\"1\" class=\"dataframe\">\n",
       "  <thead>\n",
       "    <tr style=\"text-align: right;\">\n",
       "      <th></th>\n",
       "      <th>Metrics</th>\n",
       "      <th>Model_128_vanilla</th>\n",
       "    </tr>\n",
       "  </thead>\n",
       "  <tbody>\n",
       "    <tr>\n",
       "      <th>0</th>\n",
       "      <td>Accuracy</td>\n",
       "      <td>0.969623</td>\n",
       "    </tr>\n",
       "    <tr>\n",
       "      <th>1</th>\n",
       "      <td>F1</td>\n",
       "      <td>0.808391</td>\n",
       "    </tr>\n",
       "    <tr>\n",
       "      <th>2</th>\n",
       "      <td>Jaccard</td>\n",
       "      <td>0.681758</td>\n",
       "    </tr>\n",
       "    <tr>\n",
       "      <th>3</th>\n",
       "      <td>Recall</td>\n",
       "      <td>0.760621</td>\n",
       "    </tr>\n",
       "    <tr>\n",
       "      <th>4</th>\n",
       "      <td>Precision</td>\n",
       "      <td>0.870973</td>\n",
       "    </tr>\n",
       "    <tr>\n",
       "      <th>5</th>\n",
       "      <td>Sensitivity</td>\n",
       "      <td>0.760621</td>\n",
       "    </tr>\n",
       "    <tr>\n",
       "      <th>6</th>\n",
       "      <td>Specificity</td>\n",
       "      <td>0.989346</td>\n",
       "    </tr>\n",
       "  </tbody>\n",
       "</table>\n",
       "</div>"
      ],
      "text/plain": [
       "       Metrics  Model_128_vanilla\n",
       "0     Accuracy           0.969623\n",
       "1           F1           0.808391\n",
       "2      Jaccard           0.681758\n",
       "3       Recall           0.760621\n",
       "4    Precision           0.870973\n",
       "5  Sensitivity           0.760621\n",
       "6  Specificity           0.989346"
      ]
     },
     "execution_count": 66,
     "metadata": {},
     "output_type": "execute_result"
    }
   ],
   "source": [
    "df = pd.DataFrame(\n",
    "    {'Metrics': rows,\n",
    "     'Model_128_basic': score,\n",
    "    })\n",
    "df"
   ]
  },
  {
   "cell_type": "code",
   "execution_count": 67,
   "id": "ddbb44f4",
   "metadata": {},
   "outputs": [],
   "source": [
    "\"\"\" Saving \"\"\"\n",
    "df.to_csv(\"score/train.csv\", index=False)"
   ]
  },
  {
   "cell_type": "code",
   "execution_count": 68,
   "id": "dd2585bc",
   "metadata": {},
   "outputs": [],
   "source": [
    "import seaborn as sns"
   ]
  },
  {
   "cell_type": "code",
   "execution_count": 69,
   "id": "b09006fc",
   "metadata": {},
   "outputs": [
    {
     "data": {
      "text/plain": [
       "[None,\n",
       " None,\n",
       " None,\n",
       " None,\n",
       " None,\n",
       " None,\n",
       " None,\n",
       " None,\n",
       " None,\n",
       " None,\n",
       " None,\n",
       " None,\n",
       " None,\n",
       " None,\n",
       " None,\n",
       " None,\n",
       " None,\n",
       " None,\n",
       " None,\n",
       " None,\n",
       " None,\n",
       " None,\n",
       " None,\n",
       " None,\n",
       " None,\n",
       " None,\n",
       " None,\n",
       " None,\n",
       " None,\n",
       " None,\n",
       " None,\n",
       " None,\n",
       " None,\n",
       " None,\n",
       " None,\n",
       " None,\n",
       " None,\n",
       " None,\n",
       " None,\n",
       " None]"
      ]
     },
     "execution_count": 69,
     "metadata": {},
     "output_type": "execute_result"
    },
    {
     "data": {
      "image/png": "[encoded data removed]",
      "text/plain": [
       "<Figure size 1440x720 with 1 Axes>"
      ]
     },
     "metadata": {},
     "output_type": "display_data"
    }
   ],
   "source": [
    "plt.figure(figsize=(20, 10))\n",
    "sns.set_style(\"darkgrid\")\n",
    "ax = sns.lineplot(data=stat_df, x=\"Image\", y=\"F1\", marker = \"o\")\n",
    "ax.axhline(stat_df[\"F1\"].mean(), color=\"orange\", linestyle=\"--\")\n",
    "ax.set(xlabel=\"X Label\", ylabel = \"F1\")\n",
    "plt.setp(ax.get_xticklabels(), rotation=90)\n"
   ]
  },
  {
   "cell_type": "markdown",
   "id": "dd8b04cd",
   "metadata": {},
   "source": [
    "# Test Results"
   ]
  },
  {
   "cell_type": "code",
   "execution_count": 70,
   "id": "1521d85b",
   "metadata": {},
   "outputs": [
    {
     "name": "stderr",
     "output_type": "stream",
     "text": [
      "\r",
      "  0%|                                                                                                                                                         | 0/20 [00:00<?, ?it/s]"
     ]
    },
    {
     "name": "stdout",
     "output_type": "stream",
     "text": [
      "01_test\n",
      "(640, 640, 3) (584, 565)\n",
      "(584, 565)\n",
      "results\\01_testTest.png\n"
     ]
    },
    {
     "name": "stderr",
     "output_type": "stream",
     "text": [
      "\r",
      "  5%|███████▎                                                                                                                                         | 1/20 [00:02<00:46,  2.45s/it]"
     ]
    },
    {
     "name": "stdout",
     "output_type": "stream",
     "text": [
      "02_test\n",
      "(640, 640, 3) (584, 565)\n",
      "(584, 565)\n",
      "results\\02_testTest.png\n"
     ]
    },
    {
     "name": "stderr",
     "output_type": "stream",
     "text": [
      "\r",
      " 10%|██████████████▌                                                                                                                                  | 2/20 [00:04<00:43,  2.39s/it]"
     ]
    },
    {
     "name": "stdout",
     "output_type": "stream",
     "text": [
      "03_test\n",
      "(640, 640, 3) (584, 565)\n",
      "(584, 565)\n",
      "results\\03_testTest.png\n"
     ]
    },
    {
     "name": "stderr",
     "output_type": "stream",
     "text": [
      "\r",
      " 15%|█████████████████████▊                                                                                                                           | 3/20 [00:07<00:39,  2.34s/it]"
     ]
    },
    {
     "name": "stdout",
     "output_type": "stream",
     "text": [
      "04_test\n",
      "(640, 640, 3) (584, 565)\n",
      "(584, 565)\n",
      "results\\04_testTest.png\n"
     ]
    },
    {
     "name": "stderr",
     "output_type": "stream",
     "text": [
      "\r",
      " 20%|█████████████████████████████                                                                                                                    | 4/20 [00:09<00:38,  2.38s/it]"
     ]
    },
    {
     "name": "stdout",
     "output_type": "stream",
     "text": [
      "05_test\n",
      "(640, 640, 3) (584, 565)\n",
      "(584, 565)\n",
      "results\\05_testTest.png\n"
     ]
    },
    {
     "name": "stderr",
     "output_type": "stream",
     "text": [
      "\r",
      " 25%|████████████████████████████████████▎                                                                                                            | 5/20 [00:12<00:36,  2.45s/it]"
     ]
    },
    {
     "name": "stdout",
     "output_type": "stream",
     "text": [
      "06_test\n",
      "(640, 640, 3) (584, 565)\n",
      "(584, 565)\n",
      "results\\06_testTest.png\n"
     ]
    },
    {
     "name": "stderr",
     "output_type": "stream",
     "text": [
      "\r",
      " 30%|███████████████████████████████████████████▌                                                                                                     | 6/20 [00:14<00:34,  2.44s/it]"
     ]
    },
    {
     "name": "stdout",
     "output_type": "stream",
     "text": [
      "07_test\n",
      "(640, 640, 3) (584, 565)\n",
      "(584, 565)\n",
      "results\\07_testTest.png\n"
     ]
    },
    {
     "name": "stderr",
     "output_type": "stream",
     "text": [
      "\r",
      " 35%|██████████████████████████████████████████████████▊                                                                                              | 7/20 [00:16<00:31,  2.39s/it]"
     ]
    },
    {
     "name": "stdout",
     "output_type": "stream",
     "text": [
      "08_test\n",
      "(640, 640, 3) (584, 565)\n",
      "(584, 565)\n",
      "results\\08_testTest.png\n"
     ]
    },
    {
     "name": "stderr",
     "output_type": "stream",
     "text": [
      "\r",
      " 40%|██████████████████████████████████████████████████████████                                                                                       | 8/20 [00:19<00:28,  2.34s/it]"
     ]
    },
    {
     "name": "stdout",
     "output_type": "stream",
     "text": [
      "09_test\n",
      "(640, 640, 3) (584, 565)\n",
      "(584, 565)\n",
      "results\\09_testTest.png\n"
     ]
    },
    {
     "name": "stderr",
     "output_type": "stream",
     "text": [
      "\r",
      " 45%|█████████████████████████████████████████████████████████████████▎                                                                               | 9/20 [00:21<00:25,  2.31s/it]"
     ]
    },
    {
     "name": "stdout",
     "output_type": "stream",
     "text": [
      "10_test\n",
      "(640, 640, 3) (584, 565)\n",
      "(584, 565)\n",
      "results\\10_testTest.png\n"
     ]
    },
    {
     "name": "stderr",
     "output_type": "stream",
     "text": [
      "\r",
      " 50%|████████████████████████████████████████████████████████████████████████                                                                        | 10/20 [00:23<00:22,  2.30s/it]"
     ]
    },
    {
     "name": "stdout",
     "output_type": "stream",
     "text": [
      "11_test\n",
      "(640, 640, 3) (584, 565)\n",
      "(584, 565)\n",
      "results\\11_testTest.png\n"
     ]
    },
    {
     "name": "stderr",
     "output_type": "stream",
     "text": [
      "\r",
      " 55%|███████████████████████████████████████████████████████████████████████████████▏                                                                | 11/20 [00:25<00:20,  2.25s/it]"
     ]
    },
    {
     "name": "stdout",
     "output_type": "stream",
     "text": [
      "12_test\n",
      "(640, 640, 3) (584, 565)\n",
      "(584, 565)\n",
      "results\\12_testTest.png\n"
     ]
    },
    {
     "name": "stderr",
     "output_type": "stream",
     "text": [
      "\r",
      " 60%|██████████████████████████████████████████████████████████████████████████████████████▍                                                         | 12/20 [00:27<00:17,  2.22s/it]"
     ]
    },
    {
     "name": "stdout",
     "output_type": "stream",
     "text": [
      "13_test\n",
      "(640, 640, 3) (584, 565)\n",
      "(584, 565)\n",
      "results\\13_testTest.png\n"
     ]
    },
    {
     "name": "stderr",
     "output_type": "stream",
     "text": [
      "\r",
      " 65%|█████████████████████████████████████████████████████████████████████████████████████████████▌                                                  | 13/20 [00:30<00:15,  2.21s/it]"
     ]
    },
    {
     "name": "stdout",
     "output_type": "stream",
     "text": [
      "14_test\n",
      "(640, 640, 3) (584, 565)\n",
      "(584, 565)\n",
      "results\\14_testTest.png\n"
     ]
    },
    {
     "name": "stderr",
     "output_type": "stream",
     "text": [
      "\r",
      " 70%|████████████████████████████████████████████████████████████████████████████████████████████████████▊                                           | 14/20 [00:32<00:13,  2.24s/it]"
     ]
    },
    {
     "name": "stdout",
     "output_type": "stream",
     "text": [
      "15_test\n",
      "(640, 640, 3) (584, 565)\n",
      "(584, 565)\n",
      "results\\15_testTest.png\n"
     ]
    },
    {
     "name": "stderr",
     "output_type": "stream",
     "text": [
      "\r",
      " 75%|████████████████████████████████████████████████████████████████████████████████████████████████████████████                                    | 15/20 [00:34<00:11,  2.26s/it]"
     ]
    },
    {
     "name": "stdout",
     "output_type": "stream",
     "text": [
      "16_test\n",
      "(640, 640, 3) (584, 565)\n",
      "(584, 565)\n",
      "results\\16_testTest.png\n"
     ]
    },
    {
     "name": "stderr",
     "output_type": "stream",
     "text": [
      "\r",
      " 80%|███████████████████████████████████████████████████████████████████████████████████████████████████████████████████▏                            | 16/20 [00:37<00:09,  2.32s/it]"
     ]
    },
    {
     "name": "stdout",
     "output_type": "stream",
     "text": [
      "17_test\n",
      "(640, 640, 3) (584, 565)\n",
      "(584, 565)\n",
      "results\\17_testTest.png\n"
     ]
    },
    {
     "name": "stderr",
     "output_type": "stream",
     "text": [
      "\r",
      " 85%|██████████████████████████████████████████████████████████████████████████████████████████████████████████████████████████▍                     | 17/20 [00:39<00:06,  2.33s/it]"
     ]
    },
    {
     "name": "stdout",
     "output_type": "stream",
     "text": [
      "18_test\n",
      "(640, 640, 3) (584, 565)\n",
      "(584, 565)\n",
      "results\\18_testTest.png\n"
     ]
    },
    {
     "name": "stderr",
     "output_type": "stream",
     "text": [
      "\r",
      " 90%|█████████████████████████████████████████████████████████████████████████████████████████████████████████████████████████████████▌              | 18/20 [00:42<00:04,  2.41s/it]"
     ]
    },
    {
     "name": "stdout",
     "output_type": "stream",
     "text": [
      "19_test\n",
      "(640, 640, 3) (584, 565)\n",
      "(584, 565)\n",
      "results\\19_testTest.png\n"
     ]
    },
    {
     "name": "stderr",
     "output_type": "stream",
     "text": [
      "\r",
      " 95%|████████████████████████████████████████████████████████████████████████████████████████████████████████████████████████████████████████▊       | 19/20 [00:44<00:02,  2.42s/it]"
     ]
    },
    {
     "name": "stdout",
     "output_type": "stream",
     "text": [
      "20_test\n",
      "(640, 640, 3) (584, 565)\n",
      "(584, 565)\n",
      "results\\20_testTest.png\n"
     ]
    },
    {
     "name": "stderr",
     "output_type": "stream",
     "text": [
      "100%|████████████████████████████████████████████████████████████████████████████████████████████████████████████████████████████████████████████████| 20/20 [00:46<00:00,  2.34s/it]\n"
     ]
    }
   ],
   "source": [
    "\"\"\" Make the prediction and calculate the metrics values \"\"\"\n",
    "SCORE = []\n",
    "\n",
    "for x, y in tqdm(zip(test_x, test_y), total=len(test_x)):\n",
    "    \n",
    "    \"\"\" Extracting name \"\"\"\n",
    "    name = x.split(\"\\\\\")[-1].split(\".\")[0]\n",
    "    print(name)\n",
    "    \"\"\" Read the image and mask \"\"\"\n",
    "    ori_x, x = read_image(x)\n",
    "    ori_y, y = read_gt(y)\n",
    "    \n",
    "    print(ori_x.shape, ori_y.shape)\n",
    "    \n",
    "    patches_img = patchify(x, (128, 128,3), step=128)\n",
    "    \n",
    "    pred_patches = []\n",
    "    for i in range(patches_img.shape[0]):\n",
    "        for j in range(patches_img.shape[1]):        \n",
    "            single_patch_img = patches_img[i,j,:,:][0]\n",
    "#             print(single_patch_img.shape)\n",
    "            \n",
    "            \"\"\" Prediction \"\"\"\n",
    "            y_pred = model.predict(np.expand_dims(single_patch_img, axis=0))[0]\n",
    "            y_pred = y_pred > 0.5\n",
    "            y_pred = y_pred.astype(np.int32)\n",
    "            y_pred = np.squeeze(y_pred, axis=-1)\n",
    "            \n",
    "            pred_patches.append(y_pred)\n",
    "    pred_patches_reshaped = np.reshape(pred_patches, (5, 5, 128,128) )\n",
    "    reconstructed_image = unpatchify(pred_patches_reshaped, (640,640))\n",
    "    \n",
    "    final_y_pred = reconstructed_image[28:-28,37:-38]\n",
    "    print(final_y_pred.shape)\n",
    "#     plt.imshow(final_y_pred, cmap='gray')\n",
    "    \n",
    "    \n",
    "    \"\"\" Saving the images \"\"\"\n",
    "    save_image_path = f\"results\\\\{name}Test.png\"\n",
    "    print(save_image_path)\n",
    "\n",
    "    save_results(ori_x, ori_y, final_y_pred, save_image_path)\n",
    "\n",
    "    \"\"\" Flatten the array \"\"\"\n",
    "    y = y.flatten()\n",
    "    final_y_pred = final_y_pred.flatten()\n",
    "\n",
    "    \"\"\" Calculate the metrics \"\"\"\n",
    "    acc_value = accuracy_score(y, final_y_pred)\n",
    "    f1_value = f1_score(y, final_y_pred, labels=[0, 1], average=\"binary\")\n",
    "    jac_value = jaccard_score(y, final_y_pred, labels=[0, 1], average=\"binary\")\n",
    "    recall_value = recall_score(y, final_y_pred, labels=[0, 1], average=\"binary\")\n",
    "    precision_value = precision_score(y, final_y_pred, labels=[0, 1], average=\"binary\")\n",
    "    \n",
    "    cm = confusion_matrix(y, final_y_pred)\n",
    "    sensitivity, specificity = get_metrics(cm)\n",
    "    \n",
    "    SCORE.append([name, acc_value, f1_value, jac_value, recall_value, precision_value, sensitivity, specificity])"
   ]
  },
  {
   "cell_type": "code",
   "execution_count": 71,
   "id": "cc569d48",
   "metadata": {},
   "outputs": [
    {
     "name": "stdout",
     "output_type": "stream",
     "text": [
      "Accuracy: 0.96132\n",
      "F1: 0.75469\n",
      "Jaccard: 0.60737\n",
      "Recall: 0.68698\n",
      "Precision: 0.84580\n",
      "Sensitivity: 0.68698\n",
      "Specificity: 0.98789\n"
     ]
    }
   ],
   "source": [
    "score = [s[1:] for s in SCORE]\n",
    "score = np.mean(score, axis=0)\n",
    "print(f\"Accuracy: {score[0]:0.5f}\")\n",
    "print(f\"F1: {score[1]:0.5f}\")\n",
    "print(f\"Jaccard: {score[2]:0.5f}\")\n",
    "print(f\"Recall: {score[3]:0.5f}\")\n",
    "print(f\"Precision: {score[4]:0.5f}\")\n",
    "print(f\"Sensitivity: {score[5]:0.5f}\")\n",
    "print(f\"Specificity: {score[6]:0.5f}\")"
   ]
  },
  {
   "cell_type": "code",
   "execution_count": 72,
   "id": "0da47f55",
   "metadata": {},
   "outputs": [
    {
     "data": {
      "text/html": [
       "<div>\n",
       "<style scoped>\n",
       "    .dataframe tbody tr th:only-of-type {\n",
       "        vertical-align: middle;\n",
       "    }\n",
       "\n",
       "    .dataframe tbody tr th {\n",
       "        vertical-align: top;\n",
       "    }\n",
       "\n",
       "    .dataframe thead th {\n",
       "        text-align: right;\n",
       "    }\n",
       "</style>\n",
       "<table border=\"1\" class=\"dataframe\">\n",
       "  <thead>\n",
       "    <tr style=\"text-align: right;\">\n",
       "      <th></th>\n",
       "      <th>Image</th>\n",
       "      <th>Acc</th>\n",
       "      <th>F1</th>\n",
       "      <th>Jaccard</th>\n",
       "      <th>Recall</th>\n",
       "      <th>Precision</th>\n",
       "      <th>Sensitivity</th>\n",
       "      <th>Specificity</th>\n",
       "    </tr>\n",
       "  </thead>\n",
       "  <tbody>\n",
       "    <tr>\n",
       "      <th>0</th>\n",
       "      <td>01_test</td>\n",
       "      <td>0.963890</td>\n",
       "      <td>0.793153</td>\n",
       "      <td>0.657211</td>\n",
       "      <td>0.775951</td>\n",
       "      <td>0.811135</td>\n",
       "      <td>0.775951</td>\n",
       "      <td>0.982301</td>\n",
       "    </tr>\n",
       "    <tr>\n",
       "      <th>1</th>\n",
       "      <td>02_test</td>\n",
       "      <td>0.961332</td>\n",
       "      <td>0.793667</td>\n",
       "      <td>0.657917</td>\n",
       "      <td>0.726221</td>\n",
       "      <td>0.874924</td>\n",
       "      <td>0.726221</td>\n",
       "      <td>0.988155</td>\n",
       "    </tr>\n",
       "    <tr>\n",
       "      <th>2</th>\n",
       "      <td>03_test</td>\n",
       "      <td>0.948482</td>\n",
       "      <td>0.682196</td>\n",
       "      <td>0.517677</td>\n",
       "      <td>0.554677</td>\n",
       "      <td>0.885852</td>\n",
       "      <td>0.554677</td>\n",
       "      <td>0.992086</td>\n",
       "    </tr>\n",
       "    <tr>\n",
       "      <th>3</th>\n",
       "      <td>04_test</td>\n",
       "      <td>0.962641</td>\n",
       "      <td>0.777543</td>\n",
       "      <td>0.636050</td>\n",
       "      <td>0.709725</td>\n",
       "      <td>0.859691</td>\n",
       "      <td>0.709725</td>\n",
       "      <td>0.988265</td>\n",
       "    </tr>\n",
       "    <tr>\n",
       "      <th>4</th>\n",
       "      <td>05_test</td>\n",
       "      <td>0.957174</td>\n",
       "      <td>0.725670</td>\n",
       "      <td>0.569452</td>\n",
       "      <td>0.604620</td>\n",
       "      <td>0.907326</td>\n",
       "      <td>0.604620</td>\n",
       "      <td>0.993616</td>\n",
       "    </tr>\n",
       "    <tr>\n",
       "      <th>5</th>\n",
       "      <td>06_test</td>\n",
       "      <td>0.954964</td>\n",
       "      <td>0.723935</td>\n",
       "      <td>0.567319</td>\n",
       "      <td>0.606676</td>\n",
       "      <td>0.897384</td>\n",
       "      <td>0.606676</td>\n",
       "      <td>0.992520</td>\n",
       "    </tr>\n",
       "    <tr>\n",
       "      <th>6</th>\n",
       "      <td>07_test</td>\n",
       "      <td>0.959550</td>\n",
       "      <td>0.753732</td>\n",
       "      <td>0.604791</td>\n",
       "      <td>0.677401</td>\n",
       "      <td>0.849449</td>\n",
       "      <td>0.677401</td>\n",
       "      <td>0.987926</td>\n",
       "    </tr>\n",
       "    <tr>\n",
       "      <th>7</th>\n",
       "      <td>08_test</td>\n",
       "      <td>0.955358</td>\n",
       "      <td>0.694373</td>\n",
       "      <td>0.531831</td>\n",
       "      <td>0.589418</td>\n",
       "      <td>0.844802</td>\n",
       "      <td>0.589418</td>\n",
       "      <td>0.989807</td>\n",
       "    </tr>\n",
       "    <tr>\n",
       "      <th>8</th>\n",
       "      <td>09_test</td>\n",
       "      <td>0.959368</td>\n",
       "      <td>0.698292</td>\n",
       "      <td>0.536443</td>\n",
       "      <td>0.580195</td>\n",
       "      <td>0.876752</td>\n",
       "      <td>0.580195</td>\n",
       "      <td>0.992807</td>\n",
       "    </tr>\n",
       "    <tr>\n",
       "      <th>9</th>\n",
       "      <td>10_test</td>\n",
       "      <td>0.963550</td>\n",
       "      <td>0.759185</td>\n",
       "      <td>0.611844</td>\n",
       "      <td>0.698115</td>\n",
       "      <td>0.831966</td>\n",
       "      <td>0.698115</td>\n",
       "      <td>0.987355</td>\n",
       "    </tr>\n",
       "    <tr>\n",
       "      <th>10</th>\n",
       "      <td>11_test</td>\n",
       "      <td>0.960465</td>\n",
       "      <td>0.764773</td>\n",
       "      <td>0.619135</td>\n",
       "      <td>0.717898</td>\n",
       "      <td>0.818196</td>\n",
       "      <td>0.717898</td>\n",
       "      <td>0.984315</td>\n",
       "    </tr>\n",
       "    <tr>\n",
       "      <th>11</th>\n",
       "      <td>12_test</td>\n",
       "      <td>0.962305</td>\n",
       "      <td>0.759550</td>\n",
       "      <td>0.612318</td>\n",
       "      <td>0.689540</td>\n",
       "      <td>0.845383</td>\n",
       "      <td>0.689540</td>\n",
       "      <td>0.988082</td>\n",
       "    </tr>\n",
       "    <tr>\n",
       "      <th>12</th>\n",
       "      <td>13_test</td>\n",
       "      <td>0.956907</td>\n",
       "      <td>0.751975</td>\n",
       "      <td>0.602533</td>\n",
       "      <td>0.668186</td>\n",
       "      <td>0.859793</td>\n",
       "      <td>0.668186</td>\n",
       "      <td>0.988193</td>\n",
       "    </tr>\n",
       "    <tr>\n",
       "      <th>13</th>\n",
       "      <td>14_test</td>\n",
       "      <td>0.963559</td>\n",
       "      <td>0.762634</td>\n",
       "      <td>0.616337</td>\n",
       "      <td>0.724069</td>\n",
       "      <td>0.805538</td>\n",
       "      <td>0.724069</td>\n",
       "      <td>0.984625</td>\n",
       "    </tr>\n",
       "    <tr>\n",
       "      <th>14</th>\n",
       "      <td>15_test</td>\n",
       "      <td>0.964287</td>\n",
       "      <td>0.743748</td>\n",
       "      <td>0.592037</td>\n",
       "      <td>0.724189</td>\n",
       "      <td>0.764393</td>\n",
       "      <td>0.724189</td>\n",
       "      <td>0.982794</td>\n",
       "    </tr>\n",
       "    <tr>\n",
       "      <th>15</th>\n",
       "      <td>16_test</td>\n",
       "      <td>0.965996</td>\n",
       "      <td>0.795554</td>\n",
       "      <td>0.660514</td>\n",
       "      <td>0.732772</td>\n",
       "      <td>0.870102</td>\n",
       "      <td>0.732772</td>\n",
       "      <td>0.989143</td>\n",
       "    </tr>\n",
       "    <tr>\n",
       "      <th>16</th>\n",
       "      <td>17_test</td>\n",
       "      <td>0.960386</td>\n",
       "      <td>0.727988</td>\n",
       "      <td>0.572312</td>\n",
       "      <td>0.627998</td>\n",
       "      <td>0.865848</td>\n",
       "      <td>0.627998</td>\n",
       "      <td>0.991030</td>\n",
       "    </tr>\n",
       "    <tr>\n",
       "      <th>17</th>\n",
       "      <td>18_test</td>\n",
       "      <td>0.967678</td>\n",
       "      <td>0.785494</td>\n",
       "      <td>0.646761</td>\n",
       "      <td>0.746902</td>\n",
       "      <td>0.828293</td>\n",
       "      <td>0.746902</td>\n",
       "      <td>0.986676</td>\n",
       "    </tr>\n",
       "    <tr>\n",
       "      <th>18</th>\n",
       "      <td>19_test</td>\n",
       "      <td>0.969766</td>\n",
       "      <td>0.821455</td>\n",
       "      <td>0.697008</td>\n",
       "      <td>0.838442</td>\n",
       "      <td>0.805143</td>\n",
       "      <td>0.838442</td>\n",
       "      <td>0.981645</td>\n",
       "    </tr>\n",
       "    <tr>\n",
       "      <th>19</th>\n",
       "      <td>20_test</td>\n",
       "      <td>0.968827</td>\n",
       "      <td>0.778900</td>\n",
       "      <td>0.637868</td>\n",
       "      <td>0.746672</td>\n",
       "      <td>0.814036</td>\n",
       "      <td>0.746672</td>\n",
       "      <td>0.986460</td>\n",
       "    </tr>\n",
       "  </tbody>\n",
       "</table>\n",
       "</div>"
      ],
      "text/plain": [
       "      Image       Acc        F1   Jaccard    Recall  Precision  Sensitivity  \\\n",
       "0   01_test  0.963890  0.793153  0.657211  0.775951   0.811135     0.775951   \n",
       "1   02_test  0.961332  0.793667  0.657917  0.726221   0.874924     0.726221   \n",
       "2   03_test  0.948482  0.682196  0.517677  0.554677   0.885852     0.554677   \n",
       "3   04_test  0.962641  0.777543  0.636050  0.709725   0.859691     0.709725   \n",
       "4   05_test  0.957174  0.725670  0.569452  0.604620   0.907326     0.604620   \n",
       "5   06_test  0.954964  0.723935  0.567319  0.606676   0.897384     0.606676   \n",
       "6   07_test  0.959550  0.753732  0.604791  0.677401   0.849449     0.677401   \n",
       "7   08_test  0.955358  0.694373  0.531831  0.589418   0.844802     0.589418   \n",
       "8   09_test  0.959368  0.698292  0.536443  0.580195   0.876752     0.580195   \n",
       "9   10_test  0.963550  0.759185  0.611844  0.698115   0.831966     0.698115   \n",
       "10  11_test  0.960465  0.764773  0.619135  0.717898   0.818196     0.717898   \n",
       "11  12_test  0.962305  0.759550  0.612318  0.689540   0.845383     0.689540   \n",
       "12  13_test  0.956907  0.751975  0.602533  0.668186   0.859793     0.668186   \n",
       "13  14_test  0.963559  0.762634  0.616337  0.724069   0.805538     0.724069   \n",
       "14  15_test  0.964287  0.743748  0.592037  0.724189   0.764393     0.724189   \n",
       "15  16_test  0.965996  0.795554  0.660514  0.732772   0.870102     0.732772   \n",
       "16  17_test  0.960386  0.727988  0.572312  0.627998   0.865848     0.627998   \n",
       "17  18_test  0.967678  0.785494  0.646761  0.746902   0.828293     0.746902   \n",
       "18  19_test  0.969766  0.821455  0.697008  0.838442   0.805143     0.838442   \n",
       "19  20_test  0.968827  0.778900  0.637868  0.746672   0.814036     0.746672   \n",
       "\n",
       "    Specificity  \n",
       "0      0.982301  \n",
       "1      0.988155  \n",
       "2      0.992086  \n",
       "3      0.988265  \n",
       "4      0.993616  \n",
       "5      0.992520  \n",
       "6      0.987926  \n",
       "7      0.989807  \n",
       "8      0.992807  \n",
       "9      0.987355  \n",
       "10     0.984315  \n",
       "11     0.988082  \n",
       "12     0.988193  \n",
       "13     0.984625  \n",
       "14     0.982794  \n",
       "15     0.989143  \n",
       "16     0.991030  \n",
       "17     0.986676  \n",
       "18     0.981645  \n",
       "19     0.986460  "
      ]
     },
     "execution_count": 72,
     "metadata": {},
     "output_type": "execute_result"
    }
   ],
   "source": [
    "test_df = pd.DataFrame(SCORE, columns=[\"Image\", \"Acc\", \"F1\", \"Jaccard\", \"Recall\", \"Precision\", \"Sensitivity\", \"Specificity\"])\n",
    "test_df"
   ]
  },
  {
   "cell_type": "code",
   "execution_count": 73,
   "id": "44fc3705",
   "metadata": {},
   "outputs": [
    {
     "data": {
      "text/plain": [
       "[None,\n",
       " None,\n",
       " None,\n",
       " None,\n",
       " None,\n",
       " None,\n",
       " None,\n",
       " None,\n",
       " None,\n",
       " None,\n",
       " None,\n",
       " None,\n",
       " None,\n",
       " None,\n",
       " None,\n",
       " None,\n",
       " None,\n",
       " None,\n",
       " None,\n",
       " None,\n",
       " None,\n",
       " None,\n",
       " None,\n",
       " None,\n",
       " None,\n",
       " None,\n",
       " None,\n",
       " None,\n",
       " None,\n",
       " None,\n",
       " None,\n",
       " None,\n",
       " None,\n",
       " None,\n",
       " None,\n",
       " None,\n",
       " None,\n",
       " None,\n",
       " None,\n",
       " None]"
      ]
     },
     "execution_count": 73,
     "metadata": {},
     "output_type": "execute_result"
    },
    {
     "data": {
      "image/png": "[encoded data removed]",
      "text/plain": [
       "<Figure size 1440x720 with 1 Axes>"
      ]
     },
     "metadata": {},
     "output_type": "display_data"
    }
   ],
   "source": [
    "plt.figure(figsize=(20, 10))\n",
    "sns.set_style(\"darkgrid\")\n",
    "ax = sns.lineplot(data=test_df, x=\"Image\", y=\"F1\", marker = \"o\")\n",
    "ax.axhline(test_df[\"F1\"].mean(), color=\"orange\", linestyle=\"--\")\n",
    "ax.set(xlabel=\"X Label\", ylabel = \"F1\")\n",
    "plt.setp(ax.get_xticklabels(), rotation=90)\n"
   ]
  },
  {
   "cell_type": "code",
   "execution_count": 74,
   "id": "3143ac53",
   "metadata": {},
   "outputs": [
    {
     "data": {
      "text/html": [
       "<div>\n",
       "<style scoped>\n",
       "    .dataframe tbody tr th:only-of-type {\n",
       "        vertical-align: middle;\n",
       "    }\n",
       "\n",
       "    .dataframe tbody tr th {\n",
       "        vertical-align: top;\n",
       "    }\n",
       "\n",
       "    .dataframe thead th {\n",
       "        text-align: right;\n",
       "    }\n",
       "</style>\n",
       "<table border=\"1\" class=\"dataframe\">\n",
       "  <thead>\n",
       "    <tr style=\"text-align: right;\">\n",
       "      <th></th>\n",
       "      <th>Metrics</th>\n",
       "      <th>Model_128_vanilla</th>\n",
       "    </tr>\n",
       "  </thead>\n",
       "  <tbody>\n",
       "    <tr>\n",
       "      <th>0</th>\n",
       "      <td>Accuracy</td>\n",
       "      <td>0.961324</td>\n",
       "    </tr>\n",
       "    <tr>\n",
       "      <th>1</th>\n",
       "      <td>F1</td>\n",
       "      <td>0.754691</td>\n",
       "    </tr>\n",
       "    <tr>\n",
       "      <th>2</th>\n",
       "      <td>Jaccard</td>\n",
       "      <td>0.607368</td>\n",
       "    </tr>\n",
       "    <tr>\n",
       "      <th>3</th>\n",
       "      <td>Recall</td>\n",
       "      <td>0.686983</td>\n",
       "    </tr>\n",
       "    <tr>\n",
       "      <th>4</th>\n",
       "      <td>Precision</td>\n",
       "      <td>0.845800</td>\n",
       "    </tr>\n",
       "    <tr>\n",
       "      <th>5</th>\n",
       "      <td>Sensitivity</td>\n",
       "      <td>0.686983</td>\n",
       "    </tr>\n",
       "    <tr>\n",
       "      <th>6</th>\n",
       "      <td>Specificity</td>\n",
       "      <td>0.987890</td>\n",
       "    </tr>\n",
       "  </tbody>\n",
       "</table>\n",
       "</div>"
      ],
      "text/plain": [
       "       Metrics  Model_128_vanilla\n",
       "0     Accuracy           0.961324\n",
       "1           F1           0.754691\n",
       "2      Jaccard           0.607368\n",
       "3       Recall           0.686983\n",
       "4    Precision           0.845800\n",
       "5  Sensitivity           0.686983\n",
       "6  Specificity           0.987890"
      ]
     },
     "execution_count": 74,
     "metadata": {},
     "output_type": "execute_result"
    }
   ],
   "source": [
    "df = pd.DataFrame(\n",
    "    {'Metrics': rows,\n",
    "     'Model_128_basic': score,\n",
    "    })\n",
    "df"
   ]
  },
  {
   "cell_type": "code",
   "execution_count": 75,
   "id": "eca468bd",
   "metadata": {},
   "outputs": [],
   "source": [
    "\"\"\" Saving \"\"\"\n",
    "df.to_csv(\"score/test.csv\", index=False)"
   ]
  },
  {
   "cell_type": "code",
   "execution_count": null,
   "id": "d9fce5ae",
   "metadata": {},
   "outputs": [],
   "source": []
  },
  {
   "cell_type": "code",
   "execution_count": null,
   "id": "5d885ad2",
   "metadata": {},
   "outputs": [],
   "source": []
  }
 ],
 "metadata": {
  "kernelspec": {
   "display_name": "Python 3 (vanilla)",
   "language": "python",
   "name": "vanilla"
  },
  "language_info": {
   "codemirror_mode": {
    "name": "ipython",
    "version": 3
   },
   "file_extension": ".py",
   "mimetype": "text/x-python",
   "name": "python",
   "nbconvert_exporter": "python",
   "pygments_lexer": "ipython3",
   "version": "3.9.5"
  },
  "toc": {
   "base_numbering": 1,
   "nav_menu": {},
   "number_sections": true,
   "sideBar": true,
   "skip_h1_title": false,
   "title_cell": "Table of Contents",
   "title_sidebar": "Contents",
   "toc_cell": false,
   "toc_position": {},
   "toc_section_display": true,
   "toc_window_display": true
  },
  "varInspector": {
   "cols": {
    "lenName": 16,
    "lenType": 16,
    "lenVar": 40
   },
   "kernels_config": {
    "python": {
     "delete_cmd_postfix": "",
     "delete_cmd_prefix": "del ",
     "library": "var_list.py",
     "varRefreshCmd": "print(var_dic_list())"
    },
    "r": {
     "delete_cmd_postfix": ") ",
     "delete_cmd_prefix": "rm(",
     "library": "var_list.r",
     "varRefreshCmd": "cat(var_dic_list()) "
    }
   },
   "types_to_exclude": [
    "module",
    "function",
    "builtin_function_or_method",
    "instance",
    "_Feature"
   ],
   "window_display": false
  }
 },
 "nbformat": 4,
 "nbformat_minor": 5
}
