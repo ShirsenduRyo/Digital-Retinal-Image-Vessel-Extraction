{
  "nbformat": 4,
  "nbformat_minor": 0,
  "metadata": {
    "colab": {
      "name": "training_basic.ipynb",
      "provenance": [],
      "collapsed_sections": [],
      "machine_shape": "hm"
    },
    "kernelspec": {
      "name": "python3",
      "display_name": "Python 3"
    },
    "language_info": {
      "name": "python"
    },
    "accelerator": "GPU"
  },
  "cells": [
    {
      "cell_type": "markdown",
      "metadata": {
        "id": "ziqto0xjM-IA"
      },
      "source": [
        "# 1. Importing Packages"
      ]
    },
    {
      "cell_type": "code",
      "metadata": {
        "id": "Z3M77jELFX4M"
      },
      "source": [
        "import os\n",
        "import numpy as np\n",
        "import cv2\n",
        "from glob import glob\n",
        "from sklearn.utils import shuffle\n",
        "import tensorflow as tf\n",
        "from tensorflow.keras.callbacks import ModelCheckpoint, CSVLogger, ReduceLROnPlateau, EarlyStopping, TensorBoard\n",
        "from tensorflow.keras.optimizers import Adam\n",
        "from tensorflow.keras.metrics import Recall, Precision"
      ],
      "execution_count": 23,
      "outputs": []
    },
    {
      "cell_type": "code",
      "metadata": {
        "id": "ZH124OlzNMLR"
      },
      "source": [
        "\n",
        "#Upload The Following Files\n",
        "from unet import build_unet\n",
        "from customMetrics import dice_loss, dice_coef, iou"
      ],
      "execution_count": 24,
      "outputs": []
    },
    {
      "cell_type": "markdown",
      "metadata": {
        "id": "U84izwAcaLcv"
      },
      "source": [
        "# 2. Setting The Environment"
      ]
    },
    {
      "cell_type": "code",
      "metadata": {
        "id": "XQFp4aUnaIH8"
      },
      "source": [
        "H = 128\n",
        "W = 128"
      ],
      "execution_count": 25,
      "outputs": []
    },
    {
      "cell_type": "code",
      "metadata": {
        "id": "dq1jzO6daXQP"
      },
      "source": [
        "\"\"\" Seeding \"\"\"\n",
        "np.random.seed(42)\n",
        "tf.random.set_seed(42)\n",
        "\n",
        "\"\"\" Hyperparameters \"\"\"\n",
        "batch_size = 64\n",
        "\n",
        "lr = 1e-4\n",
        "num_epochs = 100\n",
        "model_path = os.path.join(\"/content/files128\", \"model128_basic.h5\")\n",
        "csv_path = os.path.join(\"/content/files128\", \"data_basic.csv\")"
      ],
      "execution_count": 26,
      "outputs": []
    },
    {
      "cell_type": "code",
      "metadata": {
        "id": "t7gbo-Qzai0N"
      },
      "source": [
        "\"\"\" Dataset \"\"\"\n",
        "# Make The Folder and upload the data\n",
        "dataset_path = \"/content/drive/MyDrive/gamma_data_128\"\n",
        "train_path = os.path.join(dataset_path, \"train\")\n",
        "valid_path = os.path.join(dataset_path, \"valid\")"
      ],
      "execution_count": 27,
      "outputs": []
    },
    {
      "cell_type": "code",
      "metadata": {
        "id": "j7AUB3YFGa_w"
      },
      "source": [
        "!rm -rf files128"
      ],
      "execution_count": 31,
      "outputs": []
    },
    {
      "cell_type": "code",
      "metadata": {
        "id": "TNiiTylzlIcb"
      },
      "source": [
        "!rm -rf logs"
      ],
      "execution_count": 32,
      "outputs": []
    },
    {
      "cell_type": "code",
      "metadata": {
        "colab": {
          "base_uri": "https://localhost:8080/",
          "height": 35
        },
        "id": "ETQi-ANjiheD",
        "outputId": "e38d225b-5148-4120-a129-f85b19d0a3bd"
      },
      "source": [
        "pwd"
      ],
      "execution_count": 33,
      "outputs": [
        {
          "output_type": "execute_result",
          "data": {
            "application/vnd.google.colaboratory.intrinsic+json": {
              "type": "string"
            },
            "text/plain": [
              "'/content'"
            ]
          },
          "metadata": {},
          "execution_count": 33
        }
      ]
    },
    {
      "cell_type": "markdown",
      "metadata": {
        "id": "Z32w8ep9cqol"
      },
      "source": [
        "# 3. Utils Function"
      ]
    },
    {
      "cell_type": "code",
      "metadata": {
        "id": "7a-VMYDecnK1"
      },
      "source": [
        "def create_dir(path):\n",
        "    if not os.path.exists(path):\n",
        "        os.makedirs(path)"
      ],
      "execution_count": 34,
      "outputs": []
    },
    {
      "cell_type": "code",
      "metadata": {
        "id": "qDVLyv8scuPF"
      },
      "source": [
        "def load_data(path):\n",
        "    print(path)\n",
        "    x = sorted(glob(os.path.join(path, \"image\", \"*.jpg\")))\n",
        "    y = sorted(glob(os.path.join(path, \"gt\", \"*.jpg\")))\n",
        "    return x, y"
      ],
      "execution_count": 35,
      "outputs": []
    },
    {
      "cell_type": "code",
      "metadata": {
        "id": "z31CdxfYcyus"
      },
      "source": [
        "def read_image(path):\n",
        "    path = path.decode()\n",
        "    x = cv2.imread(path, cv2.IMREAD_COLOR)\n",
        "    # x = cv2.resize(x, (W, H))\n",
        "    x = x/255.0\n",
        "    x = x.astype(np.float32)\n",
        "    return x"
      ],
      "execution_count": 36,
      "outputs": []
    },
    {
      "cell_type": "code",
      "metadata": {
        "id": "ZoU5hmQYc2L4"
      },
      "source": [
        "def read_mask(path):\n",
        "    path = path.decode()\n",
        "    x = cv2.imread(path, cv2.IMREAD_GRAYSCALE)  ## (512, 512)\n",
        "    # x = cv2.resize(x, (W, H))\n",
        "    x = x/255.0\n",
        "    x = x.astype(np.float32)\n",
        "    x = np.expand_dims(x, axis=-1)              ## (512, 512, 1)\n",
        "    return x"
      ],
      "execution_count": 37,
      "outputs": []
    },
    {
      "cell_type": "code",
      "metadata": {
        "id": "BnL6LcR9c4cZ"
      },
      "source": [
        "def tf_parse(x, y):\n",
        "    def _parse(x, y):\n",
        "        x = read_image(x)\n",
        "        y = read_mask(y)\n",
        "        return x, y\n",
        "\n",
        "    x, y = tf.numpy_function(_parse, [x, y], [tf.float32, tf.float32])\n",
        "    x.set_shape([H, W, 3])\n",
        "    y.set_shape([H, W, 1])\n",
        "    return x, y"
      ],
      "execution_count": 38,
      "outputs": []
    },
    {
      "cell_type": "code",
      "metadata": {
        "id": "mjHjLumvc6Vj"
      },
      "source": [
        "def tf_dataset(X, Y, batch_size=2):\n",
        "    dataset = tf.data.Dataset.from_tensor_slices((X, Y))\n",
        "    dataset = dataset.map(tf_parse)\n",
        "    dataset = dataset.batch(batch_size)\n",
        "    dataset = dataset.prefetch(4)\n",
        "    return dataset"
      ],
      "execution_count": 39,
      "outputs": []
    },
    {
      "cell_type": "code",
      "metadata": {
        "colab": {
          "base_uri": "https://localhost:8080/"
        },
        "id": "z_B5xezic9Bv",
        "outputId": "1881a500-48ec-4086-f96e-148e669e6b00"
      },
      "source": [
        "train_x, train_y = load_data(train_path)\n",
        "valid_x, valid_y = load_data(valid_path)\n",
        "\n",
        "print(f\"Train: {len(train_x)} - {len(train_y)}\")\n",
        "print(f\"Valid: {len(valid_x)} - {len(valid_y)}\")"
      ],
      "execution_count": 40,
      "outputs": [
        {
          "output_type": "stream",
          "name": "stdout",
          "text": [
            "/content/drive/MyDrive/gamma_data_128/train\n",
            "/content/drive/MyDrive/gamma_data_128/valid\n",
            "Train: 1890 - 1890\n",
            "Valid: 630 - 630\n"
          ]
        }
      ]
    },
    {
      "cell_type": "code",
      "metadata": {
        "colab": {
          "base_uri": "https://localhost:8080/",
          "height": 35
        },
        "id": "FkyRmqFodVvJ",
        "outputId": "374ad306-252b-4995-f04a-82993469fa2e"
      },
      "source": [
        "pwd"
      ],
      "execution_count": 41,
      "outputs": [
        {
          "output_type": "execute_result",
          "data": {
            "application/vnd.google.colaboratory.intrinsic+json": {
              "type": "string"
            },
            "text/plain": [
              "'/content'"
            ]
          },
          "metadata": {},
          "execution_count": 41
        }
      ]
    },
    {
      "cell_type": "code",
      "metadata": {
        "id": "hYJ8qjTidB0R"
      },
      "source": [
        "create_dir(\"/content/files128\")"
      ],
      "execution_count": 42,
      "outputs": []
    },
    {
      "cell_type": "code",
      "metadata": {
        "id": "JaH4RU1adfMI"
      },
      "source": [
        "train_dataset = tf_dataset(train_x, train_y, batch_size=batch_size)\n",
        "valid_dataset = tf_dataset(valid_x, valid_y, batch_size=batch_size)\n",
        "\n",
        "train_steps = len(train_x)//batch_size\n",
        "valid_steps = len(valid_x)//batch_size\n",
        "\n",
        "if len(train_x) % batch_size != 0:\n",
        "    train_steps += 1\n",
        "if len(valid_x) % batch_size != 0:\n",
        "    valid_steps += 1"
      ],
      "execution_count": 43,
      "outputs": []
    },
    {
      "cell_type": "code",
      "metadata": {
        "id": "vUssNFeTduP4",
        "colab": {
          "base_uri": "https://localhost:8080/"
        },
        "outputId": "9beb661e-2c77-407d-e2be-2d9a5f26010a"
      },
      "source": [
        "train_steps, valid_steps"
      ],
      "execution_count": 44,
      "outputs": [
        {
          "output_type": "execute_result",
          "data": {
            "text/plain": [
              "(30, 10)"
            ]
          },
          "metadata": {},
          "execution_count": 44
        }
      ]
    },
    {
      "cell_type": "markdown",
      "metadata": {
        "id": "eFLAwjlqdzNj"
      },
      "source": [
        "# 4. The Model"
      ]
    },
    {
      "cell_type": "code",
      "metadata": {
        "colab": {
          "base_uri": "https://localhost:8080/"
        },
        "id": "Rqb2GcaTd1xq",
        "outputId": "aec184e9-e28e-4e8b-bb9e-e989beaaad15"
      },
      "source": [
        "\"\"\" Model \"\"\"\n",
        "model = build_unet((H, W, 3))\n",
        "model.compile(loss=\"binary_crossentropy\", optimizer=Adam(lr), metrics=[dice_coef, iou, Recall(), Precision()])\n",
        "model.summary()"
      ],
      "execution_count": 45,
      "outputs": [
        {
          "output_type": "stream",
          "name": "stdout",
          "text": [
            "Model: \"UNET\"\n",
            "__________________________________________________________________________________________________\n",
            "Layer (type)                    Output Shape         Param #     Connected to                     \n",
            "==================================================================================================\n",
            "input_2 (InputLayer)            [(None, 128, 128, 3) 0                                            \n",
            "__________________________________________________________________________________________________\n",
            "conv2d_19 (Conv2D)              (None, 128, 128, 64) 1792        input_2[0][0]                    \n",
            "__________________________________________________________________________________________________\n",
            "batch_normalization_18 (BatchNo (None, 128, 128, 64) 256         conv2d_19[0][0]                  \n",
            "__________________________________________________________________________________________________\n",
            "activation_18 (Activation)      (None, 128, 128, 64) 0           batch_normalization_18[0][0]     \n",
            "__________________________________________________________________________________________________\n",
            "conv2d_20 (Conv2D)              (None, 128, 128, 64) 36928       activation_18[0][0]              \n",
            "__________________________________________________________________________________________________\n",
            "batch_normalization_19 (BatchNo (None, 128, 128, 64) 256         conv2d_20[0][0]                  \n",
            "__________________________________________________________________________________________________\n",
            "activation_19 (Activation)      (None, 128, 128, 64) 0           batch_normalization_19[0][0]     \n",
            "__________________________________________________________________________________________________\n",
            "max_pooling2d_4 (MaxPooling2D)  (None, 64, 64, 64)   0           activation_19[0][0]              \n",
            "__________________________________________________________________________________________________\n",
            "conv2d_21 (Conv2D)              (None, 64, 64, 128)  73856       max_pooling2d_4[0][0]            \n",
            "__________________________________________________________________________________________________\n",
            "batch_normalization_20 (BatchNo (None, 64, 64, 128)  512         conv2d_21[0][0]                  \n",
            "__________________________________________________________________________________________________\n",
            "activation_20 (Activation)      (None, 64, 64, 128)  0           batch_normalization_20[0][0]     \n",
            "__________________________________________________________________________________________________\n",
            "conv2d_22 (Conv2D)              (None, 64, 64, 128)  147584      activation_20[0][0]              \n",
            "__________________________________________________________________________________________________\n",
            "batch_normalization_21 (BatchNo (None, 64, 64, 128)  512         conv2d_22[0][0]                  \n",
            "__________________________________________________________________________________________________\n",
            "activation_21 (Activation)      (None, 64, 64, 128)  0           batch_normalization_21[0][0]     \n",
            "__________________________________________________________________________________________________\n",
            "max_pooling2d_5 (MaxPooling2D)  (None, 32, 32, 128)  0           activation_21[0][0]              \n",
            "__________________________________________________________________________________________________\n",
            "conv2d_23 (Conv2D)              (None, 32, 32, 256)  295168      max_pooling2d_5[0][0]            \n",
            "__________________________________________________________________________________________________\n",
            "batch_normalization_22 (BatchNo (None, 32, 32, 256)  1024        conv2d_23[0][0]                  \n",
            "__________________________________________________________________________________________________\n",
            "activation_22 (Activation)      (None, 32, 32, 256)  0           batch_normalization_22[0][0]     \n",
            "__________________________________________________________________________________________________\n",
            "conv2d_24 (Conv2D)              (None, 32, 32, 256)  590080      activation_22[0][0]              \n",
            "__________________________________________________________________________________________________\n",
            "batch_normalization_23 (BatchNo (None, 32, 32, 256)  1024        conv2d_24[0][0]                  \n",
            "__________________________________________________________________________________________________\n",
            "activation_23 (Activation)      (None, 32, 32, 256)  0           batch_normalization_23[0][0]     \n",
            "__________________________________________________________________________________________________\n",
            "max_pooling2d_6 (MaxPooling2D)  (None, 16, 16, 256)  0           activation_23[0][0]              \n",
            "__________________________________________________________________________________________________\n",
            "conv2d_25 (Conv2D)              (None, 16, 16, 512)  1180160     max_pooling2d_6[0][0]            \n",
            "__________________________________________________________________________________________________\n",
            "batch_normalization_24 (BatchNo (None, 16, 16, 512)  2048        conv2d_25[0][0]                  \n",
            "__________________________________________________________________________________________________\n",
            "activation_24 (Activation)      (None, 16, 16, 512)  0           batch_normalization_24[0][0]     \n",
            "__________________________________________________________________________________________________\n",
            "conv2d_26 (Conv2D)              (None, 16, 16, 512)  2359808     activation_24[0][0]              \n",
            "__________________________________________________________________________________________________\n",
            "batch_normalization_25 (BatchNo (None, 16, 16, 512)  2048        conv2d_26[0][0]                  \n",
            "__________________________________________________________________________________________________\n",
            "activation_25 (Activation)      (None, 16, 16, 512)  0           batch_normalization_25[0][0]     \n",
            "__________________________________________________________________________________________________\n",
            "max_pooling2d_7 (MaxPooling2D)  (None, 8, 8, 512)    0           activation_25[0][0]              \n",
            "__________________________________________________________________________________________________\n",
            "conv2d_27 (Conv2D)              (None, 8, 8, 1024)   4719616     max_pooling2d_7[0][0]            \n",
            "__________________________________________________________________________________________________\n",
            "batch_normalization_26 (BatchNo (None, 8, 8, 1024)   4096        conv2d_27[0][0]                  \n",
            "__________________________________________________________________________________________________\n",
            "activation_26 (Activation)      (None, 8, 8, 1024)   0           batch_normalization_26[0][0]     \n",
            "__________________________________________________________________________________________________\n",
            "conv2d_28 (Conv2D)              (None, 8, 8, 1024)   9438208     activation_26[0][0]              \n",
            "__________________________________________________________________________________________________\n",
            "batch_normalization_27 (BatchNo (None, 8, 8, 1024)   4096        conv2d_28[0][0]                  \n",
            "__________________________________________________________________________________________________\n",
            "activation_27 (Activation)      (None, 8, 8, 1024)   0           batch_normalization_27[0][0]     \n",
            "__________________________________________________________________________________________________\n",
            "conv2d_transpose_4 (Conv2DTrans (None, 16, 16, 512)  2097664     activation_27[0][0]              \n",
            "__________________________________________________________________________________________________\n",
            "concatenate_4 (Concatenate)     (None, 16, 16, 1024) 0           conv2d_transpose_4[0][0]         \n",
            "                                                                 activation_25[0][0]              \n",
            "__________________________________________________________________________________________________\n",
            "conv2d_29 (Conv2D)              (None, 16, 16, 512)  4719104     concatenate_4[0][0]              \n",
            "__________________________________________________________________________________________________\n",
            "batch_normalization_28 (BatchNo (None, 16, 16, 512)  2048        conv2d_29[0][0]                  \n",
            "__________________________________________________________________________________________________\n",
            "activation_28 (Activation)      (None, 16, 16, 512)  0           batch_normalization_28[0][0]     \n",
            "__________________________________________________________________________________________________\n",
            "conv2d_30 (Conv2D)              (None, 16, 16, 512)  2359808     activation_28[0][0]              \n",
            "__________________________________________________________________________________________________\n",
            "batch_normalization_29 (BatchNo (None, 16, 16, 512)  2048        conv2d_30[0][0]                  \n",
            "__________________________________________________________________________________________________\n",
            "activation_29 (Activation)      (None, 16, 16, 512)  0           batch_normalization_29[0][0]     \n",
            "__________________________________________________________________________________________________\n",
            "conv2d_transpose_5 (Conv2DTrans (None, 32, 32, 256)  524544      activation_29[0][0]              \n",
            "__________________________________________________________________________________________________\n",
            "concatenate_5 (Concatenate)     (None, 32, 32, 512)  0           conv2d_transpose_5[0][0]         \n",
            "                                                                 activation_23[0][0]              \n",
            "__________________________________________________________________________________________________\n",
            "conv2d_31 (Conv2D)              (None, 32, 32, 256)  1179904     concatenate_5[0][0]              \n",
            "__________________________________________________________________________________________________\n",
            "batch_normalization_30 (BatchNo (None, 32, 32, 256)  1024        conv2d_31[0][0]                  \n",
            "__________________________________________________________________________________________________\n",
            "activation_30 (Activation)      (None, 32, 32, 256)  0           batch_normalization_30[0][0]     \n",
            "__________________________________________________________________________________________________\n",
            "conv2d_32 (Conv2D)              (None, 32, 32, 256)  590080      activation_30[0][0]              \n",
            "__________________________________________________________________________________________________\n",
            "batch_normalization_31 (BatchNo (None, 32, 32, 256)  1024        conv2d_32[0][0]                  \n",
            "__________________________________________________________________________________________________\n",
            "activation_31 (Activation)      (None, 32, 32, 256)  0           batch_normalization_31[0][0]     \n",
            "__________________________________________________________________________________________________\n",
            "conv2d_transpose_6 (Conv2DTrans (None, 64, 64, 128)  131200      activation_31[0][0]              \n",
            "__________________________________________________________________________________________________\n",
            "concatenate_6 (Concatenate)     (None, 64, 64, 256)  0           conv2d_transpose_6[0][0]         \n",
            "                                                                 activation_21[0][0]              \n",
            "__________________________________________________________________________________________________\n",
            "conv2d_33 (Conv2D)              (None, 64, 64, 128)  295040      concatenate_6[0][0]              \n",
            "__________________________________________________________________________________________________\n",
            "batch_normalization_32 (BatchNo (None, 64, 64, 128)  512         conv2d_33[0][0]                  \n",
            "__________________________________________________________________________________________________\n",
            "activation_32 (Activation)      (None, 64, 64, 128)  0           batch_normalization_32[0][0]     \n",
            "__________________________________________________________________________________________________\n",
            "conv2d_34 (Conv2D)              (None, 64, 64, 128)  147584      activation_32[0][0]              \n",
            "__________________________________________________________________________________________________\n",
            "batch_normalization_33 (BatchNo (None, 64, 64, 128)  512         conv2d_34[0][0]                  \n",
            "__________________________________________________________________________________________________\n",
            "activation_33 (Activation)      (None, 64, 64, 128)  0           batch_normalization_33[0][0]     \n",
            "__________________________________________________________________________________________________\n",
            "conv2d_transpose_7 (Conv2DTrans (None, 128, 128, 64) 32832       activation_33[0][0]              \n",
            "__________________________________________________________________________________________________\n",
            "concatenate_7 (Concatenate)     (None, 128, 128, 128 0           conv2d_transpose_7[0][0]         \n",
            "                                                                 activation_19[0][0]              \n",
            "__________________________________________________________________________________________________\n",
            "conv2d_35 (Conv2D)              (None, 128, 128, 64) 73792       concatenate_7[0][0]              \n",
            "__________________________________________________________________________________________________\n",
            "batch_normalization_34 (BatchNo (None, 128, 128, 64) 256         conv2d_35[0][0]                  \n",
            "__________________________________________________________________________________________________\n",
            "activation_34 (Activation)      (None, 128, 128, 64) 0           batch_normalization_34[0][0]     \n",
            "__________________________________________________________________________________________________\n",
            "conv2d_36 (Conv2D)              (None, 128, 128, 64) 36928       activation_34[0][0]              \n",
            "__________________________________________________________________________________________________\n",
            "batch_normalization_35 (BatchNo (None, 128, 128, 64) 256         conv2d_36[0][0]                  \n",
            "__________________________________________________________________________________________________\n",
            "activation_35 (Activation)      (None, 128, 128, 64) 0           batch_normalization_35[0][0]     \n",
            "__________________________________________________________________________________________________\n",
            "conv2d_37 (Conv2D)              (None, 128, 128, 1)  65          activation_35[0][0]              \n",
            "==================================================================================================\n",
            "Total params: 31,055,297\n",
            "Trainable params: 31,043,521\n",
            "Non-trainable params: 11,776\n",
            "__________________________________________________________________________________________________\n"
          ]
        }
      ]
    },
    {
      "cell_type": "code",
      "metadata": {
        "id": "11odaYbmd2gl"
      },
      "source": [
        "callbacks = [\n",
        "    ModelCheckpoint(model_path, verbose=1, save_best_only=True),\n",
        "    ReduceLROnPlateau(monitor=\"val_loss\", factor=0.1, patience=5, min_lr=1e-7, verbose=1),\n",
        "    CSVLogger(csv_path),\n",
        "    TensorBoard(),\n",
        "    EarlyStopping(monitor=\"val_loss\", patience=10, restore_best_weights=False)\n",
        "]"
      ],
      "execution_count": 46,
      "outputs": []
    },
    {
      "cell_type": "code",
      "metadata": {
        "colab": {
          "base_uri": "https://localhost:8080/"
        },
        "id": "_EjMzxPlaBD2",
        "outputId": "89c77a94-f5da-44b7-98ea-ada5d922c469"
      },
      "source": [
        "   model.fit(\n",
        "    train_dataset,\n",
        "    epochs=num_epochs,\n",
        "    validation_data=valid_dataset,\n",
        "    steps_per_epoch=train_steps,\n",
        "    validation_steps=valid_steps,\n",
        "    callbacks=callbacks\n",
        ")"
      ],
      "execution_count": 47,
      "outputs": [
        {
          "output_type": "stream",
          "name": "stdout",
          "text": [
            "Epoch 1/100\n",
            "30/30 [==============================] - 25s 640ms/step - loss: 0.4415 - dice_coef: 0.2036 - iou: 0.1136 - recall_1: 0.3301 - precision_1: 0.3705 - val_loss: 0.7051 - val_dice_coef: 0.1384 - val_iou: 0.0744 - val_recall_1: 0.3808 - val_precision_1: 0.1038\n",
            "\n",
            "Epoch 00001: val_loss improved from inf to 0.70514, saving model to /content/files128/model128_basic.h5\n",
            "Epoch 2/100\n",
            "30/30 [==============================] - 15s 489ms/step - loss: 0.2573 - dice_coef: 0.2985 - iou: 0.1761 - recall_1: 0.2694 - precision_1: 0.8118 - val_loss: 0.6477 - val_dice_coef: 0.1350 - val_iou: 0.0724 - val_recall_1: 0.0147 - val_precision_1: 0.0135\n",
            "\n",
            "Epoch 00002: val_loss improved from 0.70514 to 0.64767, saving model to /content/files128/model128_basic.h5\n",
            "Epoch 3/100\n",
            "30/30 [==============================] - 15s 490ms/step - loss: 0.1985 - dice_coef: 0.3887 - iou: 0.2419 - recall_1: 0.3251 - precision_1: 0.8465 - val_loss: 0.5350 - val_dice_coef: 0.1258 - val_iou: 0.0671 - val_recall_1: 1.2864e-04 - val_precision_1: 0.0060\n",
            "\n",
            "Epoch 00003: val_loss improved from 0.64767 to 0.53503, saving model to /content/files128/model128_basic.h5\n",
            "Epoch 4/100\n",
            "30/30 [==============================] - 15s 485ms/step - loss: 0.1795 - dice_coef: 0.4237 - iou: 0.2697 - recall_1: 0.3373 - precision_1: 0.8546 - val_loss: 0.4464 - val_dice_coef: 0.1174 - val_iou: 0.0624 - val_recall_1: 3.6755e-05 - val_precision_1: 0.0877\n",
            "\n",
            "Epoch 00004: val_loss improved from 0.53503 to 0.44637, saving model to /content/files128/model128_basic.h5\n",
            "Epoch 5/100\n",
            "30/30 [==============================] - 15s 486ms/step - loss: 0.1671 - dice_coef: 0.4484 - iou: 0.2897 - recall_1: 0.3464 - precision_1: 0.8637 - val_loss: 0.3838 - val_dice_coef: 0.1095 - val_iou: 0.0580 - val_recall_1: 0.0000e+00 - val_precision_1: 0.0000e+00\n",
            "\n",
            "Epoch 00005: val_loss improved from 0.44637 to 0.38376, saving model to /content/files128/model128_basic.h5\n",
            "Epoch 6/100\n",
            "30/30 [==============================] - 15s 486ms/step - loss: 0.1584 - dice_coef: 0.4688 - iou: 0.3068 - recall_1: 0.3577 - precision_1: 0.8630 - val_loss: 0.3497 - val_dice_coef: 0.1012 - val_iou: 0.0533 - val_recall_1: 0.0000e+00 - val_precision_1: 0.0000e+00\n",
            "\n",
            "Epoch 00006: val_loss improved from 0.38376 to 0.34973, saving model to /content/files128/model128_basic.h5\n",
            "Epoch 7/100\n",
            "30/30 [==============================] - 15s 487ms/step - loss: 0.1506 - dice_coef: 0.4880 - iou: 0.3235 - recall_1: 0.3700 - precision_1: 0.8682 - val_loss: 0.3348 - val_dice_coef: 0.0930 - val_iou: 0.0488 - val_recall_1: 0.0000e+00 - val_precision_1: 0.0000e+00\n",
            "\n",
            "Epoch 00007: val_loss improved from 0.34973 to 0.33484, saving model to /content/files128/model128_basic.h5\n",
            "Epoch 8/100\n",
            "30/30 [==============================] - 15s 485ms/step - loss: 0.1458 - dice_coef: 0.4989 - iou: 0.3331 - recall_1: 0.3713 - precision_1: 0.8726 - val_loss: 0.3215 - val_dice_coef: 0.0888 - val_iou: 0.0465 - val_recall_1: 1.4702e-05 - val_precision_1: 0.0093\n",
            "\n",
            "Epoch 00008: val_loss improved from 0.33484 to 0.32147, saving model to /content/files128/model128_basic.h5\n",
            "Epoch 9/100\n",
            "30/30 [==============================] - 15s 482ms/step - loss: 0.1407 - dice_coef: 0.5130 - iou: 0.3457 - recall_1: 0.3803 - precision_1: 0.8721 - val_loss: 0.3064 - val_dice_coef: 0.0934 - val_iou: 0.0490 - val_recall_1: 5.2192e-04 - val_precision_1: 0.0488\n",
            "\n",
            "Epoch 00009: val_loss improved from 0.32147 to 0.30635, saving model to /content/files128/model128_basic.h5\n",
            "Epoch 10/100\n",
            "30/30 [==============================] - 15s 485ms/step - loss: 0.1362 - dice_coef: 0.5253 - iou: 0.3569 - recall_1: 0.3853 - precision_1: 0.8775 - val_loss: 0.2925 - val_dice_coef: 0.1070 - val_iou: 0.0566 - val_recall_1: 0.0033 - val_precision_1: 0.1569\n",
            "\n",
            "Epoch 00010: val_loss improved from 0.30635 to 0.29251, saving model to /content/files128/model128_basic.h5\n",
            "Epoch 11/100\n",
            "30/30 [==============================] - 15s 486ms/step - loss: 0.1315 - dice_coef: 0.5382 - iou: 0.3689 - recall_1: 0.3911 - precision_1: 0.8803 - val_loss: 0.2716 - val_dice_coef: 0.1230 - val_iou: 0.0657 - val_recall_1: 0.0104 - val_precision_1: 0.2649\n",
            "\n",
            "Epoch 00011: val_loss improved from 0.29251 to 0.27159, saving model to /content/files128/model128_basic.h5\n",
            "Epoch 12/100\n",
            "30/30 [==============================] - 15s 483ms/step - loss: 0.1290 - dice_coef: 0.5466 - iou: 0.3769 - recall_1: 0.3951 - precision_1: 0.8809 - val_loss: 0.2492 - val_dice_coef: 0.1596 - val_iou: 0.0872 - val_recall_1: 0.0300 - val_precision_1: 0.5073\n",
            "\n",
            "Epoch 00012: val_loss improved from 0.27159 to 0.24922, saving model to /content/files128/model128_basic.h5\n",
            "Epoch 13/100\n",
            "30/30 [==============================] - 15s 486ms/step - loss: 0.1238 - dice_coef: 0.5600 - iou: 0.3895 - recall_1: 0.3990 - precision_1: 0.8885 - val_loss: 0.2305 - val_dice_coef: 0.2011 - val_iou: 0.1126 - val_recall_1: 0.0536 - val_precision_1: 0.6162\n",
            "\n",
            "Epoch 00013: val_loss improved from 0.24922 to 0.23050, saving model to /content/files128/model128_basic.h5\n",
            "Epoch 14/100\n",
            "30/30 [==============================] - 15s 484ms/step - loss: 0.1193 - dice_coef: 0.5731 - iou: 0.4023 - recall_1: 0.4061 - precision_1: 0.8918 - val_loss: 0.2140 - val_dice_coef: 0.2417 - val_iou: 0.1387 - val_recall_1: 0.0774 - val_precision_1: 0.7658\n",
            "\n",
            "Epoch 00014: val_loss improved from 0.23050 to 0.21400, saving model to /content/files128/model128_basic.h5\n",
            "Epoch 15/100\n",
            "30/30 [==============================] - 15s 484ms/step - loss: 0.1149 - dice_coef: 0.5861 - iou: 0.4150 - recall_1: 0.4112 - precision_1: 0.8960 - val_loss: 0.1997 - val_dice_coef: 0.2859 - val_iou: 0.1684 - val_recall_1: 0.1039 - val_precision_1: 0.8769\n",
            "\n",
            "Epoch 00015: val_loss improved from 0.21400 to 0.19965, saving model to /content/files128/model128_basic.h5\n",
            "Epoch 16/100\n",
            "30/30 [==============================] - 15s 484ms/step - loss: 0.1115 - dice_coef: 0.5967 - iou: 0.4257 - recall_1: 0.4158 - precision_1: 0.8989 - val_loss: 0.1806 - val_dice_coef: 0.3596 - val_iou: 0.2215 - val_recall_1: 0.1645 - val_precision_1: 0.8811\n",
            "\n",
            "Epoch 00016: val_loss improved from 0.19965 to 0.18062, saving model to /content/files128/model128_basic.h5\n",
            "Epoch 17/100\n",
            "30/30 [==============================] - 15s 483ms/step - loss: 0.1077 - dice_coef: 0.6087 - iou: 0.4380 - recall_1: 0.4200 - precision_1: 0.9022 - val_loss: 0.1662 - val_dice_coef: 0.3958 - val_iou: 0.2491 - val_recall_1: 0.1867 - val_precision_1: 0.9467\n",
            "\n",
            "Epoch 00017: val_loss improved from 0.18062 to 0.16616, saving model to /content/files128/model128_basic.h5\n",
            "Epoch 18/100\n",
            "30/30 [==============================] - 15s 484ms/step - loss: 0.1025 - dice_coef: 0.6225 - iou: 0.4524 - recall_1: 0.4268 - precision_1: 0.9079 - val_loss: 0.1502 - val_dice_coef: 0.4479 - val_iou: 0.2909 - val_recall_1: 0.2269 - val_precision_1: 0.9482\n",
            "\n",
            "Epoch 00018: val_loss improved from 0.16616 to 0.15018, saving model to /content/files128/model128_basic.h5\n",
            "Epoch 19/100\n",
            "30/30 [==============================] - 15s 483ms/step - loss: 0.0976 - dice_coef: 0.6375 - iou: 0.4683 - recall_1: 0.4334 - precision_1: 0.9121 - val_loss: 0.1483 - val_dice_coef: 0.4589 - val_iou: 0.3001 - val_recall_1: 0.2386 - val_precision_1: 0.9547\n",
            "\n",
            "Epoch 00019: val_loss improved from 0.15018 to 0.14835, saving model to /content/files128/model128_basic.h5\n",
            "Epoch 20/100\n",
            "30/30 [==============================] - 15s 485ms/step - loss: 0.0939 - dice_coef: 0.6491 - iou: 0.4810 - recall_1: 0.4374 - precision_1: 0.9151 - val_loss: 0.1348 - val_dice_coef: 0.5106 - val_iou: 0.3448 - val_recall_1: 0.2922 - val_precision_1: 0.9305\n",
            "\n",
            "Epoch 00020: val_loss improved from 0.14835 to 0.13479, saving model to /content/files128/model128_basic.h5\n",
            "Epoch 21/100\n",
            "30/30 [==============================] - 15s 484ms/step - loss: 0.0918 - dice_coef: 0.6571 - iou: 0.4898 - recall_1: 0.4400 - precision_1: 0.9148 - val_loss: 0.1250 - val_dice_coef: 0.5555 - val_iou: 0.3862 - val_recall_1: 0.3255 - val_precision_1: 0.9152\n",
            "\n",
            "Epoch 00021: val_loss improved from 0.13479 to 0.12497, saving model to /content/files128/model128_basic.h5\n",
            "Epoch 22/100\n",
            "30/30 [==============================] - 15s 484ms/step - loss: 0.0885 - dice_coef: 0.6664 - iou: 0.5001 - recall_1: 0.4430 - precision_1: 0.9178 - val_loss: 0.1300 - val_dice_coef: 0.5519 - val_iou: 0.3825 - val_recall_1: 0.3492 - val_precision_1: 0.8714\n",
            "\n",
            "Epoch 00022: val_loss did not improve from 0.12497\n",
            "Epoch 23/100\n",
            "30/30 [==============================] - 15s 489ms/step - loss: 0.0849 - dice_coef: 0.6772 - iou: 0.5123 - recall_1: 0.4465 - precision_1: 0.9215 - val_loss: 0.1308 - val_dice_coef: 0.5564 - val_iou: 0.3863 - val_recall_1: 0.3558 - val_precision_1: 0.8593\n",
            "\n",
            "Epoch 00023: val_loss did not improve from 0.12497\n",
            "Epoch 24/100\n",
            "30/30 [==============================] - 15s 484ms/step - loss: 0.0817 - dice_coef: 0.6876 - iou: 0.5244 - recall_1: 0.4509 - precision_1: 0.9238 - val_loss: 0.1228 - val_dice_coef: 0.5849 - val_iou: 0.4143 - val_recall_1: 0.3414 - val_precision_1: 0.8973\n",
            "\n",
            "Epoch 00024: val_loss improved from 0.12497 to 0.12284, saving model to /content/files128/model128_basic.h5\n",
            "Epoch 25/100\n",
            "30/30 [==============================] - 15s 484ms/step - loss: 0.0796 - dice_coef: 0.6941 - iou: 0.5321 - recall_1: 0.4524 - precision_1: 0.9254 - val_loss: 0.1265 - val_dice_coef: 0.5856 - val_iou: 0.4151 - val_recall_1: 0.3466 - val_precision_1: 0.8881\n",
            "\n",
            "Epoch 00025: val_loss did not improve from 0.12284\n",
            "Epoch 26/100\n",
            "30/30 [==============================] - 15s 485ms/step - loss: 0.0778 - dice_coef: 0.7013 - iou: 0.5405 - recall_1: 0.4540 - precision_1: 0.9261 - val_loss: 0.1236 - val_dice_coef: 0.5966 - val_iou: 0.4261 - val_recall_1: 0.3589 - val_precision_1: 0.8768\n",
            "\n",
            "Epoch 00026: val_loss did not improve from 0.12284\n",
            "Epoch 27/100\n",
            "30/30 [==============================] - 15s 483ms/step - loss: 0.0761 - dice_coef: 0.7076 - iou: 0.5480 - recall_1: 0.4550 - precision_1: 0.9271 - val_loss: 0.1209 - val_dice_coef: 0.6061 - val_iou: 0.4364 - val_recall_1: 0.3448 - val_precision_1: 0.8915\n",
            "\n",
            "Epoch 00027: val_loss improved from 0.12284 to 0.12091, saving model to /content/files128/model128_basic.h5\n",
            "Epoch 28/100\n",
            "30/30 [==============================] - 15s 484ms/step - loss: 0.0736 - dice_coef: 0.7154 - iou: 0.5574 - recall_1: 0.4593 - precision_1: 0.9276 - val_loss: 0.1371 - val_dice_coef: 0.6055 - val_iou: 0.4354 - val_recall_1: 0.3845 - val_precision_1: 0.8285\n",
            "\n",
            "Epoch 00028: val_loss did not improve from 0.12091\n",
            "Epoch 29/100\n",
            "30/30 [==============================] - 15s 486ms/step - loss: 0.0718 - dice_coef: 0.7208 - iou: 0.5641 - recall_1: 0.4601 - precision_1: 0.9287 - val_loss: 0.1362 - val_dice_coef: 0.6047 - val_iou: 0.4341 - val_recall_1: 0.3932 - val_precision_1: 0.8097\n",
            "\n",
            "Epoch 00029: val_loss did not improve from 0.12091\n",
            "Epoch 30/100\n",
            "30/30 [==============================] - 15s 487ms/step - loss: 0.0681 - dice_coef: 0.7318 - iou: 0.5776 - recall_1: 0.4635 - precision_1: 0.9355 - val_loss: 0.1343 - val_dice_coef: 0.6164 - val_iou: 0.4461 - val_recall_1: 0.4194 - val_precision_1: 0.8100\n",
            "\n",
            "Epoch 00030: val_loss did not improve from 0.12091\n",
            "Epoch 31/100\n",
            "30/30 [==============================] - 15s 483ms/step - loss: 0.0654 - dice_coef: 0.7419 - iou: 0.5902 - recall_1: 0.4685 - precision_1: 0.9363 - val_loss: 0.1209 - val_dice_coef: 0.6411 - val_iou: 0.4727 - val_recall_1: 0.3911 - val_precision_1: 0.8586\n",
            "\n",
            "Epoch 00031: val_loss did not improve from 0.12091\n",
            "Epoch 32/100\n",
            "30/30 [==============================] - 15s 485ms/step - loss: 0.0632 - dice_coef: 0.7498 - iou: 0.6002 - recall_1: 0.4700 - precision_1: 0.9386 - val_loss: 0.1201 - val_dice_coef: 0.6423 - val_iou: 0.4738 - val_recall_1: 0.3937 - val_precision_1: 0.8608\n",
            "\n",
            "Epoch 00032: val_loss improved from 0.12091 to 0.12011, saving model to /content/files128/model128_basic.h5\n",
            "Epoch 33/100\n",
            "30/30 [==============================] - 15s 486ms/step - loss: 0.0618 - dice_coef: 0.7554 - iou: 0.6074 - recall_1: 0.4721 - precision_1: 0.9389 - val_loss: 0.1428 - val_dice_coef: 0.6226 - val_iou: 0.4531 - val_recall_1: 0.4078 - val_precision_1: 0.7946\n",
            "\n",
            "Epoch 00033: val_loss did not improve from 0.12011\n",
            "Epoch 34/100\n",
            "30/30 [==============================] - 15s 485ms/step - loss: 0.0597 - dice_coef: 0.7633 - iou: 0.6176 - recall_1: 0.4748 - precision_1: 0.9407 - val_loss: 0.1267 - val_dice_coef: 0.6305 - val_iou: 0.4616 - val_recall_1: 0.3903 - val_precision_1: 0.8396\n",
            "\n",
            "Epoch 00034: val_loss did not improve from 0.12011\n",
            "Epoch 35/100\n",
            "30/30 [==============================] - 15s 484ms/step - loss: 0.0580 - dice_coef: 0.7685 - iou: 0.6245 - recall_1: 0.4754 - precision_1: 0.9427 - val_loss: 0.1289 - val_dice_coef: 0.6385 - val_iou: 0.4698 - val_recall_1: 0.3788 - val_precision_1: 0.8590\n",
            "\n",
            "Epoch 00035: val_loss did not improve from 0.12011\n",
            "Epoch 36/100\n",
            "30/30 [==============================] - 15s 484ms/step - loss: 0.0566 - dice_coef: 0.7740 - iou: 0.6319 - recall_1: 0.4774 - precision_1: 0.9431 - val_loss: 0.1278 - val_dice_coef: 0.6333 - val_iou: 0.4656 - val_recall_1: 0.3626 - val_precision_1: 0.8703\n",
            "\n",
            "Epoch 00036: val_loss did not improve from 0.12011\n",
            "Epoch 37/100\n",
            "30/30 [==============================] - 15s 485ms/step - loss: 0.0553 - dice_coef: 0.7792 - iou: 0.6388 - recall_1: 0.4780 - precision_1: 0.9441 - val_loss: 0.1367 - val_dice_coef: 0.6267 - val_iou: 0.4576 - val_recall_1: 0.3863 - val_precision_1: 0.8316\n",
            "\n",
            "Epoch 00037: val_loss did not improve from 0.12011\n",
            "\n",
            "Epoch 00037: ReduceLROnPlateau reducing learning rate to 9.999999747378752e-06.\n",
            "Epoch 38/100\n",
            "30/30 [==============================] - 15s 485ms/step - loss: 0.0611 - dice_coef: 0.7702 - iou: 0.6270 - recall_1: 0.4655 - precision_1: 0.9364 - val_loss: 0.1173 - val_dice_coef: 0.6609 - val_iou: 0.4948 - val_recall_1: 0.3869 - val_precision_1: 0.8701\n",
            "\n",
            "Epoch 00038: val_loss improved from 0.12011 to 0.11727, saving model to /content/files128/model128_basic.h5\n",
            "Epoch 39/100\n",
            "30/30 [==============================] - 15s 486ms/step - loss: 0.0519 - dice_coef: 0.7890 - iou: 0.6521 - recall_1: 0.4813 - precision_1: 0.9495 - val_loss: 0.1170 - val_dice_coef: 0.6595 - val_iou: 0.4933 - val_recall_1: 0.3864 - val_precision_1: 0.8697\n",
            "\n",
            "Epoch 00039: val_loss improved from 0.11727 to 0.11698, saving model to /content/files128/model128_basic.h5\n",
            "Epoch 40/100\n",
            "30/30 [==============================] - 15s 487ms/step - loss: 0.0495 - dice_coef: 0.7945 - iou: 0.6596 - recall_1: 0.4853 - precision_1: 0.9540 - val_loss: 0.1167 - val_dice_coef: 0.6607 - val_iou: 0.4946 - val_recall_1: 0.3858 - val_precision_1: 0.8723\n",
            "\n",
            "Epoch 00040: val_loss improved from 0.11698 to 0.11667, saving model to /content/files128/model128_basic.h5\n",
            "Epoch 41/100\n",
            "30/30 [==============================] - 15s 485ms/step - loss: 0.0476 - dice_coef: 0.7993 - iou: 0.6662 - recall_1: 0.4890 - precision_1: 0.9576 - val_loss: 0.1169 - val_dice_coef: 0.6603 - val_iou: 0.4943 - val_recall_1: 0.3844 - val_precision_1: 0.8739\n",
            "\n",
            "Epoch 00041: val_loss did not improve from 0.11667\n",
            "Epoch 42/100\n",
            "30/30 [==============================] - 15s 487ms/step - loss: 0.0463 - dice_coef: 0.8030 - iou: 0.6714 - recall_1: 0.4916 - precision_1: 0.9602 - val_loss: 0.1172 - val_dice_coef: 0.6604 - val_iou: 0.4943 - val_recall_1: 0.3837 - val_precision_1: 0.8746\n",
            "\n",
            "Epoch 00042: val_loss did not improve from 0.11667\n",
            "Epoch 43/100\n",
            "30/30 [==============================] - 15s 486ms/step - loss: 0.0451 - dice_coef: 0.8063 - iou: 0.6760 - recall_1: 0.4938 - precision_1: 0.9624 - val_loss: 0.1177 - val_dice_coef: 0.6605 - val_iou: 0.4945 - val_recall_1: 0.3827 - val_precision_1: 0.8748\n",
            "\n",
            "Epoch 00043: val_loss did not improve from 0.11667\n",
            "Epoch 44/100\n",
            "30/30 [==============================] - 17s 563ms/step - loss: 0.0442 - dice_coef: 0.8093 - iou: 0.6802 - recall_1: 0.4957 - precision_1: 0.9644 - val_loss: 0.1182 - val_dice_coef: 0.6607 - val_iou: 0.4948 - val_recall_1: 0.3821 - val_precision_1: 0.8754\n",
            "\n",
            "Epoch 00044: val_loss did not improve from 0.11667\n",
            "Epoch 45/100\n",
            "30/30 [==============================] - 15s 486ms/step - loss: 0.0433 - dice_coef: 0.8120 - iou: 0.6840 - recall_1: 0.4973 - precision_1: 0.9660 - val_loss: 0.1187 - val_dice_coef: 0.6611 - val_iou: 0.4952 - val_recall_1: 0.3817 - val_precision_1: 0.8757\n",
            "\n",
            "Epoch 00045: val_loss did not improve from 0.11667\n",
            "\n",
            "Epoch 00045: ReduceLROnPlateau reducing learning rate to 9.999999747378752e-07.\n",
            "Epoch 46/100\n",
            "30/30 [==============================] - 15s 485ms/step - loss: 0.0424 - dice_coef: 0.8148 - iou: 0.6880 - recall_1: 0.5000 - precision_1: 0.9675 - val_loss: 0.1191 - val_dice_coef: 0.6611 - val_iou: 0.4952 - val_recall_1: 0.3807 - val_precision_1: 0.8761\n",
            "\n",
            "Epoch 00046: val_loss did not improve from 0.11667\n",
            "Epoch 47/100\n",
            "30/30 [==============================] - 15s 483ms/step - loss: 0.0424 - dice_coef: 0.8150 - iou: 0.6882 - recall_1: 0.4998 - precision_1: 0.9679 - val_loss: 0.1195 - val_dice_coef: 0.6611 - val_iou: 0.4952 - val_recall_1: 0.3800 - val_precision_1: 0.8764\n",
            "\n",
            "Epoch 00047: val_loss did not improve from 0.11667\n",
            "Epoch 48/100\n",
            "30/30 [==============================] - 15s 486ms/step - loss: 0.0423 - dice_coef: 0.8152 - iou: 0.6885 - recall_1: 0.4998 - precision_1: 0.9682 - val_loss: 0.1197 - val_dice_coef: 0.6611 - val_iou: 0.4952 - val_recall_1: 0.3794 - val_precision_1: 0.8767\n",
            "\n",
            "Epoch 00048: val_loss did not improve from 0.11667\n",
            "Epoch 49/100\n",
            "30/30 [==============================] - 15s 485ms/step - loss: 0.0422 - dice_coef: 0.8154 - iou: 0.6888 - recall_1: 0.4998 - precision_1: 0.9684 - val_loss: 0.1199 - val_dice_coef: 0.6611 - val_iou: 0.4953 - val_recall_1: 0.3790 - val_precision_1: 0.8768\n",
            "\n",
            "Epoch 00049: val_loss did not improve from 0.11667\n",
            "Epoch 50/100\n",
            "30/30 [==============================] - 15s 486ms/step - loss: 0.0421 - dice_coef: 0.8156 - iou: 0.6891 - recall_1: 0.4999 - precision_1: 0.9686 - val_loss: 0.1201 - val_dice_coef: 0.6612 - val_iou: 0.4954 - val_recall_1: 0.3787 - val_precision_1: 0.8769\n",
            "\n",
            "Epoch 00050: val_loss did not improve from 0.11667\n",
            "\n",
            "Epoch 00050: ReduceLROnPlateau reducing learning rate to 1e-07.\n"
          ]
        },
        {
          "output_type": "execute_result",
          "data": {
            "text/plain": [
              "<keras.callbacks.History at 0x7f90b43e8290>"
            ]
          },
          "metadata": {},
          "execution_count": 47
        }
      ]
    },
    {
      "cell_type": "code",
      "metadata": {
        "id": "KCEA0UMRlXQf"
      },
      "source": [
        ""
      ],
      "execution_count": null,
      "outputs": []
    }
  ]
}